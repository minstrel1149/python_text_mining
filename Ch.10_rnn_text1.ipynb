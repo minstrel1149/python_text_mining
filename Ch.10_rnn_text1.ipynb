{
 "cells": [
  {
   "cell_type": "code",
   "execution_count": 1,
   "metadata": {},
   "outputs": [],
   "source": [
    "from nltk.corpus import movie_reviews\n",
    "import numpy as np\n",
    "import tensorflow as tf\n",
    "from tensorflow.keras.preprocessing.text import Tokenizer\n",
    "from tensorflow.keras.preprocessing.sequence import pad_sequences\n",
    "from tensorflow.keras.models import Sequential\n",
    "from tensorflow.keras.layers import Flatten, Dense, Embedding, SimpleRNN, LSTM, Bidirectional, GRU\n",
    "from tensorflow.keras.optimizers import Adam\n",
    "from sklearn.model_selection import train_test_split\n",
    "import matplotlib.pyplot as plt\n",
    "%matplotlib inline"
   ]
  },
  {
   "cell_type": "code",
   "execution_count": 2,
   "metadata": {},
   "outputs": [
    {
     "data": {
      "text/plain": [
       "(2000, {'neg', 'pos'})"
      ]
     },
     "execution_count": 2,
     "metadata": {},
     "output_type": "execute_result"
    }
   ],
   "source": [
    "fileids = movie_reviews.fileids()\n",
    "reviews = [movie_reviews.raw(fileid) for fileid in fileids]\n",
    "categories = [movie_reviews.categories(fileid)[0] for fileid in fileids]\n",
    "len(reviews), set(categories)"
   ]
  },
  {
   "cell_type": "code",
   "execution_count": 3,
   "metadata": {},
   "outputs": [],
   "source": [
    "np.random.seed(7)\n",
    "tf.random.set_seed(7)\n",
    "max_words = 10000"
   ]
  },
  {
   "cell_type": "code",
   "execution_count": 5,
   "metadata": {},
   "outputs": [
    {
     "name": "stdout",
     "output_type": "stream",
     "text": [
      "2000 \n",
      "\n",
      " [710, 240, 486, 479, 733, 671, 550, 584, 702, 776]\n"
     ]
    }
   ],
   "source": [
    "tokenizer = Tokenizer(num_words=max_words, oov_token='UNK')\n",
    "tokenizer.fit_on_texts(reviews)\n",
    "X = tokenizer.texts_to_sequences(reviews)\n",
    "print(len(X), '\\n\\n', [len(doc) for doc in X[:10]])"
   ]
  },
  {
   "cell_type": "code",
   "execution_count": 7,
   "metadata": {},
   "outputs": [
    {
     "data": {
      "text/plain": [
       "(2, 1)"
      ]
     },
     "execution_count": 7,
     "metadata": {},
     "output_type": "execute_result"
    }
   ],
   "source": [
    "tokenizer.word_index['the'], tokenizer.word_index['UNK']"
   ]
  },
  {
   "cell_type": "code",
   "execution_count": 8,
   "metadata": {},
   "outputs": [],
   "source": [
    "maxlen = 500\n",
    "X = pad_sequences(X, maxlen=maxlen, truncating='pre')"
   ]
  },
  {
   "cell_type": "code",
   "execution_count": 10,
   "metadata": {},
   "outputs": [
    {
     "data": {
      "text/plain": [
       "2000"
      ]
     },
     "execution_count": 10,
     "metadata": {},
     "output_type": "execute_result"
    }
   ],
   "source": [
    "label_dict = {'pos':1, 'neg':0}\n",
    "y = np.array([label_dict[c] for c in categories])\n",
    "len(y)"
   ]
  },
  {
   "cell_type": "code",
   "execution_count": 13,
   "metadata": {},
   "outputs": [
    {
     "data": {
      "text/plain": [
       "((1600, 500), (400, 500))"
      ]
     },
     "execution_count": 13,
     "metadata": {},
     "output_type": "execute_result"
    }
   ],
   "source": [
    "X_train, X_test, y_train, y_test = train_test_split(X, y, test_size=0.2, random_state=10)\n",
    "X_train.shape, X_test.shape"
   ]
  },
  {
   "cell_type": "code",
   "execution_count": 29,
   "metadata": {},
   "outputs": [
    {
     "name": "stdout",
     "output_type": "stream",
     "text": [
      "Model: \"sequential_4\"\n",
      "_________________________________________________________________\n",
      " Layer (type)                Output Shape              Param #   \n",
      "=================================================================\n",
      " embedding_5 (Embedding)     (None, 500, 32)           320000    \n",
      "                                                                 \n",
      " flatten_2 (Flatten)         (None, 16000)             0         \n",
      "                                                                 \n",
      " dense_7 (Dense)             (None, 1)                 16001     \n",
      "                                                                 \n",
      "=================================================================\n",
      "Total params: 336001 (1.28 MB)\n",
      "Trainable params: 336001 (1.28 MB)\n",
      "Non-trainable params: 0 (0.00 Byte)\n",
      "_________________________________________________________________\n"
     ]
    }
   ],
   "source": [
    "model = Sequential([Embedding(max_words, 32, input_length=maxlen),\n",
    "                    Flatten(),\n",
    "                    Dense(1, activation='sigmoid')])\n",
    "model.summary()"
   ]
  },
  {
   "cell_type": "code",
   "execution_count": 30,
   "metadata": {},
   "outputs": [
    {
     "name": "stdout",
     "output_type": "stream",
     "text": [
      "Epoch 1/30\n",
      "40/40 [==============================] - 1s 8ms/step - loss: 0.6919 - acc: 0.5180 - val_loss: 0.6909 - val_acc: 0.5312\n",
      "Epoch 2/30\n",
      "40/40 [==============================] - 0s 5ms/step - loss: 0.5929 - acc: 0.9266 - val_loss: 0.6855 - val_acc: 0.5813\n",
      "Epoch 3/30\n",
      "40/40 [==============================] - 0s 6ms/step - loss: 0.4491 - acc: 0.9836 - val_loss: 0.6723 - val_acc: 0.6094\n",
      "Epoch 4/30\n",
      "40/40 [==============================] - 0s 6ms/step - loss: 0.2741 - acc: 0.9945 - val_loss: 0.6525 - val_acc: 0.6094\n",
      "Epoch 5/30\n",
      "40/40 [==============================] - 0s 5ms/step - loss: 0.1450 - acc: 1.0000 - val_loss: 0.6377 - val_acc: 0.6313\n",
      "Epoch 6/30\n",
      "40/40 [==============================] - 0s 5ms/step - loss: 0.0790 - acc: 1.0000 - val_loss: 0.6256 - val_acc: 0.6406\n",
      "Epoch 7/30\n",
      "40/40 [==============================] - 0s 6ms/step - loss: 0.0477 - acc: 1.0000 - val_loss: 0.6190 - val_acc: 0.6500\n",
      "Epoch 8/30\n",
      "40/40 [==============================] - 0s 6ms/step - loss: 0.0318 - acc: 1.0000 - val_loss: 0.6136 - val_acc: 0.6469\n",
      "Epoch 9/30\n",
      "40/40 [==============================] - 0s 6ms/step - loss: 0.0226 - acc: 1.0000 - val_loss: 0.6130 - val_acc: 0.6531\n",
      "Epoch 10/30\n",
      "40/40 [==============================] - 0s 5ms/step - loss: 0.0169 - acc: 1.0000 - val_loss: 0.6109 - val_acc: 0.6469\n",
      "Epoch 11/30\n",
      "40/40 [==============================] - 0s 5ms/step - loss: 0.0132 - acc: 1.0000 - val_loss: 0.6097 - val_acc: 0.6531\n",
      "Epoch 12/30\n",
      "40/40 [==============================] - 0s 6ms/step - loss: 0.0106 - acc: 1.0000 - val_loss: 0.6090 - val_acc: 0.6562\n",
      "Epoch 13/30\n",
      "40/40 [==============================] - 0s 6ms/step - loss: 0.0087 - acc: 1.0000 - val_loss: 0.6082 - val_acc: 0.6594\n",
      "Epoch 14/30\n",
      "40/40 [==============================] - 0s 5ms/step - loss: 0.0073 - acc: 1.0000 - val_loss: 0.6089 - val_acc: 0.6562\n",
      "Epoch 15/30\n",
      "40/40 [==============================] - 0s 5ms/step - loss: 0.0062 - acc: 1.0000 - val_loss: 0.6076 - val_acc: 0.6656\n",
      "Epoch 16/30\n",
      "40/40 [==============================] - 0s 6ms/step - loss: 0.0053 - acc: 1.0000 - val_loss: 0.6080 - val_acc: 0.6625\n",
      "Epoch 17/30\n",
      "40/40 [==============================] - 0s 6ms/step - loss: 0.0046 - acc: 1.0000 - val_loss: 0.6087 - val_acc: 0.6625\n",
      "Epoch 18/30\n",
      "40/40 [==============================] - 0s 6ms/step - loss: 0.0040 - acc: 1.0000 - val_loss: 0.6088 - val_acc: 0.6656\n",
      "Epoch 19/30\n",
      "40/40 [==============================] - 0s 5ms/step - loss: 0.0036 - acc: 1.0000 - val_loss: 0.6092 - val_acc: 0.6625\n",
      "Epoch 20/30\n",
      "40/40 [==============================] - 0s 5ms/step - loss: 0.0032 - acc: 1.0000 - val_loss: 0.6091 - val_acc: 0.6687\n",
      "Epoch 21/30\n",
      "40/40 [==============================] - 0s 6ms/step - loss: 0.0029 - acc: 1.0000 - val_loss: 0.6106 - val_acc: 0.6625\n",
      "Epoch 22/30\n",
      "40/40 [==============================] - 0s 6ms/step - loss: 0.0026 - acc: 1.0000 - val_loss: 0.6108 - val_acc: 0.6687\n",
      "Epoch 23/30\n",
      "40/40 [==============================] - 0s 5ms/step - loss: 0.0023 - acc: 1.0000 - val_loss: 0.6116 - val_acc: 0.6687\n",
      "Epoch 24/30\n",
      "40/40 [==============================] - 0s 5ms/step - loss: 0.0021 - acc: 1.0000 - val_loss: 0.6121 - val_acc: 0.6687\n",
      "Epoch 25/30\n",
      "40/40 [==============================] - 0s 6ms/step - loss: 0.0019 - acc: 1.0000 - val_loss: 0.6127 - val_acc: 0.6687\n",
      "Epoch 26/30\n",
      "40/40 [==============================] - 0s 6ms/step - loss: 0.0018 - acc: 1.0000 - val_loss: 0.6132 - val_acc: 0.6687\n",
      "Epoch 27/30\n",
      "40/40 [==============================] - 0s 6ms/step - loss: 0.0016 - acc: 1.0000 - val_loss: 0.6136 - val_acc: 0.6687\n",
      "Epoch 28/30\n",
      "40/40 [==============================] - 0s 5ms/step - loss: 0.0015 - acc: 1.0000 - val_loss: 0.6142 - val_acc: 0.6719\n",
      "Epoch 29/30\n",
      "40/40 [==============================] - 0s 5ms/step - loss: 0.0014 - acc: 1.0000 - val_loss: 0.6151 - val_acc: 0.6687\n",
      "Epoch 30/30\n",
      "40/40 [==============================] - 0s 6ms/step - loss: 0.0013 - acc: 1.0000 - val_loss: 0.6158 - val_acc: 0.6687\n"
     ]
    }
   ],
   "source": [
    "model.compile(optimizer='adam', loss='binary_crossentropy', metrics=['acc'])\n",
    "history = model.fit(X_train, y_train, epochs=30, verbose=1, validation_split=0.2)"
   ]
  },
  {
   "cell_type": "code",
   "execution_count": 31,
   "metadata": {},
   "outputs": [
    {
     "data": {
      "text/plain": [
       "[0.53125,\n",
       " 0.581250011920929,\n",
       " 0.609375,\n",
       " 0.609375,\n",
       " 0.6312500238418579,\n",
       " 0.640625,\n",
       " 0.6499999761581421,\n",
       " 0.6468750238418579,\n",
       " 0.653124988079071,\n",
       " 0.6468750238418579,\n",
       " 0.653124988079071,\n",
       " 0.65625,\n",
       " 0.659375011920929,\n",
       " 0.65625,\n",
       " 0.6656249761581421,\n",
       " 0.6625000238418579,\n",
       " 0.6625000238418579,\n",
       " 0.6656249761581421,\n",
       " 0.6625000238418579,\n",
       " 0.668749988079071,\n",
       " 0.6625000238418579,\n",
       " 0.668749988079071,\n",
       " 0.668749988079071,\n",
       " 0.668749988079071,\n",
       " 0.668749988079071,\n",
       " 0.668749988079071,\n",
       " 0.668749988079071,\n",
       " 0.671875,\n",
       " 0.668749988079071,\n",
       " 0.668749988079071]"
      ]
     },
     "execution_count": 31,
     "metadata": {},
     "output_type": "execute_result"
    }
   ],
   "source": [
    "history.history['val_acc']"
   ]
  },
  {
   "cell_type": "code",
   "execution_count": 32,
   "metadata": {},
   "outputs": [
    {
     "data": {
      "image/png": "[encoded data removed]",
      "text/plain": [
       "<Figure size 432x288 with 1 Axes>"
      ]
     },
     "metadata": {
      "needs_background": "light"
     },
     "output_type": "display_data"
    }
   ],
   "source": [
    "def plot_results(history, metric):\n",
    "    plt.plot(history.history[metric], 'b', label='Training '+metric)\n",
    "    plt.plot(history.history['val_'+metric], 'r--', label='Validation '+metric)\n",
    "    plt.title('Training vs. Validation '+metric)\n",
    "    plt.xlabel('Epochs')\n",
    "    plt.ylabel(metric)\n",
    "    plt.legend()\n",
    "    plt.show()\n",
    "\n",
    "plot_results(history, 'acc')"
   ]
  },
  {
   "cell_type": "code",
   "execution_count": 33,
   "metadata": {},
   "outputs": [
    {
     "name": "stdout",
     "output_type": "stream",
     "text": [
      "13/13 [==============================] - 0s 2ms/step - loss: 0.5961 - acc: 0.6900\n"
     ]
    },
    {
     "data": {
      "text/plain": [
       "[0.596061646938324, 0.6899999976158142]"
      ]
     },
     "execution_count": 33,
     "metadata": {},
     "output_type": "execute_result"
    }
   ],
   "source": [
    "score = model.evaluate(X_test, y_test)\n",
    "score"
   ]
  },
  {
   "cell_type": "code",
   "execution_count": 34,
   "metadata": {},
   "outputs": [
    {
     "name": "stdout",
     "output_type": "stream",
     "text": [
      "Model: \"sequential_5\"\n",
      "_________________________________________________________________\n",
      " Layer (type)                Output Shape              Param #   \n",
      "=================================================================\n",
      " embedding_6 (Embedding)     (None, 500, 32)           320000    \n",
      "                                                                 \n",
      " simple_rnn_3 (SimpleRNN)    (None, 32)                2080      \n",
      "                                                                 \n",
      " dense_8 (Dense)             (None, 32)                1056      \n",
      "                                                                 \n",
      " dense_9 (Dense)             (None, 1)                 33        \n",
      "                                                                 \n",
      "=================================================================\n",
      "Total params: 323169 (1.23 MB)\n",
      "Trainable params: 323169 (1.23 MB)\n",
      "Non-trainable params: 0 (0.00 Byte)\n",
      "_________________________________________________________________\n"
     ]
    }
   ],
   "source": [
    "model = Sequential([Embedding(max_words, 32, input_length=maxlen),\n",
    "                    SimpleRNN(32),\n",
    "                    Dense(32, activation='leaky_relu'),\n",
    "                    Dense(1, activation='sigmoid')])\n",
    "model.summary()"
   ]
  },
  {
   "cell_type": "code",
   "execution_count": 35,
   "metadata": {},
   "outputs": [
    {
     "name": "stdout",
     "output_type": "stream",
     "text": [
      "Epoch 1/20\n",
      "40/40 [==============================] - 3s 56ms/step - loss: 0.6947 - acc: 0.5203 - val_loss: 0.6970 - val_acc: 0.4750\n",
      "Epoch 2/20\n",
      "40/40 [==============================] - 2s 52ms/step - loss: 0.6438 - acc: 0.7133 - val_loss: 0.7017 - val_acc: 0.5063\n",
      "Epoch 3/20\n",
      "40/40 [==============================] - 2s 52ms/step - loss: 0.4384 - acc: 0.8719 - val_loss: 0.6924 - val_acc: 0.6281\n",
      "Epoch 4/20\n",
      "40/40 [==============================] - 2s 51ms/step - loss: 0.1229 - acc: 0.9820 - val_loss: 0.8455 - val_acc: 0.6000\n",
      "Epoch 5/20\n",
      "40/40 [==============================] - 2s 52ms/step - loss: 0.0253 - acc: 0.9984 - val_loss: 0.9780 - val_acc: 0.5562\n",
      "Epoch 6/20\n",
      "40/40 [==============================] - 2s 53ms/step - loss: 0.0077 - acc: 0.9992 - val_loss: 1.0406 - val_acc: 0.5688\n",
      "Epoch 7/20\n",
      "40/40 [==============================] - 2s 51ms/step - loss: 0.0046 - acc: 0.9992 - val_loss: 1.2697 - val_acc: 0.6125\n",
      "Epoch 8/20\n",
      "40/40 [==============================] - 2s 51ms/step - loss: 0.0026 - acc: 1.0000 - val_loss: 1.1120 - val_acc: 0.6250\n",
      "Epoch 9/20\n",
      "40/40 [==============================] - 2s 50ms/step - loss: 0.0013 - acc: 1.0000 - val_loss: 1.1898 - val_acc: 0.6031\n",
      "Epoch 10/20\n",
      "40/40 [==============================] - 2s 52ms/step - loss: 9.6103e-04 - acc: 1.0000 - val_loss: 1.2341 - val_acc: 0.6187\n",
      "Epoch 11/20\n",
      "40/40 [==============================] - 2s 51ms/step - loss: 7.6369e-04 - acc: 1.0000 - val_loss: 1.2651 - val_acc: 0.6062\n",
      "Epoch 12/20\n",
      "40/40 [==============================] - 2s 52ms/step - loss: 6.2820e-04 - acc: 1.0000 - val_loss: 1.2903 - val_acc: 0.5969\n",
      "Epoch 13/20\n",
      "40/40 [==============================] - 2s 53ms/step - loss: 5.2666e-04 - acc: 1.0000 - val_loss: 1.3182 - val_acc: 0.5938\n",
      "Epoch 14/20\n",
      "40/40 [==============================] - 2s 53ms/step - loss: 4.4774e-04 - acc: 1.0000 - val_loss: 1.3420 - val_acc: 0.6094\n",
      "Epoch 15/20\n",
      "40/40 [==============================] - 2s 52ms/step - loss: 3.8777e-04 - acc: 1.0000 - val_loss: 1.3607 - val_acc: 0.5906\n",
      "Epoch 16/20\n",
      "40/40 [==============================] - 2s 52ms/step - loss: 3.3717e-04 - acc: 1.0000 - val_loss: 1.3868 - val_acc: 0.6000\n",
      "Epoch 17/20\n",
      "40/40 [==============================] - 2s 53ms/step - loss: 2.9670e-04 - acc: 1.0000 - val_loss: 1.4071 - val_acc: 0.6062\n",
      "Epoch 18/20\n",
      "40/40 [==============================] - 2s 53ms/step - loss: 2.6390e-04 - acc: 1.0000 - val_loss: 1.4168 - val_acc: 0.5906\n",
      "Epoch 19/20\n",
      "40/40 [==============================] - 2s 53ms/step - loss: 2.3597e-04 - acc: 1.0000 - val_loss: 1.4385 - val_acc: 0.5938\n",
      "Epoch 20/20\n",
      "40/40 [==============================] - 2s 52ms/step - loss: 2.1223e-04 - acc: 1.0000 - val_loss: 1.4570 - val_acc: 0.6000\n"
     ]
    },
    {
     "data": {
      "text/plain": [
       "<keras.src.callbacks.History at 0x1e0650b5bd0>"
      ]
     },
     "execution_count": 35,
     "metadata": {},
     "output_type": "execute_result"
    }
   ],
   "source": [
    "model.compile(optimizer='adam', loss='binary_crossentropy', metrics=['acc'])\n",
    "history = model.fit(X_train, y_train, epochs=20, verbose=1, validation_split=0.2)\n",
    "history"
   ]
  },
  {
   "cell_type": "code",
   "execution_count": 36,
   "metadata": {},
   "outputs": [
    {
     "data": {
      "image/png": "[encoded data removed]",
      "text/plain": [
       "<Figure size 432x288 with 1 Axes>"
      ]
     },
     "metadata": {
      "needs_background": "light"
     },
     "output_type": "display_data"
    }
   ],
   "source": [
    "plot_results(history, 'acc')"
   ]
  },
  {
   "cell_type": "code",
   "execution_count": 37,
   "metadata": {},
   "outputs": [
    {
     "name": "stdout",
     "output_type": "stream",
     "text": [
      "13/13 [==============================] - 0s 11ms/step - loss: 1.4651 - acc: 0.5875\n"
     ]
    },
    {
     "data": {
      "text/plain": [
       "[1.4650583267211914, 0.5874999761581421]"
      ]
     },
     "execution_count": 37,
     "metadata": {},
     "output_type": "execute_result"
    }
   ],
   "source": [
    "score = model.evaluate(X_test, y_test)\n",
    "score"
   ]
  },
  {
   "cell_type": "code",
   "execution_count": null,
   "metadata": {},
   "outputs": [],
   "source": []
  }
 ],
 "metadata": {
  "kernelspec": {
   "display_name": "base",
   "language": "python",
   "name": "python3"
  },
  "language_info": {
   "codemirror_mode": {
    "name": "ipython",
    "version": 3
   },
   "file_extension": ".py",
   "mimetype": "text/x-python",
   "name": "python",
   "nbconvert_exporter": "python",
   "pygments_lexer": "ipython3",
   "version": "3.10.9"
  }
 },
 "nbformat": 4,
 "nbformat_minor": 2
}
