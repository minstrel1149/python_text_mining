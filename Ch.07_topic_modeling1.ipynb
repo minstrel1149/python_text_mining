{
 "cells": [
  {
   "cell_type": "code",
   "execution_count": 1,
   "metadata": {},
   "outputs": [],
   "source": [
    "from sklearn.datasets import fetch_20newsgroups\n",
    "from sklearn.feature_extraction.text import TfidfVectorizer, CountVectorizer, TfidfTransformer\n",
    "from sklearn.decomposition import LatentDirichletAllocation\n",
    "import numpy as np\n",
    "import pandas as pd\n",
    "import matplotlib as mpl\n",
    "import matplotlib.pyplot as plt\n",
    "%matplotlib inline\n",
    "from gensim.corpora.dictionary import Dictionary\n",
    "from gensim.models import LdaModel, CoherenceModel, LdaSeqModel\n",
    "from nltk.tokenize import RegexpTokenizer, word_tokenize\n",
    "from nltk.stem import WordNetLemmatizer\n",
    "from nltk.corpus import stopwords\n",
    "from konlpy.tag import Okt"
   ]
  },
  {
   "cell_type": "code",
   "execution_count": 2,
   "metadata": {},
   "outputs": [
    {
     "name": "stdout",
     "output_type": "stream",
     "text": [
      "3219\n"
     ]
    }
   ],
   "source": [
    "categories = ['alt.atheism', 'talk.religion.misc', 'comp.graphics', 'sci.space', \n",
    "              'comp.sys.ibm.pc.hardware', 'sci.crypt']\n",
    "newsgroups_train = fetch_20newsgroups(subset='train', categories=categories)\n",
    "print(len(newsgroups_train.data))"
   ]
  },
  {
   "cell_type": "code",
   "execution_count": 3,
   "metadata": {},
   "outputs": [],
   "source": [
    "def my_tokenizer(doc):\n",
    "    tokens = RegexpTokenizer(r\"[\\w']+\").tokenize(doc)\n",
    "    return [WordNetLemmatizer().lemmatize(token) for token in tokens if len(token) > 1]"
   ]
  },
  {
   "cell_type": "code",
   "execution_count": 4,
   "metadata": {},
   "outputs": [
    {
     "name": "stderr",
     "output_type": "stream",
     "text": [
      "c:\\Users\\admin\\anaconda3\\lib\\site-packages\\sklearn\\feature_extraction\\text.py:528: UserWarning: The parameter 'token_pattern' will not be used since 'tokenizer' is not None'\n",
      "  warnings.warn(\n",
      "c:\\Users\\admin\\anaconda3\\lib\\site-packages\\sklearn\\feature_extraction\\text.py:409: UserWarning: Your stop_words may be inconsistent with your preprocessing. Tokenizing the stop words generated tokens ['ha', 'le', 'u', 'wa'] not in stop_words.\n",
      "  warnings.warn(\n"
     ]
    },
    {
     "data": {
      "text/plain": [
       "(3219, 2000)"
      ]
     },
     "execution_count": 4,
     "metadata": {},
     "output_type": "execute_result"
    }
   ],
   "source": [
    "cv = CountVectorizer(tokenizer=my_tokenizer, max_features=2000, min_df=3, max_df=0.5, stop_words='english')\n",
    "review_cv = cv.fit_transform(newsgroups_train.data)\n",
    "review_cv.shape"
   ]
  },
  {
   "cell_type": "code",
   "execution_count": 5,
   "metadata": {},
   "outputs": [
    {
     "data": {
      "text/plain": [
       "(3219, 10)"
      ]
     },
     "execution_count": 5,
     "metadata": {},
     "output_type": "execute_result"
    }
   ],
   "source": [
    "lda = LatentDirichletAllocation(n_components=10, max_iter=5,\n",
    "                                topic_word_prior=0.1, doc_topic_prior=1.0,\n",
    "                                learning_method='online', n_jobs=-1, random_state=0)\n",
    "review_topics = lda.fit_transform(review_cv)\n",
    "review_topics.shape"
   ]
  },
  {
   "cell_type": "code",
   "execution_count": 7,
   "metadata": {},
   "outputs": [],
   "source": [
    "def print_top_words(model, feature_names, n_top_words=10):\n",
    "    for topic_idx, topic in enumerate(model.components_):\n",
    "        print(f\"Topic #{topic_idx}: {', '.join([feature_names[i] for i in topic.argsort()[:-(n_top_words+1):-1]])}\")\n",
    "    print()"
   ]
  },
  {
   "cell_type": "code",
   "execution_count": 9,
   "metadata": {},
   "outputs": [
    {
     "name": "stdout",
     "output_type": "stream",
     "text": [
      "Topic #0: space, nasa, wa, gov, year, launch, orbit, earth, satellite, access\n",
      "Topic #1: key, chip, clipper, encryption, government, com, phone, escrow, law, use\n",
      "Topic #2: wa, god, people, say, ha, jesus, don't, christian, thing, believe\n",
      "Topic #3: key, information, public, message, faq, internet, mail, list, computer, anonymous\n",
      "Topic #4: scsi, card, bus, ide, bit, driver, mode, drive, speed, work\n",
      "Topic #5: com, posting, nntp, host, university, article, know, i'm, ca, thanks\n",
      "Topic #6: com, article, au, sandvik, apple, wa, cc, kent, islam, muslim\n",
      "Topic #7: drive, db, disk, problem, ___, hard, com, work, port, floppy\n",
      "Topic #8: com, don't, think, morality, keith, article, moral, sgi, say, caltech\n",
      "Topic #9: image, file, program, graphic, available, software, data, format, ftp, color\n",
      "\n"
     ]
    }
   ],
   "source": [
    "print_top_words(lda, cv.get_feature_names_out())"
   ]
  },
  {
   "cell_type": "code",
   "execution_count": 10,
   "metadata": {},
   "outputs": [],
   "source": [
    "def show_perplexity(cv, start=10, end=30, max_iter=5, topic_word_prior= 0.1, \n",
    "                    doc_topic_prior=1.0):\n",
    "    iter_num = []\n",
    "    per_value = []\n",
    "\n",
    "    for i in range(start, end + 1):\n",
    "        lda = LatentDirichletAllocation(n_components=i, max_iter=max_iter, \n",
    "                                        topic_word_prior= topic_word_prior, \n",
    "                                        doc_topic_prior=doc_topic_prior,\n",
    "                                        learning_method='batch', n_jobs= -1,\n",
    "                                        random_state=7)    \n",
    "        lda.fit(cv)\n",
    "        iter_num.append(i)\n",
    "        pv = lda.perplexity(cv)\n",
    "        per_value.append(pv)\n",
    "        print(f'n_components: {i}, perplexity: {pv:0.3f}')\n",
    "\n",
    "    plt.plot(iter_num, per_value, 'g-')\n",
    "    plt.show()\n",
    "    return start + per_value.index(min(per_value))"
   ]
  },
  {
   "cell_type": "code",
   "execution_count": 11,
   "metadata": {},
   "outputs": [
    {
     "name": "stdout",
     "output_type": "stream",
     "text": [
      "n_components: 6, perplexity: 1012.430\n",
      "n_components: 7, perplexity: 1005.217\n",
      "n_components: 8, perplexity: 1006.676\n",
      "n_components: 9, perplexity: 973.813\n",
      "n_components: 10, perplexity: 975.659\n",
      "n_components: 11, perplexity: 972.323\n",
      "n_components: 12, perplexity: 970.600\n",
      "n_components: 13, perplexity: 969.639\n",
      "n_components: 14, perplexity: 972.125\n",
      "n_components: 15, perplexity: 977.948\n"
     ]
    },
    {
     "data": {
      "image/png": "[encoded data removed]",
      "text/plain": [
       "<Figure size 432x288 with 1 Axes>"
      ]
     },
     "metadata": {
      "needs_background": "light"
     },
     "output_type": "display_data"
    },
    {
     "data": {
      "text/plain": [
       "13"
      ]
     },
     "execution_count": 11,
     "metadata": {},
     "output_type": "execute_result"
    }
   ],
   "source": [
    "show_perplexity(review_cv, start=6, end=15)"
   ]
  },
  {
   "cell_type": "code",
   "execution_count": 12,
   "metadata": {},
   "outputs": [
    {
     "data": {
      "text/plain": [
       "(3219, 13)"
      ]
     },
     "execution_count": 12,
     "metadata": {},
     "output_type": "execute_result"
    }
   ],
   "source": [
    "lda = LatentDirichletAllocation(n_components=13, max_iter=5,\n",
    "                                topic_word_prior=0.1, doc_topic_prior=1.0,\n",
    "                                learning_method='online', n_jobs=-1, random_state=0)\n",
    "review_topics = lda.fit_transform(review_cv)\n",
    "review_topics.shape"
   ]
  },
  {
   "cell_type": "code",
   "execution_count": 14,
   "metadata": {},
   "outputs": [
    {
     "name": "stdout",
     "output_type": "stream",
     "text": [
      "Topic #0: com, clipper, access, government, phone, chip, netcom, just, article, right, pat, digex, ti, wa, good\n",
      "Topic #1: university, point, posting, thanks, nntp, host, problem, help, monitor, looking, i'm, know, just, graphic, cc\n",
      "Topic #2: nasa, gov, year, research, cost, center, station, space, program, university, wa, billion, money, technology, news\n",
      "Topic #3: key, encryption, chip, use, public, security, privacy, law, information, clipper, message, bit, ha, government, number\n",
      "Topic #4: scsi, card, bus, ide, bit, driver, mode, memory, drive, pc, speed, controller, video, o, 16\n",
      "Topic #5: ca, com, posting, nntp, host, version, know, newsreader, tin, ha, i'm, wrote, university, need, robert\n",
      "Topic #6: com, article, c, au, sandvik, ibm, apple, kent, net, university, wa, posting, newton, cc, i'm\n",
      "Topic #7: drive, db, disk, hard, ___, port, floppy, modem, __, work, com, controller, bios, card, problem\n",
      "Topic #8: article, uk, ac, posting, nntp, host, wa, university, like, just, henry, toronto, cwru, uiuc, andrew\n",
      "Topic #9: file, image, program, graphic, ftp, software, available, format, data, color, package, pub, mail, version, use\n",
      "Topic #10: space, wa, nasa, launch, orbit, earth, satellite, mission, moon, shuttle, lunar, year, jpl, rocket, ha\n",
      "Topic #11: god, atheist, say, don't, think, morality, moral, keith, people, sgi, atheism, caltech, objective, com, doe\n",
      "Topic #12: wa, people, god, jesus, christian, ha, say, don't, just, bible, time, did, thing, life, know\n",
      "\n"
     ]
    }
   ],
   "source": [
    "print_top_words(lda, cv.get_feature_names_out(), 15)"
   ]
  },
  {
   "cell_type": "code",
   "execution_count": null,
   "metadata": {},
   "outputs": [],
   "source": []
  }
 ],
 "metadata": {
  "kernelspec": {
   "display_name": "base",
   "language": "python",
   "name": "python3"
  },
  "language_info": {
   "codemirror_mode": {
    "name": "ipython",
    "version": 3
   },
   "file_extension": ".py",
   "mimetype": "text/x-python",
   "name": "python",
   "nbconvert_exporter": "python",
   "pygments_lexer": "ipython3",
   "version": "3.10.9"
  }
 },
 "nbformat": 4,
 "nbformat_minor": 2
}
