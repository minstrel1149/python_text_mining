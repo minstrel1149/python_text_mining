{
 "cells": [
  {
   "cell_type": "code",
   "execution_count": 1,
   "metadata": {},
   "outputs": [],
   "source": [
    "from sklearn.datasets import fetch_20newsgroups\n",
    "from sklearn.feature_extraction.text import TfidfVectorizer, CountVectorizer, TfidfTransformer\n",
    "from sklearn.decomposition import LatentDirichletAllocation\n",
    "import numpy as np\n",
    "import pandas as pd\n",
    "import matplotlib as mpl\n",
    "import matplotlib.pyplot as plt\n",
    "%matplotlib inline\n",
    "from gensim.corpora.dictionary import Dictionary\n",
    "from gensim.models import LdaModel, CoherenceModel, LdaSeqModel\n",
    "from nltk.tokenize import RegexpTokenizer, word_tokenize\n",
    "from nltk.stem import WordNetLemmatizer\n",
    "from nltk.corpus import stopwords\n",
    "from konlpy.tag import Okt"
   ]
  },
  {
   "cell_type": "code",
   "execution_count": 2,
   "metadata": {},
   "outputs": [
    {
     "name": "stdout",
     "output_type": "stream",
     "text": [
      "3219\n"
     ]
    }
   ],
   "source": [
    "categories = ['alt.atheism', 'talk.religion.misc', 'comp.graphics', 'sci.space', \n",
    "              'comp.sys.ibm.pc.hardware', 'sci.crypt']\n",
    "newsgroups_train = fetch_20newsgroups(subset='train', categories=categories)\n",
    "print(len(newsgroups_train.data))"
   ]
  },
  {
   "cell_type": "code",
   "execution_count": 3,
   "metadata": {},
   "outputs": [],
   "source": [
    "def my_tokenizer(doc):\n",
    "    tokens = RegexpTokenizer(r\"[\\w']+\").tokenize(doc)\n",
    "    return [WordNetLemmatizer().lemmatize(token) for token in tokens if len(token) > 1]"
   ]
  },
  {
   "cell_type": "code",
   "execution_count": 4,
   "metadata": {},
   "outputs": [
    {
     "name": "stderr",
     "output_type": "stream",
     "text": [
      "c:\\Users\\admin\\anaconda3\\lib\\site-packages\\sklearn\\feature_extraction\\text.py:528: UserWarning: The parameter 'token_pattern' will not be used since 'tokenizer' is not None'\n",
      "  warnings.warn(\n",
      "c:\\Users\\admin\\anaconda3\\lib\\site-packages\\sklearn\\feature_extraction\\text.py:409: UserWarning: Your stop_words may be inconsistent with your preprocessing. Tokenizing the stop words generated tokens ['ha', 'le', 'u', 'wa'] not in stop_words.\n",
      "  warnings.warn(\n"
     ]
    },
    {
     "data": {
      "text/plain": [
       "(3219, 2000)"
      ]
     },
     "execution_count": 4,
     "metadata": {},
     "output_type": "execute_result"
    }
   ],
   "source": [
    "cv = CountVectorizer(tokenizer=my_tokenizer, max_features=2000, min_df=3, max_df=0.5, stop_words='english')\n",
    "review_cv = cv.fit_transform(newsgroups_train.data)\n",
    "review_cv.shape"
   ]
  },
  {
   "cell_type": "code",
   "execution_count": 5,
   "metadata": {},
   "outputs": [
    {
     "data": {
      "text/plain": [
       "(3219, 10)"
      ]
     },
     "execution_count": 5,
     "metadata": {},
     "output_type": "execute_result"
    }
   ],
   "source": [
    "lda = LatentDirichletAllocation(n_components=10, max_iter=5,\n",
    "                                topic_word_prior=0.1, doc_topic_prior=1.0,\n",
    "                                learning_method='online', n_jobs=-1, random_state=0)\n",
    "review_topics = lda.fit_transform(review_cv)\n",
    "review_topics.shape"
   ]
  },
  {
   "cell_type": "code",
   "execution_count": 6,
   "metadata": {},
   "outputs": [],
   "source": [
    "def print_top_words(model, feature_names, n_top_words=10):\n",
    "    for topic_idx, topic in enumerate(model.components_):\n",
    "        print(f\"Topic #{topic_idx}: {', '.join([feature_names[i] for i in topic.argsort()[:-(n_top_words+1):-1]])}\")\n",
    "    print()"
   ]
  },
  {
   "cell_type": "code",
   "execution_count": 7,
   "metadata": {},
   "outputs": [
    {
     "name": "stdout",
     "output_type": "stream",
     "text": [
      "Topic #0: space, nasa, wa, gov, year, launch, orbit, earth, satellite, access\n",
      "Topic #1: key, chip, clipper, encryption, government, com, phone, escrow, law, use\n",
      "Topic #2: wa, god, people, say, ha, jesus, don't, christian, thing, believe\n",
      "Topic #3: key, information, public, message, faq, internet, mail, list, computer, anonymous\n",
      "Topic #4: scsi, card, bus, ide, bit, driver, mode, drive, speed, work\n",
      "Topic #5: com, posting, nntp, host, university, article, know, i'm, ca, thanks\n",
      "Topic #6: com, article, au, sandvik, apple, wa, cc, kent, islam, muslim\n",
      "Topic #7: drive, db, disk, problem, ___, hard, com, work, port, floppy\n",
      "Topic #8: com, don't, think, morality, keith, article, moral, sgi, say, caltech\n",
      "Topic #9: image, file, program, graphic, available, software, data, format, ftp, color\n",
      "\n"
     ]
    }
   ],
   "source": [
    "print_top_words(lda, cv.get_feature_names_out())"
   ]
  },
  {
   "cell_type": "code",
   "execution_count": 8,
   "metadata": {},
   "outputs": [],
   "source": [
    "def show_perplexity(cv, start=10, end=30, max_iter=5, topic_word_prior= 0.1, \n",
    "                    doc_topic_prior=1.0):\n",
    "    iter_num = []\n",
    "    per_value = []\n",
    "\n",
    "    for i in range(start, end + 1):\n",
    "        lda = LatentDirichletAllocation(n_components=i, max_iter=max_iter, \n",
    "                                        topic_word_prior= topic_word_prior, \n",
    "                                        doc_topic_prior=doc_topic_prior,\n",
    "                                        learning_method='batch', n_jobs= -1,\n",
    "                                        random_state=7)    \n",
    "        lda.fit(cv)\n",
    "        iter_num.append(i)\n",
    "        pv = lda.perplexity(cv)\n",
    "        per_value.append(pv)\n",
    "        print(f'n_components: {i}, perplexity: {pv:0.3f}')\n",
    "\n",
    "    plt.plot(iter_num, per_value, 'g-')\n",
    "    plt.show()\n",
    "    return start + per_value.index(min(per_value))"
   ]
  },
  {
   "cell_type": "code",
   "execution_count": 9,
   "metadata": {},
   "outputs": [
    {
     "name": "stdout",
     "output_type": "stream",
     "text": [
      "n_components: 6, perplexity: 1012.430\n",
      "n_components: 7, perplexity: 1005.217\n",
      "n_components: 8, perplexity: 1006.676\n",
      "n_components: 9, perplexity: 973.813\n",
      "n_components: 10, perplexity: 975.659\n",
      "n_components: 11, perplexity: 972.323\n",
      "n_components: 12, perplexity: 970.600\n",
      "n_components: 13, perplexity: 969.639\n",
      "n_components: 14, perplexity: 972.125\n",
      "n_components: 15, perplexity: 977.948\n"
     ]
    },
    {
     "data": {
      "image/png": "[encoded data removed]",
      "text/plain": [
       "<Figure size 432x288 with 1 Axes>"
      ]
     },
     "metadata": {
      "needs_background": "light"
     },
     "output_type": "display_data"
    },
    {
     "data": {
      "text/plain": [
       "13"
      ]
     },
     "execution_count": 9,
     "metadata": {},
     "output_type": "execute_result"
    }
   ],
   "source": [
    "show_perplexity(review_cv, start=6, end=15)"
   ]
  },
  {
   "cell_type": "code",
   "execution_count": 10,
   "metadata": {},
   "outputs": [
    {
     "data": {
      "text/plain": [
       "(3219, 13)"
      ]
     },
     "execution_count": 10,
     "metadata": {},
     "output_type": "execute_result"
    }
   ],
   "source": [
    "lda = LatentDirichletAllocation(n_components=13, max_iter=5,\n",
    "                                topic_word_prior=0.1, doc_topic_prior=1.0,\n",
    "                                learning_method='online', n_jobs=-1, random_state=0)\n",
    "review_topics = lda.fit_transform(review_cv)\n",
    "review_topics.shape"
   ]
  },
  {
   "cell_type": "code",
   "execution_count": 11,
   "metadata": {},
   "outputs": [
    {
     "name": "stdout",
     "output_type": "stream",
     "text": [
      "Topic #0: com, clipper, access, government, phone, chip, netcom, just, article, right, pat, digex, ti, wa, good\n",
      "Topic #1: university, point, posting, thanks, nntp, host, problem, help, monitor, looking, i'm, know, just, graphic, cc\n",
      "Topic #2: nasa, gov, year, research, cost, center, station, space, program, university, wa, billion, money, technology, news\n",
      "Topic #3: key, encryption, chip, use, public, security, privacy, law, information, clipper, message, bit, ha, government, number\n",
      "Topic #4: scsi, card, bus, ide, bit, driver, mode, memory, drive, pc, speed, controller, video, o, 16\n",
      "Topic #5: ca, com, posting, nntp, host, version, know, newsreader, tin, ha, i'm, wrote, university, need, robert\n",
      "Topic #6: com, article, c, au, sandvik, ibm, apple, kent, net, university, wa, posting, newton, cc, i'm\n",
      "Topic #7: drive, db, disk, hard, ___, port, floppy, modem, __, work, com, controller, bios, card, problem\n",
      "Topic #8: article, uk, ac, posting, nntp, host, wa, university, like, just, henry, toronto, cwru, uiuc, andrew\n",
      "Topic #9: file, image, program, graphic, ftp, software, available, format, data, color, package, pub, mail, version, use\n",
      "Topic #10: space, wa, nasa, launch, orbit, earth, satellite, mission, moon, shuttle, lunar, year, jpl, rocket, ha\n",
      "Topic #11: god, atheist, say, don't, think, morality, moral, keith, people, sgi, atheism, caltech, objective, com, doe\n",
      "Topic #12: wa, people, god, jesus, christian, ha, say, don't, just, bible, time, did, thing, life, know\n",
      "\n"
     ]
    }
   ],
   "source": [
    "print_top_words(lda, cv.get_feature_names_out(), 15)"
   ]
  },
  {
   "cell_type": "code",
   "execution_count": 13,
   "metadata": {},
   "outputs": [],
   "source": [
    "english_stops = set(stopwords.words('english'))"
   ]
  },
  {
   "cell_type": "code",
   "execution_count": 14,
   "metadata": {},
   "outputs": [],
   "source": [
    "def my_tokenizer(doc):\n",
    "    tokens = RegexpTokenizer(r\"[\\w']{2,}\").tokenize(doc.lower())\n",
    "    return [token for token in tokens if (token not in english_stops) and len(token) > 2]"
   ]
  },
  {
   "cell_type": "code",
   "execution_count": 15,
   "metadata": {},
   "outputs": [],
   "source": [
    "texts = [my_tokenizer(news) for news in newsgroups_train.data]"
   ]
  },
  {
   "cell_type": "code",
   "execution_count": 16,
   "metadata": {},
   "outputs": [
    {
     "name": "stdout",
     "output_type": "stream",
     "text": [
      "5000\n"
     ]
    }
   ],
   "source": [
    "dic = Dictionary(texts)\n",
    "dic.filter_extremes(keep_n=5000, no_below=3, no_above=0.5)\n",
    "print(len(dic))"
   ]
  },
  {
   "cell_type": "code",
   "execution_count": 17,
   "metadata": {},
   "outputs": [
    {
     "name": "stdout",
     "output_type": "stream",
     "text": [
      "Unique tokens 5000 \n",
      "\n",
      " Documents 3219\n"
     ]
    }
   ],
   "source": [
    "corpus = [dic.doc2bow(text) for text in texts]\n",
    "print('Unique tokens', len(dic), '\\n\\n', 'Documents', len(corpus))"
   ]
  },
  {
   "cell_type": "code",
   "execution_count": 18,
   "metadata": {},
   "outputs": [
    {
     "data": {
      "text/plain": [
       "[(0,\n",
       "  '0.011*\"one\" + 0.010*\"god\" + 0.008*\"people\" + 0.007*\"would\" + 0.007*\"think\" + 0.007*\"keith\" + 0.006*\"atheists\" + 0.006*\"atheism\" + 0.006*\"say\" + 0.005*\"moral\"'),\n",
       " (1,\n",
       "  '0.013*\"drive\" + 0.013*\"scsi\" + 0.011*\"com\" + 0.008*\"card\" + 0.007*\"one\" + 0.007*\"would\" + 0.007*\"ide\" + 0.006*\"controller\" + 0.006*\"university\" + 0.006*\"get\"'),\n",
       " (2,\n",
       "  '0.019*\"com\" + 0.010*\"netcom\" + 0.010*\"would\" + 0.008*\"key\" + 0.008*\"clipper\" + 0.008*\"article\" + 0.008*\"one\" + 0.007*\"escrow\" + 0.007*\"chip\" + 0.007*\"nsa\"'),\n",
       " (3,\n",
       "  '0.026*\"key\" + 0.009*\"one\" + 0.008*\"bit\" + 0.008*\"number\" + 0.007*\"keys\" + 0.007*\"chip\" + 0.007*\"des\" + 0.006*\"algorithm\" + 0.006*\"bits\" + 0.006*\"use\"'),\n",
       " (4,\n",
       "  '0.024*\"com\" + 0.010*\"would\" + 0.010*\"posting\" + 0.008*\"article\" + 0.008*\"nntp\" + 0.008*\"host\" + 0.008*\"university\" + 0.007*\"like\" + 0.007*\"i\\'m\" + 0.006*\"know\"'),\n",
       " (5,\n",
       "  '0.012*\"article\" + 0.008*\"university\" + 0.007*\"science\" + 0.007*\"posting\" + 0.006*\"com\" + 0.006*\"one\" + 0.006*\"nntp\" + 0.006*\"host\" + 0.005*\"theory\" + 0.005*\"book\"'),\n",
       " (6,\n",
       "  '0.010*\"people\" + 0.010*\"com\" + 0.009*\"one\" + 0.009*\"god\" + 0.008*\"would\" + 0.008*\"jesus\" + 0.006*\"article\" + 0.005*\"know\" + 0.005*\"bible\" + 0.005*\"like\"'),\n",
       " (7,\n",
       "  '0.024*\"space\" + 0.014*\"nasa\" + 0.007*\"gov\" + 0.006*\"com\" + 0.006*\"launch\" + 0.006*\"would\" + 0.005*\"moon\" + 0.005*\"access\" + 0.005*\"orbit\" + 0.005*\"first\"'),\n",
       " (8,\n",
       "  '0.015*\"encryption\" + 0.012*\"clipper\" + 0.011*\"government\" + 0.009*\"chip\" + 0.009*\"com\" + 0.008*\"key\" + 0.008*\"would\" + 0.007*\"privacy\" + 0.007*\"use\" + 0.006*\"technology\"'),\n",
       " (9,\n",
       "  '0.012*\"graphics\" + 0.009*\"image\" + 0.009*\"ftp\" + 0.007*\"available\" + 0.007*\"file\" + 0.007*\"mail\" + 0.007*\"files\" + 0.007*\"pub\" + 0.006*\"information\" + 0.006*\"data\"')]"
      ]
     },
     "execution_count": 18,
     "metadata": {},
     "output_type": "execute_result"
    }
   ],
   "source": [
    "model = LdaModel(corpus=corpus, id2word=dic, passes=5, num_topics=10, random_state=7)\n",
    "model.print_topics(num_words=10)"
   ]
  },
  {
   "cell_type": "code",
   "execution_count": 21,
   "metadata": {},
   "outputs": [
    {
     "data": {
      "text/plain": [
       "[(2, 0.055624876), (4, 0.8433068), (6, 0.07984084)]"
      ]
     },
     "execution_count": 21,
     "metadata": {},
     "output_type": "execute_result"
    }
   ],
   "source": [
    "model.get_document_topics(corpus)[1]"
   ]
  },
  {
   "cell_type": "code",
   "execution_count": 22,
   "metadata": {},
   "outputs": [],
   "source": [
    "def show_coherence(corpus, dictionary, start=6, end=15):\n",
    "    iter_num = []\n",
    "    per_value = []\n",
    "    coh_value = []\n",
    "\n",
    "    for i in range(start, end + 1):\n",
    "        model = LdaModel(corpus=corpus, id2word=dictionary,\n",
    "                 chunksize=1000, num_topics=i,\n",
    "                 random_state=7)\n",
    "        iter_num.append(i)\n",
    "        pv = model.log_perplexity(corpus)\n",
    "        per_value.append(pv)\n",
    "        \n",
    "        cm = CoherenceModel(model=model, corpus=corpus, \n",
    "                            coherence='u_mass')\n",
    "        cv = cm.get_coherence()\n",
    "        coh_value.append(cv)\n",
    "        print(f'num_topics: {i}, perplexity: {pv:0.3f}, coherence: {cv:0.3f}')\n",
    "\n",
    "    plt.plot(iter_num, per_value, 'g-')\n",
    "    plt.xlabel(\"num_topics\")\n",
    "    plt.ylabel(\"perplexity\")\n",
    "    plt.show()\n",
    "\n",
    "    plt.plot(iter_num, coh_value, 'r--')\n",
    "    plt.xlabel(\"num_topics\")\n",
    "    plt.ylabel(\"coherence\")\n",
    "    plt.show()"
   ]
  },
  {
   "cell_type": "code",
   "execution_count": 23,
   "metadata": {},
   "outputs": [
    {
     "name": "stdout",
     "output_type": "stream",
     "text": [
      "num_topics: 6, perplexity: -7.714, coherence: -1.732\n",
      "num_topics: 7, perplexity: -7.720, coherence: -1.685\n",
      "num_topics: 8, perplexity: -7.693, coherence: -1.503\n",
      "num_topics: 9, perplexity: -7.704, coherence: -1.579\n",
      "num_topics: 10, perplexity: -7.706, coherence: -1.720\n",
      "num_topics: 11, perplexity: -7.714, coherence: -1.805\n",
      "num_topics: 12, perplexity: -7.732, coherence: -1.921\n",
      "num_topics: 13, perplexity: -7.741, coherence: -2.185\n",
      "num_topics: 14, perplexity: -7.750, coherence: -2.222\n",
      "num_topics: 15, perplexity: -7.775, coherence: -1.843\n"
     ]
    },
    {
     "data": {
      "image/png": "[encoded data removed]",
      "text/plain": [
       "<Figure size 432x288 with 1 Axes>"
      ]
     },
     "metadata": {
      "needs_background": "light"
     },
     "output_type": "display_data"
    },
    {
     "data": {
      "image/png": "[encoded data removed]",
      "text/plain": [
       "<Figure size 432x288 with 1 Axes>"
      ]
     },
     "metadata": {
      "needs_background": "light"
     },
     "output_type": "display_data"
    }
   ],
   "source": [
    "show_coherence(corpus=corpus, dictionary=dic)"
   ]
  },
  {
   "cell_type": "code",
   "execution_count": 24,
   "metadata": {},
   "outputs": [
    {
     "data": {
      "text/plain": [
       "[(0,\n",
       "  '0.016*\"god\" + 0.011*\"one\" + 0.008*\"atheism\" + 0.008*\"atheists\" + 0.007*\"moral\" + 0.007*\"people\" + 0.007*\"say\" + 0.007*\"believe\" + 0.006*\"morality\" + 0.005*\"must\"'),\n",
       " (1,\n",
       "  '0.015*\"scsi\" + 0.014*\"drive\" + 0.010*\"com\" + 0.009*\"card\" + 0.007*\"ide\" + 0.007*\"one\" + 0.007*\"controller\" + 0.007*\"bus\" + 0.006*\"get\" + 0.006*\"disk\"'),\n",
       " (2,\n",
       "  '0.013*\"com\" + 0.011*\"objective\" + 0.010*\"would\" + 0.010*\"one\" + 0.010*\"frank\" + 0.009*\"key\" + 0.008*\"article\" + 0.008*\"values\" + 0.007*\"good\" + 0.007*\"nsa\"'),\n",
       " (3,\n",
       "  '0.028*\"key\" + 0.011*\"one\" + 0.010*\"bit\" + 0.009*\"number\" + 0.007*\"keys\" + 0.007*\"des\" + 0.007*\"bits\" + 0.007*\"chip\" + 0.006*\"use\" + 0.006*\"public\"'),\n",
       " (4,\n",
       "  '0.016*\"university\" + 0.015*\"com\" + 0.014*\"posting\" + 0.013*\"nntp\" + 0.013*\"host\" + 0.011*\"thanks\" + 0.010*\"would\" + 0.009*\"i\\'m\" + 0.009*\"know\" + 0.008*\"version\"'),\n",
       " (5,\n",
       "  '0.013*\"article\" + 0.009*\"posting\" + 0.009*\"science\" + 0.008*\"com\" + 0.008*\"cwru\" + 0.008*\"nntp\" + 0.008*\"host\" + 0.007*\"university\" + 0.007*\"book\" + 0.006*\"one\"'),\n",
       " (6,\n",
       "  '0.010*\"people\" + 0.010*\"one\" + 0.009*\"would\" + 0.008*\"jesus\" + 0.008*\"god\" + 0.005*\"know\" + 0.005*\"com\" + 0.005*\"like\" + 0.005*\"think\" + 0.005*\"bible\"'),\n",
       " (7,\n",
       "  '0.027*\"space\" + 0.018*\"nasa\" + 0.009*\"gov\" + 0.007*\"launch\" + 0.006*\"orbit\" + 0.006*\"shuttle\" + 0.006*\"___\" + 0.006*\"moon\" + 0.006*\"lunar\" + 0.005*\"earth\"'),\n",
       " (8,\n",
       "  '0.016*\"encryption\" + 0.013*\"clipper\" + 0.011*\"chip\" + 0.010*\"key\" + 0.010*\"government\" + 0.008*\"privacy\" + 0.007*\"would\" + 0.007*\"use\" + 0.007*\"technology\" + 0.007*\"law\"'),\n",
       " (9,\n",
       "  '0.014*\"graphics\" + 0.011*\"image\" + 0.010*\"ftp\" + 0.008*\"available\" + 0.008*\"pub\" + 0.008*\"file\" + 0.007*\"mail\" + 0.007*\"files\" + 0.007*\"data\" + 0.006*\"software\"'),\n",
       " (10,\n",
       "  '0.030*\"com\" + 0.012*\"article\" + 0.012*\"washington\" + 0.009*\"points\" + 0.006*\"van\" + 0.006*\"umd\" + 0.006*\"posting\" + 0.006*\"host\" + 0.006*\"nntp\" + 0.006*\"eng\"'),\n",
       " (11,\n",
       "  '0.010*\"com\" + 0.010*\"space\" + 0.008*\"would\" + 0.007*\"one\" + 0.006*\"article\" + 0.006*\"people\" + 0.006*\"university\" + 0.005*\"like\" + 0.005*\"brian\" + 0.004*\"news\"'),\n",
       " (12,\n",
       "  '0.028*\"com\" + 0.011*\"would\" + 0.010*\"article\" + 0.009*\"people\" + 0.007*\"posting\" + 0.007*\"think\" + 0.007*\"sgi\" + 0.007*\"access\" + 0.007*\"nntp\" + 0.006*\"host\"')]"
      ]
     },
     "execution_count": 24,
     "metadata": {},
     "output_type": "execute_result"
    }
   ],
   "source": [
    "model = LdaModel(corpus=corpus, id2word=dic, passes=5, num_topics=13, random_state=7)\n",
    "model.print_topics(num_words=10)"
   ]
  },
  {
   "cell_type": "code",
   "execution_count": 25,
   "metadata": {},
   "outputs": [
    {
     "data": {
      "text/html": [
       "<div>\n",
       "<style scoped>\n",
       "    .dataframe tbody tr th:only-of-type {\n",
       "        vertical-align: middle;\n",
       "    }\n",
       "\n",
       "    .dataframe tbody tr th {\n",
       "        vertical-align: top;\n",
       "    }\n",
       "\n",
       "    .dataframe thead th {\n",
       "        text-align: right;\n",
       "    }\n",
       "</style>\n",
       "<table border=\"1\" class=\"dataframe\">\n",
       "  <thead>\n",
       "    <tr style=\"text-align: right;\">\n",
       "      <th></th>\n",
       "      <th>article_id</th>\n",
       "      <th>start</th>\n",
       "      <th>end</th>\n",
       "      <th>answered</th>\n",
       "      <th>votes</th>\n",
       "      <th>category</th>\n",
       "      <th>title</th>\n",
       "      <th>content</th>\n",
       "    </tr>\n",
       "  </thead>\n",
       "  <tbody>\n",
       "    <tr>\n",
       "      <th>0</th>\n",
       "      <td>58</td>\n",
       "      <td>2017-08-19</td>\n",
       "      <td>2017-11-17</td>\n",
       "      <td>0</td>\n",
       "      <td>21</td>\n",
       "      <td>일자리</td>\n",
       "      <td>국토교통부와 한국주택협회가 행한 부당한 행위와 권력남용에 대한 내용을 청원드립니다.</td>\n",
       "      <td>안녕하세요? 존경하고 지지하는 문재인 대통령님!\\n저는 성남시 분당구 정자동 주택전...</td>\n",
       "    </tr>\n",
       "    <tr>\n",
       "      <th>1</th>\n",
       "      <td>63</td>\n",
       "      <td>2017-08-20</td>\n",
       "      <td>2017-09-04</td>\n",
       "      <td>0</td>\n",
       "      <td>1</td>\n",
       "      <td>보건복지</td>\n",
       "      <td>살려주세요..</td>\n",
       "      <td>안녕하십니까?\\n저는 올해 63세된 홀로 사는 늙은 여자입니다...\\n작년 중복날 ...</td>\n",
       "    </tr>\n",
       "    <tr>\n",
       "      <th>2</th>\n",
       "      <td>136</td>\n",
       "      <td>2017-08-20</td>\n",
       "      <td>2017-11-18</td>\n",
       "      <td>0</td>\n",
       "      <td>4</td>\n",
       "      <td>육아/교육</td>\n",
       "      <td>고등학교 교육 내용 수준을 낮춰주시고 실용적인 내용을 담아주세요!</td>\n",
       "      <td>저는 광주에 사는 중3 학생입니다. 고등학교 가기 직전의 학년이라 어느 때보다 고등...</td>\n",
       "    </tr>\n",
       "    <tr>\n",
       "      <th>3</th>\n",
       "      <td>141</td>\n",
       "      <td>2017-08-20</td>\n",
       "      <td>2017-08-27</td>\n",
       "      <td>0</td>\n",
       "      <td>0</td>\n",
       "      <td>기타</td>\n",
       "      <td>한국문화에 창조적요소를 심자</td>\n",
       "      <td>안녕하십니까\\n저는 92년 한국을 알게된  종국동포 입니다.\\n[저는 한 중소기업에...</td>\n",
       "    </tr>\n",
       "    <tr>\n",
       "      <th>4</th>\n",
       "      <td>148</td>\n",
       "      <td>2017-08-20</td>\n",
       "      <td>2017-11-18</td>\n",
       "      <td>0</td>\n",
       "      <td>7</td>\n",
       "      <td>외교/통일/국방</td>\n",
       "      <td>다문화정책 및 할랄 인증 제도</td>\n",
       "      <td>대한민국과 국민을 위해 밤낮 없이 수고하시는 대통령을 비롯한 위정자 분들께\\n대한민...</td>\n",
       "    </tr>\n",
       "  </tbody>\n",
       "</table>\n",
       "</div>"
      ],
      "text/plain": [
       "   article_id       start         end  answered  votes  category  \\\n",
       "0          58  2017-08-19  2017-11-17         0     21       일자리   \n",
       "1          63  2017-08-20  2017-09-04         0      1      보건복지   \n",
       "2         136  2017-08-20  2017-11-18         0      4     육아/교육   \n",
       "3         141  2017-08-20  2017-08-27         0      0        기타   \n",
       "4         148  2017-08-20  2017-11-18         0      7  외교/통일/국방   \n",
       "\n",
       "                                            title  \\\n",
       "0  국토교통부와 한국주택협회가 행한 부당한 행위와 권력남용에 대한 내용을 청원드립니다.   \n",
       "1                                         살려주세요..   \n",
       "2            고등학교 교육 내용 수준을 낮춰주시고 실용적인 내용을 담아주세요!   \n",
       "3                                 한국문화에 창조적요소를 심자   \n",
       "4                                다문화정책 및 할랄 인증 제도   \n",
       "\n",
       "                                             content  \n",
       "0  안녕하세요? 존경하고 지지하는 문재인 대통령님!\\n저는 성남시 분당구 정자동 주택전...  \n",
       "1  안녕하십니까?\\n저는 올해 63세된 홀로 사는 늙은 여자입니다...\\n작년 중복날 ...  \n",
       "2  저는 광주에 사는 중3 학생입니다. 고등학교 가기 직전의 학년이라 어느 때보다 고등...  \n",
       "3  안녕하십니까\\n저는 92년 한국을 알게된  종국동포 입니다.\\n[저는 한 중소기업에...  \n",
       "4  대한민국과 국민을 위해 밤낮 없이 수고하시는 대통령을 비롯한 위정자 분들께\\n대한민...  "
      ]
     },
     "execution_count": 25,
     "metadata": {},
     "output_type": "execute_result"
    }
   ],
   "source": [
    "df = pd.read_csv(\"./data/petition_sampled.csv\")\n",
    "df.head()"
   ]
  },
  {
   "cell_type": "code",
   "execution_count": null,
   "metadata": {},
   "outputs": [],
   "source": []
  }
 ],
 "metadata": {
  "kernelspec": {
   "display_name": "base",
   "language": "python",
   "name": "python3"
  },
  "language_info": {
   "codemirror_mode": {
    "name": "ipython",
    "version": 3
   },
   "file_extension": ".py",
   "mimetype": "text/x-python",
   "name": "python",
   "nbconvert_exporter": "python",
   "pygments_lexer": "ipython3",
   "version": "3.10.9"
  }
 },
 "nbformat": 4,
 "nbformat_minor": 2
}
