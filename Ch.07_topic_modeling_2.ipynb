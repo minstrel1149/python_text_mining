{
 "cells": [
  {
   "cell_type": "code",
   "execution_count": 1,
   "id": "4ef0b0e0",
   "metadata": {},
   "outputs": [
    {
     "name": "stderr",
     "output_type": "stream",
     "text": [
      "c:\\Coding\\Local\\python_text_mining\\.venv\\Lib\\site-packages\\tqdm\\auto.py:21: TqdmWarning: IProgress not found. Please update jupyter and ipywidgets. See https://ipywidgets.readthedocs.io/en/stable/user_install.html\n",
      "  from .autonotebook import tqdm as notebook_tqdm\n"
     ]
    }
   ],
   "source": [
    "from sklearn.datasets import fetch_20newsgroups\n",
    "from sklearn.feature_extraction.text import CountVectorizer\n",
    "from sklearn.decomposition import LatentDirichletAllocation\n",
    "\n",
    "from konlpy.tag import Okt\n",
    "\n",
    "from bertopic import BERTopic\n",
    "from sentence_transformers import SentenceTransformer\n",
    "\n",
    "import numpy as np\n",
    "import pandas as pd\n",
    "\n",
    "import matplotlib.pyplot as plt\n",
    "%matplotlib inline"
   ]
  },
  {
   "cell_type": "code",
   "execution_count": 2,
   "id": "238e4fce",
   "metadata": {},
   "outputs": [
    {
     "name": "stdout",
     "output_type": "stream",
     "text": [
      "3219 ['alt.atheism', 'comp.graphics', 'comp.sys.ibm.pc.hardware', 'sci.crypt', 'sci.space', 'talk.religion.misc']\n"
     ]
    }
   ],
   "source": [
    "categories = ['alt.atheism', 'talk.religion.misc', 'comp.graphics', 'sci.space', \n",
    "              'comp.sys.ibm.pc.hardware', 'sci.crypt']\n",
    "newsgroups_train = fetch_20newsgroups(subset='train', categories=categories)\n",
    "print(len(newsgroups_train.data), newsgroups_train.target_names)"
   ]
  },
  {
   "cell_type": "code",
   "execution_count": 3,
   "id": "528691be",
   "metadata": {},
   "outputs": [
    {
     "name": "stdout",
     "output_type": "stream",
     "text": [
      "(3219, 16233)\n"
     ]
    }
   ],
   "source": [
    "cv = CountVectorizer(token_pattern=r\"[\\w']{2,}\", stop_words='english', min_df=3, max_df=0.5)\n",
    "review_cv = cv.fit_transform(newsgroups_train.data)\n",
    "print(review_cv.shape)"
   ]
  },
  {
   "cell_type": "code",
   "execution_count": 4,
   "id": "bf1e38a6",
   "metadata": {},
   "outputs": [],
   "source": [
    "np.set_printoptions(precision=3)"
   ]
  },
  {
   "cell_type": "code",
   "execution_count": 5,
   "id": "3a49a764",
   "metadata": {},
   "outputs": [],
   "source": [
    "lda = LatentDirichletAllocation(n_components=10, max_iter=10, topic_word_prior=0.1, doc_topic_prior=0.1,\n",
    "                                learning_method='online', n_jobs=-1, random_state=0)"
   ]
  },
  {
   "cell_type": "code",
   "execution_count": 6,
   "id": "3e285e22",
   "metadata": {},
   "outputs": [
    {
     "name": "stdout",
     "output_type": "stream",
     "text": [
      "(3219, 10)\n",
      "[4.927e-04 4.927e-04 4.927e-04 4.927e-04 4.927e-04 4.927e-04 6.506e-02\n",
      " 4.927e-04 4.927e-04 9.310e-01]\n",
      "[0.131 0.024 0.11  0.152 0.114 0.047 0.222 0.031 0.094 0.075]\n",
      "(10, 16233)\n"
     ]
    }
   ],
   "source": [
    "review_topics = lda.fit_transform(review_cv)\n",
    "print(review_topics.shape)\n",
    "print(review_topics[0])\n",
    "gross_topic_weights = np.mean(review_topics, axis=0)\n",
    "print(gross_topic_weights)\n",
    "print(lda.components_.shape)"
   ]
  },
  {
   "cell_type": "code",
   "execution_count": 7,
   "id": "306fd738",
   "metadata": {},
   "outputs": [],
   "source": [
    "def print_top_words(model, feature_names, n_top_words=20):\n",
    "    for topic_idx, topic in enumerate(model.components_):\n",
    "        print(f\"Topic #{topic_idx}: {', '.join([feature_names[i] for i in topic.argsort()[:-n_top_words-1:-1]])}\")\n",
    "    print()"
   ]
  },
  {
   "cell_type": "code",
   "execution_count": 8,
   "id": "621e1ca1",
   "metadata": {},
   "outputs": [
    {
     "name": "stdout",
     "output_type": "stream",
     "text": [
      "Topic #0: image, ftp, file, information, available, data, mail, software, graphics, use\n",
      "Topic #1: db, drive, ___, disk, __, drives, cs, hard, bh, si\n",
      "Topic #2: space, nasa, launch, gov, moon, orbit, earth, article, shuttle, henry\n",
      "Topic #3: key, encryption, clipper, chip, government, com, use, keys, security, public\n",
      "Topic #4: university, nntp, host, posting, graphics, com, thanks, know, uk, ac\n",
      "Topic #5: article, islam, islamic, com, don't, fred, people, bu, law, think\n",
      "Topic #6: god, people, don't, just, com, know, think, jesus, say, like\n",
      "Topic #7: com, article, bear, washington, right, points, tyre, den, cs, posting\n",
      "Topic #8: scsi, com, ide, drive, bus, pc, controller, card, ibm, dos\n",
      "Topic #9: com, morality, keith, sgi, article, caltech, sandvik, objective, moral, think\n",
      "\n"
     ]
    }
   ],
   "source": [
    "print_top_words(lda, cv.get_feature_names_out(), 10)"
   ]
  },
  {
   "cell_type": "code",
   "execution_count": 9,
   "id": "e50df8d1",
   "metadata": {},
   "outputs": [],
   "source": [
    "def show_perplexity(cv, start=5, end=20, max_iter=10, topic_word_prior= 0.1, \n",
    "                    doc_topic_prior=1.0):\n",
    "    iter_num = []\n",
    "    per_value = []\n",
    "\n",
    "    for i in range(start, end + 1):\n",
    "        lda = LatentDirichletAllocation(n_components=i, max_iter=max_iter, \n",
    "                                        topic_word_prior= topic_word_prior, \n",
    "                                        doc_topic_prior=doc_topic_prior,\n",
    "                                        learning_method='batch', n_jobs= -1,\n",
    "                                        random_state=7)    \n",
    "        lda.fit(cv)\n",
    "        iter_num.append(i)\n",
    "        pv = lda.perplexity(cv)\n",
    "        per_value.append(pv)\n",
    "        print(f'n_components: {i}, perplexity: {pv:0.3f}')\n",
    "\n",
    "    plt.plot(iter_num, per_value, 'g-')\n",
    "    plt.show()\n",
    "\n",
    "    return start + per_value.index(min(per_value))"
   ]
  },
  {
   "cell_type": "code",
   "execution_count": 10,
   "id": "3266b29d",
   "metadata": {},
   "outputs": [
    {
     "name": "stdout",
     "output_type": "stream",
     "text": [
      "n_components: 5, perplexity: 4267.500\n",
      "n_components: 6, perplexity: 4283.333\n",
      "n_components: 7, perplexity: 4230.943\n",
      "n_components: 8, perplexity: 4119.894\n",
      "n_components: 9, perplexity: 4093.274\n",
      "n_components: 10, perplexity: 4074.340\n",
      "n_components: 11, perplexity: 4067.862\n",
      "n_components: 12, perplexity: 4068.820\n",
      "n_components: 13, perplexity: 4096.470\n",
      "n_components: 14, perplexity: 4123.096\n",
      "n_components: 15, perplexity: 4117.533\n",
      "n_components: 16, perplexity: 4124.580\n",
      "n_components: 17, perplexity: 4166.122\n",
      "n_components: 18, perplexity: 4158.197\n",
      "n_components: 19, perplexity: 4190.547\n",
      "n_components: 20, perplexity: 4206.886\n"
     ]
    },
    {
     "data": {
      "image/png": "[encoded data removed]",
      "text/plain": [
       "<Figure size 640x480 with 1 Axes>"
      ]
     },
     "metadata": {},
     "output_type": "display_data"
    },
    {
     "data": {
      "text/plain": [
       "11"
      ]
     },
     "execution_count": 10,
     "metadata": {},
     "output_type": "execute_result"
    }
   ],
   "source": [
    "show_perplexity(review_cv)"
   ]
  },
  {
   "cell_type": "code",
   "execution_count": 11,
   "id": "70947bc7",
   "metadata": {},
   "outputs": [],
   "source": [
    "lda = LatentDirichletAllocation(n_components=11, max_iter=10, topic_word_prior=0.1, doc_topic_prior=1.0,\n",
    "                                learning_method='batch', n_jobs=-1, random_state=0)"
   ]
  },
  {
   "cell_type": "code",
   "execution_count": 12,
   "id": "ebc2cc5e",
   "metadata": {},
   "outputs": [
    {
     "name": "stdout",
     "output_type": "stream",
     "text": [
      "(3219, 11)\n",
      "[0.006 0.007 0.008 0.008 0.007 0.014 0.034 0.008 0.015 0.888 0.006]\n",
      "[0.122 0.114 0.077 0.082 0.068 0.097 0.075 0.068 0.087 0.091 0.12 ]\n",
      "(11, 16233)\n"
     ]
    }
   ],
   "source": [
    "review_topics = lda.fit_transform(review_cv)\n",
    "print(review_topics.shape)\n",
    "print(review_topics[0])\n",
    "gross_topic_weights = np.mean(review_topics, axis=0)\n",
    "print(gross_topic_weights)\n",
    "print(lda.components_.shape)"
   ]
  },
  {
   "cell_type": "code",
   "execution_count": 13,
   "id": "93a700bc",
   "metadata": {},
   "outputs": [
    {
     "name": "stdout",
     "output_type": "stream",
     "text": [
      "Topic #0: graphics, image, file, ftp, available, data, files, mail, software, program\n",
      "Topic #1: drive, card, university, com, disk, thanks, controller, host, nntp, bus\n",
      "Topic #2: scsi, db, article, com, henry, toronto, ibm, cs, bit, ide\n",
      "Topic #3: nasa, gov, article, com, just, like, people, space, don't, think\n",
      "Topic #4: god, ___, atheism, posting, atheists, __, nntp, just, host, jesus\n",
      "Topic #5: people, say, article, god, don't, think, jesus, christian, like, just\n",
      "Topic #6: god, com, don't, does, brian, know, think, like, argument, just\n",
      "Topic #7: com, key, posting, des, people, sgi, anonymous, don't, security, public\n",
      "Topic #8: space, nasa, orbit, earth, launch, moon, lunar, shuttle, satellite, mission\n",
      "Topic #9: com, article, keith, caltech, don't, nntp, sandvik, host, posting, morality\n",
      "Topic #10: key, chip, clipper, encryption, government, com, access, use, keys, escrow\n",
      "\n"
     ]
    }
   ],
   "source": [
    "print_top_words(lda, cv.get_feature_names_out(), 10)"
   ]
  },
  {
   "cell_type": "code",
   "execution_count": 14,
   "id": "5c94022c",
   "metadata": {},
   "outputs": [
    {
     "data": {
      "text/html": [
       "<div>\n",
       "<style scoped>\n",
       "    .dataframe tbody tr th:only-of-type {\n",
       "        vertical-align: middle;\n",
       "    }\n",
       "\n",
       "    .dataframe tbody tr th {\n",
       "        vertical-align: top;\n",
       "    }\n",
       "\n",
       "    .dataframe thead th {\n",
       "        text-align: right;\n",
       "    }\n",
       "</style>\n",
       "<table border=\"1\" class=\"dataframe\">\n",
       "  <thead>\n",
       "    <tr style=\"text-align: right;\">\n",
       "      <th></th>\n",
       "      <th>article_id</th>\n",
       "      <th>start</th>\n",
       "      <th>end</th>\n",
       "      <th>answered</th>\n",
       "      <th>votes</th>\n",
       "      <th>category</th>\n",
       "      <th>title</th>\n",
       "      <th>content</th>\n",
       "    </tr>\n",
       "  </thead>\n",
       "  <tbody>\n",
       "    <tr>\n",
       "      <th>0</th>\n",
       "      <td>58</td>\n",
       "      <td>2017-08-19</td>\n",
       "      <td>2017-11-17</td>\n",
       "      <td>0</td>\n",
       "      <td>21</td>\n",
       "      <td>일자리</td>\n",
       "      <td>국토교통부와 한국주택협회가 행한 부당한 행위와 권력남용에 대한 내용을 청원드립니다.</td>\n",
       "      <td>안녕하세요? 존경하고 지지하는 문재인 대통령님!\\n저는 성남시 분당구 정자동 주택전...</td>\n",
       "    </tr>\n",
       "    <tr>\n",
       "      <th>1</th>\n",
       "      <td>63</td>\n",
       "      <td>2017-08-20</td>\n",
       "      <td>2017-09-04</td>\n",
       "      <td>0</td>\n",
       "      <td>1</td>\n",
       "      <td>보건복지</td>\n",
       "      <td>살려주세요..</td>\n",
       "      <td>안녕하십니까?\\n저는 올해 63세된 홀로 사는 늙은 여자입니다...\\n작년 중복날 ...</td>\n",
       "    </tr>\n",
       "    <tr>\n",
       "      <th>2</th>\n",
       "      <td>136</td>\n",
       "      <td>2017-08-20</td>\n",
       "      <td>2017-11-18</td>\n",
       "      <td>0</td>\n",
       "      <td>4</td>\n",
       "      <td>육아/교육</td>\n",
       "      <td>고등학교 교육 내용 수준을 낮춰주시고 실용적인 내용을 담아주세요!</td>\n",
       "      <td>저는 광주에 사는 중3 학생입니다. 고등학교 가기 직전의 학년이라 어느 때보다 고등...</td>\n",
       "    </tr>\n",
       "    <tr>\n",
       "      <th>3</th>\n",
       "      <td>141</td>\n",
       "      <td>2017-08-20</td>\n",
       "      <td>2017-08-27</td>\n",
       "      <td>0</td>\n",
       "      <td>0</td>\n",
       "      <td>기타</td>\n",
       "      <td>한국문화에 창조적요소를 심자</td>\n",
       "      <td>안녕하십니까\\n저는 92년 한국을 알게된  종국동포 입니다.\\n[저는 한 중소기업에...</td>\n",
       "    </tr>\n",
       "    <tr>\n",
       "      <th>4</th>\n",
       "      <td>148</td>\n",
       "      <td>2017-08-20</td>\n",
       "      <td>2017-11-18</td>\n",
       "      <td>0</td>\n",
       "      <td>7</td>\n",
       "      <td>외교/통일/국방</td>\n",
       "      <td>다문화정책 및 할랄 인증 제도</td>\n",
       "      <td>대한민국과 국민을 위해 밤낮 없이 수고하시는 대통령을 비롯한 위정자 분들께\\n대한민...</td>\n",
       "    </tr>\n",
       "  </tbody>\n",
       "</table>\n",
       "</div>"
      ],
      "text/plain": [
       "   article_id       start         end  answered  votes  category  \\\n",
       "0          58  2017-08-19  2017-11-17         0     21       일자리   \n",
       "1          63  2017-08-20  2017-09-04         0      1      보건복지   \n",
       "2         136  2017-08-20  2017-11-18         0      4     육아/교육   \n",
       "3         141  2017-08-20  2017-08-27         0      0        기타   \n",
       "4         148  2017-08-20  2017-11-18         0      7  외교/통일/국방   \n",
       "\n",
       "                                            title  \\\n",
       "0  국토교통부와 한국주택협회가 행한 부당한 행위와 권력남용에 대한 내용을 청원드립니다.   \n",
       "1                                         살려주세요..   \n",
       "2            고등학교 교육 내용 수준을 낮춰주시고 실용적인 내용을 담아주세요!   \n",
       "3                                 한국문화에 창조적요소를 심자   \n",
       "4                                다문화정책 및 할랄 인증 제도   \n",
       "\n",
       "                                             content  \n",
       "0  안녕하세요? 존경하고 지지하는 문재인 대통령님!\\n저는 성남시 분당구 정자동 주택전...  \n",
       "1  안녕하십니까?\\n저는 올해 63세된 홀로 사는 늙은 여자입니다...\\n작년 중복날 ...  \n",
       "2  저는 광주에 사는 중3 학생입니다. 고등학교 가기 직전의 학년이라 어느 때보다 고등...  \n",
       "3  안녕하십니까\\n저는 92년 한국을 알게된  종국동포 입니다.\\n[저는 한 중소기업에...  \n",
       "4  대한민국과 국민을 위해 밤낮 없이 수고하시는 대통령을 비롯한 위정자 분들께\\n대한민...  "
      ]
     },
     "execution_count": 14,
     "metadata": {},
     "output_type": "execute_result"
    }
   ],
   "source": [
    "df = pd.read_csv(\"./data/petition_sampled.csv\")\n",
    "df.head()"
   ]
  },
  {
   "cell_type": "code",
   "execution_count": 15,
   "id": "cbef0c92",
   "metadata": {},
   "outputs": [],
   "source": [
    "okt = Okt()\n",
    "\n",
    "def tokenizer(doc):\n",
    "    return [token for token, tag in okt.pos(doc) if len(token) > 1 and tag in ['Noun', 'Verb', 'Adjective']]"
   ]
  },
  {
   "cell_type": "code",
   "execution_count": 16,
   "id": "f3e589d8",
   "metadata": {},
   "outputs": [
    {
     "name": "stdout",
     "output_type": "stream",
     "text": [
      "(18077, 5000)\n"
     ]
    }
   ],
   "source": [
    "cv = CountVectorizer(tokenizer=tokenizer, max_features=5000, min_df=3, max_df=0.5)\n",
    "pet_cv = cv.fit_transform(df['content'])\n",
    "print(pet_cv.shape)"
   ]
  },
  {
   "cell_type": "code",
   "execution_count": 17,
   "id": "e520aa06",
   "metadata": {},
   "outputs": [],
   "source": [
    "lda = LatentDirichletAllocation(n_components=15, max_iter=10, topic_word_prior=0.1, doc_topic_prior=0.1, learning_method='batch', n_jobs=-1, random_state=0)\n",
    "pet_topics = lda.fit_transform(pet_cv)"
   ]
  },
  {
   "cell_type": "code",
   "execution_count": 18,
   "id": "ae4becd3",
   "metadata": {},
   "outputs": [
    {
     "name": "stdout",
     "output_type": "stream",
     "text": [
      "Topic #0: 국민, 보험, 국회의원, 국민연금, 하는, 세금, 난민, 외국인, 국회, 합니다\n",
      "Topic #1: 화폐, 차량, 하는, 입니다, 합니다, 가상, 사고, 안전, 정부, 생각\n",
      "Topic #2: 여성, 입니다, 공무원, 하는, 합니다, 남성, 의무, 남자, 군대, 행정\n",
      "Topic #3: 사람, 병원, 입니다, 합니다, 가족, 환자, 치료, 하는, 판사, 사건\n",
      "Topic #4: 하여, 민원, 하는, 내용, 하였습니다, 입니다, 있습니다, 하지, 대한, 확인\n",
      "Topic #5: 아이, 경찰, 어린이집, 부패한, 입니다, 부모, 엄마, 범죄, 유치원, 위해\n",
      "Topic #6: 입니다, 하는, 있는, 있습니다, 합니다, 하여, 지역, 문제, 이용, 불법\n",
      "Topic #7: 합니다, 국민, 조사, 비리, 적폐, 청원, 수사, 이명박, 하여, 언론\n",
      "Topic #8: 학생, 학교, 교육, 합니다, 입니다, 하는, 시험, 연금, 공무원, 교사\n",
      "Topic #9: 경찰, 해서, 했다, 사건, 주차, 하는, 부정부패, 살인마, 있는, 범죄\n",
      "Topic #10: 사람, 입니다, 주택, 아파트, 부동산, 서민, 합니다, 정책, 세금, 지금\n",
      "Topic #11: 처벌, 피해자, 범죄, 가해자, 사건, 하는, 피해, 인권, 입니다, 사람\n",
      "Topic #12: 국민, 대통령, 북한, 정부, 우리, 하는, 나라, 대한민국, 문재인, 입니다\n",
      "Topic #13: 합니다, 생각, 하는, 사람, 입니다, 청원, 있습니다, 청소년, 있는, 국민\n",
      "Topic #14: 하는, 회사, 입니다, 기업, 합니다, 근로자, 일자리, 근무, 업체, 있습니다\n",
      "\n"
     ]
    }
   ],
   "source": [
    "print_top_words(lda, cv.get_feature_names_out(), 10)"
   ]
  },
  {
   "cell_type": "code",
   "execution_count": 19,
   "id": "baae75da",
   "metadata": {},
   "outputs": [],
   "source": [
    "okt = Okt()\n",
    "\n",
    "def tokenizer(doc):\n",
    "    return [token for token, tag in okt.pos(doc) if len(token) > 1 and tag in ['Noun']]"
   ]
  },
  {
   "cell_type": "code",
   "execution_count": 20,
   "id": "2ec63c30",
   "metadata": {},
   "outputs": [
    {
     "name": "stdout",
     "output_type": "stream",
     "text": [
      "(18077, 3000)\n"
     ]
    }
   ],
   "source": [
    "cv = CountVectorizer(tokenizer=tokenizer, max_features=3000, min_df=3, max_df=0.5)\n",
    "pet_cv = cv.fit_transform(df['content'])\n",
    "print(pet_cv.shape)"
   ]
  },
  {
   "cell_type": "code",
   "execution_count": 21,
   "id": "6251796f",
   "metadata": {},
   "outputs": [],
   "source": [
    "lda = LatentDirichletAllocation(n_components=15, max_iter=10, topic_word_prior=0.1, doc_topic_prior=0.1, learning_method='batch', n_jobs=-1, random_state=0)\n",
    "pet_topics = lda.fit_transform(pet_cv)"
   ]
  },
  {
   "cell_type": "code",
   "execution_count": 22,
   "id": "126b04f0",
   "metadata": {},
   "outputs": [
    {
     "name": "stdout",
     "output_type": "stream",
     "text": [
      "Topic #0: 병원, 치료, 환자, 의사, 안전, 의료, 사고, 수술, 국가, 발생\n",
      "Topic #1: 국민, 청원, 대한민국, 국가, 나라, 사람, 생각, 난민, 의무, 우리\n",
      "Topic #2: 대통령, 북한, 국민, 우리, 문재인, 정부, 한국, 대한민국, 나라, 생각\n",
      "Topic #3: 국민, 세금, 연금, 공무원, 국민연금, 소득, 사람, 지금, 일자리, 보험\n",
      "Topic #4: 근무, 회사, 근로자, 직원, 시간, 생각, 임금, 업무, 사람, 고용\n",
      "Topic #5: 선수, 게임, 협회, 올림픽, 감독, 축구, 경기, 생각, 스포츠, 연맹\n",
      "Topic #6: 사용, 민원, 주민, 보험, 문제, 공사, 사람, 경우, 내용, 업체\n",
      "Topic #7: 주택, 부동산, 아파트, 정부, 공무원, 정책, 국회의원, 분양, 행정, 서울\n",
      "Topic #8: 정부, 기업, 화폐, 투자, 경제, 가상, 시장, 거래, 정책, 생각\n",
      "Topic #9: 경찰, 민원, 조직, 국민, 불법, 범죄, 위해, 대한민국, 공원, 사리\n",
      "Topic #10: 아이, 교사, 생각, 학교, 사람, 우리, 부모, 어린이집, 엄마, 저희\n",
      "Topic #11: 사람, 여성, 생각, 남성, 남자, 사회, 여자, 처벌, 차량, 문제\n",
      "Topic #12: 학생, 교육, 시험, 학교, 생각, 대학, 공부, 제도, 문제, 평가\n",
      "Topic #13: 경찰, 청소년, 사건, 처벌, 보호, 범죄, 폭행, 살인, 피해자, 가해자\n",
      "Topic #14: 사건, 피해자, 조사, 처벌, 수사, 사실, 사람, 대한, 피해, 판결\n",
      "\n"
     ]
    }
   ],
   "source": [
    "print_top_words(lda, cv.get_feature_names_out(), 10)"
   ]
  },
  {
   "cell_type": "code",
   "execution_count": 23,
   "id": "a8ba24fe",
   "metadata": {},
   "outputs": [
    {
     "data": {
      "text/html": [
       "<div>\n",
       "<style scoped>\n",
       "    .dataframe tbody tr th:only-of-type {\n",
       "        vertical-align: middle;\n",
       "    }\n",
       "\n",
       "    .dataframe tbody tr th {\n",
       "        vertical-align: top;\n",
       "    }\n",
       "\n",
       "    .dataframe thead th {\n",
       "        text-align: right;\n",
       "    }\n",
       "</style>\n",
       "<table border=\"1\" class=\"dataframe\">\n",
       "  <thead>\n",
       "    <tr style=\"text-align: right;\">\n",
       "      <th></th>\n",
       "      <th>Topic1</th>\n",
       "      <th>Topic2</th>\n",
       "      <th>Topic3</th>\n",
       "      <th>Topic4</th>\n",
       "      <th>Topic5</th>\n",
       "      <th>Topic6</th>\n",
       "      <th>Topic7</th>\n",
       "      <th>Topic8</th>\n",
       "      <th>Topic9</th>\n",
       "      <th>Topic10</th>\n",
       "      <th>Topic11</th>\n",
       "      <th>Topic12</th>\n",
       "      <th>Topic13</th>\n",
       "      <th>Topic14</th>\n",
       "      <th>Topic15</th>\n",
       "      <th>start</th>\n",
       "    </tr>\n",
       "  </thead>\n",
       "  <tbody>\n",
       "    <tr>\n",
       "      <th>0</th>\n",
       "      <td>0.000354</td>\n",
       "      <td>0.000354</td>\n",
       "      <td>0.000354</td>\n",
       "      <td>0.000354</td>\n",
       "      <td>0.024806</td>\n",
       "      <td>0.135561</td>\n",
       "      <td>0.403072</td>\n",
       "      <td>0.177820</td>\n",
       "      <td>0.000354</td>\n",
       "      <td>0.074001</td>\n",
       "      <td>0.000354</td>\n",
       "      <td>0.000354</td>\n",
       "      <td>0.000354</td>\n",
       "      <td>0.000354</td>\n",
       "      <td>0.181553</td>\n",
       "      <td>2017-08</td>\n",
       "    </tr>\n",
       "    <tr>\n",
       "      <th>1</th>\n",
       "      <td>0.000930</td>\n",
       "      <td>0.000930</td>\n",
       "      <td>0.000931</td>\n",
       "      <td>0.245473</td>\n",
       "      <td>0.000931</td>\n",
       "      <td>0.000930</td>\n",
       "      <td>0.364288</td>\n",
       "      <td>0.000930</td>\n",
       "      <td>0.000930</td>\n",
       "      <td>0.000930</td>\n",
       "      <td>0.379073</td>\n",
       "      <td>0.000931</td>\n",
       "      <td>0.000930</td>\n",
       "      <td>0.000930</td>\n",
       "      <td>0.000930</td>\n",
       "      <td>2017-08</td>\n",
       "    </tr>\n",
       "    <tr>\n",
       "      <th>2</th>\n",
       "      <td>0.001710</td>\n",
       "      <td>0.001710</td>\n",
       "      <td>0.001710</td>\n",
       "      <td>0.001710</td>\n",
       "      <td>0.001710</td>\n",
       "      <td>0.001710</td>\n",
       "      <td>0.001710</td>\n",
       "      <td>0.001710</td>\n",
       "      <td>0.001710</td>\n",
       "      <td>0.001710</td>\n",
       "      <td>0.001710</td>\n",
       "      <td>0.001710</td>\n",
       "      <td>0.976063</td>\n",
       "      <td>0.001710</td>\n",
       "      <td>0.001710</td>\n",
       "      <td>2017-08</td>\n",
       "    </tr>\n",
       "    <tr>\n",
       "      <th>3</th>\n",
       "      <td>0.026520</td>\n",
       "      <td>0.208259</td>\n",
       "      <td>0.255387</td>\n",
       "      <td>0.000255</td>\n",
       "      <td>0.064148</td>\n",
       "      <td>0.000255</td>\n",
       "      <td>0.000255</td>\n",
       "      <td>0.000255</td>\n",
       "      <td>0.417948</td>\n",
       "      <td>0.000255</td>\n",
       "      <td>0.000256</td>\n",
       "      <td>0.000256</td>\n",
       "      <td>0.025439</td>\n",
       "      <td>0.000255</td>\n",
       "      <td>0.000256</td>\n",
       "      <td>2017-08</td>\n",
       "    </tr>\n",
       "    <tr>\n",
       "      <th>4</th>\n",
       "      <td>0.000512</td>\n",
       "      <td>0.626813</td>\n",
       "      <td>0.131654</td>\n",
       "      <td>0.044874</td>\n",
       "      <td>0.000512</td>\n",
       "      <td>0.000512</td>\n",
       "      <td>0.078906</td>\n",
       "      <td>0.000512</td>\n",
       "      <td>0.000512</td>\n",
       "      <td>0.000512</td>\n",
       "      <td>0.000512</td>\n",
       "      <td>0.094567</td>\n",
       "      <td>0.000512</td>\n",
       "      <td>0.018580</td>\n",
       "      <td>0.000512</td>\n",
       "      <td>2017-08</td>\n",
       "    </tr>\n",
       "  </tbody>\n",
       "</table>\n",
       "</div>"
      ],
      "text/plain": [
       "     Topic1    Topic2    Topic3    Topic4    Topic5    Topic6    Topic7  \\\n",
       "0  0.000354  0.000354  0.000354  0.000354  0.024806  0.135561  0.403072   \n",
       "1  0.000930  0.000930  0.000931  0.245473  0.000931  0.000930  0.364288   \n",
       "2  0.001710  0.001710  0.001710  0.001710  0.001710  0.001710  0.001710   \n",
       "3  0.026520  0.208259  0.255387  0.000255  0.064148  0.000255  0.000255   \n",
       "4  0.000512  0.626813  0.131654  0.044874  0.000512  0.000512  0.078906   \n",
       "\n",
       "     Topic8    Topic9   Topic10   Topic11   Topic12   Topic13   Topic14  \\\n",
       "0  0.177820  0.000354  0.074001  0.000354  0.000354  0.000354  0.000354   \n",
       "1  0.000930  0.000930  0.000930  0.379073  0.000931  0.000930  0.000930   \n",
       "2  0.001710  0.001710  0.001710  0.001710  0.001710  0.976063  0.001710   \n",
       "3  0.000255  0.417948  0.000255  0.000256  0.000256  0.025439  0.000255   \n",
       "4  0.000512  0.000512  0.000512  0.000512  0.094567  0.000512  0.018580   \n",
       "\n",
       "    Topic15    start  \n",
       "0  0.181553  2017-08  \n",
       "1  0.000930  2017-08  \n",
       "2  0.001710  2017-08  \n",
       "3  0.000256  2017-08  \n",
       "4  0.000512  2017-08  "
      ]
     },
     "execution_count": 23,
     "metadata": {},
     "output_type": "execute_result"
    }
   ],
   "source": [
    "trend_data = pd.DataFrame(pet_topics, columns=[f\"Topic{str(i)}\" for i in range(1, 16)])\n",
    "trend_data = pd.concat([trend_data, df['start'].map(lambda x: x[:7])], axis=1)\n",
    "trend_data.head()"
   ]
  },
  {
   "cell_type": "code",
   "execution_count": 24,
   "id": "ac6ba418",
   "metadata": {},
   "outputs": [
    {
     "data": {
      "text/html": [
       "<div>\n",
       "<style scoped>\n",
       "    .dataframe tbody tr th:only-of-type {\n",
       "        vertical-align: middle;\n",
       "    }\n",
       "\n",
       "    .dataframe tbody tr th {\n",
       "        vertical-align: top;\n",
       "    }\n",
       "\n",
       "    .dataframe thead th {\n",
       "        text-align: right;\n",
       "    }\n",
       "</style>\n",
       "<table border=\"1\" class=\"dataframe\">\n",
       "  <thead>\n",
       "    <tr style=\"text-align: right;\">\n",
       "      <th></th>\n",
       "      <th>Topic1</th>\n",
       "      <th>Topic2</th>\n",
       "      <th>Topic3</th>\n",
       "      <th>Topic4</th>\n",
       "      <th>Topic5</th>\n",
       "      <th>Topic6</th>\n",
       "      <th>Topic7</th>\n",
       "      <th>Topic8</th>\n",
       "      <th>Topic9</th>\n",
       "      <th>Topic10</th>\n",
       "      <th>Topic11</th>\n",
       "      <th>Topic12</th>\n",
       "      <th>Topic13</th>\n",
       "      <th>Topic14</th>\n",
       "      <th>Topic15</th>\n",
       "    </tr>\n",
       "    <tr>\n",
       "      <th>start</th>\n",
       "      <th></th>\n",
       "      <th></th>\n",
       "      <th></th>\n",
       "      <th></th>\n",
       "      <th></th>\n",
       "      <th></th>\n",
       "      <th></th>\n",
       "      <th></th>\n",
       "      <th></th>\n",
       "      <th></th>\n",
       "      <th></th>\n",
       "      <th></th>\n",
       "      <th></th>\n",
       "      <th></th>\n",
       "      <th></th>\n",
       "    </tr>\n",
       "  </thead>\n",
       "  <tbody>\n",
       "    <tr>\n",
       "      <th>2017-08</th>\n",
       "      <td>0.069568</td>\n",
       "      <td>0.044469</td>\n",
       "      <td>0.097176</td>\n",
       "      <td>0.047381</td>\n",
       "      <td>0.130232</td>\n",
       "      <td>0.014295</td>\n",
       "      <td>0.118325</td>\n",
       "      <td>0.052245</td>\n",
       "      <td>0.032322</td>\n",
       "      <td>0.013275</td>\n",
       "      <td>0.189231</td>\n",
       "      <td>0.033189</td>\n",
       "      <td>0.087496</td>\n",
       "      <td>0.023812</td>\n",
       "      <td>0.046984</td>\n",
       "    </tr>\n",
       "    <tr>\n",
       "      <th>2017-09</th>\n",
       "      <td>0.037164</td>\n",
       "      <td>0.065037</td>\n",
       "      <td>0.057755</td>\n",
       "      <td>0.032005</td>\n",
       "      <td>0.045537</td>\n",
       "      <td>0.020378</td>\n",
       "      <td>0.049442</td>\n",
       "      <td>0.028088</td>\n",
       "      <td>0.023727</td>\n",
       "      <td>0.016849</td>\n",
       "      <td>0.123424</td>\n",
       "      <td>0.075635</td>\n",
       "      <td>0.048300</td>\n",
       "      <td>0.335793</td>\n",
       "      <td>0.040866</td>\n",
       "    </tr>\n",
       "    <tr>\n",
       "      <th>2017-10</th>\n",
       "      <td>0.053444</td>\n",
       "      <td>0.066134</td>\n",
       "      <td>0.087143</td>\n",
       "      <td>0.044374</td>\n",
       "      <td>0.080665</td>\n",
       "      <td>0.028499</td>\n",
       "      <td>0.120272</td>\n",
       "      <td>0.050793</td>\n",
       "      <td>0.040053</td>\n",
       "      <td>0.045884</td>\n",
       "      <td>0.108240</td>\n",
       "      <td>0.100882</td>\n",
       "      <td>0.066283</td>\n",
       "      <td>0.040670</td>\n",
       "      <td>0.066663</td>\n",
       "    </tr>\n",
       "    <tr>\n",
       "      <th>2017-11</th>\n",
       "      <td>0.051688</td>\n",
       "      <td>0.075451</td>\n",
       "      <td>0.122670</td>\n",
       "      <td>0.037670</td>\n",
       "      <td>0.039213</td>\n",
       "      <td>0.058564</td>\n",
       "      <td>0.061903</td>\n",
       "      <td>0.034276</td>\n",
       "      <td>0.028987</td>\n",
       "      <td>0.046448</td>\n",
       "      <td>0.058032</td>\n",
       "      <td>0.062908</td>\n",
       "      <td>0.163422</td>\n",
       "      <td>0.035950</td>\n",
       "      <td>0.122816</td>\n",
       "    </tr>\n",
       "    <tr>\n",
       "      <th>2017-12</th>\n",
       "      <td>0.066669</td>\n",
       "      <td>0.087285</td>\n",
       "      <td>0.090221</td>\n",
       "      <td>0.065243</td>\n",
       "      <td>0.087276</td>\n",
       "      <td>0.025636</td>\n",
       "      <td>0.094514</td>\n",
       "      <td>0.056482</td>\n",
       "      <td>0.058318</td>\n",
       "      <td>0.020903</td>\n",
       "      <td>0.084927</td>\n",
       "      <td>0.074997</td>\n",
       "      <td>0.066749</td>\n",
       "      <td>0.042549</td>\n",
       "      <td>0.078232</td>\n",
       "    </tr>\n",
       "  </tbody>\n",
       "</table>\n",
       "</div>"
      ],
      "text/plain": [
       "           Topic1    Topic2    Topic3    Topic4    Topic5    Topic6    Topic7  \\\n",
       "start                                                                           \n",
       "2017-08  0.069568  0.044469  0.097176  0.047381  0.130232  0.014295  0.118325   \n",
       "2017-09  0.037164  0.065037  0.057755  0.032005  0.045537  0.020378  0.049442   \n",
       "2017-10  0.053444  0.066134  0.087143  0.044374  0.080665  0.028499  0.120272   \n",
       "2017-11  0.051688  0.075451  0.122670  0.037670  0.039213  0.058564  0.061903   \n",
       "2017-12  0.066669  0.087285  0.090221  0.065243  0.087276  0.025636  0.094514   \n",
       "\n",
       "           Topic8    Topic9   Topic10   Topic11   Topic12   Topic13   Topic14  \\\n",
       "start                                                                           \n",
       "2017-08  0.052245  0.032322  0.013275  0.189231  0.033189  0.087496  0.023812   \n",
       "2017-09  0.028088  0.023727  0.016849  0.123424  0.075635  0.048300  0.335793   \n",
       "2017-10  0.050793  0.040053  0.045884  0.108240  0.100882  0.066283  0.040670   \n",
       "2017-11  0.034276  0.028987  0.046448  0.058032  0.062908  0.163422  0.035950   \n",
       "2017-12  0.056482  0.058318  0.020903  0.084927  0.074997  0.066749  0.042549   \n",
       "\n",
       "          Topic15  \n",
       "start              \n",
       "2017-08  0.046984  \n",
       "2017-09  0.040866  \n",
       "2017-10  0.066663  \n",
       "2017-11  0.122816  \n",
       "2017-12  0.078232  "
      ]
     },
     "execution_count": 24,
     "metadata": {},
     "output_type": "execute_result"
    }
   ],
   "source": [
    "trend = trend_data.groupby(['start']).mean()\n",
    "trend.head()"
   ]
  },
  {
   "cell_type": "code",
   "execution_count": 25,
   "id": "d4ea8858",
   "metadata": {},
   "outputs": [
    {
     "data": {
      "image/png": "[encoded data removed]",
      "text/plain": [
       "<Figure size 2100x1200 with 15 Axes>"
      ]
     },
     "metadata": {},
     "output_type": "display_data"
    }
   ],
   "source": [
    "fig, axs = plt.subplots(3, 5, sharex='col', figsize=(21, 12))\n",
    "for col, ax in zip(trend.columns.tolist(), axs.ravel()):\n",
    "    ax.set_title(col)\n",
    "    ax.axes.xaxis.set_visible(False)\n",
    "    ax.plot(trend[col])\n",
    "plt.show()"
   ]
  },
  {
   "cell_type": "code",
   "execution_count": 26,
   "id": "eae41a9e",
   "metadata": {},
   "outputs": [],
   "source": [
    "# 책에 나온 gensim의 dynamic topic modeling 대신 bertopic의 dynamic topic modeling 활용"
   ]
  },
  {
   "cell_type": "code",
   "execution_count": 27,
   "id": "82e19815",
   "metadata": {},
   "outputs": [
    {
     "data": {
      "text/html": [
       "<div>\n",
       "<style scoped>\n",
       "    .dataframe tbody tr th:only-of-type {\n",
       "        vertical-align: middle;\n",
       "    }\n",
       "\n",
       "    .dataframe tbody tr th {\n",
       "        vertical-align: top;\n",
       "    }\n",
       "\n",
       "    .dataframe thead th {\n",
       "        text-align: right;\n",
       "    }\n",
       "</style>\n",
       "<table border=\"1\" class=\"dataframe\">\n",
       "  <thead>\n",
       "    <tr style=\"text-align: right;\">\n",
       "      <th></th>\n",
       "      <th>article_id</th>\n",
       "      <th>start</th>\n",
       "      <th>end</th>\n",
       "      <th>answered</th>\n",
       "      <th>votes</th>\n",
       "      <th>category</th>\n",
       "      <th>title</th>\n",
       "      <th>content</th>\n",
       "      <th>date</th>\n",
       "    </tr>\n",
       "  </thead>\n",
       "  <tbody>\n",
       "    <tr>\n",
       "      <th>0</th>\n",
       "      <td>58</td>\n",
       "      <td>2017-08-19</td>\n",
       "      <td>2017-11-17</td>\n",
       "      <td>0</td>\n",
       "      <td>21</td>\n",
       "      <td>일자리</td>\n",
       "      <td>국토교통부와 한국주택협회가 행한 부당한 행위와 권력남용에 대한 내용을 청원드립니다.</td>\n",
       "      <td>안녕하세요? 존경하고 지지하는 문재인 대통령님!\\n저는 성남시 분당구 정자동 주택전...</td>\n",
       "      <td>2017-08</td>\n",
       "    </tr>\n",
       "    <tr>\n",
       "      <th>1</th>\n",
       "      <td>63</td>\n",
       "      <td>2017-08-20</td>\n",
       "      <td>2017-09-04</td>\n",
       "      <td>0</td>\n",
       "      <td>1</td>\n",
       "      <td>보건복지</td>\n",
       "      <td>살려주세요..</td>\n",
       "      <td>안녕하십니까?\\n저는 올해 63세된 홀로 사는 늙은 여자입니다...\\n작년 중복날 ...</td>\n",
       "      <td>2017-08</td>\n",
       "    </tr>\n",
       "    <tr>\n",
       "      <th>2</th>\n",
       "      <td>136</td>\n",
       "      <td>2017-08-20</td>\n",
       "      <td>2017-11-18</td>\n",
       "      <td>0</td>\n",
       "      <td>4</td>\n",
       "      <td>육아/교육</td>\n",
       "      <td>고등학교 교육 내용 수준을 낮춰주시고 실용적인 내용을 담아주세요!</td>\n",
       "      <td>저는 광주에 사는 중3 학생입니다. 고등학교 가기 직전의 학년이라 어느 때보다 고등...</td>\n",
       "      <td>2017-08</td>\n",
       "    </tr>\n",
       "    <tr>\n",
       "      <th>3</th>\n",
       "      <td>141</td>\n",
       "      <td>2017-08-20</td>\n",
       "      <td>2017-08-27</td>\n",
       "      <td>0</td>\n",
       "      <td>0</td>\n",
       "      <td>기타</td>\n",
       "      <td>한국문화에 창조적요소를 심자</td>\n",
       "      <td>안녕하십니까\\n저는 92년 한국을 알게된  종국동포 입니다.\\n[저는 한 중소기업에...</td>\n",
       "      <td>2017-08</td>\n",
       "    </tr>\n",
       "    <tr>\n",
       "      <th>4</th>\n",
       "      <td>148</td>\n",
       "      <td>2017-08-20</td>\n",
       "      <td>2017-11-18</td>\n",
       "      <td>0</td>\n",
       "      <td>7</td>\n",
       "      <td>외교/통일/국방</td>\n",
       "      <td>다문화정책 및 할랄 인증 제도</td>\n",
       "      <td>대한민국과 국민을 위해 밤낮 없이 수고하시는 대통령을 비롯한 위정자 분들께\\n대한민...</td>\n",
       "      <td>2017-08</td>\n",
       "    </tr>\n",
       "  </tbody>\n",
       "</table>\n",
       "</div>"
      ],
      "text/plain": [
       "   article_id       start         end  answered  votes  category  \\\n",
       "0          58  2017-08-19  2017-11-17         0     21       일자리   \n",
       "1          63  2017-08-20  2017-09-04         0      1      보건복지   \n",
       "2         136  2017-08-20  2017-11-18         0      4     육아/교육   \n",
       "3         141  2017-08-20  2017-08-27         0      0        기타   \n",
       "4         148  2017-08-20  2017-11-18         0      7  외교/통일/국방   \n",
       "\n",
       "                                            title  \\\n",
       "0  국토교통부와 한국주택협회가 행한 부당한 행위와 권력남용에 대한 내용을 청원드립니다.   \n",
       "1                                         살려주세요..   \n",
       "2            고등학교 교육 내용 수준을 낮춰주시고 실용적인 내용을 담아주세요!   \n",
       "3                                 한국문화에 창조적요소를 심자   \n",
       "4                                다문화정책 및 할랄 인증 제도   \n",
       "\n",
       "                                             content     date  \n",
       "0  안녕하세요? 존경하고 지지하는 문재인 대통령님!\\n저는 성남시 분당구 정자동 주택전...  2017-08  \n",
       "1  안녕하십니까?\\n저는 올해 63세된 홀로 사는 늙은 여자입니다...\\n작년 중복날 ...  2017-08  \n",
       "2  저는 광주에 사는 중3 학생입니다. 고등학교 가기 직전의 학년이라 어느 때보다 고등...  2017-08  \n",
       "3  안녕하십니까\\n저는 92년 한국을 알게된  종국동포 입니다.\\n[저는 한 중소기업에...  2017-08  \n",
       "4  대한민국과 국민을 위해 밤낮 없이 수고하시는 대통령을 비롯한 위정자 분들께\\n대한민...  2017-08  "
      ]
     },
     "execution_count": 27,
     "metadata": {},
     "output_type": "execute_result"
    }
   ],
   "source": [
    "df = df.assign(date=df['start'].map(lambda ser: ser[:7]))\n",
    "df.head()"
   ]
  },
  {
   "cell_type": "code",
   "execution_count": 28,
   "id": "83829c5a",
   "metadata": {},
   "outputs": [],
   "source": [
    "docs, timestamps = df['content'].tolist(), df['date'].tolist()\n",
    "embedding_model = SentenceTransformer('snunlp/KR-SBERT-V40K-klueNLI-augSTS', device='cuda')"
   ]
  },
  {
   "cell_type": "code",
   "execution_count": 29,
   "id": "372136f4",
   "metadata": {},
   "outputs": [
    {
     "name": "stderr",
     "output_type": "stream",
     "text": [
      "2025-10-02 20:12:44,536 - BERTopic - Embedding - Transforming documents to embeddings.\n",
      "Batches: 100%|██████████| 565/565 [00:26<00:00, 21.56it/s]\n",
      "2025-10-02 20:13:11,037 - BERTopic - Embedding - Completed ✓\n",
      "2025-10-02 20:13:11,038 - BERTopic - Dimensionality - Fitting the dimensionality reduction algorithm\n",
      "2025-10-02 20:13:25,611 - BERTopic - Dimensionality - Completed ✓\n",
      "2025-10-02 20:13:25,613 - BERTopic - Cluster - Start clustering the reduced embeddings\n",
      "2025-10-02 20:13:28,164 - BERTopic - Cluster - Completed ✓\n",
      "2025-10-02 20:13:28,167 - BERTopic - Representation - Fine-tuning topics using representation models.\n",
      "2025-10-02 20:13:30,692 - BERTopic - Representation - Completed ✓\n"
     ]
    }
   ],
   "source": [
    "topic_model = BERTopic(embedding_model=embedding_model, min_topic_size=100, language='multilingual', verbose=True)\n",
    "topics, probs = topic_model.fit_transform(docs)"
   ]
  },
  {
   "cell_type": "code",
   "execution_count": 30,
   "id": "2653d995",
   "metadata": {},
   "outputs": [
    {
     "name": "stdout",
     "output_type": "stream",
     "text": [
      "[('있습니다', np.float64(0.01214080871004412)), ('있는', np.float64(0.010203924287294924)), ('합니다', np.float64(0.009690331996287573)), ('하고', np.float64(0.0082464035897568)), ('일을', np.float64(0.007715803733399959)), ('하는', np.float64(0.007440661994779792)), ('저는', np.float64(0.006521764838706478)), ('최저임금', np.float64(0.0063242831657683825)), ('일자리', np.float64(0.006155698790528238)), ('너무', np.float64(0.0059196348648171615))]\n"
     ]
    },
    {
     "data": {
      "text/html": [
       "<div>\n",
       "<style scoped>\n",
       "    .dataframe tbody tr th:only-of-type {\n",
       "        vertical-align: middle;\n",
       "    }\n",
       "\n",
       "    .dataframe tbody tr th {\n",
       "        vertical-align: top;\n",
       "    }\n",
       "\n",
       "    .dataframe thead th {\n",
       "        text-align: right;\n",
       "    }\n",
       "</style>\n",
       "<table border=\"1\" class=\"dataframe\">\n",
       "  <thead>\n",
       "    <tr style=\"text-align: right;\">\n",
       "      <th></th>\n",
       "      <th>Topic</th>\n",
       "      <th>Count</th>\n",
       "      <th>Name</th>\n",
       "      <th>Representation</th>\n",
       "      <th>Representative_Docs</th>\n",
       "    </tr>\n",
       "  </thead>\n",
       "  <tbody>\n",
       "    <tr>\n",
       "      <th>0</th>\n",
       "      <td>-1</td>\n",
       "      <td>6583</td>\n",
       "      <td>-1_있습니다_있는_합니다_하고</td>\n",
       "      <td>[있습니다, 있는, 합니다, 하고, 대한, 하는, 위해, 없는, 많은, 저는]</td>\n",
       "      <td>[(내용추가)헌법개정 반대합니다.! 일반행정공무원과 운전공무원을 폐지해야 이 나라가...</td>\n",
       "    </tr>\n",
       "    <tr>\n",
       "      <th>1</th>\n",
       "      <td>0</td>\n",
       "      <td>1306</td>\n",
       "      <td>0_있습니다_있는_합니다_하고</td>\n",
       "      <td>[있습니다, 있는, 합니다, 하고, 일을, 하는, 저는, 최저임금, 일자리, 너무]</td>\n",
       "      <td>[Ⅰ. 오늘도 나는 오전 9시에 사무실에 출근하여 여유있게 믹스커피 한 잔을 마시고...</td>\n",
       "    </tr>\n",
       "    <tr>\n",
       "      <th>2</th>\n",
       "      <td>1</td>\n",
       "      <td>1096</td>\n",
       "      <td>1_부동산_아파트_있는_있습니다</td>\n",
       "      <td>[부동산, 아파트, 있는, 있습니다, 합니다, 집을, 서울, 주택, 없는, 하는]</td>\n",
       "      <td>[부자들은\\n토지와 주택등 부동산만 사 놓으면\\n임대료등 돈이 생기고 부동산폭등으로...</td>\n",
       "    </tr>\n",
       "    <tr>\n",
       "      <th>3</th>\n",
       "      <td>2</td>\n",
       "      <td>665</td>\n",
       "      <td>2_있습니다_합니다_있는_하는</td>\n",
       "      <td>[있습니다, 합니다, 있는, 하는, 자동차, 차량, 차를, 생각합니다, 너무, 화재]</td>\n",
       "      <td>[1. 포항 죽도파출소에서 야간 근무중 새벽 3시경 사망한 30세 신입 故 최준영 ...</td>\n",
       "    </tr>\n",
       "    <tr>\n",
       "      <th>4</th>\n",
       "      <td>3</td>\n",
       "      <td>620</td>\n",
       "      <td>3_가상화폐_공매도_거래소_있습니다</td>\n",
       "      <td>[가상화폐, 공매도, 거래소, 있습니다, 있는, 하고, 합니다, 가상화폐에, 하는,...</td>\n",
       "      <td>[가상화폐 과열양상을 가라앉히고 발전시키는데, 거래자 규제 강화도 좋지만\\n가상화폐...</td>\n",
       "    </tr>\n",
       "    <tr>\n",
       "      <th>5</th>\n",
       "      <td>4</td>\n",
       "      <td>557</td>\n",
       "      <td>4_올림픽_선수_선수들이_대한민국</td>\n",
       "      <td>[올림픽, 선수, 선수들이, 대한민국, 선수가, 국가대표, 출전, 합니다, 단일팀,...</td>\n",
       "      <td>[안녕하세요. 저는 이번 평창 동계올림픽을 기대하는 국민 중 하나입니다.\\n대한민국...</td>\n",
       "    </tr>\n",
       "    <tr>\n",
       "      <th>6</th>\n",
       "      <td>5</td>\n",
       "      <td>547</td>\n",
       "      <td>5_아이를_어린이집_있는_있습니다</td>\n",
       "      <td>[아이를, 어린이집, 있는, 있습니다, 합니다, 유치원, 아이들이, 하는, 너무, 아이]</td>\n",
       "      <td>[안녕하세요 두아이를 두고 있는 엄마입니다.\\n큰아이가 내년이 되면  6세가 되어 ...</td>\n",
       "    </tr>\n",
       "    <tr>\n",
       "      <th>7</th>\n",
       "      <td>6</td>\n",
       "      <td>519</td>\n",
       "      <td>6_있습니다_여성_무고_성범죄</td>\n",
       "      <td>[있습니다, 여성, 무고, 성범죄, 하는, 있는, 여성의, 대한, 여성이, 합니다]</td>\n",
       "      <td>[한 사람을 성추행범으로 몰려고 한 사람을 매장시키려 했던 거짓 미투 발언한 여성 ...</td>\n",
       "    </tr>\n",
       "    <tr>\n",
       "      <th>8</th>\n",
       "      <td>7</td>\n",
       "      <td>479</td>\n",
       "      <td>7_청원_청원이_있습니다_있는</td>\n",
       "      <td>[청원, 청원이, 있습니다, 있는, 청원을, 댓글, 청와대, 하는, 대한, 합니다]</td>\n",
       "      <td>[언제부턴가 뉴스 기사는 지면이 아닌 스마트폰으로 더 많이 접하게 되었습니다.\\n그...</td>\n",
       "    </tr>\n",
       "    <tr>\n",
       "      <th>9</th>\n",
       "      <td>8</td>\n",
       "      <td>461</td>\n",
       "      <td>8_북한_북한의_북한이_있다</td>\n",
       "      <td>[북한, 북한의, 북한이, 있다, 것이다, 한반도, 미국이, 남북, 있는, 북한은]</td>\n",
       "      <td>[* 추미애 더불어민주당 대표가 북한의 6차 핵실험 등 한반도 안보위기 국면과 관련...</td>\n",
       "    </tr>\n",
       "    <tr>\n",
       "      <th>10</th>\n",
       "      <td>9</td>\n",
       "      <td>449</td>\n",
       "      <td>9_학생들이_있는_있습니다_대학</td>\n",
       "      <td>[학생들이, 있는, 있습니다, 대학, 합니다, 공부를, 생각합니다, 수능, 수시, ...</td>\n",
       "      <td>[*청원 확대를 위해, 이 청원을 SNS 등으로 많이 퍼뜨려주세요. 여러분의 조그마...</td>\n",
       "    </tr>\n",
       "    <tr>\n",
       "      <th>11</th>\n",
       "      <td>10</td>\n",
       "      <td>448</td>\n",
       "      <td>10_국회의원_국민의_국회_국민을</td>\n",
       "      <td>[국회의원, 국민의, 국회, 국민을, 국민이, 합니다, 국회의원들, 국민들이, 국회...</td>\n",
       "      <td>[국회의원(議會議員, 영어: Member of parliament, MP)은 유권자...</td>\n",
       "    </tr>\n",
       "    <tr>\n",
       "      <th>12</th>\n",
       "      <td>11</td>\n",
       "      <td>445</td>\n",
       "      <td>11_이명박_출국금지_출국_청원합니다</td>\n",
       "      <td>[이명박, 출국금지, 출국, 청원합니다, 출국금지를, 금지, 출국을, 이명박출국금지...</td>\n",
       "      <td>[이명박 출국금지 !!!!!, 이명박 출국금지!, 이명박 출국금지!!]</td>\n",
       "    </tr>\n",
       "    <tr>\n",
       "      <th>13</th>\n",
       "      <td>12</td>\n",
       "      <td>434</td>\n",
       "      <td>12_장애인_합니다_있는_있습니다</td>\n",
       "      <td>[장애인, 합니다, 있는, 있습니다, 환자, 저는, 많은, 많이, 제가, 하는]</td>\n",
       "      <td>[문재인 대통령님 장애인 일자리(취업)이 너무나 심각 합니다. 미국은 장애인 복지 ...</td>\n",
       "    </tr>\n",
       "    <tr>\n",
       "      <th>14</th>\n",
       "      <td>13</td>\n",
       "      <td>433</td>\n",
       "      <td>13_판결을_합니다_하는_이런</td>\n",
       "      <td>[판결을, 합니다, 하는, 이런, 한다, 대한, 있는, 사법부, 판사가, 변호사]</td>\n",
       "      <td>[“수뇌부가 경찰 망쳐” 경찰,검찰내부 불신 심각\\n대선개입 사건의 수사 결과 발표...</td>\n",
       "    </tr>\n",
       "    <tr>\n",
       "      <th>15</th>\n",
       "      <td>14</td>\n",
       "      <td>415</td>\n",
       "      <td>14_청소년_생각합니다_처벌을_청소년들이</td>\n",
       "      <td>[청소년, 생각합니다, 처벌을, 청소년들이, 여중생, 소년법, 부산, 폐지해주세요,...</td>\n",
       "      <td>[안녕하세요 저는 대구에 거주하고 있는 여학생입니다\\n폭력죄에 한해서는 청소년 보호...</td>\n",
       "    </tr>\n",
       "    <tr>\n",
       "      <th>16</th>\n",
       "      <td>15</td>\n",
       "      <td>394</td>\n",
       "      <td>15_합니다_생각합니다_조두순_범죄를</td>\n",
       "      <td>[합니다, 생각합니다, 조두순, 범죄를, 있습니다, 조두순이, 사람을, 너무, 법이...</td>\n",
       "      <td>[대한민국의 법을 강화해주세요\\n대한민국은 사형이라는 법은있지만 시행되고있지않습니다...</td>\n",
       "    </tr>\n",
       "    <tr>\n",
       "      <th>17</th>\n",
       "      <td>16</td>\n",
       "      <td>381</td>\n",
       "      <td>16_국민연금_연금_지금당장_n국민연금</td>\n",
       "      <td>[국민연금, 연금, 지금당장, n국민연금, 공무원, 국민연금을, 연금을, 공무원연금...</td>\n",
       "      <td>[국민연금=공무원연금,군인연금,사학연금통합시켜라 국민세금 도둑질하지마라.똑같이 내고...</td>\n",
       "    </tr>\n",
       "    <tr>\n",
       "      <th>18</th>\n",
       "      <td>17</td>\n",
       "      <td>377</td>\n",
       "      <td>17_의무를_국방의_양심적_있는</td>\n",
       "      <td>[의무를, 국방의, 양심적, 있는, 군대를, 군대, 하는, 예비군, 대한, 있습니다]</td>\n",
       "      <td>[헌법 제72조\\n대통령은 필요하다고 인정할 때에\\n외교, 국방, 통일, 국가안위에...</td>\n",
       "    </tr>\n",
       "    <tr>\n",
       "      <th>19</th>\n",
       "      <td>18</td>\n",
       "      <td>325</td>\n",
       "      <td>18_난민_외국인_난민을_있습니다</td>\n",
       "      <td>[난민, 외국인, 난민을, 있습니다, 이슬람, 제주도, 지금, 합니다, 자국민, 우리]</td>\n",
       "      <td>[제주도에 법의 헛점을 이용해 들어온 예멘인들은 현재는 [난민]이 아닙니다.\\n물론...</td>\n",
       "    </tr>\n",
       "    <tr>\n",
       "      <th>20</th>\n",
       "      <td>19</td>\n",
       "      <td>192</td>\n",
       "      <td>19_동물을_동물_개를_강아지</td>\n",
       "      <td>[동물을, 동물, 개를, 강아지, 동물들이, 있습니다, 동물들을, 강아지를, 있는,...</td>\n",
       "      <td>[동물은 비록 말은 못하지만 인간이랑 똑같이 모든 감정과 생각을 가지고 삽니다.\\n...</td>\n",
       "    </tr>\n",
       "    <tr>\n",
       "      <th>21</th>\n",
       "      <td>20</td>\n",
       "      <td>186</td>\n",
       "      <td>20_문재인_국민들_경제_나라인가요</td>\n",
       "      <td>[문재인, 국민들, 경제, 나라인가요, n지금, 지금, 대통령, n문재인, 대통령이...</td>\n",
       "      <td>[정부, 청와대, 여당,\\n정말 한심한 모습만 보여주고 있네요.\\n여러분들은 지금의...</td>\n",
       "    </tr>\n",
       "    <tr>\n",
       "      <th>22</th>\n",
       "      <td>21</td>\n",
       "      <td>183</td>\n",
       "      <td>21_미세먼지_미세먼지가_미세먼지를_마스크를</td>\n",
       "      <td>[미세먼지, 미세먼지가, 미세먼지를, 마스크를, 미세먼지에, 중국, 중국발, 중국에...</td>\n",
       "      <td>[안녕하세요 저는 현재 고등학교를 다니는 한 학생입니다. 저는 다름이 아니라 요즈음...</td>\n",
       "    </tr>\n",
       "    <tr>\n",
       "      <th>23</th>\n",
       "      <td>22</td>\n",
       "      <td>175</td>\n",
       "      <td>22_에어컨_누진제_에어컨을_태양광</td>\n",
       "      <td>[에어컨, 누진제, 에어컨을, 태양광, 누진세, 석탄, 에너지, 전기세, 전기요금,...</td>\n",
       "      <td>[최근 몇 년간 국내에서 지진 발생률이 점점 높아져 가고 있습니다. 이에 원자력 발...</td>\n",
       "    </tr>\n",
       "    <tr>\n",
       "      <th>24</th>\n",
       "      <td>23</td>\n",
       "      <td>140</td>\n",
       "      <td>23_담배를_담배_흡연_흡연을</td>\n",
       "      <td>[담배를, 담배, 흡연, 흡연을, 길거리, 피는, 있습니다, 흡연은, 좋겠습니다, 금연]</td>\n",
       "      <td>[요즘 황사나 미세먼지에 관심이 높아지는 가운데\\n실질적으로는 우리에게 더 많은 영...</td>\n",
       "    </tr>\n",
       "    <tr>\n",
       "      <th>25</th>\n",
       "      <td>24</td>\n",
       "      <td>139</td>\n",
       "      <td>24_the_com_nhttp_nhttps</td>\n",
       "      <td>[the, com, nhttp, nhttps, to, be, www, of, and...</td>\n",
       "      <td>[최고 의학 학술지 lancet 에 발표된 논문에 의하면\\n죽었다 살아난 사람의 1...</td>\n",
       "    </tr>\n",
       "    <tr>\n",
       "      <th>26</th>\n",
       "      <td>25</td>\n",
       "      <td>128</td>\n",
       "      <td>25_전화를_민원을_너무_있습니다</td>\n",
       "      <td>[전화를, 민원을, 너무, 있습니다, gps, 전화, 있는, 합니다, 사기를, 민원]</td>\n",
       "      <td>[- 차량용 GPS 무단설치후 동의서에 서명을 강제하고, 회유와 협박한 우체국시설관...</td>\n",
       "    </tr>\n",
       "  </tbody>\n",
       "</table>\n",
       "</div>"
      ],
      "text/plain": [
       "    Topic  Count                      Name  \\\n",
       "0      -1   6583         -1_있습니다_있는_합니다_하고   \n",
       "1       0   1306          0_있습니다_있는_합니다_하고   \n",
       "2       1   1096         1_부동산_아파트_있는_있습니다   \n",
       "3       2    665          2_있습니다_합니다_있는_하는   \n",
       "4       3    620       3_가상화폐_공매도_거래소_있습니다   \n",
       "5       4    557        4_올림픽_선수_선수들이_대한민국   \n",
       "6       5    547        5_아이를_어린이집_있는_있습니다   \n",
       "7       6    519          6_있습니다_여성_무고_성범죄   \n",
       "8       7    479          7_청원_청원이_있습니다_있는   \n",
       "9       8    461           8_북한_북한의_북한이_있다   \n",
       "10      9    449         9_학생들이_있는_있습니다_대학   \n",
       "11     10    448        10_국회의원_국민의_국회_국민을   \n",
       "12     11    445      11_이명박_출국금지_출국_청원합니다   \n",
       "13     12    434        12_장애인_합니다_있는_있습니다   \n",
       "14     13    433          13_판결을_합니다_하는_이런   \n",
       "15     14    415    14_청소년_생각합니다_처벌을_청소년들이   \n",
       "16     15    394      15_합니다_생각합니다_조두순_범죄를   \n",
       "17     16    381     16_국민연금_연금_지금당장_n국민연금   \n",
       "18     17    377         17_의무를_국방의_양심적_있는   \n",
       "19     18    325        18_난민_외국인_난민을_있습니다   \n",
       "20     19    192          19_동물을_동물_개를_강아지   \n",
       "21     20    186       20_문재인_국민들_경제_나라인가요   \n",
       "22     21    183  21_미세먼지_미세먼지가_미세먼지를_마스크를   \n",
       "23     22    175       22_에어컨_누진제_에어컨을_태양광   \n",
       "24     23    140          23_담배를_담배_흡연_흡연을   \n",
       "25     24    139   24_the_com_nhttp_nhttps   \n",
       "26     25    128        25_전화를_민원을_너무_있습니다   \n",
       "\n",
       "                                       Representation  \\\n",
       "0         [있습니다, 있는, 합니다, 하고, 대한, 하는, 위해, 없는, 많은, 저는]   \n",
       "1      [있습니다, 있는, 합니다, 하고, 일을, 하는, 저는, 최저임금, 일자리, 너무]   \n",
       "2       [부동산, 아파트, 있는, 있습니다, 합니다, 집을, 서울, 주택, 없는, 하는]   \n",
       "3     [있습니다, 합니다, 있는, 하는, 자동차, 차량, 차를, 생각합니다, 너무, 화재]   \n",
       "4   [가상화폐, 공매도, 거래소, 있습니다, 있는, 하고, 합니다, 가상화폐에, 하는,...   \n",
       "5   [올림픽, 선수, 선수들이, 대한민국, 선수가, 국가대표, 출전, 합니다, 단일팀,...   \n",
       "6   [아이를, 어린이집, 있는, 있습니다, 합니다, 유치원, 아이들이, 하는, 너무, 아이]   \n",
       "7      [있습니다, 여성, 무고, 성범죄, 하는, 있는, 여성의, 대한, 여성이, 합니다]   \n",
       "8      [청원, 청원이, 있습니다, 있는, 청원을, 댓글, 청와대, 하는, 대한, 합니다]   \n",
       "9      [북한, 북한의, 북한이, 있다, 것이다, 한반도, 미국이, 남북, 있는, 북한은]   \n",
       "10  [학생들이, 있는, 있습니다, 대학, 합니다, 공부를, 생각합니다, 수능, 수시, ...   \n",
       "11  [국회의원, 국민의, 국회, 국민을, 국민이, 합니다, 국회의원들, 국민들이, 국회...   \n",
       "12  [이명박, 출국금지, 출국, 청원합니다, 출국금지를, 금지, 출국을, 이명박출국금지...   \n",
       "13       [장애인, 합니다, 있는, 있습니다, 환자, 저는, 많은, 많이, 제가, 하는]   \n",
       "14      [판결을, 합니다, 하는, 이런, 한다, 대한, 있는, 사법부, 판사가, 변호사]   \n",
       "15  [청소년, 생각합니다, 처벌을, 청소년들이, 여중생, 소년법, 부산, 폐지해주세요,...   \n",
       "16  [합니다, 생각합니다, 조두순, 범죄를, 있습니다, 조두순이, 사람을, 너무, 법이...   \n",
       "17  [국민연금, 연금, 지금당장, n국민연금, 공무원, 국민연금을, 연금을, 공무원연금...   \n",
       "18    [의무를, 국방의, 양심적, 있는, 군대를, 군대, 하는, 예비군, 대한, 있습니다]   \n",
       "19   [난민, 외국인, 난민을, 있습니다, 이슬람, 제주도, 지금, 합니다, 자국민, 우리]   \n",
       "20  [동물을, 동물, 개를, 강아지, 동물들이, 있습니다, 동물들을, 강아지를, 있는,...   \n",
       "21  [문재인, 국민들, 경제, 나라인가요, n지금, 지금, 대통령, n문재인, 대통령이...   \n",
       "22  [미세먼지, 미세먼지가, 미세먼지를, 마스크를, 미세먼지에, 중국, 중국발, 중국에...   \n",
       "23  [에어컨, 누진제, 에어컨을, 태양광, 누진세, 석탄, 에너지, 전기세, 전기요금,...   \n",
       "24  [담배를, 담배, 흡연, 흡연을, 길거리, 피는, 있습니다, 흡연은, 좋겠습니다, 금연]   \n",
       "25  [the, com, nhttp, nhttps, to, be, www, of, and...   \n",
       "26    [전화를, 민원을, 너무, 있습니다, gps, 전화, 있는, 합니다, 사기를, 민원]   \n",
       "\n",
       "                                  Representative_Docs  \n",
       "0   [(내용추가)헌법개정 반대합니다.! 일반행정공무원과 운전공무원을 폐지해야 이 나라가...  \n",
       "1   [Ⅰ. 오늘도 나는 오전 9시에 사무실에 출근하여 여유있게 믹스커피 한 잔을 마시고...  \n",
       "2   [부자들은\\n토지와 주택등 부동산만 사 놓으면\\n임대료등 돈이 생기고 부동산폭등으로...  \n",
       "3   [1. 포항 죽도파출소에서 야간 근무중 새벽 3시경 사망한 30세 신입 故 최준영 ...  \n",
       "4   [가상화폐 과열양상을 가라앉히고 발전시키는데, 거래자 규제 강화도 좋지만\\n가상화폐...  \n",
       "5   [안녕하세요. 저는 이번 평창 동계올림픽을 기대하는 국민 중 하나입니다.\\n대한민국...  \n",
       "6   [안녕하세요 두아이를 두고 있는 엄마입니다.\\n큰아이가 내년이 되면  6세가 되어 ...  \n",
       "7   [한 사람을 성추행범으로 몰려고 한 사람을 매장시키려 했던 거짓 미투 발언한 여성 ...  \n",
       "8   [언제부턴가 뉴스 기사는 지면이 아닌 스마트폰으로 더 많이 접하게 되었습니다.\\n그...  \n",
       "9   [* 추미애 더불어민주당 대표가 북한의 6차 핵실험 등 한반도 안보위기 국면과 관련...  \n",
       "10  [*청원 확대를 위해, 이 청원을 SNS 등으로 많이 퍼뜨려주세요. 여러분의 조그마...  \n",
       "11  [국회의원(議會議員, 영어: Member of parliament, MP)은 유권자...  \n",
       "12            [이명박 출국금지 !!!!!, 이명박 출국금지!, 이명박 출국금지!!]  \n",
       "13  [문재인 대통령님 장애인 일자리(취업)이 너무나 심각 합니다. 미국은 장애인 복지 ...  \n",
       "14  [“수뇌부가 경찰 망쳐” 경찰,검찰내부 불신 심각\\n대선개입 사건의 수사 결과 발표...  \n",
       "15  [안녕하세요 저는 대구에 거주하고 있는 여학생입니다\\n폭력죄에 한해서는 청소년 보호...  \n",
       "16  [대한민국의 법을 강화해주세요\\n대한민국은 사형이라는 법은있지만 시행되고있지않습니다...  \n",
       "17  [국민연금=공무원연금,군인연금,사학연금통합시켜라 국민세금 도둑질하지마라.똑같이 내고...  \n",
       "18  [헌법 제72조\\n대통령은 필요하다고 인정할 때에\\n외교, 국방, 통일, 국가안위에...  \n",
       "19  [제주도에 법의 헛점을 이용해 들어온 예멘인들은 현재는 [난민]이 아닙니다.\\n물론...  \n",
       "20  [동물은 비록 말은 못하지만 인간이랑 똑같이 모든 감정과 생각을 가지고 삽니다.\\n...  \n",
       "21  [정부, 청와대, 여당,\\n정말 한심한 모습만 보여주고 있네요.\\n여러분들은 지금의...  \n",
       "22  [안녕하세요 저는 현재 고등학교를 다니는 한 학생입니다. 저는 다름이 아니라 요즈음...  \n",
       "23  [최근 몇 년간 국내에서 지진 발생률이 점점 높아져 가고 있습니다. 이에 원자력 발...  \n",
       "24  [요즘 황사나 미세먼지에 관심이 높아지는 가운데\\n실질적으로는 우리에게 더 많은 영...  \n",
       "25  [최고 의학 학술지 lancet 에 발표된 논문에 의하면\\n죽었다 살아난 사람의 1...  \n",
       "26  [- 차량용 GPS 무단설치후 동의서에 서명을 강제하고, 회유와 협박한 우체국시설관...  "
      ]
     },
     "metadata": {},
     "output_type": "display_data"
    }
   ],
   "source": [
    "print(topic_model.get_topic(0))\n",
    "display(topic_model.get_topic_info())"
   ]
  },
  {
   "cell_type": "code",
   "execution_count": 31,
   "id": "8132efda",
   "metadata": {},
   "outputs": [
    {
     "name": "stderr",
     "output_type": "stream",
     "text": [
      "17it [00:31,  1.82s/it]\n"
     ]
    },
    {
     "data": {
      "application/vnd.plotly.v1+json": {
       "config": {
        "plotlyServerURL": "https://plot.ly"
       },
       "data": [
        {
         "hoverinfo": "text",
         "hovertext": [
          "<b>Topic 0</b><br>Words: 있는, 하는, 재계약을, 수급을, 사람들이",
          "<b>Topic 0</b><br>Words: 목재, 있습니다, 있는, 러시아, 합니다",
          "<b>Topic 0</b><br>Words: 무기계약직, 저희, 있습니다, 일을, 부고",
          "<b>Topic 0</b><br>Words: 있습니다, 하고, n이사장님, 이사장, 있는",
          "<b>Topic 0</b><br>Words: 있습니다, 있는, 일을, 합니다, 하는",
          "<b>Topic 0</b><br>Words: 있습니다, 합니다, 있는, 일을, 최저임금",
          "<b>Topic 0</b><br>Words: 있습니다, 민간과, 최저임금, 있는, 합니다",
          "<b>Topic 0</b><br>Words: 있습니다, 있는, 합니다, 저는, 하는",
          "<b>Topic 0</b><br>Words: 있습니다, 있는, 합니다, 저는, 많이",
          "<b>Topic 0</b><br>Words: 있습니다, 합니다, 있는, 하고, 일하는",
          "<b>Topic 0</b><br>Words: 있습니다, 있는, 합니다, 하고, 일을",
          "<b>Topic 0</b><br>Words: 있습니다, 있는, 합니다, 최저임금, 하고",
          "<b>Topic 0</b><br>Words: 있습니다, 최저임금, 있는, 합니다, 하고",
          "<b>Topic 0</b><br>Words: 있습니다, 일을, 합니다, 서울시, 하고",
          "<b>Topic 0</b><br>Words: 있습니다, 있는, 일을, 합니다, 하고",
          "<b>Topic 0</b><br>Words: 있습니다, 있는, 일자리, 합니다, 하고",
          "<b>Topic 0</b><br>Words: 합니다, 있습니다, 있는, 하고, 가난한"
         ],
         "marker": {
          "color": "#E69F00"
         },
         "mode": "lines",
         "name": "0_있습니다_있는_합니다_하고",
         "type": "scatter",
         "x": [
          "2017-08-01T00:00:00.000000000",
          "2017-09-01T00:00:00.000000000",
          "2017-10-01T00:00:00.000000000",
          "2017-11-01T00:00:00.000000000",
          "2017-12-01T00:00:00.000000000",
          "2018-01-01T00:00:00.000000000",
          "2018-02-01T00:00:00.000000000",
          "2018-03-01T00:00:00.000000000",
          "2018-04-01T00:00:00.000000000",
          "2018-05-01T00:00:00.000000000",
          "2018-06-01T00:00:00.000000000",
          "2018-07-01T00:00:00.000000000",
          "2018-08-01T00:00:00.000000000",
          "2018-09-01T00:00:00.000000000",
          "2018-10-01T00:00:00.000000000",
          "2018-11-01T00:00:00.000000000",
          "2018-12-01T00:00:00.000000000"
         ],
         "y": {
          "bdata": "CAAfABgAIgBlAFcAXgBZAF4AXABsAJUAhwBFAE8AUgAeAA==",
          "dtype": "i2"
         }
        },
        {
         "hoverinfo": "text",
         "hovertext": [
          "<b>Topic 1</b><br>Words: 조철민, 기존, 계약한, 부장, 평수",
          "<b>Topic 1</b><br>Words: 있습니다, 있는, 부동산, 아파트, 없는",
          "<b>Topic 1</b><br>Words: 부동산, 아파트, 집을, 합니다, 천장",
          "<b>Topic 1</b><br>Words: 지상역, 있는, 예정, 아파트, 위한",
          "<b>Topic 1</b><br>Words: 아파트, 있습니다, 부동산, 85, 있는",
          "<b>Topic 1</b><br>Words: 부동산, 아파트, 있습니다, 합니다, 있는",
          "<b>Topic 1</b><br>Words: 부동산, 있는, 있습니다, 아파트, 저희",
          "<b>Topic 1</b><br>Words: 있는, 계단을, 분양호텔, 아파트, 부동산",
          "<b>Topic 1</b><br>Words: 부동산, 아파트, 있습니다, 있는, 합니다",
          "<b>Topic 1</b><br>Words: 부동산, 아파트, 있습니다, 있는, 합니다",
          "<b>Topic 1</b><br>Words: 부동산, 아파트, 있습니다, 집을, 있는",
          "<b>Topic 1</b><br>Words: 부동산, 아파트, 있는, 있습니다, 합니다",
          "<b>Topic 1</b><br>Words: 부동산, 집을, 아파트, 합니다, 있는",
          "<b>Topic 1</b><br>Words: 부동산, 있는, 아파트, 집을, 있습니다",
          "<b>Topic 1</b><br>Words: 부동산, 있는, 아파트, 있습니다, 집을",
          "<b>Topic 1</b><br>Words: 부동산, 아파트, 있는, 있습니다, 한다",
          "<b>Topic 1</b><br>Words: 판결, 부동산, 있습니다, 있는, 합니다"
         ],
         "marker": {
          "color": "#56B4E9"
         },
         "mode": "lines",
         "name": "1_부동산_아파트_있는_있습니다",
         "type": "scatter",
         "x": [
          "2017-08-01T00:00:00.000000000",
          "2017-09-01T00:00:00.000000000",
          "2017-10-01T00:00:00.000000000",
          "2017-11-01T00:00:00.000000000",
          "2017-12-01T00:00:00.000000000",
          "2018-01-01T00:00:00.000000000",
          "2018-02-01T00:00:00.000000000",
          "2018-03-01T00:00:00.000000000",
          "2018-04-01T00:00:00.000000000",
          "2018-05-01T00:00:00.000000000",
          "2018-06-01T00:00:00.000000000",
          "2018-07-01T00:00:00.000000000",
          "2018-08-01T00:00:00.000000000",
          "2018-09-01T00:00:00.000000000",
          "2018-10-01T00:00:00.000000000",
          "2018-11-01T00:00:00.000000000",
          "2018-12-01T00:00:00.000000000"
         ],
         "y": {
          "bdata": "BQASABMAFwAoAF8ALwArADQALAAsADsAXgAwAWkATwAZAA==",
          "dtype": "i2"
         }
        },
        {
         "hoverinfo": "text",
         "hovertext": [
          "<b>Topic 2</b><br>Words: 사납금, 마을버스, 화재, 그리고, 촉탁",
          "<b>Topic 2</b><br>Words: 운송업, 과적, 소화기, 종사자들의, 자동차",
          "<b>Topic 2</b><br>Words: 보험, youtu, be, 고지, 54",
          "<b>Topic 2</b><br>Words: 컨테이너, 버스, 생각합니다, 자주, 교외선을",
          "<b>Topic 2</b><br>Words: 있습니다, 합니다, 있는, 화재, 하는",
          "<b>Topic 2</b><br>Words: 화재, 있습니다, 합니다, 있는, 대한",
          "<b>Topic 2</b><br>Words: 차를, 있습니다, 차량, 하는, 차량을",
          "<b>Topic 2</b><br>Words: 있습니다, 합니다, 택시, 있는, 불법주차",
          "<b>Topic 2</b><br>Words: 비보호, 있습니다, 합니다, 있는, 생각합니다",
          "<b>Topic 2</b><br>Words: 하는, 합니다, 대한, 있습니다, 차량",
          "<b>Topic 2</b><br>Words: 합니다, 있습니다, 차를, 자동차, 차량",
          "<b>Topic 2</b><br>Words: 있습니다, 자동차, 자전거, 합니다, 오토바이",
          "<b>Topic 2</b><br>Words: 있습니다, 블랙박스를, 차를, 하였습니다, 있는",
          "<b>Topic 2</b><br>Words: 있습니다, 합니다, 택시, 너무, 안전을",
          "<b>Topic 2</b><br>Words: 있는, 차량을, 있습니다, 자전거, 차를",
          "<b>Topic 2</b><br>Words: 합니다, 있습니다, 자동차, 하는, 있는",
          "<b>Topic 2</b><br>Words: 있습니다, 차를, 합니다, 있다, 저는"
         ],
         "marker": {
          "color": "#009E73"
         },
         "mode": "lines",
         "name": "2_있습니다_합니다_있는_하는",
         "type": "scatter",
         "x": [
          "2017-08-01T00:00:00.000000000",
          "2017-09-01T00:00:00.000000000",
          "2017-10-01T00:00:00.000000000",
          "2017-11-01T00:00:00.000000000",
          "2017-12-01T00:00:00.000000000",
          "2018-01-01T00:00:00.000000000",
          "2018-02-01T00:00:00.000000000",
          "2018-03-01T00:00:00.000000000",
          "2018-04-01T00:00:00.000000000",
          "2018-05-01T00:00:00.000000000",
          "2018-06-01T00:00:00.000000000",
          "2018-07-01T00:00:00.000000000",
          "2018-08-01T00:00:00.000000000",
          "2018-09-01T00:00:00.000000000",
          "2018-10-01T00:00:00.000000000",
          "2018-11-01T00:00:00.000000000",
          "2018-12-01T00:00:00.000000000"
         ],
         "y": {
          "bdata": "Aw0IFT07JzArKzY2Jig1RhI=",
          "dtype": "i1"
         }
        },
        {
         "hoverinfo": "text",
         "hovertext": [
          "<b>Topic 3</b><br>Words: lg, cns, 주주들이, nlg, cns는",
          "<b>Topic 3</b><br>Words: 한다, 공매도, 가상화폐, 거래소를, 코인",
          "<b>Topic 3</b><br>Words: keb하나은행, 김정태, 투전판, 기관과, 회장이",
          "<b>Topic 3</b><br>Words: 가상화폐, 김정태, keb하나은행, 하나은행, 비트코인",
          "<b>Topic 3</b><br>Words: 가상화폐, 거래소, 있습니다, 가상화폐에, 법무부",
          "<b>Topic 3</b><br>Words: 비트코인, 주식, 너희들, 가상화폐, n가상화폐",
          "<b>Topic 3</b><br>Words: 코스닥, 상장, 감마누, 레버리지가, 불법기관",
          "<b>Topic 3</b><br>Words: 공매도, 삼성증권, 가상화폐, 주식을, 김상범",
          "<b>Topic 3</b><br>Words: 자사주, 더불어민주당, 11, 13, 10",
          "<b>Topic 3</b><br>Words: 공매도, 실시간, 골드만삭스, 주식, 무차입",
          "<b>Topic 3</b><br>Words: 가상화폐, 거래소, 금융시장, 있습니다, 한다",
          "<b>Topic 3</b><br>Words: 메릴린치의, 메릴린치가, 매매, 경제, 매도를",
          "<b>Topic 3</b><br>Words: 제출하지, 주식을, 공매도, 재감사보고서를, 의도한",
          "<b>Topic 3</b><br>Words: 공매도, 가상화폐, 주식, 공매도를, 배팅을",
          "<b>Topic 3</b><br>Words: 삼성바이오로직스, 있다, 주식을, 감사위원, 가상화폐",
          "<b>Topic 3</b><br>Words: 선례를, 매수한, 삼성바이오로직스, 분식회계를, 주식을"
         ],
         "marker": {
          "color": "#F0E442"
         },
         "mode": "lines",
         "name": "3_가상화폐_공매도_거래소_있습니다",
         "type": "scatter",
         "x": [
          "2017-09-01T00:00:00.000000000",
          "2017-10-01T00:00:00.000000000",
          "2017-11-01T00:00:00.000000000",
          "2017-12-01T00:00:00.000000000",
          "2018-01-01T00:00:00.000000000",
          "2018-02-01T00:00:00.000000000",
          "2018-03-01T00:00:00.000000000",
          "2018-04-01T00:00:00.000000000",
          "2018-05-01T00:00:00.000000000",
          "2018-06-01T00:00:00.000000000",
          "2018-07-01T00:00:00.000000000",
          "2018-08-01T00:00:00.000000000",
          "2018-09-01T00:00:00.000000000",
          "2018-10-01T00:00:00.000000000",
          "2018-11-01T00:00:00.000000000",
          "2018-12-01T00:00:00.000000000"
         ],
         "y": {
          "bdata": "BQAEAAQAGQBRAREACwBFABAADQAPAAkADQArAB0ACgA=",
          "dtype": "i2"
         }
        },
        {
         "hoverinfo": "text",
         "hovertext": [
          "<b>Topic 4</b><br>Words: 히딩크, 축구협회, 협회는, 축구협회는, 감독이",
          "<b>Topic 4</b><br>Words: 군면제, 동메달, 김호곤, n월드컵, n올림픽",
          "<b>Topic 4</b><br>Words: 김연아, 숙박업소의, 선수의, 소트니코바의, 실루엣과",
          "<b>Topic 4</b><br>Words: 24시간, 공중파, 방송, 전국체전에서, 동아시아의",
          "<b>Topic 4</b><br>Words: 올림픽, 출전, 선수, 단일팀, 평창",
          "<b>Topic 4</b><br>Words: 김보름, 올림픽, 선수, 선수가, 선수를",
          "<b>Topic 4</b><br>Words: 국가대표, 있는, 레인보우, 야외, 장애인",
          "<b>Topic 4</b><br>Words: 전명규, 태권도, 선수들이, 올림픽, 활동비",
          "<b>Topic 4</b><br>Words: 올림픽, 단일팀, 아들은, 김상훈, 태권도의",
          "<b>Topic 4</b><br>Words: 월드컵, 대한민국, 축구, 선수, 국가대표",
          "<b>Topic 4</b><br>Words: naver, me, kfa, 축사국, fcn",
          "<b>Topic 4</b><br>Words: 올림픽, 축구, 선수, 군면제, 우리나라가",
          "<b>Topic 4</b><br>Words: 군면제, 병역, 방탄소년단, 아시안게임, 병역혜택을",
          "<b>Topic 4</b><br>Words: 심사를, 올림픽, 아이들이, n그리고, 하계",
          "<b>Topic 4</b><br>Words: 국기원, 태권도, 이사, 당연직, 올림픽",
          "<b>Topic 4</b><br>Words: 남북철도, 소망합니다, 공동조사, 추억이, 국민의"
         ],
         "marker": {
          "color": "#D55E00"
         },
         "mode": "lines",
         "name": "4_올림픽_선수_선수들이_대한민국",
         "type": "scatter",
         "x": [
          "2017-09-01T00:00:00.000000000",
          "2017-10-01T00:00:00.000000000",
          "2017-11-01T00:00:00.000000000",
          "2017-12-01T00:00:00.000000000",
          "2018-01-01T00:00:00.000000000",
          "2018-02-01T00:00:00.000000000",
          "2018-03-01T00:00:00.000000000",
          "2018-04-01T00:00:00.000000000",
          "2018-05-01T00:00:00.000000000",
          "2018-06-01T00:00:00.000000000",
          "2018-07-01T00:00:00.000000000",
          "2018-08-01T00:00:00.000000000",
          "2018-09-01T00:00:00.000000000",
          "2018-10-01T00:00:00.000000000",
          "2018-11-01T00:00:00.000000000",
          "2018-12-01T00:00:00.000000000"
         ],
         "y": {
          "bdata": "CwAGAAUADQB4AIgAFgAUABIAbAAPABQAHQAOABAABAA=",
          "dtype": "i2"
         }
        },
        {
         "hoverinfo": "text",
         "hovertext": [
          "<b>Topic 5</b><br>Words: 어린이집, 보육교사, 보육료가, 아이를, 하는",
          "<b>Topic 5</b><br>Words: 아이를, 있는, 어린이집, 있습니다, 학교",
          "<b>Topic 5</b><br>Words: 미혼모, 아이를, 중학교, 부의, 엄마",
          "<b>Topic 5</b><br>Words: 아이를, 어린이집, 있는, 새누리당, 있습니다",
          "<b>Topic 5</b><br>Words: 어린이집, 아이를, 있는, 있습니다, 유치원",
          "<b>Topic 5</b><br>Words: 아이를, 어린이집, 85, 있는, 아이",
          "<b>Topic 5</b><br>Words: 아이를, 어린이집, 있는, 아이들이, 초등학교",
          "<b>Topic 5</b><br>Words: 아이를, 있는, 어린이집, 있습니다, 합니다",
          "<b>Topic 5</b><br>Words: 어린이집, 워킹맘, 저출산, 아이를, 유치원",
          "<b>Topic 5</b><br>Words: 아이를, 이런, 아이들이, 있는, 어린이집",
          "<b>Topic 5</b><br>Words: 어린이집, 아이를, 유치원, 1시간, 너무",
          "<b>Topic 5</b><br>Words: 어린이집, 아이를, 있는, 아이들이, 아이가",
          "<b>Topic 5</b><br>Words: 아이를, 어린이집, 다문화, 어린이집에, 있는",
          "<b>Topic 5</b><br>Words: 했습니다, 학교, 아이를, 있는, n학교",
          "<b>Topic 5</b><br>Words: 어린이집, 아이를, 유치원, 있는, 있습니다",
          "<b>Topic 5</b><br>Words: 아이를, 어린이집, 있습니다, 있는, 합니다",
          "<b>Topic 5</b><br>Words: 아이를, 너무, 어린이집, 있는, 아이들"
         ],
         "marker": {
          "color": "#0072B2"
         },
         "mode": "lines",
         "name": "5_아이를_어린이집_있는_있습니다",
         "type": "scatter",
         "x": [
          "2017-08-01T00:00:00.000000000",
          "2017-09-01T00:00:00.000000000",
          "2017-10-01T00:00:00.000000000",
          "2017-11-01T00:00:00.000000000",
          "2017-12-01T00:00:00.000000000",
          "2018-01-01T00:00:00.000000000",
          "2018-02-01T00:00:00.000000000",
          "2018-03-01T00:00:00.000000000",
          "2018-04-01T00:00:00.000000000",
          "2018-05-01T00:00:00.000000000",
          "2018-06-01T00:00:00.000000000",
          "2018-07-01T00:00:00.000000000",
          "2018-08-01T00:00:00.000000000",
          "2018-09-01T00:00:00.000000000",
          "2018-10-01T00:00:00.000000000",
          "2018-11-01T00:00:00.000000000",
          "2018-12-01T00:00:00.000000000"
         ],
         "y": {
          "bdata": "Di4GEiwWHSQbESFeJxIpJhk=",
          "dtype": "i1"
         }
        },
        {
         "hoverinfo": "text",
         "hovertext": [
          "<b>Topic 6</b><br>Words: 국방의, 의무를, 여성, 있습니다, 그리고",
          "<b>Topic 6</b><br>Words: 여성, 가정폭력, 여성이, 발생하는, 있습니다",
          "<b>Topic 6</b><br>Words: 쉼터, 청소노동자, 여성, 있습니다, 여성이",
          "<b>Topic 6</b><br>Words: 성매매, 여성, 있습니다, 성폭력, n2",
          "<b>Topic 6</b><br>Words: 있습니다, 여성, 국방의, 있는, 무고",
          "<b>Topic 6</b><br>Words: 여성단체, 성추행, 미투, 있습니다, 여성부",
          "<b>Topic 6</b><br>Words: 미투, 여성, 성범죄, 대한, 있습니다",
          "<b>Topic 6</b><br>Words: 있습니다, 하는, 증오를, 대한, 미투",
          "<b>Topic 6</b><br>Words: 성범죄, 여성, 있습니다, 대한, 여성이",
          "<b>Topic 6</b><br>Words: 생각합니다, 있습니다, 합니다, 여성이, 여성",
          "<b>Topic 6</b><br>Words: 있습니다, 여성, 워마드, 합니다, 하는",
          "<b>Topic 6</b><br>Words: 무고, 성범죄, 차별, 당한, 피해를",
          "<b>Topic 6</b><br>Words: 있습니다, 여성의, 사회적, 여성이, 하는",
          "<b>Topic 6</b><br>Words: 무고, nhttp, 성폭행, news, com",
          "<b>Topic 6</b><br>Words: 무고, nhttp, news, 성폭행, com",
          "<b>Topic 6</b><br>Words: 여성, 워마드와, 메갈리아, 하는, 같은"
         ],
         "marker": {
          "color": "#CC79A7"
         },
         "mode": "lines",
         "name": "6_있습니다_여성_무고_성범죄",
         "type": "scatter",
         "x": [
          "2017-09-01T00:00:00.000000000",
          "2017-10-01T00:00:00.000000000",
          "2017-11-01T00:00:00.000000000",
          "2017-12-01T00:00:00.000000000",
          "2018-01-01T00:00:00.000000000",
          "2018-02-01T00:00:00.000000000",
          "2018-03-01T00:00:00.000000000",
          "2018-04-01T00:00:00.000000000",
          "2018-05-01T00:00:00.000000000",
          "2018-06-01T00:00:00.000000000",
          "2018-07-01T00:00:00.000000000",
          "2018-08-01T00:00:00.000000000",
          "2018-09-01T00:00:00.000000000",
          "2018-10-01T00:00:00.000000000",
          "2018-11-01T00:00:00.000000000",
          "2018-12-01T00:00:00.000000000"
         ],
         "y": {
          "bdata": "EAsUFg8lWxc9KjQtHBcYCQ==",
          "dtype": "i1"
         }
        },
        {
         "hoverinfo": "text",
         "hovertext": [
          "<b>Topic 7</b><br>Words: 인터넷, 댓글, 댓글을, 있습니다, 것입니다",
          "<b>Topic 7</b><br>Words: 도배하는, 청와대, 홈페이지, 청원, n공정성을",
          "<b>Topic 7</b><br>Words: 추천순, 있습니다, 청원, 청원에, 기사를",
          "<b>Topic 7</b><br>Words: 혀내미는, 혀를, 김정숙여사, 청원을, 동영상이",
          "<b>Topic 7</b><br>Words: 청원, 있는, 나이를, 세는, 있습니다",
          "<b>Topic 7</b><br>Words: 청원, 댓글, 청원이, 있는, 청와대",
          "<b>Topic 7</b><br>Words: 청원이, 청원, 청원을, 있습니다, 청원은",
          "<b>Topic 7</b><br>Words: 청원이, 청원, 있습니다, 같은, 있는",
          "<b>Topic 7</b><br>Words: 청원, 청와대, 청원을, 청원이, 있습니다",
          "<b>Topic 7</b><br>Words: 청원이, 청원은, 청원, 청원을, 있습니다",
          "<b>Topic 7</b><br>Words: 청원, 청원이, 있는, 댓글, 있습니다",
          "<b>Topic 7</b><br>Words: 있는, 청원, 차단을, 고객센터에, 네이버",
          "<b>Topic 7</b><br>Words: 청원, 기초연금을, 수급비가, 있습니다, 대한",
          "<b>Topic 7</b><br>Words: 전라도, 청원, 것이오, 청원이, 전라도를",
          "<b>Topic 7</b><br>Words: 청원, 국민청원, 청와대, 국민, 청원을",
          "<b>Topic 7</b><br>Words: 글을, 글은, 홈페이지, 모아서, 허위"
         ],
         "marker": {
          "color": "#E69F00"
         },
         "mode": "lines",
         "name": "7_청원_청원이_있습니다_있는",
         "type": "scatter",
         "x": [
          "2017-09-01T00:00:00.000000000",
          "2017-10-01T00:00:00.000000000",
          "2017-11-01T00:00:00.000000000",
          "2017-12-01T00:00:00.000000000",
          "2018-01-01T00:00:00.000000000",
          "2018-02-01T00:00:00.000000000",
          "2018-03-01T00:00:00.000000000",
          "2018-04-01T00:00:00.000000000",
          "2018-05-01T00:00:00.000000000",
          "2018-06-01T00:00:00.000000000",
          "2018-07-01T00:00:00.000000000",
          "2018-08-01T00:00:00.000000000",
          "2018-09-01T00:00:00.000000000",
          "2018-10-01T00:00:00.000000000",
          "2018-11-01T00:00:00.000000000",
          "2018-12-01T00:00:00.000000000"
         ],
         "y": {
          "bdata": "CgQjHh82HilDLB0UFBkeCQ==",
          "dtype": "i1"
         }
        },
        {
         "hoverinfo": "text",
         "hovertext": [
          "<b>Topic 8</b><br>Words: 북한, 러시아, 러시아가, 러시아는, 한반도",
          "<b>Topic 8</b><br>Words: 문재인대통령님과, 북한이, 북한의, 한반도, n답",
          "<b>Topic 8</b><br>Words: 미국과의, 유사시, 불리한, 전쟁, 한국을",
          "<b>Topic 8</b><br>Words: 북한을, 철도, 많은, 철도망, 죽게",
          "<b>Topic 8</b><br>Words: 설치하여, 부스를, 미국, n북한은, 보유국",
          "<b>Topic 8</b><br>Words: 북한의, 북한, 북한이, 것이다, 있다",
          "<b>Topic 8</b><br>Words: 북한의, 북한, 한반도, 미국이, 북한이",
          "<b>Topic 8</b><br>Words: 북한, 북한의, 북한이, 미국이, 것입니다",
          "<b>Topic 8</b><br>Words: 북한, 북한의, 남북, 있다, 한반도",
          "<b>Topic 8</b><br>Words: 북한, 북한의, 북한이, 미국이, 미국",
          "<b>Topic 8</b><br>Words: 북한, 북한의, 북한이, 체제, 있다",
          "<b>Topic 8</b><br>Words: 북한은, 것이다, 북한의, 한반도, 북한이",
          "<b>Topic 8</b><br>Words: 영세중립, 교수, 한반도의, 북한, 석탄",
          "<b>Topic 8</b><br>Words: 북한, 북한의, 남북, 있다, 비핵화",
          "<b>Topic 8</b><br>Words: 북한, 대북, 있다, 북한이, 미국이",
          "<b>Topic 8</b><br>Words: 북한, 북한의, 남북, 것이다, 북한이",
          "<b>Topic 8</b><br>Words: 것이다, 있다, 북한이, 북한의, 미국이"
         ],
         "marker": {
          "color": "#56B4E9"
         },
         "mode": "lines",
         "name": "8_북한_북한의_북한이_있다",
         "type": "scatter",
         "x": [
          "2017-08-01T00:00:00.000000000",
          "2017-09-01T00:00:00.000000000",
          "2017-10-01T00:00:00.000000000",
          "2017-11-01T00:00:00.000000000",
          "2017-12-01T00:00:00.000000000",
          "2018-01-01T00:00:00.000000000",
          "2018-02-01T00:00:00.000000000",
          "2018-03-01T00:00:00.000000000",
          "2018-04-01T00:00:00.000000000",
          "2018-05-01T00:00:00.000000000",
          "2018-06-01T00:00:00.000000000",
          "2018-07-01T00:00:00.000000000",
          "2018-08-01T00:00:00.000000000",
          "2018-09-01T00:00:00.000000000",
          "2018-10-01T00:00:00.000000000",
          "2018-11-01T00:00:00.000000000",
          "2018-12-01T00:00:00.000000000"
         ],
         "y": {
          "bdata": "Ag8DBQgmRhYjWxUPGygZGhI=",
          "dtype": "i1"
         }
        },
        {
         "hoverinfo": "text",
         "hovertext": [
          "<b>Topic 9</b><br>Words: 고등학교, 중3, 특목고, 어렵다느니, 머죠",
          "<b>Topic 9</b><br>Words: 교육, 있습니다, 학생들이, 학생부, 생각합니다",
          "<b>Topic 9</b><br>Words: 학생들이, 수시, 공부를, 영어, 학생들은",
          "<b>Topic 9</b><br>Words: 학생부, 수시, 수능, 학생들의, 있는",
          "<b>Topic 9</b><br>Words: 학생부, 수시, 있습니다, 있는, 대학",
          "<b>Topic 9</b><br>Words: 좋은, 학생들이, 수시, 공부를, 있는",
          "<b>Topic 9</b><br>Words: 대학, qs, 평가, 있는, 학생들이",
          "<b>Topic 9</b><br>Words: 있습니다, 있는, 학생들이, 생각합니다, 변호사시험",
          "<b>Topic 9</b><br>Words: 있는, 학생들이, 합니다, 학생들의, 학생들은",
          "<b>Topic 9</b><br>Words: 학생들이, 있는, 있습니다, 합니다, 하는",
          "<b>Topic 9</b><br>Words: 학생들이, 있는, 있습니다, 교육을, 현재",
          "<b>Topic 9</b><br>Words: 공부를, 수능, 학생들은, 학생들의, 고등학교",
          "<b>Topic 9</b><br>Words: 있는, 수능, 수능을, 학생들이, 있습니다",
          "<b>Topic 9</b><br>Words: 학생에게는, 있는, 부동산을, 영어를, 학생들이",
          "<b>Topic 9</b><br>Words: 대학, 있는, 있습니다, 생각합니다, 학생들이",
          "<b>Topic 9</b><br>Words: 학생들이, 수능, 공부를, 있습니다, 합니다",
          "<b>Topic 9</b><br>Words: 공부해서, 죽어라, 금융교육을, 지필평가, 가장많은"
         ],
         "marker": {
          "color": "#009E73"
         },
         "mode": "lines",
         "name": "9_학생들이_있는_있습니다_대학",
         "type": "scatter",
         "x": [
          "2017-08-01T00:00:00.000000000",
          "2017-09-01T00:00:00.000000000",
          "2017-10-01T00:00:00.000000000",
          "2017-11-01T00:00:00.000000000",
          "2017-12-01T00:00:00.000000000",
          "2018-01-01T00:00:00.000000000",
          "2018-02-01T00:00:00.000000000",
          "2018-03-01T00:00:00.000000000",
          "2018-04-01T00:00:00.000000000",
          "2018-05-01T00:00:00.000000000",
          "2018-06-01T00:00:00.000000000",
          "2018-07-01T00:00:00.000000000",
          "2018-08-01T00:00:00.000000000",
          "2018-09-01T00:00:00.000000000",
          "2018-10-01T00:00:00.000000000",
          "2018-11-01T00:00:00.000000000",
          "2018-12-01T00:00:00.000000000"
         ],
         "y": {
          "bdata": "BQsLIiYdGSknHCggFxwbIQU=",
          "dtype": "i1"
         }
        },
        {
         "hoverinfo": "text",
         "hovertext": [
          "<b>Topic 10</b><br>Words: 투표를, 국회의원이란, 문의드립니다, 게이트, 대한민국",
          "<b>Topic 10</b><br>Words: 폐지, 폐지시, 국고로, 금액은, 국회의원",
          "<b>Topic 10</b><br>Words: 국회의원입니다, 깜깜이예산, 국민을, 특수활동비를, 국회의원들",
          "<b>Topic 10</b><br>Words: 국회의원, 국회의원들이, 국민을, 국민이, 일을",
          "<b>Topic 10</b><br>Words: 국회의원, 국민의, 국회, 국민을, 국민이",
          "<b>Topic 10</b><br>Words: 국회의원, 국민의, 국회의원들, 국민을, 국회의원은",
          "<b>Topic 10</b><br>Words: 국회의원, 국민을, 국회, 국민이, 의원",
          "<b>Topic 10</b><br>Words: 국회의원, 국민을, 국민의, 국회, 합니다",
          "<b>Topic 10</b><br>Words: 국회의원, 국회, 국민의, 국민을, 국민이",
          "<b>Topic 10</b><br>Words: 국회의원, 국민의, 국회, 합니다, 국민이",
          "<b>Topic 10</b><br>Words: 국회의원, 국민의, 국회, 특활비, 국회의원이",
          "<b>Topic 10</b><br>Words: 국회의원, 3선, 연임으로, 국민의, 국민을",
          "<b>Topic 10</b><br>Words: 국회의원, 국민의, 저쩌구, 어쩌구, 있는건지",
          "<b>Topic 10</b><br>Words: 국회의원, 국회, 국민이, 국회는, 국민들이",
          "<b>Topic 10</b><br>Words: 국회의원, 국회, 자유한국당, 장제원, 국민의",
          "<b>Topic 10</b><br>Words: 국회의원, 국민의, 국회, 국민이, 국회의원은"
         ],
         "marker": {
          "color": "#F0E442"
         },
         "mode": "lines",
         "name": "10_국회의원_국민의_국회_국민을",
         "type": "scatter",
         "x": [
          "2017-09-01T00:00:00.000000000",
          "2017-10-01T00:00:00.000000000",
          "2017-11-01T00:00:00.000000000",
          "2017-12-01T00:00:00.000000000",
          "2018-01-01T00:00:00.000000000",
          "2018-02-01T00:00:00.000000000",
          "2018-03-01T00:00:00.000000000",
          "2018-04-01T00:00:00.000000000",
          "2018-05-01T00:00:00.000000000",
          "2018-06-01T00:00:00.000000000",
          "2018-07-01T00:00:00.000000000",
          "2018-08-01T00:00:00.000000000",
          "2018-09-01T00:00:00.000000000",
          "2018-10-01T00:00:00.000000000",
          "2018-11-01T00:00:00.000000000",
          "2018-12-01T00:00:00.000000000"
         ],
         "y": {
          "bdata": "BAILFxUsGjtOGSEaDxQXJg==",
          "dtype": "i1"
         }
        },
        {
         "hoverinfo": "text",
         "hovertext": [
          "<b>Topic 11</b><br>Words: 이명박재산환수, 환수, 최순실, 재산, 청원합니다",
          "<b>Topic 11</b><br>Words: 이명박, 출국금지, 출국, 청원합니다, 출국금지를",
          "<b>Topic 11</b><br>Words: 이명박, 최순실, 출국금지, 몰수해야합니다, 만병통치약이",
          "<b>Topic 11</b><br>Words: 온갖거짓말과, 출금시켜, 단죄합시다, 파면시켜야한다고, 각종비리등",
          "<b>Topic 11</b><br>Words: 파면해주세요, 파면, 박탈, 이명박, 출국금지",
          "<b>Topic 11</b><br>Words: 이명박, 원한을, 위증이, 사진자료도다있으니소환해서구속시키세요, 얼마나무서운건지를보여주세요",
          "<b>Topic 11</b><br>Words: 강제출국시키고, 파면시켜주세요ㅜㅜ, 정현민, 입국금지시켜주세요, 국외",
          "<b>Topic 11</b><br>Words: 구속, 이명박, 발부하세요, 면제받았는데, 서울은행",
          "<b>Topic 11</b><br>Words: 조명희, 강제소환, 전대검중앙수사부장, 이인규, 추방시켜주세요",
          "<b>Topic 11</b><br>Words: 중고부품사용금지시켜주세요, 추방합시다요, 제발, 이명박, 출국금지",
          "<b>Topic 11</b><br>Words: 벌금10억정도, 먹여서다신, 고용못하게해야합니다, 진창임, 엉망",
          "<b>Topic 11</b><br>Words: 사문서위조라뇨, 빨리점, 언능, 대표할수는업죠, 개방합시다",
          "<b>Topic 11</b><br>Words: 분당경찰서장, 파면, 이명박, 출국금지, 출국",
          "<b>Topic 11</b><br>Words: 김제동, 보안법, 구속시켜주세요, 위반으로, 빨갱이"
         ],
         "marker": {
          "color": "#D55E00"
         },
         "mode": "lines",
         "name": "11_이명박_출국금지_출국_청원합니다",
         "type": "scatter",
         "x": [
          "2017-10-01T00:00:00.000000000",
          "2017-11-01T00:00:00.000000000",
          "2017-12-01T00:00:00.000000000",
          "2018-01-01T00:00:00.000000000",
          "2018-02-01T00:00:00.000000000",
          "2018-03-01T00:00:00.000000000",
          "2018-04-01T00:00:00.000000000",
          "2018-05-01T00:00:00.000000000",
          "2018-06-01T00:00:00.000000000",
          "2018-08-01T00:00:00.000000000",
          "2018-09-01T00:00:00.000000000",
          "2018-10-01T00:00:00.000000000",
          "2018-11-01T00:00:00.000000000",
          "2018-12-01T00:00:00.000000000"
         ],
         "y": {
          "bdata": "AgCdAQQAAgADAAMABAADAAMAAgACAAIAAQABAA==",
          "dtype": "i2"
         }
        },
        {
         "hoverinfo": "text",
         "hovertext": [
          "<b>Topic 12</b><br>Words: 보험금을, 보험회사, 보험회사의, 합니다, 보험회사에게",
          "<b>Topic 12</b><br>Words: 장애인, 있습니다, 합니다, 간호사, 있는",
          "<b>Topic 12</b><br>Words: 장애인, 대마초, 대마초를, 합니다, 있습니다",
          "<b>Topic 12</b><br>Words: 이국종, 합니다, 있는, 장애인, 김종대",
          "<b>Topic 12</b><br>Words: 합니다, 장애인, 있습니다, 많은, 있는",
          "<b>Topic 12</b><br>Words: 콧줄식사, 비위관을, 석션및, 공급행위, 유동식",
          "<b>Topic 12</b><br>Words: 있는, 간호사, 환자, 장애인, 하지만",
          "<b>Topic 12</b><br>Words: 장애인, 발달장애인, 합니다, 장애인을, 발달장애인의",
          "<b>Topic 12</b><br>Words: 장애인, 이용자, 있습니다, 있는, 적십자",
          "<b>Topic 12</b><br>Words: 합니다, 장애인, 병동, s00, 있는",
          "<b>Topic 12</b><br>Words: 장애인, 라고, 합니다, 많이, 있습니다",
          "<b>Topic 12</b><br>Words: 장애인, 통행료, 있는, 있습니다, 합니다",
          "<b>Topic 12</b><br>Words: 틱장애, 장애인, 환자, 합니다, 있습니다",
          "<b>Topic 12</b><br>Words: 장애인, 있는, 있습니다, 합니다, 놀이기구를",
          "<b>Topic 12</b><br>Words: 합니다, 환자, 슈퍼박테리아, 장애인, 환자의",
          "<b>Topic 12</b><br>Words: 장애인, 있는, 합니다, 있습니다, 의사",
          "<b>Topic 12</b><br>Words: 약사가, 저는, 합니다, 받고, 장애인"
         ],
         "marker": {
          "color": "#0072B2"
         },
         "mode": "lines",
         "name": "12_장애인_합니다_있는_있습니다",
         "type": "scatter",
         "x": [
          "2017-08-01T00:00:00.000000000",
          "2017-09-01T00:00:00.000000000",
          "2017-10-01T00:00:00.000000000",
          "2017-11-01T00:00:00.000000000",
          "2017-12-01T00:00:00.000000000",
          "2018-01-01T00:00:00.000000000",
          "2018-02-01T00:00:00.000000000",
          "2018-03-01T00:00:00.000000000",
          "2018-04-01T00:00:00.000000000",
          "2018-05-01T00:00:00.000000000",
          "2018-06-01T00:00:00.000000000",
          "2018-07-01T00:00:00.000000000",
          "2018-08-01T00:00:00.000000000",
          "2018-09-01T00:00:00.000000000",
          "2018-10-01T00:00:00.000000000",
          "2018-11-01T00:00:00.000000000",
          "2018-12-01T00:00:00.000000000"
         ],
         "y": {
          "bdata": "BgoKOiIRGBgeHhkZGxsuIgc=",
          "dtype": "i1"
         }
        },
        {
         "hoverinfo": "text",
         "hovertext": [
          "<b>Topic 13</b><br>Words: 검사, 판사, n판사가, 경찰, 부정",
          "<b>Topic 13</b><br>Words: 경찰, 검찰, 경찰은, 없다, 서는지",
          "<b>Topic 13</b><br>Words: 합니다, 직영공사, 대기업, 자가, 범죄에",
          "<b>Topic 13</b><br>Words: 사건을, 사법권자들의, 위조하여, 쯤으로, 있습니다",
          "<b>Topic 13</b><br>Words: ys, 판결을, 판사가, 있는, 것이다",
          "<b>Topic 13</b><br>Words: 판결을, 이재용, 합니다, 판결은, 판사",
          "<b>Topic 13</b><br>Words: 국제, 형사, 연방, 것입니다, 합니다",
          "<b>Topic 13</b><br>Words: 대한, 판결을, 것은, 하는, 있다",
          "<b>Topic 13</b><br>Words: 헌법과, 법원의, 매매계약으로, 법을, 법률에",
          "<b>Topic 13</b><br>Words: 판결을, 이런, 변호사, 판사가, 청탁자",
          "<b>Topic 13</b><br>Words: 이야기를, 하는, 생각을, 법을, 합니다",
          "<b>Topic 13</b><br>Words: 사법부, 비례대표의원, 대한, 이런, 수사",
          "<b>Topic 13</b><br>Words: 사법부, 영장발부, 판사도, 있는, 사법부는",
          "<b>Topic 13</b><br>Words: 변호사, 사법부의, 사법부가, 저쩌고, 어쩌고",
          "<b>Topic 13</b><br>Words: 한다, 사법, 것이다, 투표로, 사법부",
          "<b>Topic 13</b><br>Words: 삼성화재해상보험, 악법이, n검찰은, 제출하였습니다, 대법원에"
         ],
         "marker": {
          "color": "#CC79A7"
         },
         "mode": "lines",
         "name": "13_판결을_합니다_하는_이런",
         "type": "scatter",
         "x": [
          "2017-09-01T00:00:00.000000000",
          "2017-10-01T00:00:00.000000000",
          "2017-11-01T00:00:00.000000000",
          "2017-12-01T00:00:00.000000000",
          "2018-01-01T00:00:00.000000000",
          "2018-02-01T00:00:00.000000000",
          "2018-03-01T00:00:00.000000000",
          "2018-04-01T00:00:00.000000000",
          "2018-05-01T00:00:00.000000000",
          "2018-06-01T00:00:00.000000000",
          "2018-07-01T00:00:00.000000000",
          "2018-08-01T00:00:00.000000000",
          "2018-09-01T00:00:00.000000000",
          "2018-10-01T00:00:00.000000000",
          "2018-11-01T00:00:00.000000000",
          "2018-12-01T00:00:00.000000000"
         ],
         "y": {
          "bdata": "BAcQFhp9DiIhHSAWERIYCg==",
          "dtype": "i1"
         }
        },
        {
         "hoverinfo": "text",
         "hovertext": [
          "<b>Topic 14</b><br>Words: 청소년, 생각합니다, 여중생, 소년법, 폐지해주세요",
          "<b>Topic 14</b><br>Words: 만13세, 미만으로, 하세요, 학교폭력, 있도록",
          "<b>Topic 14</b><br>Words: 청소년, 청소년에게, n청소년, 제발, 부탁드립니다",
          "<b>Topic 14</b><br>Words: 16세까지, 통해서라도, 사회를, 부디, 저들을",
          "<b>Topic 14</b><br>Words: 청소년, 소년원, 검진시, 들어가서, 청소년들이",
          "<b>Topic 14</b><br>Words: 처벌을, 흐린, 법은, 이런, 솜방망이",
          "<b>Topic 14</b><br>Words: 거세, 화학적, 청소년, 부탁드립니다, 벌금",
          "<b>Topic 14</b><br>Words: 사회질서에, 청소년, 처벌량이, 부모의, 미성년자가",
          "<b>Topic 14</b><br>Words: 청소년, 범죄를, 능사가, 청소년들은, 여중생",
          "<b>Topic 14</b><br>Words: 청소년, 장난감을, 악마가, 안다, 청소년들이",
          "<b>Topic 14</b><br>Words: 집단, 청소년, 15세, 처벌을, 생각합니다",
          "<b>Topic 14</b><br>Words: 남여평등, 청소년, 우리나라, 공평하게, 성폭행",
          "<b>Topic 14</b><br>Words: n벌레소년, 청소년, 곤장대를, 곧곧에, 사망소식에",
          "<b>Topic 14</b><br>Words: 청소년, 생각합니다, 범죄가, 저지르는, 성적인",
          "<b>Topic 14</b><br>Words: 청소년, 범죄를, 청소년들이, 소년법을, 어리다고",
          "<b>Topic 14</b><br>Words: 옥상에서, 중학생, 패딩점퍼를, c군을, 적용됐다"
         ],
         "marker": {
          "color": "#E69F00"
         },
         "mode": "lines",
         "name": "14_청소년_생각합니다_처벌을_청소년들이",
         "type": "scatter",
         "x": [
          "2017-09-01T00:00:00.000000000",
          "2017-10-01T00:00:00.000000000",
          "2017-11-01T00:00:00.000000000",
          "2017-12-01T00:00:00.000000000",
          "2018-01-01T00:00:00.000000000",
          "2018-02-01T00:00:00.000000000",
          "2018-03-01T00:00:00.000000000",
          "2018-04-01T00:00:00.000000000",
          "2018-05-01T00:00:00.000000000",
          "2018-06-01T00:00:00.000000000",
          "2018-07-01T00:00:00.000000000",
          "2018-08-01T00:00:00.000000000",
          "2018-09-01T00:00:00.000000000",
          "2018-10-01T00:00:00.000000000",
          "2018-11-01T00:00:00.000000000",
          "2018-12-01T00:00:00.000000000"
         ],
         "y": {
          "bdata": "QgEEAAcAAwADAAYABQAIAAcABgALAAIABAAMAA4AAQA=",
          "dtype": "i2"
         }
        },
        {
         "hoverinfo": "text",
         "hovertext": [
          "<b>Topic 15</b><br>Words: 살인사건, 도주하면, 보호관리되고, 범죄욕구도, 조현병의",
          "<b>Topic 15</b><br>Words: 인권을, 법이, 법을, 사형을, 인권은",
          "<b>Topic 15</b><br>Words: 끔찍한, 무거워야합니다, 범죄를, 받아야합니다, 감형",
          "<b>Topic 15</b><br>Words: 조두순, 조두순이, 조두순의, 출소를, 생각합니다",
          "<b>Topic 15</b><br>Words: 조두순, 조두순의, 조두순이, 범죄자를, n술마시고",
          "<b>Topic 15</b><br>Words: 가해자, 살인한, 스토커, 사형을, 사형",
          "<b>Topic 15</b><br>Words: 사형을, 죄를, 사람들이, 살고, 감옥에",
          "<b>Topic 15</b><br>Words: 사형수는, 부착명령의, 완전성을, 합니다, 사형",
          "<b>Topic 15</b><br>Words: 데이터에, 어린시절, 있습니다, 판결에, 김성재",
          "<b>Topic 15</b><br>Words: 봐주고, 사표, 사람을, 죄를, 형량이",
          "<b>Topic 15</b><br>Words: 사형제, 저지른, 범죄를, 있습니다, 살인을",
          "<b>Topic 15</b><br>Words: 가해자가, 조두순이, 벌을, 있습니다, 너무",
          "<b>Topic 15</b><br>Words: 조두순은, 조두순이, 나영이의, 성폭행, 8살",
          "<b>Topic 15</b><br>Words: 나영이에게, 조두순은, 공포심은, 태형을, 나영이는",
          "<b>Topic 15</b><br>Words: 강서구, 사람을, 우울증, pc방, 생각합니다",
          "<b>Topic 15</b><br>Words: 범죄를, 합니다, 생각합니다, 인권이, 조두순",
          "<b>Topic 15</b><br>Words: cctv, 찾을, 영장, 사형을, 정당방위"
         ],
         "marker": {
          "color": "#56B4E9"
         },
         "mode": "lines",
         "name": "15_합니다_생각합니다_조두순_범죄를",
         "type": "scatter",
         "x": [
          "2017-08-01T00:00:00.000000000",
          "2017-09-01T00:00:00.000000000",
          "2017-10-01T00:00:00.000000000",
          "2017-11-01T00:00:00.000000000",
          "2017-12-01T00:00:00.000000000",
          "2018-01-01T00:00:00.000000000",
          "2018-02-01T00:00:00.000000000",
          "2018-03-01T00:00:00.000000000",
          "2018-04-01T00:00:00.000000000",
          "2018-05-01T00:00:00.000000000",
          "2018-06-01T00:00:00.000000000",
          "2018-07-01T00:00:00.000000000",
          "2018-08-01T00:00:00.000000000",
          "2018-09-01T00:00:00.000000000",
          "2018-10-01T00:00:00.000000000",
          "2018-11-01T00:00:00.000000000",
          "2018-12-01T00:00:00.000000000"
         ],
         "y": {
          "bdata": "ARoEMxITDhYMGxoSDwNdJAk=",
          "dtype": "i1"
         }
        },
        {
         "hoverinfo": "text",
         "hovertext": [
          "<b>Topic 16</b><br>Words: 건강보험료, 건강보험, 4천만, 고소득, 소득",
          "<b>Topic 16</b><br>Words: 노인복지수당을, n여유있는, 하는바램입니다, 획일적으로, 가도록",
          "<b>Topic 16</b><br>Words: 착취제도짓을, 입증자료로, 5년, 국민연금, 민주당이",
          "<b>Topic 16</b><br>Words: 국민연금, 고령화, 연금, 주택연금으로, 진입으로",
          "<b>Topic 16</b><br>Words: 부채가, 부채, 국민연금, 주택, 소득",
          "<b>Topic 16</b><br>Words: 국민연금, 연금, 60세, 의원만이, 하자",
          "<b>Topic 16</b><br>Words: 국민연금, n국민연금, 국민연금을, 소득인정액, 기초연금의",
          "<b>Topic 16</b><br>Words: 국민연금, 지금당장, n국민연금, 노후를, 소득재분배",
          "<b>Topic 16</b><br>Words: 지금당장, 국민연금, 공무원, 말이다, n그라고",
          "<b>Topic 16</b><br>Words: 국민연금, 연금, 복무한, 기초연금의, 공무원",
          "<b>Topic 16</b><br>Words: 소득이, 보험료를, 국민연금, 가혹합니다, 책정한",
          "<b>Topic 16</b><br>Words: 국민연금, 연금, 공무원, n국민연금, 연금을",
          "<b>Topic 16</b><br>Words: 국민연금, 연금, n국민연금, 국민의견은, 직장가입자와",
          "<b>Topic 16</b><br>Words: 지금당장, 국민연금, n그라고, 말이다, 옮겨라",
          "<b>Topic 16</b><br>Words: 국민연금, 지금당장, 연금, n국민연금, 공무원",
          "<b>Topic 16</b><br>Words: 연금을, 수급자가, 국민, 연금, 기초"
         ],
         "marker": {
          "color": "#009E73"
         },
         "mode": "lines",
         "name": "16_국민연금_연금_지금당장_n국민연금",
         "type": "scatter",
         "x": [
          "2017-09-01T00:00:00.000000000",
          "2017-10-01T00:00:00.000000000",
          "2017-11-01T00:00:00.000000000",
          "2017-12-01T00:00:00.000000000",
          "2018-01-01T00:00:00.000000000",
          "2018-02-01T00:00:00.000000000",
          "2018-03-01T00:00:00.000000000",
          "2018-04-01T00:00:00.000000000",
          "2018-05-01T00:00:00.000000000",
          "2018-06-01T00:00:00.000000000",
          "2018-07-01T00:00:00.000000000",
          "2018-08-01T00:00:00.000000000",
          "2018-09-01T00:00:00.000000000",
          "2018-10-01T00:00:00.000000000",
          "2018-11-01T00:00:00.000000000",
          "2018-12-01T00:00:00.000000000"
         ],
         "y": {
          "bdata": "AwABAAUACAAHAAsACgAPAAwACwANAMoAGAAVACAABgA=",
          "dtype": "i2"
         }
        },
        {
         "hoverinfo": "text",
         "hovertext": [
          "<b>Topic 17</b><br>Words: 질병이, 1차성, 또는, 교육훈련, 2016",
          "<b>Topic 17</b><br>Words: 예비군, 육군, 그리고, 합니다, 휴가",
          "<b>Topic 17</b><br>Words: 면회, 정신질환으로, 모병으로, 모병제, n예비군",
          "<b>Topic 17</b><br>Words: 병역, 대한민국, 중국에서, 군대, 의무",
          "<b>Topic 17</b><br>Words: 보충역, 생각합니다, 있는, 있습니다, 의무를",
          "<b>Topic 17</b><br>Words: 군대를, 2년동안, 군대에서, 예비군, 군복무",
          "<b>Topic 17</b><br>Words: 의무를, 국방의, 동원예비군, 경계근무, 있는",
          "<b>Topic 17</b><br>Words: 의무를, 국방의, 생각합니다, 있는, 하는",
          "<b>Topic 17</b><br>Words: 의무를, 이상, 권리를, 예비군, 미만",
          "<b>Topic 17</b><br>Words: 국방의, 의무를, 군대, n군, 하는",
          "<b>Topic 17</b><br>Words: 양심적, 여호와의, 의무를, 국방의, 있는",
          "<b>Topic 17</b><br>Words: 국방의, 의무를, 대한, 군대를, 있는",
          "<b>Topic 17</b><br>Words: 예비군, 군대, 때문에, 군대를, 상근병",
          "<b>Topic 17</b><br>Words: 장병, 논문, 군대를, 군의, 있는",
          "<b>Topic 17</b><br>Words: 직무의, 근로의, 의무를, 복무에, 제1항에",
          "<b>Topic 17</b><br>Words: 양심적, 의무를, 병역, 국방의, 의무",
          "<b>Topic 17</b><br>Words: 생각합니다, 지금, 정말, 군복무, 경쟁에서"
         ],
         "marker": {
          "color": "#F0E442"
         },
         "mode": "lines",
         "name": "17_의무를_국방의_양심적_있는",
         "type": "scatter",
         "x": [
          "2017-08-01T00:00:00.000000000",
          "2017-09-01T00:00:00.000000000",
          "2017-10-01T00:00:00.000000000",
          "2017-11-01T00:00:00.000000000",
          "2017-12-01T00:00:00.000000000",
          "2018-01-01T00:00:00.000000000",
          "2018-02-01T00:00:00.000000000",
          "2018-03-01T00:00:00.000000000",
          "2018-04-01T00:00:00.000000000",
          "2018-05-01T00:00:00.000000000",
          "2018-06-01T00:00:00.000000000",
          "2018-07-01T00:00:00.000000000",
          "2018-08-01T00:00:00.000000000",
          "2018-09-01T00:00:00.000000000",
          "2018-10-01T00:00:00.000000000",
          "2018-11-01T00:00:00.000000000",
          "2018-12-01T00:00:00.000000000"
         ],
         "y": {
          "bdata": "AgoMEBcYEykWEysqHAwOKwc=",
          "dtype": "i1"
         }
        },
        {
         "hoverinfo": "text",
         "hovertext": [
          "<b>Topic 18</b><br>Words: 그들의, 대한민국과, 이맘, 샤리아, 할랄",
          "<b>Topic 18</b><br>Words: c형간염, 무비자, 혜택을, 건강보험, 중국인들이",
          "<b>Topic 18</b><br>Words: 중국인, 외국인, 살곳을, 차이나타운, 영사관의",
          "<b>Topic 18</b><br>Words: 해외에서, 외국인, 일을, 않나요, 도움을",
          "<b>Topic 18</b><br>Words: 외국인, n제주공동체는, 수입해오나요, 보장, 대림동",
          "<b>Topic 18</b><br>Words: 될까요, 얼마나, 돈이, 만들었다, 한국에",
          "<b>Topic 18</b><br>Words: 외국인, 건강보험, 불법체류, 우리나라의, 곶자왈",
          "<b>Topic 18</b><br>Words: 다음에, 형편이, 않됬습니다, 저는, 본국",
          "<b>Topic 18</b><br>Words: 외국인, 지역가입자, n외국인, 진료비는, 국내",
          "<b>Topic 18</b><br>Words: 외국인, 자국민, 불법체류자, 난민신청을, 의료보험",
          "<b>Topic 18</b><br>Words: 난민, 이슬람, 외국인, 난민을, 제주도",
          "<b>Topic 18</b><br>Words: 난민, 외국인, 난민을, 있습니다, 이슬람",
          "<b>Topic 18</b><br>Words: 난민, 난민을, 외국인, 있습니다, 이슬람",
          "<b>Topic 18</b><br>Words: 난민, 외국인, 민국, 지금, 난민을",
          "<b>Topic 18</b><br>Words: 체류, 외국인, 난민, 시리아, 자국민",
          "<b>Topic 18</b><br>Words: 만들고있다, 국내거주, 이슬람, 제주도, n외국인",
          "<b>Topic 18</b><br>Words: 제주도, 제주도에, 신화월드가, 영리병원을, 제주도민에게"
         ],
         "marker": {
          "color": "#D55E00"
         },
         "mode": "lines",
         "name": "18_난민_외국인_난민을_있습니다",
         "type": "scatter",
         "x": [
          "2017-08-01T00:00:00.000000000",
          "2017-09-01T00:00:00.000000000",
          "2017-10-01T00:00:00.000000000",
          "2017-11-01T00:00:00.000000000",
          "2017-12-01T00:00:00.000000000",
          "2018-01-01T00:00:00.000000000",
          "2018-02-01T00:00:00.000000000",
          "2018-03-01T00:00:00.000000000",
          "2018-04-01T00:00:00.000000000",
          "2018-05-01T00:00:00.000000000",
          "2018-06-01T00:00:00.000000000",
          "2018-07-01T00:00:00.000000000",
          "2018-08-01T00:00:00.000000000",
          "2018-09-01T00:00:00.000000000",
          "2018-10-01T00:00:00.000000000",
          "2018-11-01T00:00:00.000000000",
          "2018-12-01T00:00:00.000000000"
         ],
         "y": {
          "bdata": "AgMFAwQFBwMGDFFZKBwYCgM=",
          "dtype": "i1"
         }
        },
        {
         "hoverinfo": "text",
         "hovertext": [
          "<b>Topic 19</b><br>Words: 개소음, 말이나됩니까, 개가, 멀쩡한사람들, 공무언들진짜",
          "<b>Topic 19</b><br>Words: 동물들이, 반려동물, ㅠㅠ, 동물을, 함께",
          "<b>Topic 19</b><br>Words: 동물, 법이, 강아지를, 육견협회, 안내견",
          "<b>Topic 19</b><br>Words: 동물, 반려, 동물을, 반려견, 동물들이",
          "<b>Topic 19</b><br>Words: 강아지, 강아지를, 개를, 반려동물, 동물",
          "<b>Topic 19</b><br>Words: 반려견을, 강아지, 동물을, 동물, 강아지를",
          "<b>Topic 19</b><br>Words: 반려견, 작은, 동물을, 반려견들도, 반려견을",
          "<b>Topic 19</b><br>Words: 개공장, 학대, 아이들, 번식장, 못되니까요",
          "<b>Topic 19</b><br>Words: 동물을, 강아지, 개농장, 동물, 잔인한",
          "<b>Topic 19</b><br>Words: 동물을, 강아지, 동물, 개고기, 줄이자는",
          "<b>Topic 19</b><br>Words: 동물, 개를, 동물을, 동물들이, 있습니다",
          "<b>Topic 19</b><br>Words: 개를, 반려동물을, 반려동물, 동물을, 개가",
          "<b>Topic 19</b><br>Words: 동물을, 퓨마가, 동물들을, 동물들이, 퓨마는",
          "<b>Topic 19</b><br>Words: 동물들을, 동물들이, 동물을, 동물, 강아지를",
          "<b>Topic 19</b><br>Words: 개는, 동물을, 것은, 동물, 집에서",
          "<b>Topic 19</b><br>Words: 강아지, 유기견, 강아지들이, 강아지를, 것에"
         ],
         "marker": {
          "color": "#0072B2"
         },
         "mode": "lines",
         "name": "19_동물을_동물_개를_강아지",
         "type": "scatter",
         "x": [
          "2017-09-01T00:00:00.000000000",
          "2017-10-01T00:00:00.000000000",
          "2017-11-01T00:00:00.000000000",
          "2017-12-01T00:00:00.000000000",
          "2018-01-01T00:00:00.000000000",
          "2018-02-01T00:00:00.000000000",
          "2018-03-01T00:00:00.000000000",
          "2018-04-01T00:00:00.000000000",
          "2018-05-01T00:00:00.000000000",
          "2018-06-01T00:00:00.000000000",
          "2018-07-01T00:00:00.000000000",
          "2018-08-01T00:00:00.000000000",
          "2018-09-01T00:00:00.000000000",
          "2018-10-01T00:00:00.000000000",
          "2018-11-01T00:00:00.000000000",
          "2018-12-01T00:00:00.000000000"
         ],
         "y": {
          "bdata": "AQgLCw4ODAwPExMQFwwDAg==",
          "dtype": "i1"
         }
        },
        {
         "hoverinfo": "text",
         "hovertext": [
          "<b>Topic 20</b><br>Words: 문대통령님, 의견, 던질걸, 초래할수가, 사퇴하시거나",
          "<b>Topic 20</b><br>Words: 한다는점, 내려간, 것도, 대통령, 검찰이",
          "<b>Topic 20</b><br>Words: 야당, 대통령님, 편파적인, 청와대, 문재인",
          "<b>Topic 20</b><br>Words: 문재인, 국민들, 대통령은, 대통령이, 국민들은",
          "<b>Topic 20</b><br>Words: 나라인가요, n이게, 구속, 전원, 중산층이",
          "<b>Topic 20</b><br>Words: 부강한, 과거에, 주세요, 국민들, 곳에",
          "<b>Topic 20</b><br>Words: 있니, 일본한테, 대통령이라, 수입금지, 피해보는",
          "<b>Topic 20</b><br>Words: 집회, 기도하라고, 대통령님이, 호구, 여론과",
          "<b>Topic 20</b><br>Words: 경제, 해결된게, 있습니까, 제발, 대통령",
          "<b>Topic 20</b><br>Words: 없다, 경제, 국민을, n지금, 북한",
          "<b>Topic 20</b><br>Words: n당신들, n문재인, 여러분은, 입니다, 문재인",
          "<b>Topic 20</b><br>Words: 경제, 문재인, 증시, n지금, n문재인",
          "<b>Topic 20</b><br>Words: 주인, 후퇴하고, 개혁, 문제인이, 없네",
          "<b>Topic 20</b><br>Words: n부동산, 자들, 모르죠, 거품을, 부동산"
         ],
         "marker": {
          "color": "#CC79A7"
         },
         "mode": "lines",
         "name": "20_문재인_국민들_경제_나라인가요",
         "type": "scatter",
         "x": [
          "2017-09-01T00:00:00.000000000",
          "2017-11-01T00:00:00.000000000",
          "2017-12-01T00:00:00.000000000",
          "2018-01-01T00:00:00.000000000",
          "2018-02-01T00:00:00.000000000",
          "2018-04-01T00:00:00.000000000",
          "2018-05-01T00:00:00.000000000",
          "2018-06-01T00:00:00.000000000",
          "2018-07-01T00:00:00.000000000",
          "2018-08-01T00:00:00.000000000",
          "2018-09-01T00:00:00.000000000",
          "2018-10-01T00:00:00.000000000",
          "2018-11-01T00:00:00.000000000",
          "2018-12-01T00:00:00.000000000"
         ],
         "y": {
          "bdata": "AwUIIAcDBwMLGRYjEAk=",
          "dtype": "i1"
         }
        },
        {
         "hoverinfo": "text",
         "hovertext": [
          "<b>Topic 21</b><br>Words: 것이다, 관련하여, 중국이랑, 중국발이라는것도, 고농도인",
          "<b>Topic 21</b><br>Words: 미세먼지, 미세먼지가, 미세먼지는, 중국에, 중국",
          "<b>Topic 21</b><br>Words: 미세먼지, 마스크를, 미세먼지가, 중국발, 중국",
          "<b>Topic 21</b><br>Words: 미세먼지, 미세먼지가, 미세먼지의, 중국발, 미세먼지로",
          "<b>Topic 21</b><br>Words: 미세먼지, 미세먼지가, 어김없이, 자동차는, 중국산",
          "<b>Topic 21</b><br>Words: 미세먼지, 미세먼지가, 미세먼지를, 미세먼지에, 마스크를",
          "<b>Topic 21</b><br>Words: 미세먼지, 미세먼지가, 미세먼지를, 높은, 마스크를",
          "<b>Topic 21</b><br>Words: 미세먼지, 중국발, 스모그는, 공기청정기를, 환경문제가",
          "<b>Topic 21</b><br>Words: 미세먼지, 미세먼지가, 미세먼지를, 미세먼지의, 중국",
          "<b>Topic 21</b><br>Words: 미세먼지, 미세먼지가, 레미콘, 미세먼지와, 무엇이",
          "<b>Topic 21</b><br>Words: 미세먼지, 교실, 먼지를, n성장기, 공중에",
          "<b>Topic 21</b><br>Words: 미세먼지, 에어컨을, 지구가, 미세먼지가, 생각됩니다",
          "<b>Topic 21</b><br>Words: 미세먼지, 환경에, 미세먼지가, 미세먼지를, 중국",
          "<b>Topic 21</b><br>Words: 미세먼지, 미세먼지가, 미세먼지를, 마스크를, 초미세먼지"
         ],
         "marker": {
          "color": "#E69F00"
         },
         "mode": "lines",
         "name": "21_미세먼지_미세먼지가_미세먼지를_마스크를",
         "type": "scatter",
         "x": [
          "2017-09-01T00:00:00.000000000",
          "2017-11-01T00:00:00.000000000",
          "2017-12-01T00:00:00.000000000",
          "2018-01-01T00:00:00.000000000",
          "2018-02-01T00:00:00.000000000",
          "2018-03-01T00:00:00.000000000",
          "2018-04-01T00:00:00.000000000",
          "2018-05-01T00:00:00.000000000",
          "2018-06-01T00:00:00.000000000",
          "2018-07-01T00:00:00.000000000",
          "2018-08-01T00:00:00.000000000",
          "2018-09-01T00:00:00.000000000",
          "2018-10-01T00:00:00.000000000",
          "2018-11-01T00:00:00.000000000"
         ],
         "y": {
          "bdata": "AwUOFwUsEQYMBQYCByI=",
          "dtype": "i1"
         }
        },
        {
         "hoverinfo": "text",
         "hovertext": [
          "<b>Topic 22</b><br>Words: 에너지, 에너지에, 대형, n에너지, 장착",
          "<b>Topic 22</b><br>Words: house, of, calculation, newspaper, month",
          "<b>Topic 22</b><br>Words: 에너지, 아파트, 산업용전기소비량, 전력난에, n부지",
          "<b>Topic 22</b><br>Words: 원전을, 비상, 원전, 원전이, 보일러",
          "<b>Topic 22</b><br>Words: 마을은, 마을에, 한전, 저희, 200미터도",
          "<b>Topic 22</b><br>Words: 전원개발, 한전, 촉진법, 이것들이, 국민세금을",
          "<b>Topic 22</b><br>Words: 요금을, n한국전력에서, 인상없이, 온돌, 난방",
          "<b>Topic 22</b><br>Words: 신재생에너지, 개발행위허가, 있는, 지자체가, 지자체에",
          "<b>Topic 22</b><br>Words: 포스코, 한전, 나가는, 주식, 난방수를",
          "<b>Topic 22</b><br>Words: 태양광, 잉여, 생산된, 전기를, 발전이",
          "<b>Topic 22</b><br>Words: 가정용, 누진제, 평균의, 전기, 난방수로",
          "<b>Topic 22</b><br>Words: 에어컨, 에어컨을, 전기세, 누진세, 누진제",
          "<b>Topic 22</b><br>Words: 에어컨, 누진제, 에어컨을, 누진세, 전기요금",
          "<b>Topic 22</b><br>Words: 공해, 바겐세일, 폭염, 가로등의, 밝기를",
          "<b>Topic 22</b><br>Words: 석탄, 국내산, 범시민, 화력발전소에, 높여달라고",
          "<b>Topic 22</b><br>Words: 탈원전, 이격할, 10호, 이상, 부지",
          "<b>Topic 22</b><br>Words: 태양광, 남은, 전기를, 가정집에서, 사용할"
         ],
         "marker": {
          "color": "#56B4E9"
         },
         "mode": "lines",
         "name": "22_에어컨_누진제_에어컨을_태양광",
         "type": "scatter",
         "x": [
          "2017-08-01T00:00:00.000000000",
          "2017-09-01T00:00:00.000000000",
          "2017-10-01T00:00:00.000000000",
          "2017-11-01T00:00:00.000000000",
          "2017-12-01T00:00:00.000000000",
          "2018-01-01T00:00:00.000000000",
          "2018-02-01T00:00:00.000000000",
          "2018-03-01T00:00:00.000000000",
          "2018-04-01T00:00:00.000000000",
          "2018-05-01T00:00:00.000000000",
          "2018-06-01T00:00:00.000000000",
          "2018-07-01T00:00:00.000000000",
          "2018-08-01T00:00:00.000000000",
          "2018-09-01T00:00:00.000000000",
          "2018-10-01T00:00:00.000000000",
          "2018-11-01T00:00:00.000000000",
          "2018-12-01T00:00:00.000000000"
         ],
         "y": {
          "bdata": "AQIDBQIDBgMCAgkqRQUGCgU=",
          "dtype": "i1"
         }
        },
        {
         "hoverinfo": "text",
         "hovertext": [
          "<b>Topic 23</b><br>Words: 대마초는, 담배나, 술이, 대마는, 술보다",
          "<b>Topic 23</b><br>Words: 연초를, 세금을, 담배, 흡연자들이, 만족하는",
          "<b>Topic 23</b><br>Words: 흡연율을, 담배를, 담배값을, 흡연을, 흡연은",
          "<b>Topic 23</b><br>Words: 담배, 담배를, 비흡연자들이, 피우는, 피는",
          "<b>Topic 23</b><br>Words: 담배, 담배를, 금연구역, 자유와, 법률로써",
          "<b>Topic 23</b><br>Words: 길거리, 흡연을, 담배를, 흡연자들이, 간접흡연을",
          "<b>Topic 23</b><br>Words: 담배를, 흡연, 피는, 담배, 흡연을",
          "<b>Topic 23</b><br>Words: 담배, 담배를, 2500원으로, 길거리, 지정하고",
          "<b>Topic 23</b><br>Words: 담배를, 흡연, 담배, 처벌했으면, 좋겠습니다",
          "<b>Topic 23</b><br>Words: 담배를, 담배, 전자담배, 흡연을, 흡연",
          "<b>Topic 23</b><br>Words: 담배를, 흡연, 좋겠습니다, 담배, 처벌했으면",
          "<b>Topic 23</b><br>Words: 담배를, 담배, 금연, 분들이, 베란다에서",
          "<b>Topic 23</b><br>Words: 담배를, 흡연, 담배, 흡연자, 담배피는",
          "<b>Topic 23</b><br>Words: 담배를, 담배세, 길거리, 들어오는, 담배",
          "<b>Topic 23</b><br>Words: 담배를, 금연구역, 담배, 흡연, 일수명함",
          "<b>Topic 23</b><br>Words: 알기, 합법일때, 피도록, 금연구역을, 담배의"
         ],
         "marker": {
          "color": "#009E73"
         },
         "mode": "lines",
         "name": "23_담배를_담배_흡연_흡연을",
         "type": "scatter",
         "x": [
          "2017-09-01T00:00:00.000000000",
          "2017-10-01T00:00:00.000000000",
          "2017-11-01T00:00:00.000000000",
          "2017-12-01T00:00:00.000000000",
          "2018-01-01T00:00:00.000000000",
          "2018-02-01T00:00:00.000000000",
          "2018-03-01T00:00:00.000000000",
          "2018-04-01T00:00:00.000000000",
          "2018-05-01T00:00:00.000000000",
          "2018-06-01T00:00:00.000000000",
          "2018-07-01T00:00:00.000000000",
          "2018-08-01T00:00:00.000000000",
          "2018-09-01T00:00:00.000000000",
          "2018-10-01T00:00:00.000000000",
          "2018-11-01T00:00:00.000000000",
          "2018-12-01T00:00:00.000000000"
         ],
         "y": {
          "bdata": "AQMHBQYICwkQDRMHCwsKAw==",
          "dtype": "i1"
         }
        },
        {
         "hoverinfo": "text",
         "hovertext": [
          "<b>Topic 24</b><br>Words: 000원, 보훈수혜, 모친이, 2016, 위의",
          "<b>Topic 24</b><br>Words: ec, ed, eb, bc, ea",
          "<b>Topic 24</b><br>Words: 마컨, 마인드컨트롤, the, 체험을, n나는",
          "<b>Topic 24</b><br>Words: the, to, and, of, we",
          "<b>Topic 24</b><br>Words: com, oid, read, aid, nhttp",
          "<b>Topic 24</b><br>Words: pow, 비트코인, 거래, 에너지, 맞았다는거",
          "<b>Topic 24</b><br>Words: com, nhttps, nhttp, the, be",
          "<b>Topic 24</b><br>Words: nhttps, be, youtu, com, the",
          "<b>Topic 24</b><br>Words: nhttp, www, amn, kr, 블록체인",
          "<b>Topic 24</b><br>Words: 이기상자, 로제타스톤, 기원, nhttp, com",
          "<b>Topic 24</b><br>Words: com, nhttp, 방치, the, 요양병원에",
          "<b>Topic 24</b><br>Words: com, 난민, 파인애플을, news, nhn",
          "<b>Topic 24</b><br>Words: 건보, 외국인, 건강보험, com, https",
          "<b>Topic 24</b><br>Words: eb, ec, 동인천역, 98, 88",
          "<b>Topic 24</b><br>Words: n김현미, 임대인, 임차인, 장관, 입맛에",
          "<b>Topic 24</b><br>Words: nhttp, 노르딕, com, kr, www",
          "<b>Topic 24</b><br>Words: com, www, https, youtube, 유튜브"
         ],
         "marker": {
          "color": "#F0E442"
         },
         "mode": "lines",
         "name": "24_the_com_nhttp_nhttps",
         "type": "scatter",
         "x": [
          "2017-08-01T00:00:00.000000000",
          "2017-09-01T00:00:00.000000000",
          "2017-10-01T00:00:00.000000000",
          "2017-11-01T00:00:00.000000000",
          "2017-12-01T00:00:00.000000000",
          "2018-01-01T00:00:00.000000000",
          "2018-02-01T00:00:00.000000000",
          "2018-03-01T00:00:00.000000000",
          "2018-04-01T00:00:00.000000000",
          "2018-05-01T00:00:00.000000000",
          "2018-06-01T00:00:00.000000000",
          "2018-07-01T00:00:00.000000000",
          "2018-08-01T00:00:00.000000000",
          "2018-09-01T00:00:00.000000000",
          "2018-10-01T00:00:00.000000000",
          "2018-11-01T00:00:00.000000000",
          "2018-12-01T00:00:00.000000000"
         ],
         "y": {
          "bdata": "AQcGCQcKFQsEDAQJDAYHBAk=",
          "dtype": "i1"
         }
        },
        {
         "hoverinfo": "text",
         "hovertext": [
          "<b>Topic 25</b><br>Words: 대하여, 민원에, 1708, 담당자의, 민원을",
          "<b>Topic 25</b><br>Words: 살려주세여, 살려쥬세여, 너무, 무서워요, 화만내고",
          "<b>Topic 25</b><br>Words: 팩스가, 한게임, 조현희, mail접수, n한게임은",
          "<b>Topic 25</b><br>Words: 카카오톡을, 구청, n사기죄, 카톡을, 이깁니까",
          "<b>Topic 25</b><br>Words: 사기를, 돈을, 번째, 감천동, 진입도로",
          "<b>Topic 25</b><br>Words: 휴대폰, 송금받는, debit, 말로써, 은행으로",
          "<b>Topic 25</b><br>Words: 택배, 사기를, 전화를, 너무, 상담원에게",
          "<b>Topic 25</b><br>Words: 전화를, 답변을, 전화, 문자를, 너무",
          "<b>Topic 25</b><br>Words: 증지를, 있는, n너무, 국민신문고가, 사기죄로",
          "<b>Topic 25</b><br>Words: 문자들을, 운전직, 전화, 겁니다, 다른",
          "<b>Topic 25</b><br>Words: 신고, 연락이, 탈세, 하려고, 폴라리스",
          "<b>Topic 25</b><br>Words: 전화를, 단속, 민원, 민원을, 이름은",
          "<b>Topic 25</b><br>Words: gps, 민원을, 하였습니다, 우본, 답변을",
          "<b>Topic 25</b><br>Words: 휴대전화, 보이스피싱, 출금자, 통과해야, 해지가",
          "<b>Topic 25</b><br>Words: 월급과, 퇴직금을, 신고할, 있는, 할수",
          "<b>Topic 25</b><br>Words: 비자, 사유를, 불허에, 영사, 보이싱피싱"
         ],
         "marker": {
          "color": "#D55E00"
         },
         "mode": "lines",
         "name": "25_전화를_민원을_너무_있습니다",
         "type": "scatter",
         "x": [
          "2017-09-01T00:00:00.000000000",
          "2017-10-01T00:00:00.000000000",
          "2017-11-01T00:00:00.000000000",
          "2017-12-01T00:00:00.000000000",
          "2018-01-01T00:00:00.000000000",
          "2018-02-01T00:00:00.000000000",
          "2018-03-01T00:00:00.000000000",
          "2018-04-01T00:00:00.000000000",
          "2018-05-01T00:00:00.000000000",
          "2018-06-01T00:00:00.000000000",
          "2018-07-01T00:00:00.000000000",
          "2018-08-01T00:00:00.000000000",
          "2018-09-01T00:00:00.000000000",
          "2018-10-01T00:00:00.000000000",
          "2018-11-01T00:00:00.000000000",
          "2018-12-01T00:00:00.000000000"
         ],
         "y": {
          "bdata": "AgMFCAwHCg8JDAgICwYIBA==",
          "dtype": "i1"
         }
        }
       ],
       "layout": {
        "height": 450,
        "hoverlabel": {
         "bgcolor": "white",
         "font": {
          "family": "Rockwell",
          "size": 16
         }
        },
        "legend": {
         "title": {
          "text": "<b>Global Topic Representation"
         }
        },
        "template": {
         "data": {
          "bar": [
           {
            "error_x": {
             "color": "rgb(36,36,36)"
            },
            "error_y": {
             "color": "rgb(36,36,36)"
            },
            "marker": {
             "line": {
              "color": "white",
              "width": 0.5
             },
             "pattern": {
              "fillmode": "overlay",
              "size": 10,
              "solidity": 0.2
             }
            },
            "type": "bar"
           }
          ],
          "barpolar": [
           {
            "marker": {
             "line": {
              "color": "white",
              "width": 0.5
             },
             "pattern": {
              "fillmode": "overlay",
              "size": 10,
              "solidity": 0.2
             }
            },
            "type": "barpolar"
           }
          ],
          "carpet": [
           {
            "aaxis": {
             "endlinecolor": "rgb(36,36,36)",
             "gridcolor": "white",
             "linecolor": "white",
             "minorgridcolor": "white",
             "startlinecolor": "rgb(36,36,36)"
            },
            "baxis": {
             "endlinecolor": "rgb(36,36,36)",
             "gridcolor": "white",
             "linecolor": "white",
             "minorgridcolor": "white",
             "startlinecolor": "rgb(36,36,36)"
            },
            "type": "carpet"
           }
          ],
          "choropleth": [
           {
            "colorbar": {
             "outlinewidth": 1,
             "tickcolor": "rgb(36,36,36)",
             "ticks": "outside"
            },
            "type": "choropleth"
           }
          ],
          "contour": [
           {
            "colorbar": {
             "outlinewidth": 1,
             "tickcolor": "rgb(36,36,36)",
             "ticks": "outside"
            },
            "colorscale": [
             [
              0,
              "#440154"
             ],
             [
              0.1111111111111111,
              "#482878"
             ],
             [
              0.2222222222222222,
              "#3e4989"
             ],
             [
              0.3333333333333333,
              "#31688e"
             ],
             [
              0.4444444444444444,
              "#26828e"
             ],
             [
              0.5555555555555556,
              "#1f9e89"
             ],
             [
              0.6666666666666666,
              "#35b779"
             ],
             [
              0.7777777777777778,
              "#6ece58"
             ],
             [
              0.8888888888888888,
              "#b5de2b"
             ],
             [
              1,
              "#fde725"
             ]
            ],
            "type": "contour"
           }
          ],
          "contourcarpet": [
           {
            "colorbar": {
             "outlinewidth": 1,
             "tickcolor": "rgb(36,36,36)",
             "ticks": "outside"
            },
            "type": "contourcarpet"
           }
          ],
          "heatmap": [
           {
            "colorbar": {
             "outlinewidth": 1,
             "tickcolor": "rgb(36,36,36)",
             "ticks": "outside"
            },
            "colorscale": [
             [
              0,
              "#440154"
             ],
             [
              0.1111111111111111,
              "#482878"
             ],
             [
              0.2222222222222222,
              "#3e4989"
             ],
             [
              0.3333333333333333,
              "#31688e"
             ],
             [
              0.4444444444444444,
              "#26828e"
             ],
             [
              0.5555555555555556,
              "#1f9e89"
             ],
             [
              0.6666666666666666,
              "#35b779"
             ],
             [
              0.7777777777777778,
              "#6ece58"
             ],
             [
              0.8888888888888888,
              "#b5de2b"
             ],
             [
              1,
              "#fde725"
             ]
            ],
            "type": "heatmap"
           }
          ],
          "histogram": [
           {
            "marker": {
             "line": {
              "color": "white",
              "width": 0.6
             }
            },
            "type": "histogram"
           }
          ],
          "histogram2d": [
           {
            "colorbar": {
             "outlinewidth": 1,
             "tickcolor": "rgb(36,36,36)",
             "ticks": "outside"
            },
            "colorscale": [
             [
              0,
              "#440154"
             ],
             [
              0.1111111111111111,
              "#482878"
             ],
             [
              0.2222222222222222,
              "#3e4989"
             ],
             [
              0.3333333333333333,
              "#31688e"
             ],
             [
              0.4444444444444444,
              "#26828e"
             ],
             [
              0.5555555555555556,
              "#1f9e89"
             ],
             [
              0.6666666666666666,
              "#35b779"
             ],
             [
              0.7777777777777778,
              "#6ece58"
             ],
             [
              0.8888888888888888,
              "#b5de2b"
             ],
             [
              1,
              "#fde725"
             ]
            ],
            "type": "histogram2d"
           }
          ],
          "histogram2dcontour": [
           {
            "colorbar": {
             "outlinewidth": 1,
             "tickcolor": "rgb(36,36,36)",
             "ticks": "outside"
            },
            "colorscale": [
             [
              0,
              "#440154"
             ],
             [
              0.1111111111111111,
              "#482878"
             ],
             [
              0.2222222222222222,
              "#3e4989"
             ],
             [
              0.3333333333333333,
              "#31688e"
             ],
             [
              0.4444444444444444,
              "#26828e"
             ],
             [
              0.5555555555555556,
              "#1f9e89"
             ],
             [
              0.6666666666666666,
              "#35b779"
             ],
             [
              0.7777777777777778,
              "#6ece58"
             ],
             [
              0.8888888888888888,
              "#b5de2b"
             ],
             [
              1,
              "#fde725"
             ]
            ],
            "type": "histogram2dcontour"
           }
          ],
          "mesh3d": [
           {
            "colorbar": {
             "outlinewidth": 1,
             "tickcolor": "rgb(36,36,36)",
             "ticks": "outside"
            },
            "type": "mesh3d"
           }
          ],
          "parcoords": [
           {
            "line": {
             "colorbar": {
              "outlinewidth": 1,
              "tickcolor": "rgb(36,36,36)",
              "ticks": "outside"
             }
            },
            "type": "parcoords"
           }
          ],
          "pie": [
           {
            "automargin": true,
            "type": "pie"
           }
          ],
          "scatter": [
           {
            "fillpattern": {
             "fillmode": "overlay",
             "size": 10,
             "solidity": 0.2
            },
            "type": "scatter"
           }
          ],
          "scatter3d": [
           {
            "line": {
             "colorbar": {
              "outlinewidth": 1,
              "tickcolor": "rgb(36,36,36)",
              "ticks": "outside"
             }
            },
            "marker": {
             "colorbar": {
              "outlinewidth": 1,
              "tickcolor": "rgb(36,36,36)",
              "ticks": "outside"
             }
            },
            "type": "scatter3d"
           }
          ],
          "scattercarpet": [
           {
            "marker": {
             "colorbar": {
              "outlinewidth": 1,
              "tickcolor": "rgb(36,36,36)",
              "ticks": "outside"
             }
            },
            "type": "scattercarpet"
           }
          ],
          "scattergeo": [
           {
            "marker": {
             "colorbar": {
              "outlinewidth": 1,
              "tickcolor": "rgb(36,36,36)",
              "ticks": "outside"
             }
            },
            "type": "scattergeo"
           }
          ],
          "scattergl": [
           {
            "marker": {
             "colorbar": {
              "outlinewidth": 1,
              "tickcolor": "rgb(36,36,36)",
              "ticks": "outside"
             }
            },
            "type": "scattergl"
           }
          ],
          "scattermap": [
           {
            "marker": {
             "colorbar": {
              "outlinewidth": 1,
              "tickcolor": "rgb(36,36,36)",
              "ticks": "outside"
             }
            },
            "type": "scattermap"
           }
          ],
          "scattermapbox": [
           {
            "marker": {
             "colorbar": {
              "outlinewidth": 1,
              "tickcolor": "rgb(36,36,36)",
              "ticks": "outside"
             }
            },
            "type": "scattermapbox"
           }
          ],
          "scatterpolar": [
           {
            "marker": {
             "colorbar": {
              "outlinewidth": 1,
              "tickcolor": "rgb(36,36,36)",
              "ticks": "outside"
             }
            },
            "type": "scatterpolar"
           }
          ],
          "scatterpolargl": [
           {
            "marker": {
             "colorbar": {
              "outlinewidth": 1,
              "tickcolor": "rgb(36,36,36)",
              "ticks": "outside"
             }
            },
            "type": "scatterpolargl"
           }
          ],
          "scatterternary": [
           {
            "marker": {
             "colorbar": {
              "outlinewidth": 1,
              "tickcolor": "rgb(36,36,36)",
              "ticks": "outside"
             }
            },
            "type": "scatterternary"
           }
          ],
          "surface": [
           {
            "colorbar": {
             "outlinewidth": 1,
             "tickcolor": "rgb(36,36,36)",
             "ticks": "outside"
            },
            "colorscale": [
             [
              0,
              "#440154"
             ],
             [
              0.1111111111111111,
              "#482878"
             ],
             [
              0.2222222222222222,
              "#3e4989"
             ],
             [
              0.3333333333333333,
              "#31688e"
             ],
             [
              0.4444444444444444,
              "#26828e"
             ],
             [
              0.5555555555555556,
              "#1f9e89"
             ],
             [
              0.6666666666666666,
              "#35b779"
             ],
             [
              0.7777777777777778,
              "#6ece58"
             ],
             [
              0.8888888888888888,
              "#b5de2b"
             ],
             [
              1,
              "#fde725"
             ]
            ],
            "type": "surface"
           }
          ],
          "table": [
           {
            "cells": {
             "fill": {
              "color": "rgb(237,237,237)"
             },
             "line": {
              "color": "white"
             }
            },
            "header": {
             "fill": {
              "color": "rgb(217,217,217)"
             },
             "line": {
              "color": "white"
             }
            },
            "type": "table"
           }
          ]
         },
         "layout": {
          "annotationdefaults": {
           "arrowhead": 0,
           "arrowwidth": 1
          },
          "autotypenumbers": "strict",
          "coloraxis": {
           "colorbar": {
            "outlinewidth": 1,
            "tickcolor": "rgb(36,36,36)",
            "ticks": "outside"
           }
          },
          "colorscale": {
           "diverging": [
            [
             0,
             "rgb(103,0,31)"
            ],
            [
             0.1,
             "rgb(178,24,43)"
            ],
            [
             0.2,
             "rgb(214,96,77)"
            ],
            [
             0.3,
             "rgb(244,165,130)"
            ],
            [
             0.4,
             "rgb(253,219,199)"
            ],
            [
             0.5,
             "rgb(247,247,247)"
            ],
            [
             0.6,
             "rgb(209,229,240)"
            ],
            [
             0.7,
             "rgb(146,197,222)"
            ],
            [
             0.8,
             "rgb(67,147,195)"
            ],
            [
             0.9,
             "rgb(33,102,172)"
            ],
            [
             1,
             "rgb(5,48,97)"
            ]
           ],
           "sequential": [
            [
             0,
             "#440154"
            ],
            [
             0.1111111111111111,
             "#482878"
            ],
            [
             0.2222222222222222,
             "#3e4989"
            ],
            [
             0.3333333333333333,
             "#31688e"
            ],
            [
             0.4444444444444444,
             "#26828e"
            ],
            [
             0.5555555555555556,
             "#1f9e89"
            ],
            [
             0.6666666666666666,
             "#35b779"
            ],
            [
             0.7777777777777778,
             "#6ece58"
            ],
            [
             0.8888888888888888,
             "#b5de2b"
            ],
            [
             1,
             "#fde725"
            ]
           ],
           "sequentialminus": [
            [
             0,
             "#440154"
            ],
            [
             0.1111111111111111,
             "#482878"
            ],
            [
             0.2222222222222222,
             "#3e4989"
            ],
            [
             0.3333333333333333,
             "#31688e"
            ],
            [
             0.4444444444444444,
             "#26828e"
            ],
            [
             0.5555555555555556,
             "#1f9e89"
            ],
            [
             0.6666666666666666,
             "#35b779"
            ],
            [
             0.7777777777777778,
             "#6ece58"
            ],
            [
             0.8888888888888888,
             "#b5de2b"
            ],
            [
             1,
             "#fde725"
            ]
           ]
          },
          "colorway": [
           "#1F77B4",
           "#FF7F0E",
           "#2CA02C",
           "#D62728",
           "#9467BD",
           "#8C564B",
           "#E377C2",
           "#7F7F7F",
           "#BCBD22",
           "#17BECF"
          ],
          "font": {
           "color": "rgb(36,36,36)"
          },
          "geo": {
           "bgcolor": "white",
           "lakecolor": "white",
           "landcolor": "white",
           "showlakes": true,
           "showland": true,
           "subunitcolor": "white"
          },
          "hoverlabel": {
           "align": "left"
          },
          "hovermode": "closest",
          "mapbox": {
           "style": "light"
          },
          "paper_bgcolor": "white",
          "plot_bgcolor": "white",
          "polar": {
           "angularaxis": {
            "gridcolor": "rgb(232,232,232)",
            "linecolor": "rgb(36,36,36)",
            "showgrid": false,
            "showline": true,
            "ticks": "outside"
           },
           "bgcolor": "white",
           "radialaxis": {
            "gridcolor": "rgb(232,232,232)",
            "linecolor": "rgb(36,36,36)",
            "showgrid": false,
            "showline": true,
            "ticks": "outside"
           }
          },
          "scene": {
           "xaxis": {
            "backgroundcolor": "white",
            "gridcolor": "rgb(232,232,232)",
            "gridwidth": 2,
            "linecolor": "rgb(36,36,36)",
            "showbackground": true,
            "showgrid": false,
            "showline": true,
            "ticks": "outside",
            "zeroline": false,
            "zerolinecolor": "rgb(36,36,36)"
           },
           "yaxis": {
            "backgroundcolor": "white",
            "gridcolor": "rgb(232,232,232)",
            "gridwidth": 2,
            "linecolor": "rgb(36,36,36)",
            "showbackground": true,
            "showgrid": false,
            "showline": true,
            "ticks": "outside",
            "zeroline": false,
            "zerolinecolor": "rgb(36,36,36)"
           },
           "zaxis": {
            "backgroundcolor": "white",
            "gridcolor": "rgb(232,232,232)",
            "gridwidth": 2,
            "linecolor": "rgb(36,36,36)",
            "showbackground": true,
            "showgrid": false,
            "showline": true,
            "ticks": "outside",
            "zeroline": false,
            "zerolinecolor": "rgb(36,36,36)"
           }
          },
          "shapedefaults": {
           "fillcolor": "black",
           "line": {
            "width": 0
           },
           "opacity": 0.3
          },
          "ternary": {
           "aaxis": {
            "gridcolor": "rgb(232,232,232)",
            "linecolor": "rgb(36,36,36)",
            "showgrid": false,
            "showline": true,
            "ticks": "outside"
           },
           "baxis": {
            "gridcolor": "rgb(232,232,232)",
            "linecolor": "rgb(36,36,36)",
            "showgrid": false,
            "showline": true,
            "ticks": "outside"
           },
           "bgcolor": "white",
           "caxis": {
            "gridcolor": "rgb(232,232,232)",
            "linecolor": "rgb(36,36,36)",
            "showgrid": false,
            "showline": true,
            "ticks": "outside"
           }
          },
          "title": {
           "x": 0.05
          },
          "xaxis": {
           "automargin": true,
           "gridcolor": "rgb(232,232,232)",
           "linecolor": "rgb(36,36,36)",
           "showgrid": false,
           "showline": true,
           "ticks": "outside",
           "title": {
            "standoff": 15
           },
           "zeroline": false,
           "zerolinecolor": "rgb(36,36,36)"
          },
          "yaxis": {
           "automargin": true,
           "gridcolor": "rgb(232,232,232)",
           "linecolor": "rgb(36,36,36)",
           "showgrid": false,
           "showline": true,
           "ticks": "outside",
           "title": {
            "standoff": 15
           },
           "zeroline": false,
           "zerolinecolor": "rgb(36,36,36)"
          }
         }
        },
        "title": {
         "font": {
          "color": "Black",
          "size": 22
         },
         "text": "<b>Topics over Time</b>",
         "x": 0.4,
         "xanchor": "center",
         "y": 0.95,
         "yanchor": "top"
        },
        "width": 1250,
        "xaxis": {
         "showgrid": true
        },
        "yaxis": {
         "showgrid": true,
         "title": {
          "text": "Frequency"
         }
        }
       }
      }
     },
     "metadata": {},
     "output_type": "display_data"
    }
   ],
   "source": [
    "topics_over_time = topic_model.topics_over_time(docs, timestamps)\n",
    "topic_model.visualize_topics_over_time(topics_over_time)"
   ]
  },
  {
   "cell_type": "code",
   "execution_count": 32,
   "id": "0efcb277",
   "metadata": {},
   "outputs": [
    {
     "data": {
      "application/vnd.plotly.v1+json": {
       "config": {
        "plotlyServerURL": "https://plot.ly"
       },
       "data": [
        {
         "customdata": [
          [
           0,
           "있습니다 | 있는 | 합니다 | 하고 | 일을",
           1306
          ],
          [
           1,
           "부동산 | 아파트 | 있는 | 있습니다 | 합니다",
           1096
          ],
          [
           2,
           "있습니다 | 합니다 | 있는 | 하는 | 자동차",
           665
          ],
          [
           3,
           "가상화폐 | 공매도 | 거래소 | 있습니다 | 있는",
           620
          ],
          [
           4,
           "올림픽 | 선수 | 선수들이 | 대한민국 | 선수가",
           557
          ],
          [
           5,
           "아이를 | 어린이집 | 있는 | 있습니다 | 합니다",
           547
          ],
          [
           6,
           "있습니다 | 여성 | 무고 | 성범죄 | 하는",
           519
          ],
          [
           7,
           "청원 | 청원이 | 있습니다 | 있는 | 청원을",
           479
          ],
          [
           8,
           "북한 | 북한의 | 북한이 | 있다 | 것이다",
           461
          ],
          [
           9,
           "학생들이 | 있는 | 있습니다 | 대학 | 합니다",
           449
          ],
          [
           10,
           "국회의원 | 국민의 | 국회 | 국민을 | 국민이",
           448
          ],
          [
           11,
           "이명박 | 출국금지 | 출국 | 청원합니다 | 출국금지를",
           445
          ],
          [
           12,
           "장애인 | 합니다 | 있는 | 있습니다 | 환자",
           434
          ],
          [
           13,
           "판결을 | 합니다 | 하는 | 이런 | 한다",
           433
          ],
          [
           14,
           "청소년 | 생각합니다 | 처벌을 | 청소년들이 | 여중생",
           415
          ],
          [
           15,
           "합니다 | 생각합니다 | 조두순 | 범죄를 | 있습니다",
           394
          ],
          [
           16,
           "국민연금 | 연금 | 지금당장 | n국민연금 | 공무원",
           381
          ],
          [
           17,
           "의무를 | 국방의 | 양심적 | 있는 | 군대를",
           377
          ],
          [
           18,
           "난민 | 외국인 | 난민을 | 있습니다 | 이슬람",
           325
          ],
          [
           19,
           "동물을 | 동물 | 개를 | 강아지 | 동물들이",
           192
          ],
          [
           20,
           "문재인 | 국민들 | 경제 | 나라인가요 | n지금",
           186
          ],
          [
           21,
           "미세먼지 | 미세먼지가 | 미세먼지를 | 마스크를 | 미세먼지에",
           183
          ],
          [
           22,
           "에어컨 | 누진제 | 에어컨을 | 태양광 | 누진세",
           175
          ],
          [
           23,
           "담배를 | 담배 | 흡연 | 흡연을 | 길거리",
           140
          ],
          [
           24,
           "the | com | nhttp | nhttps | to",
           139
          ],
          [
           25,
           "전화를 | 민원을 | 너무 | 있습니다 | gps",
           128
          ]
         ],
         "hovertemplate": "<b>Topic %{customdata[0]}</b><br>%{customdata[1]}<br>Size: %{customdata[2]}",
         "legendgroup": "",
         "marker": {
          "color": "#B0BEC5",
          "line": {
           "color": "DarkSlateGrey",
           "width": 2
          },
          "size": {
           "bdata": "GgVIBJkCbAItAiMCBwLfAc0BwQHAAb0BsgGxAZ8BigF9AXkBRQHAALoAtwCvAIwAiwCAAA==",
           "dtype": "i2"
          },
          "sizemode": "area",
          "sizeref": 0.81625,
          "symbol": "circle"
         },
         "mode": "markers",
         "name": "",
         "orientation": "v",
         "showlegend": false,
         "type": "scatter",
         "x": {
          "bdata": "MjwBQDKFxT/bKiRA5ASsP35RhkF2iAdAQxwGwNoCDT+1a6s/0ZMQQMWViEFhRopBMSDDQAg1ikGVjI9B+c6NQZuHwkA5EgbAS+2/PxgX3EA9hJI/+/IWQUJTGkHo/DFAoAXNQMfDKT8=",
          "dtype": "f4"
         },
         "xaxis": "x",
         "y": {
          "bdata": "uEbxP+088j8SPuU/ZNjiP/BK2r6WrRNABNaTQc5cREGOcW1AzpAkQG1eHb6sbti+Y328v2JQKL7cLre+W1IFvyaGyL9h1JNByZGGQL6Cu7+bNlxAodaAQc1zgkE8BdU/1l2tvy4pRkE=",
          "dtype": "f4"
         },
         "yaxis": "y"
        }
       ],
       "layout": {
        "annotations": [
         {
          "showarrow": false,
          "text": "D1",
          "x": -2.4097962379455566,
          "y": 9.724921226501465,
          "yshift": 10
         },
         {
          "showarrow": false,
          "text": "D2",
          "x": 9.11269760131836,
          "xshift": 10,
          "y": 21.25142478942871
         }
        ],
        "height": 650,
        "hoverlabel": {
         "bgcolor": "white",
         "font": {
          "family": "Rockwell",
          "size": 16
         }
        },
        "legend": {
         "itemsizing": "constant",
         "tracegroupgap": 0
        },
        "margin": {
         "t": 60
        },
        "shapes": [
         {
          "line": {
           "color": "#CFD8DC",
           "width": 2
          },
          "type": "line",
          "x0": 9.11269760131836,
          "x1": 9.11269760131836,
          "y0": -1.801582932472229,
          "y1": 21.25142478942871
         },
         {
          "line": {
           "color": "#9E9E9E",
           "width": 2
          },
          "type": "line",
          "x0": -2.4097962379455566,
          "x1": 20.635190963745117,
          "y0": 9.724921226501465,
          "y1": 9.724921226501465
         }
        ],
        "sliders": [
         {
          "active": 0,
          "pad": {
           "t": 50
          },
          "steps": [
           {
            "args": [
             {
              "marker.color": [
               [
                "red",
                "#B0BEC5",
                "#B0BEC5",
                "#B0BEC5",
                "#B0BEC5",
                "#B0BEC5",
                "#B0BEC5",
                "#B0BEC5",
                "#B0BEC5",
                "#B0BEC5",
                "#B0BEC5",
                "#B0BEC5",
                "#B0BEC5",
                "#B0BEC5",
                "#B0BEC5",
                "#B0BEC5",
                "#B0BEC5",
                "#B0BEC5",
                "#B0BEC5",
                "#B0BEC5",
                "#B0BEC5",
                "#B0BEC5",
                "#B0BEC5",
                "#B0BEC5",
                "#B0BEC5",
                "#B0BEC5"
               ]
              ]
             }
            ],
            "label": "Topic 0",
            "method": "update"
           },
           {
            "args": [
             {
              "marker.color": [
               [
                "#B0BEC5",
                "red",
                "#B0BEC5",
                "#B0BEC5",
                "#B0BEC5",
                "#B0BEC5",
                "#B0BEC5",
                "#B0BEC5",
                "#B0BEC5",
                "#B0BEC5",
                "#B0BEC5",
                "#B0BEC5",
                "#B0BEC5",
                "#B0BEC5",
                "#B0BEC5",
                "#B0BEC5",
                "#B0BEC5",
                "#B0BEC5",
                "#B0BEC5",
                "#B0BEC5",
                "#B0BEC5",
                "#B0BEC5",
                "#B0BEC5",
                "#B0BEC5",
                "#B0BEC5",
                "#B0BEC5"
               ]
              ]
             }
            ],
            "label": "Topic 1",
            "method": "update"
           },
           {
            "args": [
             {
              "marker.color": [
               [
                "#B0BEC5",
                "#B0BEC5",
                "red",
                "#B0BEC5",
                "#B0BEC5",
                "#B0BEC5",
                "#B0BEC5",
                "#B0BEC5",
                "#B0BEC5",
                "#B0BEC5",
                "#B0BEC5",
                "#B0BEC5",
                "#B0BEC5",
                "#B0BEC5",
                "#B0BEC5",
                "#B0BEC5",
                "#B0BEC5",
                "#B0BEC5",
                "#B0BEC5",
                "#B0BEC5",
                "#B0BEC5",
                "#B0BEC5",
                "#B0BEC5",
                "#B0BEC5",
                "#B0BEC5",
                "#B0BEC5"
               ]
              ]
             }
            ],
            "label": "Topic 2",
            "method": "update"
           },
           {
            "args": [
             {
              "marker.color": [
               [
                "#B0BEC5",
                "#B0BEC5",
                "#B0BEC5",
                "red",
                "#B0BEC5",
                "#B0BEC5",
                "#B0BEC5",
                "#B0BEC5",
                "#B0BEC5",
                "#B0BEC5",
                "#B0BEC5",
                "#B0BEC5",
                "#B0BEC5",
                "#B0BEC5",
                "#B0BEC5",
                "#B0BEC5",
                "#B0BEC5",
                "#B0BEC5",
                "#B0BEC5",
                "#B0BEC5",
                "#B0BEC5",
                "#B0BEC5",
                "#B0BEC5",
                "#B0BEC5",
                "#B0BEC5",
                "#B0BEC5"
               ]
              ]
             }
            ],
            "label": "Topic 3",
            "method": "update"
           },
           {
            "args": [
             {
              "marker.color": [
               [
                "#B0BEC5",
                "#B0BEC5",
                "#B0BEC5",
                "#B0BEC5",
                "red",
                "#B0BEC5",
                "#B0BEC5",
                "#B0BEC5",
                "#B0BEC5",
                "#B0BEC5",
                "#B0BEC5",
                "#B0BEC5",
                "#B0BEC5",
                "#B0BEC5",
                "#B0BEC5",
                "#B0BEC5",
                "#B0BEC5",
                "#B0BEC5",
                "#B0BEC5",
                "#B0BEC5",
                "#B0BEC5",
                "#B0BEC5",
                "#B0BEC5",
                "#B0BEC5",
                "#B0BEC5",
                "#B0BEC5"
               ]
              ]
             }
            ],
            "label": "Topic 4",
            "method": "update"
           },
           {
            "args": [
             {
              "marker.color": [
               [
                "#B0BEC5",
                "#B0BEC5",
                "#B0BEC5",
                "#B0BEC5",
                "#B0BEC5",
                "red",
                "#B0BEC5",
                "#B0BEC5",
                "#B0BEC5",
                "#B0BEC5",
                "#B0BEC5",
                "#B0BEC5",
                "#B0BEC5",
                "#B0BEC5",
                "#B0BEC5",
                "#B0BEC5",
                "#B0BEC5",
                "#B0BEC5",
                "#B0BEC5",
                "#B0BEC5",
                "#B0BEC5",
                "#B0BEC5",
                "#B0BEC5",
                "#B0BEC5",
                "#B0BEC5",
                "#B0BEC5"
               ]
              ]
             }
            ],
            "label": "Topic 5",
            "method": "update"
           },
           {
            "args": [
             {
              "marker.color": [
               [
                "#B0BEC5",
                "#B0BEC5",
                "#B0BEC5",
                "#B0BEC5",
                "#B0BEC5",
                "#B0BEC5",
                "red",
                "#B0BEC5",
                "#B0BEC5",
                "#B0BEC5",
                "#B0BEC5",
                "#B0BEC5",
                "#B0BEC5",
                "#B0BEC5",
                "#B0BEC5",
                "#B0BEC5",
                "#B0BEC5",
                "#B0BEC5",
                "#B0BEC5",
                "#B0BEC5",
                "#B0BEC5",
                "#B0BEC5",
                "#B0BEC5",
                "#B0BEC5",
                "#B0BEC5",
                "#B0BEC5"
               ]
              ]
             }
            ],
            "label": "Topic 6",
            "method": "update"
           },
           {
            "args": [
             {
              "marker.color": [
               [
                "#B0BEC5",
                "#B0BEC5",
                "#B0BEC5",
                "#B0BEC5",
                "#B0BEC5",
                "#B0BEC5",
                "#B0BEC5",
                "red",
                "#B0BEC5",
                "#B0BEC5",
                "#B0BEC5",
                "#B0BEC5",
                "#B0BEC5",
                "#B0BEC5",
                "#B0BEC5",
                "#B0BEC5",
                "#B0BEC5",
                "#B0BEC5",
                "#B0BEC5",
                "#B0BEC5",
                "#B0BEC5",
                "#B0BEC5",
                "#B0BEC5",
                "#B0BEC5",
                "#B0BEC5",
                "#B0BEC5"
               ]
              ]
             }
            ],
            "label": "Topic 7",
            "method": "update"
           },
           {
            "args": [
             {
              "marker.color": [
               [
                "#B0BEC5",
                "#B0BEC5",
                "#B0BEC5",
                "#B0BEC5",
                "#B0BEC5",
                "#B0BEC5",
                "#B0BEC5",
                "#B0BEC5",
                "red",
                "#B0BEC5",
                "#B0BEC5",
                "#B0BEC5",
                "#B0BEC5",
                "#B0BEC5",
                "#B0BEC5",
                "#B0BEC5",
                "#B0BEC5",
                "#B0BEC5",
                "#B0BEC5",
                "#B0BEC5",
                "#B0BEC5",
                "#B0BEC5",
                "#B0BEC5",
                "#B0BEC5",
                "#B0BEC5",
                "#B0BEC5"
               ]
              ]
             }
            ],
            "label": "Topic 8",
            "method": "update"
           },
           {
            "args": [
             {
              "marker.color": [
               [
                "#B0BEC5",
                "#B0BEC5",
                "#B0BEC5",
                "#B0BEC5",
                "#B0BEC5",
                "#B0BEC5",
                "#B0BEC5",
                "#B0BEC5",
                "#B0BEC5",
                "red",
                "#B0BEC5",
                "#B0BEC5",
                "#B0BEC5",
                "#B0BEC5",
                "#B0BEC5",
                "#B0BEC5",
                "#B0BEC5",
                "#B0BEC5",
                "#B0BEC5",
                "#B0BEC5",
                "#B0BEC5",
                "#B0BEC5",
                "#B0BEC5",
                "#B0BEC5",
                "#B0BEC5",
                "#B0BEC5"
               ]
              ]
             }
            ],
            "label": "Topic 9",
            "method": "update"
           },
           {
            "args": [
             {
              "marker.color": [
               [
                "#B0BEC5",
                "#B0BEC5",
                "#B0BEC5",
                "#B0BEC5",
                "#B0BEC5",
                "#B0BEC5",
                "#B0BEC5",
                "#B0BEC5",
                "#B0BEC5",
                "#B0BEC5",
                "red",
                "#B0BEC5",
                "#B0BEC5",
                "#B0BEC5",
                "#B0BEC5",
                "#B0BEC5",
                "#B0BEC5",
                "#B0BEC5",
                "#B0BEC5",
                "#B0BEC5",
                "#B0BEC5",
                "#B0BEC5",
                "#B0BEC5",
                "#B0BEC5",
                "#B0BEC5",
                "#B0BEC5"
               ]
              ]
             }
            ],
            "label": "Topic 10",
            "method": "update"
           },
           {
            "args": [
             {
              "marker.color": [
               [
                "#B0BEC5",
                "#B0BEC5",
                "#B0BEC5",
                "#B0BEC5",
                "#B0BEC5",
                "#B0BEC5",
                "#B0BEC5",
                "#B0BEC5",
                "#B0BEC5",
                "#B0BEC5",
                "#B0BEC5",
                "red",
                "#B0BEC5",
                "#B0BEC5",
                "#B0BEC5",
                "#B0BEC5",
                "#B0BEC5",
                "#B0BEC5",
                "#B0BEC5",
                "#B0BEC5",
                "#B0BEC5",
                "#B0BEC5",
                "#B0BEC5",
                "#B0BEC5",
                "#B0BEC5",
                "#B0BEC5"
               ]
              ]
             }
            ],
            "label": "Topic 11",
            "method": "update"
           },
           {
            "args": [
             {
              "marker.color": [
               [
                "#B0BEC5",
                "#B0BEC5",
                "#B0BEC5",
                "#B0BEC5",
                "#B0BEC5",
                "#B0BEC5",
                "#B0BEC5",
                "#B0BEC5",
                "#B0BEC5",
                "#B0BEC5",
                "#B0BEC5",
                "#B0BEC5",
                "red",
                "#B0BEC5",
                "#B0BEC5",
                "#B0BEC5",
                "#B0BEC5",
                "#B0BEC5",
                "#B0BEC5",
                "#B0BEC5",
                "#B0BEC5",
                "#B0BEC5",
                "#B0BEC5",
                "#B0BEC5",
                "#B0BEC5",
                "#B0BEC5"
               ]
              ]
             }
            ],
            "label": "Topic 12",
            "method": "update"
           },
           {
            "args": [
             {
              "marker.color": [
               [
                "#B0BEC5",
                "#B0BEC5",
                "#B0BEC5",
                "#B0BEC5",
                "#B0BEC5",
                "#B0BEC5",
                "#B0BEC5",
                "#B0BEC5",
                "#B0BEC5",
                "#B0BEC5",
                "#B0BEC5",
                "#B0BEC5",
                "#B0BEC5",
                "red",
                "#B0BEC5",
                "#B0BEC5",
                "#B0BEC5",
                "#B0BEC5",
                "#B0BEC5",
                "#B0BEC5",
                "#B0BEC5",
                "#B0BEC5",
                "#B0BEC5",
                "#B0BEC5",
                "#B0BEC5",
                "#B0BEC5"
               ]
              ]
             }
            ],
            "label": "Topic 13",
            "method": "update"
           },
           {
            "args": [
             {
              "marker.color": [
               [
                "#B0BEC5",
                "#B0BEC5",
                "#B0BEC5",
                "#B0BEC5",
                "#B0BEC5",
                "#B0BEC5",
                "#B0BEC5",
                "#B0BEC5",
                "#B0BEC5",
                "#B0BEC5",
                "#B0BEC5",
                "#B0BEC5",
                "#B0BEC5",
                "#B0BEC5",
                "red",
                "#B0BEC5",
                "#B0BEC5",
                "#B0BEC5",
                "#B0BEC5",
                "#B0BEC5",
                "#B0BEC5",
                "#B0BEC5",
                "#B0BEC5",
                "#B0BEC5",
                "#B0BEC5",
                "#B0BEC5"
               ]
              ]
             }
            ],
            "label": "Topic 14",
            "method": "update"
           },
           {
            "args": [
             {
              "marker.color": [
               [
                "#B0BEC5",
                "#B0BEC5",
                "#B0BEC5",
                "#B0BEC5",
                "#B0BEC5",
                "#B0BEC5",
                "#B0BEC5",
                "#B0BEC5",
                "#B0BEC5",
                "#B0BEC5",
                "#B0BEC5",
                "#B0BEC5",
                "#B0BEC5",
                "#B0BEC5",
                "#B0BEC5",
                "red",
                "#B0BEC5",
                "#B0BEC5",
                "#B0BEC5",
                "#B0BEC5",
                "#B0BEC5",
                "#B0BEC5",
                "#B0BEC5",
                "#B0BEC5",
                "#B0BEC5",
                "#B0BEC5"
               ]
              ]
             }
            ],
            "label": "Topic 15",
            "method": "update"
           },
           {
            "args": [
             {
              "marker.color": [
               [
                "#B0BEC5",
                "#B0BEC5",
                "#B0BEC5",
                "#B0BEC5",
                "#B0BEC5",
                "#B0BEC5",
                "#B0BEC5",
                "#B0BEC5",
                "#B0BEC5",
                "#B0BEC5",
                "#B0BEC5",
                "#B0BEC5",
                "#B0BEC5",
                "#B0BEC5",
                "#B0BEC5",
                "#B0BEC5",
                "red",
                "#B0BEC5",
                "#B0BEC5",
                "#B0BEC5",
                "#B0BEC5",
                "#B0BEC5",
                "#B0BEC5",
                "#B0BEC5",
                "#B0BEC5",
                "#B0BEC5"
               ]
              ]
             }
            ],
            "label": "Topic 16",
            "method": "update"
           },
           {
            "args": [
             {
              "marker.color": [
               [
                "#B0BEC5",
                "#B0BEC5",
                "#B0BEC5",
                "#B0BEC5",
                "#B0BEC5",
                "#B0BEC5",
                "#B0BEC5",
                "#B0BEC5",
                "#B0BEC5",
                "#B0BEC5",
                "#B0BEC5",
                "#B0BEC5",
                "#B0BEC5",
                "#B0BEC5",
                "#B0BEC5",
                "#B0BEC5",
                "#B0BEC5",
                "red",
                "#B0BEC5",
                "#B0BEC5",
                "#B0BEC5",
                "#B0BEC5",
                "#B0BEC5",
                "#B0BEC5",
                "#B0BEC5",
                "#B0BEC5"
               ]
              ]
             }
            ],
            "label": "Topic 17",
            "method": "update"
           },
           {
            "args": [
             {
              "marker.color": [
               [
                "#B0BEC5",
                "#B0BEC5",
                "#B0BEC5",
                "#B0BEC5",
                "#B0BEC5",
                "#B0BEC5",
                "#B0BEC5",
                "#B0BEC5",
                "#B0BEC5",
                "#B0BEC5",
                "#B0BEC5",
                "#B0BEC5",
                "#B0BEC5",
                "#B0BEC5",
                "#B0BEC5",
                "#B0BEC5",
                "#B0BEC5",
                "#B0BEC5",
                "red",
                "#B0BEC5",
                "#B0BEC5",
                "#B0BEC5",
                "#B0BEC5",
                "#B0BEC5",
                "#B0BEC5",
                "#B0BEC5"
               ]
              ]
             }
            ],
            "label": "Topic 18",
            "method": "update"
           },
           {
            "args": [
             {
              "marker.color": [
               [
                "#B0BEC5",
                "#B0BEC5",
                "#B0BEC5",
                "#B0BEC5",
                "#B0BEC5",
                "#B0BEC5",
                "#B0BEC5",
                "#B0BEC5",
                "#B0BEC5",
                "#B0BEC5",
                "#B0BEC5",
                "#B0BEC5",
                "#B0BEC5",
                "#B0BEC5",
                "#B0BEC5",
                "#B0BEC5",
                "#B0BEC5",
                "#B0BEC5",
                "#B0BEC5",
                "red",
                "#B0BEC5",
                "#B0BEC5",
                "#B0BEC5",
                "#B0BEC5",
                "#B0BEC5",
                "#B0BEC5"
               ]
              ]
             }
            ],
            "label": "Topic 19",
            "method": "update"
           },
           {
            "args": [
             {
              "marker.color": [
               [
                "#B0BEC5",
                "#B0BEC5",
                "#B0BEC5",
                "#B0BEC5",
                "#B0BEC5",
                "#B0BEC5",
                "#B0BEC5",
                "#B0BEC5",
                "#B0BEC5",
                "#B0BEC5",
                "#B0BEC5",
                "#B0BEC5",
                "#B0BEC5",
                "#B0BEC5",
                "#B0BEC5",
                "#B0BEC5",
                "#B0BEC5",
                "#B0BEC5",
                "#B0BEC5",
                "#B0BEC5",
                "red",
                "#B0BEC5",
                "#B0BEC5",
                "#B0BEC5",
                "#B0BEC5",
                "#B0BEC5"
               ]
              ]
             }
            ],
            "label": "Topic 20",
            "method": "update"
           },
           {
            "args": [
             {
              "marker.color": [
               [
                "#B0BEC5",
                "#B0BEC5",
                "#B0BEC5",
                "#B0BEC5",
                "#B0BEC5",
                "#B0BEC5",
                "#B0BEC5",
                "#B0BEC5",
                "#B0BEC5",
                "#B0BEC5",
                "#B0BEC5",
                "#B0BEC5",
                "#B0BEC5",
                "#B0BEC5",
                "#B0BEC5",
                "#B0BEC5",
                "#B0BEC5",
                "#B0BEC5",
                "#B0BEC5",
                "#B0BEC5",
                "#B0BEC5",
                "red",
                "#B0BEC5",
                "#B0BEC5",
                "#B0BEC5",
                "#B0BEC5"
               ]
              ]
             }
            ],
            "label": "Topic 21",
            "method": "update"
           },
           {
            "args": [
             {
              "marker.color": [
               [
                "#B0BEC5",
                "#B0BEC5",
                "#B0BEC5",
                "#B0BEC5",
                "#B0BEC5",
                "#B0BEC5",
                "#B0BEC5",
                "#B0BEC5",
                "#B0BEC5",
                "#B0BEC5",
                "#B0BEC5",
                "#B0BEC5",
                "#B0BEC5",
                "#B0BEC5",
                "#B0BEC5",
                "#B0BEC5",
                "#B0BEC5",
                "#B0BEC5",
                "#B0BEC5",
                "#B0BEC5",
                "#B0BEC5",
                "#B0BEC5",
                "red",
                "#B0BEC5",
                "#B0BEC5",
                "#B0BEC5"
               ]
              ]
             }
            ],
            "label": "Topic 22",
            "method": "update"
           },
           {
            "args": [
             {
              "marker.color": [
               [
                "#B0BEC5",
                "#B0BEC5",
                "#B0BEC5",
                "#B0BEC5",
                "#B0BEC5",
                "#B0BEC5",
                "#B0BEC5",
                "#B0BEC5",
                "#B0BEC5",
                "#B0BEC5",
                "#B0BEC5",
                "#B0BEC5",
                "#B0BEC5",
                "#B0BEC5",
                "#B0BEC5",
                "#B0BEC5",
                "#B0BEC5",
                "#B0BEC5",
                "#B0BEC5",
                "#B0BEC5",
                "#B0BEC5",
                "#B0BEC5",
                "#B0BEC5",
                "red",
                "#B0BEC5",
                "#B0BEC5"
               ]
              ]
             }
            ],
            "label": "Topic 23",
            "method": "update"
           },
           {
            "args": [
             {
              "marker.color": [
               [
                "#B0BEC5",
                "#B0BEC5",
                "#B0BEC5",
                "#B0BEC5",
                "#B0BEC5",
                "#B0BEC5",
                "#B0BEC5",
                "#B0BEC5",
                "#B0BEC5",
                "#B0BEC5",
                "#B0BEC5",
                "#B0BEC5",
                "#B0BEC5",
                "#B0BEC5",
                "#B0BEC5",
                "#B0BEC5",
                "#B0BEC5",
                "#B0BEC5",
                "#B0BEC5",
                "#B0BEC5",
                "#B0BEC5",
                "#B0BEC5",
                "#B0BEC5",
                "#B0BEC5",
                "red",
                "#B0BEC5"
               ]
              ]
             }
            ],
            "label": "Topic 24",
            "method": "update"
           },
           {
            "args": [
             {
              "marker.color": [
               [
                "#B0BEC5",
                "#B0BEC5",
                "#B0BEC5",
                "#B0BEC5",
                "#B0BEC5",
                "#B0BEC5",
                "#B0BEC5",
                "#B0BEC5",
                "#B0BEC5",
                "#B0BEC5",
                "#B0BEC5",
                "#B0BEC5",
                "#B0BEC5",
                "#B0BEC5",
                "#B0BEC5",
                "#B0BEC5",
                "#B0BEC5",
                "#B0BEC5",
                "#B0BEC5",
                "#B0BEC5",
                "#B0BEC5",
                "#B0BEC5",
                "#B0BEC5",
                "#B0BEC5",
                "#B0BEC5",
                "red"
               ]
              ]
             }
            ],
            "label": "Topic 25",
            "method": "update"
           }
          ]
         }
        ],
        "template": {
         "data": {
          "bar": [
           {
            "error_x": {
             "color": "rgb(36,36,36)"
            },
            "error_y": {
             "color": "rgb(36,36,36)"
            },
            "marker": {
             "line": {
              "color": "white",
              "width": 0.5
             },
             "pattern": {
              "fillmode": "overlay",
              "size": 10,
              "solidity": 0.2
             }
            },
            "type": "bar"
           }
          ],
          "barpolar": [
           {
            "marker": {
             "line": {
              "color": "white",
              "width": 0.5
             },
             "pattern": {
              "fillmode": "overlay",
              "size": 10,
              "solidity": 0.2
             }
            },
            "type": "barpolar"
           }
          ],
          "carpet": [
           {
            "aaxis": {
             "endlinecolor": "rgb(36,36,36)",
             "gridcolor": "white",
             "linecolor": "white",
             "minorgridcolor": "white",
             "startlinecolor": "rgb(36,36,36)"
            },
            "baxis": {
             "endlinecolor": "rgb(36,36,36)",
             "gridcolor": "white",
             "linecolor": "white",
             "minorgridcolor": "white",
             "startlinecolor": "rgb(36,36,36)"
            },
            "type": "carpet"
           }
          ],
          "choropleth": [
           {
            "colorbar": {
             "outlinewidth": 1,
             "tickcolor": "rgb(36,36,36)",
             "ticks": "outside"
            },
            "type": "choropleth"
           }
          ],
          "contour": [
           {
            "colorbar": {
             "outlinewidth": 1,
             "tickcolor": "rgb(36,36,36)",
             "ticks": "outside"
            },
            "colorscale": [
             [
              0,
              "#440154"
             ],
             [
              0.1111111111111111,
              "#482878"
             ],
             [
              0.2222222222222222,
              "#3e4989"
             ],
             [
              0.3333333333333333,
              "#31688e"
             ],
             [
              0.4444444444444444,
              "#26828e"
             ],
             [
              0.5555555555555556,
              "#1f9e89"
             ],
             [
              0.6666666666666666,
              "#35b779"
             ],
             [
              0.7777777777777778,
              "#6ece58"
             ],
             [
              0.8888888888888888,
              "#b5de2b"
             ],
             [
              1,
              "#fde725"
             ]
            ],
            "type": "contour"
           }
          ],
          "contourcarpet": [
           {
            "colorbar": {
             "outlinewidth": 1,
             "tickcolor": "rgb(36,36,36)",
             "ticks": "outside"
            },
            "type": "contourcarpet"
           }
          ],
          "heatmap": [
           {
            "colorbar": {
             "outlinewidth": 1,
             "tickcolor": "rgb(36,36,36)",
             "ticks": "outside"
            },
            "colorscale": [
             [
              0,
              "#440154"
             ],
             [
              0.1111111111111111,
              "#482878"
             ],
             [
              0.2222222222222222,
              "#3e4989"
             ],
             [
              0.3333333333333333,
              "#31688e"
             ],
             [
              0.4444444444444444,
              "#26828e"
             ],
             [
              0.5555555555555556,
              "#1f9e89"
             ],
             [
              0.6666666666666666,
              "#35b779"
             ],
             [
              0.7777777777777778,
              "#6ece58"
             ],
             [
              0.8888888888888888,
              "#b5de2b"
             ],
             [
              1,
              "#fde725"
             ]
            ],
            "type": "heatmap"
           }
          ],
          "histogram": [
           {
            "marker": {
             "line": {
              "color": "white",
              "width": 0.6
             }
            },
            "type": "histogram"
           }
          ],
          "histogram2d": [
           {
            "colorbar": {
             "outlinewidth": 1,
             "tickcolor": "rgb(36,36,36)",
             "ticks": "outside"
            },
            "colorscale": [
             [
              0,
              "#440154"
             ],
             [
              0.1111111111111111,
              "#482878"
             ],
             [
              0.2222222222222222,
              "#3e4989"
             ],
             [
              0.3333333333333333,
              "#31688e"
             ],
             [
              0.4444444444444444,
              "#26828e"
             ],
             [
              0.5555555555555556,
              "#1f9e89"
             ],
             [
              0.6666666666666666,
              "#35b779"
             ],
             [
              0.7777777777777778,
              "#6ece58"
             ],
             [
              0.8888888888888888,
              "#b5de2b"
             ],
             [
              1,
              "#fde725"
             ]
            ],
            "type": "histogram2d"
           }
          ],
          "histogram2dcontour": [
           {
            "colorbar": {
             "outlinewidth": 1,
             "tickcolor": "rgb(36,36,36)",
             "ticks": "outside"
            },
            "colorscale": [
             [
              0,
              "#440154"
             ],
             [
              0.1111111111111111,
              "#482878"
             ],
             [
              0.2222222222222222,
              "#3e4989"
             ],
             [
              0.3333333333333333,
              "#31688e"
             ],
             [
              0.4444444444444444,
              "#26828e"
             ],
             [
              0.5555555555555556,
              "#1f9e89"
             ],
             [
              0.6666666666666666,
              "#35b779"
             ],
             [
              0.7777777777777778,
              "#6ece58"
             ],
             [
              0.8888888888888888,
              "#b5de2b"
             ],
             [
              1,
              "#fde725"
             ]
            ],
            "type": "histogram2dcontour"
           }
          ],
          "mesh3d": [
           {
            "colorbar": {
             "outlinewidth": 1,
             "tickcolor": "rgb(36,36,36)",
             "ticks": "outside"
            },
            "type": "mesh3d"
           }
          ],
          "parcoords": [
           {
            "line": {
             "colorbar": {
              "outlinewidth": 1,
              "tickcolor": "rgb(36,36,36)",
              "ticks": "outside"
             }
            },
            "type": "parcoords"
           }
          ],
          "pie": [
           {
            "automargin": true,
            "type": "pie"
           }
          ],
          "scatter": [
           {
            "fillpattern": {
             "fillmode": "overlay",
             "size": 10,
             "solidity": 0.2
            },
            "type": "scatter"
           }
          ],
          "scatter3d": [
           {
            "line": {
             "colorbar": {
              "outlinewidth": 1,
              "tickcolor": "rgb(36,36,36)",
              "ticks": "outside"
             }
            },
            "marker": {
             "colorbar": {
              "outlinewidth": 1,
              "tickcolor": "rgb(36,36,36)",
              "ticks": "outside"
             }
            },
            "type": "scatter3d"
           }
          ],
          "scattercarpet": [
           {
            "marker": {
             "colorbar": {
              "outlinewidth": 1,
              "tickcolor": "rgb(36,36,36)",
              "ticks": "outside"
             }
            },
            "type": "scattercarpet"
           }
          ],
          "scattergeo": [
           {
            "marker": {
             "colorbar": {
              "outlinewidth": 1,
              "tickcolor": "rgb(36,36,36)",
              "ticks": "outside"
             }
            },
            "type": "scattergeo"
           }
          ],
          "scattergl": [
           {
            "marker": {
             "colorbar": {
              "outlinewidth": 1,
              "tickcolor": "rgb(36,36,36)",
              "ticks": "outside"
             }
            },
            "type": "scattergl"
           }
          ],
          "scattermap": [
           {
            "marker": {
             "colorbar": {
              "outlinewidth": 1,
              "tickcolor": "rgb(36,36,36)",
              "ticks": "outside"
             }
            },
            "type": "scattermap"
           }
          ],
          "scattermapbox": [
           {
            "marker": {
             "colorbar": {
              "outlinewidth": 1,
              "tickcolor": "rgb(36,36,36)",
              "ticks": "outside"
             }
            },
            "type": "scattermapbox"
           }
          ],
          "scatterpolar": [
           {
            "marker": {
             "colorbar": {
              "outlinewidth": 1,
              "tickcolor": "rgb(36,36,36)",
              "ticks": "outside"
             }
            },
            "type": "scatterpolar"
           }
          ],
          "scatterpolargl": [
           {
            "marker": {
             "colorbar": {
              "outlinewidth": 1,
              "tickcolor": "rgb(36,36,36)",
              "ticks": "outside"
             }
            },
            "type": "scatterpolargl"
           }
          ],
          "scatterternary": [
           {
            "marker": {
             "colorbar": {
              "outlinewidth": 1,
              "tickcolor": "rgb(36,36,36)",
              "ticks": "outside"
             }
            },
            "type": "scatterternary"
           }
          ],
          "surface": [
           {
            "colorbar": {
             "outlinewidth": 1,
             "tickcolor": "rgb(36,36,36)",
             "ticks": "outside"
            },
            "colorscale": [
             [
              0,
              "#440154"
             ],
             [
              0.1111111111111111,
              "#482878"
             ],
             [
              0.2222222222222222,
              "#3e4989"
             ],
             [
              0.3333333333333333,
              "#31688e"
             ],
             [
              0.4444444444444444,
              "#26828e"
             ],
             [
              0.5555555555555556,
              "#1f9e89"
             ],
             [
              0.6666666666666666,
              "#35b779"
             ],
             [
              0.7777777777777778,
              "#6ece58"
             ],
             [
              0.8888888888888888,
              "#b5de2b"
             ],
             [
              1,
              "#fde725"
             ]
            ],
            "type": "surface"
           }
          ],
          "table": [
           {
            "cells": {
             "fill": {
              "color": "rgb(237,237,237)"
             },
             "line": {
              "color": "white"
             }
            },
            "header": {
             "fill": {
              "color": "rgb(217,217,217)"
             },
             "line": {
              "color": "white"
             }
            },
            "type": "table"
           }
          ]
         },
         "layout": {
          "annotationdefaults": {
           "arrowhead": 0,
           "arrowwidth": 1
          },
          "autotypenumbers": "strict",
          "coloraxis": {
           "colorbar": {
            "outlinewidth": 1,
            "tickcolor": "rgb(36,36,36)",
            "ticks": "outside"
           }
          },
          "colorscale": {
           "diverging": [
            [
             0,
             "rgb(103,0,31)"
            ],
            [
             0.1,
             "rgb(178,24,43)"
            ],
            [
             0.2,
             "rgb(214,96,77)"
            ],
            [
             0.3,
             "rgb(244,165,130)"
            ],
            [
             0.4,
             "rgb(253,219,199)"
            ],
            [
             0.5,
             "rgb(247,247,247)"
            ],
            [
             0.6,
             "rgb(209,229,240)"
            ],
            [
             0.7,
             "rgb(146,197,222)"
            ],
            [
             0.8,
             "rgb(67,147,195)"
            ],
            [
             0.9,
             "rgb(33,102,172)"
            ],
            [
             1,
             "rgb(5,48,97)"
            ]
           ],
           "sequential": [
            [
             0,
             "#440154"
            ],
            [
             0.1111111111111111,
             "#482878"
            ],
            [
             0.2222222222222222,
             "#3e4989"
            ],
            [
             0.3333333333333333,
             "#31688e"
            ],
            [
             0.4444444444444444,
             "#26828e"
            ],
            [
             0.5555555555555556,
             "#1f9e89"
            ],
            [
             0.6666666666666666,
             "#35b779"
            ],
            [
             0.7777777777777778,
             "#6ece58"
            ],
            [
             0.8888888888888888,
             "#b5de2b"
            ],
            [
             1,
             "#fde725"
            ]
           ],
           "sequentialminus": [
            [
             0,
             "#440154"
            ],
            [
             0.1111111111111111,
             "#482878"
            ],
            [
             0.2222222222222222,
             "#3e4989"
            ],
            [
             0.3333333333333333,
             "#31688e"
            ],
            [
             0.4444444444444444,
             "#26828e"
            ],
            [
             0.5555555555555556,
             "#1f9e89"
            ],
            [
             0.6666666666666666,
             "#35b779"
            ],
            [
             0.7777777777777778,
             "#6ece58"
            ],
            [
             0.8888888888888888,
             "#b5de2b"
            ],
            [
             1,
             "#fde725"
            ]
           ]
          },
          "colorway": [
           "#1F77B4",
           "#FF7F0E",
           "#2CA02C",
           "#D62728",
           "#9467BD",
           "#8C564B",
           "#E377C2",
           "#7F7F7F",
           "#BCBD22",
           "#17BECF"
          ],
          "font": {
           "color": "rgb(36,36,36)"
          },
          "geo": {
           "bgcolor": "white",
           "lakecolor": "white",
           "landcolor": "white",
           "showlakes": true,
           "showland": true,
           "subunitcolor": "white"
          },
          "hoverlabel": {
           "align": "left"
          },
          "hovermode": "closest",
          "mapbox": {
           "style": "light"
          },
          "paper_bgcolor": "white",
          "plot_bgcolor": "white",
          "polar": {
           "angularaxis": {
            "gridcolor": "rgb(232,232,232)",
            "linecolor": "rgb(36,36,36)",
            "showgrid": false,
            "showline": true,
            "ticks": "outside"
           },
           "bgcolor": "white",
           "radialaxis": {
            "gridcolor": "rgb(232,232,232)",
            "linecolor": "rgb(36,36,36)",
            "showgrid": false,
            "showline": true,
            "ticks": "outside"
           }
          },
          "scene": {
           "xaxis": {
            "backgroundcolor": "white",
            "gridcolor": "rgb(232,232,232)",
            "gridwidth": 2,
            "linecolor": "rgb(36,36,36)",
            "showbackground": true,
            "showgrid": false,
            "showline": true,
            "ticks": "outside",
            "zeroline": false,
            "zerolinecolor": "rgb(36,36,36)"
           },
           "yaxis": {
            "backgroundcolor": "white",
            "gridcolor": "rgb(232,232,232)",
            "gridwidth": 2,
            "linecolor": "rgb(36,36,36)",
            "showbackground": true,
            "showgrid": false,
            "showline": true,
            "ticks": "outside",
            "zeroline": false,
            "zerolinecolor": "rgb(36,36,36)"
           },
           "zaxis": {
            "backgroundcolor": "white",
            "gridcolor": "rgb(232,232,232)",
            "gridwidth": 2,
            "linecolor": "rgb(36,36,36)",
            "showbackground": true,
            "showgrid": false,
            "showline": true,
            "ticks": "outside",
            "zeroline": false,
            "zerolinecolor": "rgb(36,36,36)"
           }
          },
          "shapedefaults": {
           "fillcolor": "black",
           "line": {
            "width": 0
           },
           "opacity": 0.3
          },
          "ternary": {
           "aaxis": {
            "gridcolor": "rgb(232,232,232)",
            "linecolor": "rgb(36,36,36)",
            "showgrid": false,
            "showline": true,
            "ticks": "outside"
           },
           "baxis": {
            "gridcolor": "rgb(232,232,232)",
            "linecolor": "rgb(36,36,36)",
            "showgrid": false,
            "showline": true,
            "ticks": "outside"
           },
           "bgcolor": "white",
           "caxis": {
            "gridcolor": "rgb(232,232,232)",
            "linecolor": "rgb(36,36,36)",
            "showgrid": false,
            "showline": true,
            "ticks": "outside"
           }
          },
          "title": {
           "x": 0.05
          },
          "xaxis": {
           "automargin": true,
           "gridcolor": "rgb(232,232,232)",
           "linecolor": "rgb(36,36,36)",
           "showgrid": false,
           "showline": true,
           "ticks": "outside",
           "title": {
            "standoff": 15
           },
           "zeroline": false,
           "zerolinecolor": "rgb(36,36,36)"
          },
          "yaxis": {
           "automargin": true,
           "gridcolor": "rgb(232,232,232)",
           "linecolor": "rgb(36,36,36)",
           "showgrid": false,
           "showline": true,
           "ticks": "outside",
           "title": {
            "standoff": 15
           },
           "zeroline": false,
           "zerolinecolor": "rgb(36,36,36)"
          }
         }
        },
        "title": {
         "font": {
          "color": "Black",
          "size": 22
         },
         "text": "<b>Intertopic Distance Map</b>",
         "x": 0.5,
         "xanchor": "center",
         "y": 0.95,
         "yanchor": "top"
        },
        "width": 650,
        "xaxis": {
         "anchor": "y",
         "domain": [
          0,
          1
         ],
         "range": [
          -2.4097962379455566,
          20.635190963745117
         ],
         "title": {
          "text": ""
         },
         "visible": false
        },
        "yaxis": {
         "anchor": "x",
         "domain": [
          0,
          1
         ],
         "range": [
          -1.801582932472229,
          21.25142478942871
         ],
         "title": {
          "text": ""
         },
         "visible": false
        }
       }
      }
     },
     "metadata": {},
     "output_type": "display_data"
    }
   ],
   "source": [
    "topic_model.visualize_topics()"
   ]
  },
  {
   "cell_type": "code",
   "execution_count": 34,
   "id": "c965b3f1",
   "metadata": {},
   "outputs": [
    {
     "data": {
      "application/vnd.plotly.v1+json": {
       "config": {
        "plotlyServerURL": "https://plot.ly"
       },
       "data": [
        {
         "marker": {
          "color": "#D55E00"
         },
         "orientation": "h",
         "type": "bar",
         "x": [
          0.007715803733399959,
          0.0082464035897568,
          0.009690331996287573,
          0.010203924287294924,
          0.01214080871004412
         ],
         "xaxis": "x",
         "y": [
          "일을  ",
          "하고  ",
          "합니다  ",
          "있는  ",
          "있습니다  "
         ],
         "yaxis": "y"
        },
        {
         "marker": {
          "color": "#0072B2"
         },
         "orientation": "h",
         "type": "bar",
         "x": [
          0.009093988613269818,
          0.01047468301673003,
          0.01121548331710501,
          0.011875947405078585,
          0.015809740300186826
         ],
         "xaxis": "x2",
         "y": [
          "합니다  ",
          "있습니다  ",
          "있는  ",
          "아파트  ",
          "부동산  "
         ],
         "yaxis": "y2"
        },
        {
         "marker": {
          "color": "#CC79A7"
         },
         "orientation": "h",
         "type": "bar",
         "x": [
          0.0077640286340412415,
          0.008686724211815882,
          0.009103093015984954,
          0.010553752370504245,
          0.011900465147537606
         ],
         "xaxis": "x3",
         "y": [
          "자동차  ",
          "하는  ",
          "있는  ",
          "합니다  ",
          "있습니다  "
         ],
         "yaxis": "y3"
        },
        {
         "marker": {
          "color": "#E69F00"
         },
         "orientation": "h",
         "type": "bar",
         "x": [
          0.008413286168662902,
          0.009891639001348956,
          0.011765700763853222,
          0.01231744091852104,
          0.02278776917070569
         ],
         "xaxis": "x4",
         "y": [
          "있는  ",
          "있습니다  ",
          "거래소  ",
          "공매도  ",
          "가상화폐  "
         ],
         "yaxis": "y4"
        },
        {
         "marker": {
          "color": "#56B4E9"
         },
         "orientation": "h",
         "type": "bar",
         "x": [
          0.009795124285038282,
          0.010567820027882067,
          0.01106334411159665,
          0.013189210499873798,
          0.01854075086682343
         ],
         "xaxis": "x5",
         "y": [
          "선수가  ",
          "대한민국  ",
          "선수들이  ",
          "선수  ",
          "올림픽  "
         ],
         "yaxis": "y5"
        },
        {
         "marker": {
          "color": "#009E73"
         },
         "orientation": "h",
         "type": "bar",
         "x": [
          0.009663865390114346,
          0.01035387426848675,
          0.012392146292653738,
          0.019086546898927644,
          0.021446918627110064
         ],
         "xaxis": "x6",
         "y": [
          "합니다  ",
          "있습니다  ",
          "있는  ",
          "어린이집  ",
          "아이를  "
         ],
         "yaxis": "y6"
        },
        {
         "marker": {
          "color": "#F0E442"
         },
         "orientation": "h",
         "type": "bar",
         "x": [
          0.00894140818319641,
          0.010159029212249909,
          0.011190108768938226,
          0.012028535568606672,
          0.0122153991568926
         ],
         "xaxis": "x7",
         "y": [
          "하는  ",
          "성범죄  ",
          "무고  ",
          "여성  ",
          "있습니다  "
         ],
         "yaxis": "y7"
        },
        {
         "marker": {
          "color": "#D55E00"
         },
         "orientation": "h",
         "type": "bar",
         "x": [
          0.011400546144789938,
          0.011988215051559356,
          0.012309344504583866,
          0.013280303217158208,
          0.016381032983472817
         ],
         "xaxis": "x8",
         "y": [
          "청원을  ",
          "있는  ",
          "있습니다  ",
          "청원이  ",
          "청원  "
         ],
         "yaxis": "y8"
        }
       ],
       "layout": {
        "annotations": [
         {
          "font": {
           "size": 16
          },
          "showarrow": false,
          "text": "Topic 0",
          "x": 0.0875,
          "xanchor": "center",
          "xref": "paper",
          "y": 1,
          "yanchor": "bottom",
          "yref": "paper"
         },
         {
          "font": {
           "size": 16
          },
          "showarrow": false,
          "text": "Topic 1",
          "x": 0.36250000000000004,
          "xanchor": "center",
          "xref": "paper",
          "y": 1,
          "yanchor": "bottom",
          "yref": "paper"
         },
         {
          "font": {
           "size": 16
          },
          "showarrow": false,
          "text": "Topic 2",
          "x": 0.6375000000000001,
          "xanchor": "center",
          "xref": "paper",
          "y": 1,
          "yanchor": "bottom",
          "yref": "paper"
         },
         {
          "font": {
           "size": 16
          },
          "showarrow": false,
          "text": "Topic 3",
          "x": 0.9125,
          "xanchor": "center",
          "xref": "paper",
          "y": 1,
          "yanchor": "bottom",
          "yref": "paper"
         },
         {
          "font": {
           "size": 16
          },
          "showarrow": false,
          "text": "Topic 4",
          "x": 0.0875,
          "xanchor": "center",
          "xref": "paper",
          "y": 0.4,
          "yanchor": "bottom",
          "yref": "paper"
         },
         {
          "font": {
           "size": 16
          },
          "showarrow": false,
          "text": "Topic 5",
          "x": 0.36250000000000004,
          "xanchor": "center",
          "xref": "paper",
          "y": 0.4,
          "yanchor": "bottom",
          "yref": "paper"
         },
         {
          "font": {
           "size": 16
          },
          "showarrow": false,
          "text": "Topic 6",
          "x": 0.6375000000000001,
          "xanchor": "center",
          "xref": "paper",
          "y": 0.4,
          "yanchor": "bottom",
          "yref": "paper"
         },
         {
          "font": {
           "size": 16
          },
          "showarrow": false,
          "text": "Topic 7",
          "x": 0.9125,
          "xanchor": "center",
          "xref": "paper",
          "y": 0.4,
          "yanchor": "bottom",
          "yref": "paper"
         }
        ],
        "height": 500,
        "hoverlabel": {
         "bgcolor": "white",
         "font": {
          "family": "Rockwell",
          "size": 16
         }
        },
        "showlegend": false,
        "template": {
         "data": {
          "bar": [
           {
            "error_x": {
             "color": "#2a3f5f"
            },
            "error_y": {
             "color": "#2a3f5f"
            },
            "marker": {
             "line": {
              "color": "white",
              "width": 0.5
             },
             "pattern": {
              "fillmode": "overlay",
              "size": 10,
              "solidity": 0.2
             }
            },
            "type": "bar"
           }
          ],
          "barpolar": [
           {
            "marker": {
             "line": {
              "color": "white",
              "width": 0.5
             },
             "pattern": {
              "fillmode": "overlay",
              "size": 10,
              "solidity": 0.2
             }
            },
            "type": "barpolar"
           }
          ],
          "carpet": [
           {
            "aaxis": {
             "endlinecolor": "#2a3f5f",
             "gridcolor": "#C8D4E3",
             "linecolor": "#C8D4E3",
             "minorgridcolor": "#C8D4E3",
             "startlinecolor": "#2a3f5f"
            },
            "baxis": {
             "endlinecolor": "#2a3f5f",
             "gridcolor": "#C8D4E3",
             "linecolor": "#C8D4E3",
             "minorgridcolor": "#C8D4E3",
             "startlinecolor": "#2a3f5f"
            },
            "type": "carpet"
           }
          ],
          "choropleth": [
           {
            "colorbar": {
             "outlinewidth": 0,
             "ticks": ""
            },
            "type": "choropleth"
           }
          ],
          "contour": [
           {
            "colorbar": {
             "outlinewidth": 0,
             "ticks": ""
            },
            "colorscale": [
             [
              0,
              "#0d0887"
             ],
             [
              0.1111111111111111,
              "#46039f"
             ],
             [
              0.2222222222222222,
              "#7201a8"
             ],
             [
              0.3333333333333333,
              "#9c179e"
             ],
             [
              0.4444444444444444,
              "#bd3786"
             ],
             [
              0.5555555555555556,
              "#d8576b"
             ],
             [
              0.6666666666666666,
              "#ed7953"
             ],
             [
              0.7777777777777778,
              "#fb9f3a"
             ],
             [
              0.8888888888888888,
              "#fdca26"
             ],
             [
              1,
              "#f0f921"
             ]
            ],
            "type": "contour"
           }
          ],
          "contourcarpet": [
           {
            "colorbar": {
             "outlinewidth": 0,
             "ticks": ""
            },
            "type": "contourcarpet"
           }
          ],
          "heatmap": [
           {
            "colorbar": {
             "outlinewidth": 0,
             "ticks": ""
            },
            "colorscale": [
             [
              0,
              "#0d0887"
             ],
             [
              0.1111111111111111,
              "#46039f"
             ],
             [
              0.2222222222222222,
              "#7201a8"
             ],
             [
              0.3333333333333333,
              "#9c179e"
             ],
             [
              0.4444444444444444,
              "#bd3786"
             ],
             [
              0.5555555555555556,
              "#d8576b"
             ],
             [
              0.6666666666666666,
              "#ed7953"
             ],
             [
              0.7777777777777778,
              "#fb9f3a"
             ],
             [
              0.8888888888888888,
              "#fdca26"
             ],
             [
              1,
              "#f0f921"
             ]
            ],
            "type": "heatmap"
           }
          ],
          "histogram": [
           {
            "marker": {
             "pattern": {
              "fillmode": "overlay",
              "size": 10,
              "solidity": 0.2
             }
            },
            "type": "histogram"
           }
          ],
          "histogram2d": [
           {
            "colorbar": {
             "outlinewidth": 0,
             "ticks": ""
            },
            "colorscale": [
             [
              0,
              "#0d0887"
             ],
             [
              0.1111111111111111,
              "#46039f"
             ],
             [
              0.2222222222222222,
              "#7201a8"
             ],
             [
              0.3333333333333333,
              "#9c179e"
             ],
             [
              0.4444444444444444,
              "#bd3786"
             ],
             [
              0.5555555555555556,
              "#d8576b"
             ],
             [
              0.6666666666666666,
              "#ed7953"
             ],
             [
              0.7777777777777778,
              "#fb9f3a"
             ],
             [
              0.8888888888888888,
              "#fdca26"
             ],
             [
              1,
              "#f0f921"
             ]
            ],
            "type": "histogram2d"
           }
          ],
          "histogram2dcontour": [
           {
            "colorbar": {
             "outlinewidth": 0,
             "ticks": ""
            },
            "colorscale": [
             [
              0,
              "#0d0887"
             ],
             [
              0.1111111111111111,
              "#46039f"
             ],
             [
              0.2222222222222222,
              "#7201a8"
             ],
             [
              0.3333333333333333,
              "#9c179e"
             ],
             [
              0.4444444444444444,
              "#bd3786"
             ],
             [
              0.5555555555555556,
              "#d8576b"
             ],
             [
              0.6666666666666666,
              "#ed7953"
             ],
             [
              0.7777777777777778,
              "#fb9f3a"
             ],
             [
              0.8888888888888888,
              "#fdca26"
             ],
             [
              1,
              "#f0f921"
             ]
            ],
            "type": "histogram2dcontour"
           }
          ],
          "mesh3d": [
           {
            "colorbar": {
             "outlinewidth": 0,
             "ticks": ""
            },
            "type": "mesh3d"
           }
          ],
          "parcoords": [
           {
            "line": {
             "colorbar": {
              "outlinewidth": 0,
              "ticks": ""
             }
            },
            "type": "parcoords"
           }
          ],
          "pie": [
           {
            "automargin": true,
            "type": "pie"
           }
          ],
          "scatter": [
           {
            "fillpattern": {
             "fillmode": "overlay",
             "size": 10,
             "solidity": 0.2
            },
            "type": "scatter"
           }
          ],
          "scatter3d": [
           {
            "line": {
             "colorbar": {
              "outlinewidth": 0,
              "ticks": ""
             }
            },
            "marker": {
             "colorbar": {
              "outlinewidth": 0,
              "ticks": ""
             }
            },
            "type": "scatter3d"
           }
          ],
          "scattercarpet": [
           {
            "marker": {
             "colorbar": {
              "outlinewidth": 0,
              "ticks": ""
             }
            },
            "type": "scattercarpet"
           }
          ],
          "scattergeo": [
           {
            "marker": {
             "colorbar": {
              "outlinewidth": 0,
              "ticks": ""
             }
            },
            "type": "scattergeo"
           }
          ],
          "scattergl": [
           {
            "marker": {
             "colorbar": {
              "outlinewidth": 0,
              "ticks": ""
             }
            },
            "type": "scattergl"
           }
          ],
          "scattermap": [
           {
            "marker": {
             "colorbar": {
              "outlinewidth": 0,
              "ticks": ""
             }
            },
            "type": "scattermap"
           }
          ],
          "scattermapbox": [
           {
            "marker": {
             "colorbar": {
              "outlinewidth": 0,
              "ticks": ""
             }
            },
            "type": "scattermapbox"
           }
          ],
          "scatterpolar": [
           {
            "marker": {
             "colorbar": {
              "outlinewidth": 0,
              "ticks": ""
             }
            },
            "type": "scatterpolar"
           }
          ],
          "scatterpolargl": [
           {
            "marker": {
             "colorbar": {
              "outlinewidth": 0,
              "ticks": ""
             }
            },
            "type": "scatterpolargl"
           }
          ],
          "scatterternary": [
           {
            "marker": {
             "colorbar": {
              "outlinewidth": 0,
              "ticks": ""
             }
            },
            "type": "scatterternary"
           }
          ],
          "surface": [
           {
            "colorbar": {
             "outlinewidth": 0,
             "ticks": ""
            },
            "colorscale": [
             [
              0,
              "#0d0887"
             ],
             [
              0.1111111111111111,
              "#46039f"
             ],
             [
              0.2222222222222222,
              "#7201a8"
             ],
             [
              0.3333333333333333,
              "#9c179e"
             ],
             [
              0.4444444444444444,
              "#bd3786"
             ],
             [
              0.5555555555555556,
              "#d8576b"
             ],
             [
              0.6666666666666666,
              "#ed7953"
             ],
             [
              0.7777777777777778,
              "#fb9f3a"
             ],
             [
              0.8888888888888888,
              "#fdca26"
             ],
             [
              1,
              "#f0f921"
             ]
            ],
            "type": "surface"
           }
          ],
          "table": [
           {
            "cells": {
             "fill": {
              "color": "#EBF0F8"
             },
             "line": {
              "color": "white"
             }
            },
            "header": {
             "fill": {
              "color": "#C8D4E3"
             },
             "line": {
              "color": "white"
             }
            },
            "type": "table"
           }
          ]
         },
         "layout": {
          "annotationdefaults": {
           "arrowcolor": "#2a3f5f",
           "arrowhead": 0,
           "arrowwidth": 1
          },
          "autotypenumbers": "strict",
          "coloraxis": {
           "colorbar": {
            "outlinewidth": 0,
            "ticks": ""
           }
          },
          "colorscale": {
           "diverging": [
            [
             0,
             "#8e0152"
            ],
            [
             0.1,
             "#c51b7d"
            ],
            [
             0.2,
             "#de77ae"
            ],
            [
             0.3,
             "#f1b6da"
            ],
            [
             0.4,
             "#fde0ef"
            ],
            [
             0.5,
             "#f7f7f7"
            ],
            [
             0.6,
             "#e6f5d0"
            ],
            [
             0.7,
             "#b8e186"
            ],
            [
             0.8,
             "#7fbc41"
            ],
            [
             0.9,
             "#4d9221"
            ],
            [
             1,
             "#276419"
            ]
           ],
           "sequential": [
            [
             0,
             "#0d0887"
            ],
            [
             0.1111111111111111,
             "#46039f"
            ],
            [
             0.2222222222222222,
             "#7201a8"
            ],
            [
             0.3333333333333333,
             "#9c179e"
            ],
            [
             0.4444444444444444,
             "#bd3786"
            ],
            [
             0.5555555555555556,
             "#d8576b"
            ],
            [
             0.6666666666666666,
             "#ed7953"
            ],
            [
             0.7777777777777778,
             "#fb9f3a"
            ],
            [
             0.8888888888888888,
             "#fdca26"
            ],
            [
             1,
             "#f0f921"
            ]
           ],
           "sequentialminus": [
            [
             0,
             "#0d0887"
            ],
            [
             0.1111111111111111,
             "#46039f"
            ],
            [
             0.2222222222222222,
             "#7201a8"
            ],
            [
             0.3333333333333333,
             "#9c179e"
            ],
            [
             0.4444444444444444,
             "#bd3786"
            ],
            [
             0.5555555555555556,
             "#d8576b"
            ],
            [
             0.6666666666666666,
             "#ed7953"
            ],
            [
             0.7777777777777778,
             "#fb9f3a"
            ],
            [
             0.8888888888888888,
             "#fdca26"
            ],
            [
             1,
             "#f0f921"
            ]
           ]
          },
          "colorway": [
           "#636efa",
           "#EF553B",
           "#00cc96",
           "#ab63fa",
           "#FFA15A",
           "#19d3f3",
           "#FF6692",
           "#B6E880",
           "#FF97FF",
           "#FECB52"
          ],
          "font": {
           "color": "#2a3f5f"
          },
          "geo": {
           "bgcolor": "white",
           "lakecolor": "white",
           "landcolor": "white",
           "showlakes": true,
           "showland": true,
           "subunitcolor": "#C8D4E3"
          },
          "hoverlabel": {
           "align": "left"
          },
          "hovermode": "closest",
          "mapbox": {
           "style": "light"
          },
          "paper_bgcolor": "white",
          "plot_bgcolor": "white",
          "polar": {
           "angularaxis": {
            "gridcolor": "#EBF0F8",
            "linecolor": "#EBF0F8",
            "ticks": ""
           },
           "bgcolor": "white",
           "radialaxis": {
            "gridcolor": "#EBF0F8",
            "linecolor": "#EBF0F8",
            "ticks": ""
           }
          },
          "scene": {
           "xaxis": {
            "backgroundcolor": "white",
            "gridcolor": "#DFE8F3",
            "gridwidth": 2,
            "linecolor": "#EBF0F8",
            "showbackground": true,
            "ticks": "",
            "zerolinecolor": "#EBF0F8"
           },
           "yaxis": {
            "backgroundcolor": "white",
            "gridcolor": "#DFE8F3",
            "gridwidth": 2,
            "linecolor": "#EBF0F8",
            "showbackground": true,
            "ticks": "",
            "zerolinecolor": "#EBF0F8"
           },
           "zaxis": {
            "backgroundcolor": "white",
            "gridcolor": "#DFE8F3",
            "gridwidth": 2,
            "linecolor": "#EBF0F8",
            "showbackground": true,
            "ticks": "",
            "zerolinecolor": "#EBF0F8"
           }
          },
          "shapedefaults": {
           "line": {
            "color": "#2a3f5f"
           }
          },
          "ternary": {
           "aaxis": {
            "gridcolor": "#DFE8F3",
            "linecolor": "#A2B1C6",
            "ticks": ""
           },
           "baxis": {
            "gridcolor": "#DFE8F3",
            "linecolor": "#A2B1C6",
            "ticks": ""
           },
           "bgcolor": "white",
           "caxis": {
            "gridcolor": "#DFE8F3",
            "linecolor": "#A2B1C6",
            "ticks": ""
           }
          },
          "title": {
           "x": 0.05
          },
          "xaxis": {
           "automargin": true,
           "gridcolor": "#EBF0F8",
           "linecolor": "#EBF0F8",
           "ticks": "",
           "title": {
            "standoff": 15
           },
           "zerolinecolor": "#EBF0F8",
           "zerolinewidth": 2
          },
          "yaxis": {
           "automargin": true,
           "gridcolor": "#EBF0F8",
           "linecolor": "#EBF0F8",
           "ticks": "",
           "title": {
            "standoff": 15
           },
           "zerolinecolor": "#EBF0F8",
           "zerolinewidth": 2
          }
         }
        },
        "title": {
         "font": {
          "color": "Black",
          "size": 22
         },
         "text": "Topic Word Scores",
         "x": 0.5,
         "xanchor": "center",
         "yanchor": "top"
        },
        "width": 1000,
        "xaxis": {
         "anchor": "y",
         "domain": [
          0,
          0.175
         ],
         "showgrid": true
        },
        "xaxis2": {
         "anchor": "y2",
         "domain": [
          0.275,
          0.45
         ],
         "showgrid": true
        },
        "xaxis3": {
         "anchor": "y3",
         "domain": [
          0.55,
          0.7250000000000001
         ],
         "showgrid": true
        },
        "xaxis4": {
         "anchor": "y4",
         "domain": [
          0.825,
          1
         ],
         "showgrid": true
        },
        "xaxis5": {
         "anchor": "y5",
         "domain": [
          0,
          0.175
         ],
         "showgrid": true
        },
        "xaxis6": {
         "anchor": "y6",
         "domain": [
          0.275,
          0.45
         ],
         "showgrid": true
        },
        "xaxis7": {
         "anchor": "y7",
         "domain": [
          0.55,
          0.7250000000000001
         ],
         "showgrid": true
        },
        "xaxis8": {
         "anchor": "y8",
         "domain": [
          0.825,
          1
         ],
         "showgrid": true
        },
        "yaxis": {
         "anchor": "x",
         "domain": [
          0.6000000000000001,
          1
         ],
         "showgrid": true
        },
        "yaxis2": {
         "anchor": "x2",
         "domain": [
          0.6000000000000001,
          1
         ],
         "showgrid": true
        },
        "yaxis3": {
         "anchor": "x3",
         "domain": [
          0.6000000000000001,
          1
         ],
         "showgrid": true
        },
        "yaxis4": {
         "anchor": "x4",
         "domain": [
          0.6000000000000001,
          1
         ],
         "showgrid": true
        },
        "yaxis5": {
         "anchor": "x5",
         "domain": [
          0,
          0.4
         ],
         "showgrid": true
        },
        "yaxis6": {
         "anchor": "x6",
         "domain": [
          0,
          0.4
         ],
         "showgrid": true
        },
        "yaxis7": {
         "anchor": "x7",
         "domain": [
          0,
          0.4
         ],
         "showgrid": true
        },
        "yaxis8": {
         "anchor": "x8",
         "domain": [
          0,
          0.4
         ],
         "showgrid": true
        }
       }
      }
     },
     "metadata": {},
     "output_type": "display_data"
    }
   ],
   "source": [
    "topic_model.visualize_barchart()"
   ]
  },
  {
   "cell_type": "code",
   "execution_count": null,
   "id": "8e853bb6",
   "metadata": {},
   "outputs": [],
   "source": []
  }
 ],
 "metadata": {
  "kernelspec": {
   "display_name": ".venv (3.13.7)",
   "language": "python",
   "name": "python3"
  },
  "language_info": {
   "codemirror_mode": {
    "name": "ipython",
    "version": 3
   },
   "file_extension": ".py",
   "mimetype": "text/x-python",
   "name": "python",
   "nbconvert_exporter": "python",
   "pygments_lexer": "ipython3",
   "version": "3.13.7"
  }
 },
 "nbformat": 4,
 "nbformat_minor": 5
}
