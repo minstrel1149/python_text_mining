{
 "cells": [
  {
   "cell_type": "code",
   "execution_count": 24,
   "id": "4ef0b0e0",
   "metadata": {},
   "outputs": [],
   "source": [
    "from sklearn.datasets import fetch_20newsgroups\n",
    "from sklearn.feature_extraction.text import CountVectorizer\n",
    "from sklearn.decomposition import LatentDirichletAllocation\n",
    "\n",
    "import numpy as np\n",
    "\n",
    "import matplotlib.pyplot as plt\n",
    "%matplotlib inline"
   ]
  },
  {
   "cell_type": "code",
   "execution_count": 2,
   "id": "238e4fce",
   "metadata": {},
   "outputs": [
    {
     "name": "stdout",
     "output_type": "stream",
     "text": [
      "3219 ['alt.atheism', 'comp.graphics', 'comp.sys.ibm.pc.hardware', 'sci.crypt', 'sci.space', 'talk.religion.misc']\n"
     ]
    }
   ],
   "source": [
    "categories = ['alt.atheism', 'talk.religion.misc', 'comp.graphics', 'sci.space', \n",
    "              'comp.sys.ibm.pc.hardware', 'sci.crypt']\n",
    "newsgroups_train = fetch_20newsgroups(subset='train', categories=categories)\n",
    "print(len(newsgroups_train.data), newsgroups_train.target_names)"
   ]
  },
  {
   "cell_type": "code",
   "execution_count": 9,
   "id": "528691be",
   "metadata": {},
   "outputs": [
    {
     "name": "stdout",
     "output_type": "stream",
     "text": [
      "(3219, 16233)\n"
     ]
    }
   ],
   "source": [
    "cv = CountVectorizer(token_pattern=r\"[\\w']{2,}\", stop_words='english', min_df=3, max_df=0.5)\n",
    "review_cv = cv.fit_transform(newsgroups_train.data)\n",
    "print(review_cv.shape)"
   ]
  },
  {
   "cell_type": "code",
   "execution_count": 15,
   "id": "bf1e38a6",
   "metadata": {},
   "outputs": [],
   "source": [
    "np.set_printoptions(precision=3)"
   ]
  },
  {
   "cell_type": "code",
   "execution_count": 13,
   "id": "3a49a764",
   "metadata": {},
   "outputs": [],
   "source": [
    "lda = LatentDirichletAllocation(n_components=10, max_iter=10, topic_word_prior=0.1, doc_topic_prior=0.1,\n",
    "                                learning_method='online', n_jobs=-1, random_state=0)"
   ]
  },
  {
   "cell_type": "code",
   "execution_count": 16,
   "id": "3e285e22",
   "metadata": {},
   "outputs": [
    {
     "name": "stdout",
     "output_type": "stream",
     "text": [
      "(3219, 10)\n",
      "[4.927e-04 4.927e-04 4.927e-04 4.927e-04 4.927e-04 4.927e-04 6.506e-02\n",
      " 4.927e-04 4.927e-04 9.310e-01]\n",
      "[0.131 0.024 0.11  0.152 0.114 0.047 0.222 0.031 0.094 0.075]\n",
      "(10, 16233)\n"
     ]
    }
   ],
   "source": [
    "review_topics = lda.fit_transform(review_cv)\n",
    "print(review_topics.shape)\n",
    "print(review_topics[0])\n",
    "gross_topic_weights = np.mean(review_topics, axis=0)\n",
    "print(gross_topic_weights)\n",
    "print(lda.components_.shape)"
   ]
  },
  {
   "cell_type": "code",
   "execution_count": 17,
   "id": "306fd738",
   "metadata": {},
   "outputs": [],
   "source": [
    "def print_top_words(model, feature_names, n_top_words=20):\n",
    "    for topic_idx, topic in enumerate(model.components_):\n",
    "        print(f\"Topic #{topic_idx}: {', '.join([feature_names[i] for i in topic.argsort()[:-n_top_words-1:-1]])}\")\n",
    "    print()"
   ]
  },
  {
   "cell_type": "code",
   "execution_count": 23,
   "id": "621e1ca1",
   "metadata": {},
   "outputs": [
    {
     "name": "stdout",
     "output_type": "stream",
     "text": [
      "Topic #0: image, ftp, file, information, available, data, mail, software, graphics, use\n",
      "Topic #1: db, drive, ___, disk, __, drives, cs, hard, bh, si\n",
      "Topic #2: space, nasa, launch, gov, moon, orbit, earth, article, shuttle, henry\n",
      "Topic #3: key, encryption, clipper, chip, government, com, use, keys, security, public\n",
      "Topic #4: university, nntp, host, posting, graphics, com, thanks, know, uk, ac\n",
      "Topic #5: article, islam, islamic, com, don't, fred, people, bu, law, think\n",
      "Topic #6: god, people, don't, just, com, know, think, jesus, say, like\n",
      "Topic #7: com, article, bear, washington, right, points, tyre, den, cs, posting\n",
      "Topic #8: scsi, com, ide, drive, bus, pc, controller, card, ibm, dos\n",
      "Topic #9: com, morality, keith, sgi, article, caltech, sandvik, objective, moral, think\n",
      "\n"
     ]
    }
   ],
   "source": [
    "print_top_words(lda, cv.get_feature_names_out(), 10)"
   ]
  },
  {
   "cell_type": "code",
   "execution_count": 25,
   "id": "e50df8d1",
   "metadata": {},
   "outputs": [],
   "source": [
    "def show_perplexity(cv, start=5, end=20, max_iter=10, topic_word_prior= 0.1, \n",
    "                    doc_topic_prior=1.0):\n",
    "    iter_num = []\n",
    "    per_value = []\n",
    "\n",
    "    for i in range(start, end + 1):\n",
    "        lda = LatentDirichletAllocation(n_components=i, max_iter=max_iter, \n",
    "                                        topic_word_prior= topic_word_prior, \n",
    "                                        doc_topic_prior=doc_topic_prior,\n",
    "                                        learning_method='batch', n_jobs= -1,\n",
    "                                        random_state=7)    \n",
    "        lda.fit(cv)\n",
    "        iter_num.append(i)\n",
    "        pv = lda.perplexity(cv)\n",
    "        per_value.append(pv)\n",
    "        print(f'n_components: {i}, perplexity: {pv:0.3f}')\n",
    "\n",
    "    plt.plot(iter_num, per_value, 'g-')\n",
    "    plt.show()\n",
    "\n",
    "    return start + per_value.index(min(per_value))"
   ]
  },
  {
   "cell_type": "code",
   "execution_count": 26,
   "id": "3266b29d",
   "metadata": {},
   "outputs": [
    {
     "name": "stdout",
     "output_type": "stream",
     "text": [
      "n_components: 5, perplexity: 4267.500\n",
      "n_components: 6, perplexity: 4283.333\n",
      "n_components: 7, perplexity: 4230.943\n",
      "n_components: 8, perplexity: 4119.894\n",
      "n_components: 9, perplexity: 4093.274\n",
      "n_components: 10, perplexity: 4074.340\n",
      "n_components: 11, perplexity: 4067.862\n",
      "n_components: 12, perplexity: 4068.820\n",
      "n_components: 13, perplexity: 4096.470\n",
      "n_components: 14, perplexity: 4123.096\n",
      "n_components: 15, perplexity: 4117.533\n",
      "n_components: 16, perplexity: 4124.580\n",
      "n_components: 17, perplexity: 4166.122\n",
      "n_components: 18, perplexity: 4158.197\n",
      "n_components: 19, perplexity: 4190.547\n",
      "n_components: 20, perplexity: 4206.886\n"
     ]
    },
    {
     "data": {
      "image/png": "[encoded data removed]",
      "text/plain": [
       "<Figure size 640x480 with 1 Axes>"
      ]
     },
     "metadata": {},
     "output_type": "display_data"
    },
    {
     "data": {
      "text/plain": [
       "11"
      ]
     },
     "execution_count": 26,
     "metadata": {},
     "output_type": "execute_result"
    }
   ],
   "source": [
    "show_perplexity(review_cv)"
   ]
  },
  {
   "cell_type": "code",
   "execution_count": 27,
   "id": "70947bc7",
   "metadata": {},
   "outputs": [],
   "source": [
    "lda = LatentDirichletAllocation(n_components=11, max_iter=10, topic_word_prior=0.1, doc_topic_prior=1.0,\n",
    "                                learning_method='batch', n_jobs=-1, random_state=0)"
   ]
  },
  {
   "cell_type": "code",
   "execution_count": 28,
   "id": "ebc2cc5e",
   "metadata": {},
   "outputs": [
    {
     "name": "stdout",
     "output_type": "stream",
     "text": [
      "(3219, 11)\n",
      "[0.006 0.007 0.008 0.008 0.007 0.014 0.034 0.008 0.015 0.888 0.006]\n",
      "[0.122 0.114 0.077 0.082 0.068 0.097 0.075 0.068 0.087 0.091 0.12 ]\n",
      "(11, 16233)\n"
     ]
    }
   ],
   "source": [
    "review_topics = lda.fit_transform(review_cv)\n",
    "print(review_topics.shape)\n",
    "print(review_topics[0])\n",
    "gross_topic_weights = np.mean(review_topics, axis=0)\n",
    "print(gross_topic_weights)\n",
    "print(lda.components_.shape)"
   ]
  },
  {
   "cell_type": "code",
   "execution_count": 29,
   "id": "93a700bc",
   "metadata": {},
   "outputs": [
    {
     "name": "stdout",
     "output_type": "stream",
     "text": [
      "Topic #0: graphics, image, file, ftp, available, data, files, mail, software, program\n",
      "Topic #1: drive, card, university, com, disk, thanks, controller, host, nntp, bus\n",
      "Topic #2: scsi, db, article, com, henry, toronto, ibm, cs, bit, ide\n",
      "Topic #3: nasa, gov, article, com, just, like, people, space, don't, think\n",
      "Topic #4: god, ___, atheism, posting, atheists, __, nntp, just, host, jesus\n",
      "Topic #5: people, say, article, god, don't, think, jesus, christian, like, just\n",
      "Topic #6: god, com, don't, does, brian, know, think, like, argument, just\n",
      "Topic #7: com, key, posting, des, people, sgi, anonymous, don't, security, public\n",
      "Topic #8: space, nasa, orbit, earth, launch, moon, lunar, shuttle, satellite, mission\n",
      "Topic #9: com, article, keith, caltech, don't, nntp, sandvik, host, posting, morality\n",
      "Topic #10: key, chip, clipper, encryption, government, com, access, use, keys, escrow\n",
      "\n"
     ]
    }
   ],
   "source": [
    "print_top_words(lda, cv.get_feature_names_out(), 10)"
   ]
  },
  {
   "cell_type": "code",
   "execution_count": null,
   "id": "5c94022c",
   "metadata": {},
   "outputs": [],
   "source": []
  }
 ],
 "metadata": {
  "kernelspec": {
   "display_name": ".venv (3.13.7)",
   "language": "python",
   "name": "python3"
  },
  "language_info": {
   "codemirror_mode": {
    "name": "ipython",
    "version": 3
   },
   "file_extension": ".py",
   "mimetype": "text/x-python",
   "name": "python",
   "nbconvert_exporter": "python",
   "pygments_lexer": "ipython3",
   "version": "3.13.7"
  }
 },
 "nbformat": 4,
 "nbformat_minor": 5
}
