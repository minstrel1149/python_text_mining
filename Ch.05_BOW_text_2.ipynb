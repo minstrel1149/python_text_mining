{
 "cells": [
  {
   "cell_type": "code",
   "execution_count": 46,
   "id": "d2ef5586",
   "metadata": {},
   "outputs": [],
   "source": [
    "from sklearn.datasets import fetch_20newsgroups\n",
    "from sklearn.feature_extraction.text import CountVectorizer, TfidfVectorizer\n",
    "from sklearn.naive_bayes import MultinomialNB\n",
    "from sklearn.linear_model import LogisticRegression\n",
    "\n",
    "import numpy as np"
   ]
  },
  {
   "cell_type": "code",
   "execution_count": 2,
   "id": "e37fe8bd",
   "metadata": {},
   "outputs": [],
   "source": [
    "categories = ['alt.atheism', 'talk.religion.misc', 'comp.graphics', 'sci.space']\n",
    "newsgroups_train = fetch_20newsgroups(subset='train',\n",
    "                                      remove=('headers', 'footers', 'quotes'),\n",
    "                                      categories=categories)\n",
    "newsgroups_test = fetch_20newsgroups(subset='test',\n",
    "                                      remove=('headers', 'footers', 'quotes'),\n",
    "                                      categories=categories)"
   ]
  },
  {
   "cell_type": "code",
   "execution_count": 3,
   "id": "b4efab40",
   "metadata": {},
   "outputs": [
    {
     "name": "stdout",
     "output_type": "stream",
     "text": [
      "['alt.atheism', 'comp.graphics', 'sci.space', 'talk.religion.misc']\n",
      "{np.int64(0), np.int64(1), np.int64(2), np.int64(3)}\n"
     ]
    }
   ],
   "source": [
    "print(newsgroups_train.target_names)\n",
    "print(set(newsgroups_train.target))"
   ]
  },
  {
   "cell_type": "code",
   "execution_count": 4,
   "id": "0c5d2bb8",
   "metadata": {},
   "outputs": [],
   "source": [
    "X_train, y_train, X_test, y_test = newsgroups_train.data, newsgroups_train.target, newsgroups_test.data, newsgroups_test.target"
   ]
  },
  {
   "cell_type": "code",
   "execution_count": 6,
   "id": "2468c58d",
   "metadata": {},
   "outputs": [
    {
     "name": "stdout",
     "output_type": "stream",
     "text": [
      "(2034, 2000) (1353, 2000)\n"
     ]
    }
   ],
   "source": [
    "tfidf = TfidfVectorizer(max_features=2000, min_df=3, max_df=0.5)\n",
    "X_train_tf = tfidf.fit_transform(X_train)\n",
    "X_test_tf = tfidf.transform(X_test)\n",
    "print(X_train_tf.shape, X_test_tf.shape)"
   ]
  },
  {
   "cell_type": "code",
   "execution_count": 7,
   "id": "a8b92e6a",
   "metadata": {},
   "outputs": [
    {
     "name": "stdout",
     "output_type": "stream",
     "text": [
      "00 : 0.0, 000 : 0.0, 01 : 0.0, 04 : 0.0, 05 : 0.0, 10 : 0.0, 100 : 0.0, 1000 : 0.0, 11 : 0.0, 12 : 0.0, 128 : 0.0, 129 : 0.0, 13 : 0.0, 130 : 0.0, 14 : 0.0, 15 : 0.0, 16 : 0.0, 17 : 0.0, 18 : 0.0, 19 : 0.0, 1988 : 0.0, 1989 : 0.0, 1990 : 0.0, 1991 : 0.0, 1992 : 0.0, 1993 : 0.0, 20 : 0.0, 200 : 0.0, 202 : 0.0, 21 : 0.0, 22 : 0.0, 23 : 0.0, 24 : 0.0, 25 : 0.0, 256 : 0.0, 26 : 0.0, 27 : 0.0, 28 : 0.0, 2d : 0.0, 30 : 0.0, 300 : 0.0, 31 : 0.0, 32 : 0.0, 33 : 0.0, 34 : 0.0, 35 : 0.0, 39 : 0.0, 3d : 0.0, 40 : 0.0, 400 : 0.0, "
     ]
    }
   ],
   "source": [
    "for word, count in zip(tfidf.get_feature_names_out()[:50], X_train_tf[0].toarray()[0, :50]):\n",
    "    print(word, ':', count, end=', ')"
   ]
  },
  {
   "cell_type": "code",
   "execution_count": 9,
   "id": "cc842cb3",
   "metadata": {},
   "outputs": [
    {
     "name": "stdout",
     "output_type": "stream",
     "text": [
      "0.8623402163225172\n",
      "0.7390983000739099\n"
     ]
    }
   ],
   "source": [
    "nb_clf = MultinomialNB()\n",
    "nb_clf.fit(X_train_tf, y_train)\n",
    "print(nb_clf.score(X_train_tf, y_train))\n",
    "print(nb_clf.score(X_test_tf, y_test))"
   ]
  },
  {
   "cell_type": "code",
   "execution_count": 12,
   "id": "204b4974",
   "metadata": {},
   "outputs": [
    {
     "name": "stdout",
     "output_type": "stream",
     "text": [
      "sci.space\n",
      "comp.graphics\n",
      "comp.graphics\n",
      "comp.graphics\n",
      "comp.graphics\n",
      "comp.graphics\n",
      "sci.space\n",
      "sci.space\n",
      "alt.atheism\n",
      "sci.space\n"
     ]
    }
   ],
   "source": [
    "pred = nb_clf.predict(X_test_tf[:10])\n",
    "for i in pred:\n",
    "    print(newsgroups_train.target_names[i])"
   ]
  },
  {
   "cell_type": "code",
   "execution_count": 19,
   "id": "eaadebc5",
   "metadata": {},
   "outputs": [
    {
     "name": "stdout",
     "output_type": "stream",
     "text": [
      "(2034, 5000) (1353, 5000)\n"
     ]
    }
   ],
   "source": [
    "tfidf = TfidfVectorizer(max_features=5000, min_df=3, max_df=0.5)\n",
    "X_train_tf = tfidf.fit_transform(X_train)\n",
    "X_test_tf = tfidf.transform(X_test)\n",
    "print(X_train_tf.shape, X_test_tf.shape)"
   ]
  },
  {
   "cell_type": "code",
   "execution_count": 25,
   "id": "464a2674",
   "metadata": {},
   "outputs": [
    {
     "name": "stdout",
     "output_type": "stream",
     "text": [
      "0.9454277286135693\n",
      "0.7760532150776053\n"
     ]
    }
   ],
   "source": [
    "nb_clf = MultinomialNB(alpha=0.1)\n",
    "nb_clf.fit(X_train_tf, y_train)\n",
    "print(nb_clf.score(X_train_tf, y_train))\n",
    "print(nb_clf.score(X_test_tf, y_test))"
   ]
  },
  {
   "cell_type": "code",
   "execution_count": 33,
   "id": "5f2a094a",
   "metadata": {},
   "outputs": [
    {
     "name": "stdout",
     "output_type": "stream",
     "text": [
      "pred: sci.space / y_test: sci.space\n",
      "pred: comp.graphics / y_test: comp.graphics\n",
      "pred: comp.graphics / y_test: comp.graphics\n",
      "pred: comp.graphics / y_test: comp.graphics\n",
      "pred: comp.graphics / y_test: comp.graphics\n",
      "pred: comp.graphics / y_test: comp.graphics\n",
      "pred: sci.space / y_test: sci.space\n",
      "pred: sci.space / y_test: sci.space\n",
      "pred: alt.atheism / y_test: alt.atheism\n",
      "pred: sci.space / y_test: sci.space\n"
     ]
    }
   ],
   "source": [
    "pred = nb_clf.predict(X_test_tf[:10])\n",
    "for i, j in zip(pred, y_test):\n",
    "    print('pred:', newsgroups_train.target_names[i], '/ y_test:', newsgroups_train.target_names[j], sep=' ')"
   ]
  },
  {
   "cell_type": "code",
   "execution_count": 56,
   "id": "bfb8a83e",
   "metadata": {},
   "outputs": [],
   "source": [
    "def top_n_features(classifier, vectorizer, categories, n):\n",
    "    feature_names = np.asarray(vectorizer.get_feature_names_out())\n",
    "    for i, category in enumerate(categories):\n",
    "        if isinstance(classifier, MultinomialNB):\n",
    "            top_n = np.argsort(-classifier.feature_count_[i])[:n]\n",
    "            print(f'{category}: {', '.join(feature_names[top_n])}')\n",
    "        else:\n",
    "            top_n = np.argsort(-classifier.coef_[i])[:n]\n",
    "            print(f'{category}: {', '.join(feature_names[top_n])}')"
   ]
  },
  {
   "cell_type": "code",
   "execution_count": 57,
   "id": "795b676b",
   "metadata": {},
   "outputs": [
    {
     "name": "stdout",
     "output_type": "stream",
     "text": [
      "alt.atheism: you, not, are, be, this, have, as, what, they, if, god, do, but, your, or, an, so, was, we, on\n",
      "comp.graphics: you, graphics, on, this, have, any, or, can, thanks, with, if, be, but, there, image, are, files, file, me, anyone\n",
      "sci.space: space, on, you, be, was, this, as, they, are, have, at, would, or, if, from, not, but, nasa, with, there\n",
      "talk.religion.misc: you, not, he, are, this, as, be, god, was, they, have, with, jesus, your, who, but, or, by, what, his\n"
     ]
    }
   ],
   "source": [
    "top_n_features(nb_clf, tfidf, newsgroups_train.target_names, 20)"
   ]
  },
  {
   "cell_type": "code",
   "execution_count": 80,
   "id": "e820aeb8",
   "metadata": {},
   "outputs": [
    {
     "name": "stdout",
     "output_type": "stream",
     "text": [
      "0.9670599803343166 0.7671840354767184\n"
     ]
    }
   ],
   "source": [
    "logreg_clf = LogisticRegression(max_iter=1000, C=2)\n",
    "logreg_clf.fit(X_train_tf, y_train)\n",
    "print(logreg_clf.score(X_train_tf, y_train), logreg_clf.score(X_test_tf, y_test))"
   ]
  },
  {
   "cell_type": "code",
   "execution_count": 81,
   "id": "e3af0cd9",
   "metadata": {},
   "outputs": [
    {
     "name": "stdout",
     "output_type": "stream",
     "text": [
      "pred: sci.space / y_test: sci.space\n",
      "pred: comp.graphics / y_test: comp.graphics\n",
      "pred: comp.graphics / y_test: comp.graphics\n",
      "pred: comp.graphics / y_test: comp.graphics\n",
      "pred: comp.graphics / y_test: comp.graphics\n",
      "pred: comp.graphics / y_test: comp.graphics\n",
      "pred: sci.space / y_test: sci.space\n",
      "pred: sci.space / y_test: sci.space\n",
      "pred: alt.atheism / y_test: alt.atheism\n",
      "pred: sci.space / y_test: sci.space\n"
     ]
    }
   ],
   "source": [
    "pred = logreg_clf.predict(X_test_tf[:10])\n",
    "for i, j in zip(pred, y_test):\n",
    "    print('pred:', newsgroups_train.target_names[i], '/ y_test:', newsgroups_train.target_names[j], sep=' ')"
   ]
  },
  {
   "cell_type": "code",
   "execution_count": 82,
   "id": "7630bddc",
   "metadata": {},
   "outputs": [
    {
     "name": "stdout",
     "output_type": "stream",
     "text": [
      "alt.atheism: atheism, religion, atheists, bobby, islam, deletion, islamic, atheist, motto, up, punishment, must, post, god, him, satan, people, an, isn, you\n",
      "comp.graphics: graphics, image, file, computer, 3d, files, hi, looking, points, code, format, package, video, 68070, images, color, card, anyone, screen, windows\n",
      "sci.space: space, nasa, orbit, launch, moon, spacecraft, shuttle, earth, sci, dc, lunar, solar, flight, mars, cost, get, satellite, like, year, at\n",
      "talk.religion.misc: christian, god, christians, jesus, objective, fbi, he, his, blood, koresh, christ, children, order, see, rosicrucian, who, amorc, abortion, values, hudson\n"
     ]
    }
   ],
   "source": [
    "top_n_features(logreg_clf, tfidf, newsgroups_train.target_names, 20)"
   ]
  },
  {
   "cell_type": "code",
   "execution_count": null,
   "id": "5cbf7727",
   "metadata": {},
   "outputs": [],
   "source": []
  }
 ],
 "metadata": {
  "kernelspec": {
   "display_name": ".venv (3.13.7)",
   "language": "python",
   "name": "python3"
  },
  "language_info": {
   "codemirror_mode": {
    "name": "ipython",
    "version": 3
   },
   "file_extension": ".py",
   "mimetype": "text/x-python",
   "name": "python",
   "nbconvert_exporter": "python",
   "pygments_lexer": "ipython3",
   "version": "3.13.7"
  }
 },
 "nbformat": 4,
 "nbformat_minor": 5
}
