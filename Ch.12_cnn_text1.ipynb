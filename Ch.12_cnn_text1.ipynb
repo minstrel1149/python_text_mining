{
 "cells": [
  {
   "cell_type": "code",
   "execution_count": 1,
   "metadata": {},
   "outputs": [],
   "source": [
    "from nltk.corpus import movie_reviews\n",
    "import numpy as np\n",
    "import tensorflow as tf\n",
    "from tensorflow.keras.preprocessing.text import Tokenizer\n",
    "from tensorflow.keras.preprocessing.sequence import pad_sequences\n",
    "from tensorflow.keras.models import Sequential\n",
    "from tensorflow.keras.layers import Dense, Conv1D, MaxPooling1D\n",
    "from tensorflow.keras.layers import Embedding, Dropout, Flatten\n",
    "from tensorflow.keras.optimizers import Adam\n",
    "from sklearn.model_selection import train_test_split\n",
    "import matplotlib.pyplot as plt\n",
    "%matplotlib inline"
   ]
  },
  {
   "cell_type": "code",
   "execution_count": 2,
   "metadata": {},
   "outputs": [],
   "source": [
    "fileids = movie_reviews.fileids()\n",
    "reviews = [movie_reviews.raw(fileid) for fileid in fileids]\n",
    "categories = [movie_reviews.categories(fileid)[0] for fileid in fileids]"
   ]
  },
  {
   "cell_type": "code",
   "execution_count": 3,
   "metadata": {},
   "outputs": [],
   "source": [
    "np.random.seed(7)\n",
    "tf.random.set_seed(7)"
   ]
  },
  {
   "cell_type": "code",
   "execution_count": 4,
   "metadata": {},
   "outputs": [],
   "source": [
    "max_words = 10000\n",
    "maxlen = 500"
   ]
  },
  {
   "cell_type": "code",
   "execution_count": 13,
   "metadata": {},
   "outputs": [],
   "source": [
    "tokenizer = Tokenizer(num_words=max_words, oov_token='UNK')\n",
    "tokenizer.fit_on_texts(reviews)\n",
    "X = tokenizer.texts_to_sequences(reviews)\n",
    "X = pad_sequences(X, maxlen=maxlen, truncating='pre')\n",
    "label_dict = {'pos':0, 'neg':1}\n",
    "y = np.array([label_dict[c] for c in categories])"
   ]
  },
  {
   "cell_type": "code",
   "execution_count": 14,
   "metadata": {},
   "outputs": [
    {
     "data": {
      "text/plain": [
       "((1600, 500), (400, 500))"
      ]
     },
     "execution_count": 14,
     "metadata": {},
     "output_type": "execute_result"
    }
   ],
   "source": [
    "X_train, X_test, y_train, y_test = train_test_split(X, y, test_size=0.2, random_state=10)\n",
    "X_train.shape, X_test.shape"
   ]
  },
  {
   "cell_type": "code",
   "execution_count": 15,
   "metadata": {},
   "outputs": [
    {
     "name": "stdout",
     "output_type": "stream",
     "text": [
      "Model: \"sequential\"\n",
      "_________________________________________________________________\n",
      " Layer (type)                Output Shape              Param #   \n",
      "=================================================================\n",
      " embedding (Embedding)       (None, 500, 64)           640000    \n",
      "                                                                 \n",
      " conv1d (Conv1D)             (None, 496, 128)          41088     \n",
      "                                                                 \n",
      " max_pooling1d (MaxPooling1  (None, 248, 128)          0         \n",
      " D)                                                              \n",
      "                                                                 \n",
      " conv1d_1 (Conv1D)           (None, 244, 256)          164096    \n",
      "                                                                 \n",
      " max_pooling1d_1 (MaxPoolin  (None, 122, 256)          0         \n",
      " g1D)                                                            \n",
      "                                                                 \n",
      " flatten (Flatten)           (None, 31232)             0         \n",
      "                                                                 \n",
      " dense (Dense)               (None, 64)                1998912   \n",
      "                                                                 \n",
      " dense_1 (Dense)             (None, 1)                 65        \n",
      "                                                                 \n",
      "=================================================================\n",
      "Total params: 2844161 (10.85 MB)\n",
      "Trainable params: 2844161 (10.85 MB)\n",
      "Non-trainable params: 0 (0.00 Byte)\n",
      "_________________________________________________________________\n"
     ]
    }
   ],
   "source": [
    "model = Sequential([Embedding(max_words, 64, input_length=maxlen),\n",
    "                    Conv1D(128, 5, padding='valid', activation='leaky_relu', strides=1),\n",
    "                    MaxPooling1D(),\n",
    "                    Conv1D(256, 5, padding='valid', activation='leaky_relu', strides=1),\n",
    "                    MaxPooling1D(),\n",
    "                    Flatten(),\n",
    "                    Dense(64, activation='leaky_relu'),\n",
    "                    Dense(1, activation='sigmoid')])\n",
    "model.summary()"
   ]
  },
  {
   "cell_type": "code",
   "execution_count": 16,
   "metadata": {},
   "outputs": [
    {
     "name": "stdout",
     "output_type": "stream",
     "text": [
      "Epoch 1/20\n",
      "5/5 [==============================] - 3s 426ms/step - loss: 0.7220 - acc: 0.5227 - val_loss: 0.6935 - val_acc: 0.5031\n",
      "Epoch 2/20\n",
      "5/5 [==============================] - 2s 387ms/step - loss: 0.6882 - acc: 0.5055 - val_loss: 0.6901 - val_acc: 0.5844\n",
      "Epoch 3/20\n",
      "5/5 [==============================] - 2s 398ms/step - loss: 0.6676 - acc: 0.7398 - val_loss: 0.6842 - val_acc: 0.5500\n",
      "Epoch 4/20\n",
      "5/5 [==============================] - 2s 403ms/step - loss: 0.6217 - acc: 0.8109 - val_loss: 0.6558 - val_acc: 0.6125\n",
      "Epoch 5/20\n",
      "5/5 [==============================] - 2s 392ms/step - loss: 0.5241 - acc: 0.7852 - val_loss: 0.6303 - val_acc: 0.6438\n",
      "Epoch 6/20\n",
      "5/5 [==============================] - 2s 402ms/step - loss: 0.3471 - acc: 0.8852 - val_loss: 0.5066 - val_acc: 0.7688\n",
      "Epoch 7/20\n",
      "5/5 [==============================] - 2s 396ms/step - loss: 0.1637 - acc: 0.9656 - val_loss: 0.5597 - val_acc: 0.7219\n",
      "Epoch 8/20\n",
      "5/5 [==============================] - 2s 400ms/step - loss: 0.0546 - acc: 0.9906 - val_loss: 0.5833 - val_acc: 0.7594\n",
      "Epoch 9/20\n",
      "5/5 [==============================] - 2s 401ms/step - loss: 0.0188 - acc: 0.9969 - val_loss: 0.8106 - val_acc: 0.7844\n",
      "Epoch 10/20\n",
      "5/5 [==============================] - 2s 396ms/step - loss: 0.0040 - acc: 1.0000 - val_loss: 0.7678 - val_acc: 0.7656\n",
      "Epoch 11/20\n",
      "5/5 [==============================] - 2s 386ms/step - loss: 0.0026 - acc: 0.9992 - val_loss: 0.6653 - val_acc: 0.8250\n",
      "Epoch 12/20\n",
      "5/5 [==============================] - 2s 384ms/step - loss: 8.4761e-04 - acc: 1.0000 - val_loss: 1.0292 - val_acc: 0.8000\n",
      "Epoch 13/20\n",
      "5/5 [==============================] - 2s 388ms/step - loss: 4.6839e-04 - acc: 1.0000 - val_loss: 0.8760 - val_acc: 0.8125\n",
      "Epoch 14/20\n",
      "5/5 [==============================] - 2s 386ms/step - loss: 6.5626e-05 - acc: 1.0000 - val_loss: 0.7930 - val_acc: 0.8281\n",
      "Epoch 15/20\n",
      "5/5 [==============================] - 2s 386ms/step - loss: 2.2486e-05 - acc: 1.0000 - val_loss: 0.8060 - val_acc: 0.8375\n",
      "Epoch 16/20\n",
      "5/5 [==============================] - 2s 389ms/step - loss: 1.9517e-05 - acc: 1.0000 - val_loss: 0.8447 - val_acc: 0.8188\n",
      "Epoch 17/20\n",
      "5/5 [==============================] - 2s 389ms/step - loss: 2.0922e-05 - acc: 1.0000 - val_loss: 0.8768 - val_acc: 0.8062\n",
      "Epoch 18/20\n",
      "5/5 [==============================] - 2s 386ms/step - loss: 2.2507e-05 - acc: 1.0000 - val_loss: 0.8930 - val_acc: 0.8062\n",
      "Epoch 19/20\n",
      "5/5 [==============================] - 2s 387ms/step - loss: 2.2057e-05 - acc: 1.0000 - val_loss: 0.8946 - val_acc: 0.8062\n",
      "Epoch 20/20\n",
      "5/5 [==============================] - 2s 388ms/step - loss: 1.9964e-05 - acc: 1.0000 - val_loss: 0.8883 - val_acc: 0.8062\n"
     ]
    },
    {
     "data": {
      "text/plain": [
       "<keras.src.callbacks.History at 0x22983c87a30>"
      ]
     },
     "execution_count": 16,
     "metadata": {},
     "output_type": "execute_result"
    }
   ],
   "source": [
    "model.compile(optimizer='adam', loss='binary_crossentropy', metrics=['acc'])\n",
    "history = model.fit(X_train, y_train, epochs=20, batch_size=256, verbose=1, validation_split=0.2)\n",
    "history"
   ]
  },
  {
   "cell_type": "code",
   "execution_count": 17,
   "metadata": {},
   "outputs": [],
   "source": [
    "def plot_results(history, metric):\n",
    "    plt.plot(history.history[metric], 'b', label='Training '+metric)\n",
    "    plt.plot(history.history['val_'+metric], 'r--', label='Validation '+metric)\n",
    "    plt.title('Training vs. Validation '+metric)\n",
    "    plt.xlabel('Epochs')\n",
    "    plt.ylabel(metric)\n",
    "    plt.legend()\n",
    "    plt.show()"
   ]
  },
  {
   "cell_type": "code",
   "execution_count": 18,
   "metadata": {},
   "outputs": [
    {
     "data": {
      "image/png": "[encoded data removed]",
      "text/plain": [
       "<Figure size 432x288 with 1 Axes>"
      ]
     },
     "metadata": {
      "needs_background": "light"
     },
     "output_type": "display_data"
    }
   ],
   "source": [
    "plot_results(history, 'acc')"
   ]
  },
  {
   "cell_type": "code",
   "execution_count": 19,
   "metadata": {},
   "outputs": [
    {
     "name": "stdout",
     "output_type": "stream",
     "text": [
      "13/13 [==============================] - 0s 13ms/step - loss: 0.9159 - acc: 0.8100\n"
     ]
    },
    {
     "data": {
      "text/plain": [
       "[0.9159015417098999, 0.8100000023841858]"
      ]
     },
     "execution_count": 19,
     "metadata": {},
     "output_type": "execute_result"
    }
   ],
   "source": [
    "score = model.evaluate(X_test, y_test)\n",
    "score"
   ]
  },
  {
   "cell_type": "code",
   "execution_count": 20,
   "metadata": {},
   "outputs": [
    {
     "name": "stdout",
     "output_type": "stream",
     "text": [
      "Model: \"sequential_1\"\n",
      "_________________________________________________________________\n",
      " Layer (type)                Output Shape              Param #   \n",
      "=================================================================\n",
      " embedding_1 (Embedding)     (None, 500, 64)           640000    \n",
      "                                                                 \n",
      " conv1d_2 (Conv1D)           (None, 491, 128)          82048     \n",
      "                                                                 \n",
      " max_pooling1d_2 (MaxPoolin  (None, 245, 128)          0         \n",
      " g1D)                                                            \n",
      "                                                                 \n",
      " conv1d_3 (Conv1D)           (None, 236, 256)          327936    \n",
      "                                                                 \n",
      " max_pooling1d_3 (MaxPoolin  (None, 118, 256)          0         \n",
      " g1D)                                                            \n",
      "                                                                 \n",
      " conv1d_4 (Conv1D)           (None, 109, 512)          1311232   \n",
      "                                                                 \n",
      " max_pooling1d_4 (MaxPoolin  (None, 54, 512)           0         \n",
      " g1D)                                                            \n",
      "                                                                 \n",
      " flatten_1 (Flatten)         (None, 27648)             0         \n",
      "                                                                 \n",
      " dense_2 (Dense)             (None, 64)                1769536   \n",
      "                                                                 \n",
      " dense_3 (Dense)             (None, 32)                2080      \n",
      "                                                                 \n",
      " dense_4 (Dense)             (None, 1)                 33        \n",
      "                                                                 \n",
      "=================================================================\n",
      "Total params: 4132865 (15.77 MB)\n",
      "Trainable params: 4132865 (15.77 MB)\n",
      "Non-trainable params: 0 (0.00 Byte)\n",
      "_________________________________________________________________\n"
     ]
    }
   ],
   "source": [
    "model = Sequential([Embedding(max_words, 64, input_length=maxlen),\n",
    "                    Conv1D(128, 10, padding='valid', activation='leaky_relu', strides=1),\n",
    "                    MaxPooling1D(),\n",
    "                    Conv1D(256, 10, padding='valid', activation='leaky_relu', strides=1),\n",
    "                    MaxPooling1D(),\n",
    "                    Conv1D(512, 10, padding='valid', activation='leaky_relu', strides=1),\n",
    "                    MaxPooling1D(),\n",
    "                    Flatten(),\n",
    "                    Dense(64, activation='leaky_relu'),\n",
    "                    Dense(32, activation='leaky_relu'),\n",
    "                    Dense(1, activation='sigmoid')])\n",
    "model.summary()"
   ]
  },
  {
   "cell_type": "code",
   "execution_count": 21,
   "metadata": {},
   "outputs": [
    {
     "name": "stdout",
     "output_type": "stream",
     "text": [
      "Epoch 1/20\n",
      "5/5 [==============================] - 8s 1s/step - loss: 0.7214 - acc: 0.4938 - val_loss: 0.6971 - val_acc: 0.4969\n",
      "Epoch 2/20\n",
      "5/5 [==============================] - 7s 1s/step - loss: 0.6949 - acc: 0.5063 - val_loss: 0.6931 - val_acc: 0.5125\n",
      "Epoch 3/20\n",
      "5/5 [==============================] - 7s 1s/step - loss: 0.6933 - acc: 0.4984 - val_loss: 0.6919 - val_acc: 0.5188\n",
      "Epoch 4/20\n",
      "5/5 [==============================] - 7s 1s/step - loss: 0.6906 - acc: 0.5039 - val_loss: 0.6894 - val_acc: 0.5188\n",
      "Epoch 5/20\n",
      "5/5 [==============================] - 7s 1s/step - loss: 0.6694 - acc: 0.5516 - val_loss: 0.6390 - val_acc: 0.6656\n",
      "Epoch 6/20\n",
      "5/5 [==============================] - 7s 1s/step - loss: 0.4893 - acc: 0.7898 - val_loss: 0.7828 - val_acc: 0.7031\n",
      "Epoch 7/20\n",
      "5/5 [==============================] - 7s 1s/step - loss: 0.2449 - acc: 0.8938 - val_loss: 0.7410 - val_acc: 0.7250\n",
      "Epoch 8/20\n",
      "5/5 [==============================] - 7s 1s/step - loss: 0.0921 - acc: 0.9688 - val_loss: 0.9005 - val_acc: 0.7031\n",
      "Epoch 9/20\n",
      "5/5 [==============================] - 7s 1s/step - loss: 0.0257 - acc: 0.9945 - val_loss: 1.0559 - val_acc: 0.7281\n",
      "Epoch 10/20\n",
      "5/5 [==============================] - 7s 1s/step - loss: 0.0029 - acc: 1.0000 - val_loss: 1.3804 - val_acc: 0.7437\n",
      "Epoch 11/20\n",
      "5/5 [==============================] - 7s 1s/step - loss: 4.9545e-04 - acc: 1.0000 - val_loss: 1.6364 - val_acc: 0.7625\n",
      "Epoch 12/20\n",
      "5/5 [==============================] - 7s 1s/step - loss: 1.6625e-04 - acc: 1.0000 - val_loss: 1.8363 - val_acc: 0.7563\n",
      "Epoch 13/20\n",
      "5/5 [==============================] - 7s 1s/step - loss: 3.2265e-06 - acc: 1.0000 - val_loss: 1.9813 - val_acc: 0.7625\n",
      "Epoch 14/20\n",
      "5/5 [==============================] - 7s 1s/step - loss: 1.2516e-06 - acc: 1.0000 - val_loss: 2.0794 - val_acc: 0.7625\n",
      "Epoch 15/20\n",
      "5/5 [==============================] - 7s 1s/step - loss: 7.2655e-07 - acc: 1.0000 - val_loss: 2.1437 - val_acc: 0.7625\n",
      "Epoch 16/20\n",
      "5/5 [==============================] - 7s 1s/step - loss: 5.5313e-07 - acc: 1.0000 - val_loss: 2.1845 - val_acc: 0.7625\n",
      "Epoch 17/20\n",
      "5/5 [==============================] - 7s 1s/step - loss: 4.8952e-07 - acc: 1.0000 - val_loss: 2.2100 - val_acc: 0.7594\n",
      "Epoch 18/20\n",
      "5/5 [==============================] - 7s 1s/step - loss: 4.4791e-07 - acc: 1.0000 - val_loss: 2.2259 - val_acc: 0.7625\n",
      "Epoch 19/20\n",
      "5/5 [==============================] - 7s 1s/step - loss: 4.2501e-07 - acc: 1.0000 - val_loss: 2.2357 - val_acc: 0.7625\n",
      "Epoch 20/20\n",
      "5/5 [==============================] - 7s 1s/step - loss: 4.0250e-07 - acc: 1.0000 - val_loss: 2.2418 - val_acc: 0.7625\n"
     ]
    },
    {
     "data": {
      "text/plain": [
       "<keras.src.callbacks.History at 0x229875e5f60>"
      ]
     },
     "execution_count": 21,
     "metadata": {},
     "output_type": "execute_result"
    }
   ],
   "source": [
    "model.compile(optimizer='adam', loss='binary_crossentropy', metrics=['acc'])\n",
    "history = model.fit(X_train, y_train, epochs=20, batch_size=256, verbose=1, validation_split=0.2)\n",
    "history"
   ]
  },
  {
   "cell_type": "code",
   "execution_count": 22,
   "metadata": {},
   "outputs": [
    {
     "data": {
      "image/png": "[encoded data removed]",
      "text/plain": [
       "<Figure size 432x288 with 1 Axes>"
      ]
     },
     "metadata": {
      "needs_background": "light"
     },
     "output_type": "display_data"
    }
   ],
   "source": [
    "plot_results(history, 'acc')"
   ]
  },
  {
   "cell_type": "code",
   "execution_count": 23,
   "metadata": {},
   "outputs": [
    {
     "name": "stdout",
     "output_type": "stream",
     "text": [
      "13/13 [==============================] - 0s 35ms/step - loss: 2.3379 - acc: 0.7650\n"
     ]
    },
    {
     "data": {
      "text/plain": [
       "[2.3378891944885254, 0.7649999856948853]"
      ]
     },
     "execution_count": 23,
     "metadata": {},
     "output_type": "execute_result"
    }
   ],
   "source": [
    "# 마냥 계층을 더 추가한다고 더 좋은 결과가 나오지는 않음\n",
    "score = model.evaluate(X_test, y_test)\n",
    "score"
   ]
  },
  {
   "cell_type": "code",
   "execution_count": null,
   "metadata": {},
   "outputs": [],
   "source": []
  }
 ],
 "metadata": {
  "kernelspec": {
   "display_name": "base",
   "language": "python",
   "name": "python3"
  },
  "language_info": {
   "codemirror_mode": {
    "name": "ipython",
    "version": 3
   },
   "file_extension": ".py",
   "mimetype": "text/x-python",
   "name": "python",
   "nbconvert_exporter": "python",
   "pygments_lexer": "ipython3",
   "version": "3.10.9"
  }
 },
 "nbformat": 4,
 "nbformat_minor": 2
}
