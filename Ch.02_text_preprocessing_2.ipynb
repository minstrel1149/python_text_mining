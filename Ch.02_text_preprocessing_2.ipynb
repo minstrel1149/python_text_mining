{
 "cells": [
  {
   "cell_type": "code",
   "execution_count": 1,
   "id": "f7048ebe",
   "metadata": {},
   "outputs": [],
   "source": [
    "import nltk\n",
    "from nltk.tokenize import sent_tokenize, word_tokenize, WordPunctTokenizer, RegexpTokenizer\n",
    "from nltk.corpus import stopwords\n",
    "from nltk.stem import PorterStemmer, LancasterStemmer, WordNetLemmatizer\n",
    "from nltk.tag import pos_tag\n",
    "\n",
    "import re"
   ]
  },
  {
   "cell_type": "code",
   "execution_count": 23,
   "id": "6a28b915",
   "metadata": {},
   "outputs": [],
   "source": [
    "#nltk.download('punkt')\n",
    "#nltk.download('punkt_tab')\n",
    "#nltk.download('webtext')\n",
    "#nltk.download('wordnet')\n",
    "#nltk.download('stopwords')\n",
    "#nltk.download('averaged_perceptron_tagger')\n",
    "#nltk.download('averaged_perceptron_tagger_eng')\n",
    "#nltk.download('tagsets_json')"
   ]
  },
  {
   "cell_type": "code",
   "execution_count": 3,
   "id": "f1ddef19",
   "metadata": {},
   "outputs": [
    {
     "name": "stdout",
     "output_type": "stream",
     "text": [
      "['Hello everyone.', \"It's good to see you.\", \"Let's start our text mining class!\"]\n"
     ]
    }
   ],
   "source": [
    "para = \"Hello everyone. It's good to see you. Let's start our text mining class!\"\n",
    "print(sent_tokenize(para))"
   ]
  },
  {
   "cell_type": "code",
   "execution_count": 4,
   "id": "96169733",
   "metadata": {},
   "outputs": [
    {
     "name": "stdout",
     "output_type": "stream",
     "text": [
      "['안녕하세요, 여러분.', '만나서 반갑습니다.', '이제 텍스트마이닝 클래스를 시작해봅시다!']\n"
     ]
    }
   ],
   "source": [
    "para_kor = \"안녕하세요, 여러분. 만나서 반갑습니다. 이제 텍스트마이닝 클래스를 시작해봅시다!\"\n",
    "print(sent_tokenize(para_kor))"
   ]
  },
  {
   "cell_type": "code",
   "execution_count": 5,
   "id": "b9fbb8e2",
   "metadata": {},
   "outputs": [
    {
     "name": "stdout",
     "output_type": "stream",
     "text": [
      "['Hello', 'everyone', '.', 'It', \"'s\", 'good', 'to', 'see', 'you', '.', 'Let', \"'s\", 'start', 'our', 'text', 'mining', 'class', '!']\n",
      "['Hello', 'everyone', '.', 'It', \"'\", 's', 'good', 'to', 'see', 'you', '.', 'Let', \"'\", 's', 'start', 'our', 'text', 'mining', 'class', '!']\n"
     ]
    },
    {
     "data": {
      "text/plain": [
       "(None, None)"
      ]
     },
     "execution_count": 5,
     "metadata": {},
     "output_type": "execute_result"
    }
   ],
   "source": [
    "print(word_tokenize(para)), print(WordPunctTokenizer().tokenize(para))"
   ]
  },
  {
   "cell_type": "code",
   "execution_count": 6,
   "id": "a8bfd344",
   "metadata": {},
   "outputs": [
    {
     "name": "stdout",
     "output_type": "stream",
     "text": [
      "['a', 'b']\n",
      "['3', 'a', '7', 'b', '_', '5', 'C', 'p', '9', 'D']\n",
      "['_', '__', '___']\n",
      "['How', 'are', 'you', 'boy']\n",
      "['oo', 'oooo', 'oooo']\n"
     ]
    }
   ],
   "source": [
    "print(re.findall(r'[abc]', 'How are you, boy?'))\n",
    "print(re.findall(r'[\\w]', '3a 7b_ \".^&5Cp9D'))\n",
    "print(re.findall(r'[_]+', 'a_b, c__d, e___f'))\n",
    "print(re.findall(r'[\\w]+', 'How are you, boy?'))\n",
    "print(re.findall(r'[o]{2,4}', 'How are you, boy? booy? booooy? boooooy?'))"
   ]
  },
  {
   "cell_type": "code",
   "execution_count": 7,
   "id": "88ad7f70",
   "metadata": {},
   "outputs": [
    {
     "name": "stdout",
     "output_type": "stream",
     "text": [
      "['Sorry', 'I', \"can't\", 'go', 'there']\n"
     ]
    }
   ],
   "source": [
    "text1 = \"Sorry, I can't go there.\"\n",
    "tokenizer = RegexpTokenizer(r\"[\\w']+\")\n",
    "print(tokenizer.tokenize(\"Sorry, I can't go there.\"))"
   ]
  },
  {
   "cell_type": "code",
   "execution_count": 8,
   "id": "910e8ce9",
   "metadata": {},
   "outputs": [
    {
     "name": "stdout",
     "output_type": "stream",
     "text": [
      "['sorry', \"can't\", 'there']\n"
     ]
    }
   ],
   "source": [
    "tokenizer = RegexpTokenizer(r\"[\\w']{3,}\")\n",
    "print(tokenizer.tokenize(text1.lower()))"
   ]
  },
  {
   "cell_type": "code",
   "execution_count": 9,
   "id": "69eaa55c",
   "metadata": {},
   "outputs": [
    {
     "name": "stdout",
     "output_type": "stream",
     "text": [
      "{'above', 'on', 'too', 'herself', 'ours', 'hadn', \"shouldn't\", 'who', 'that', \"she'll\", 'again', \"he'll\", 'is', 'all', 'doesn', 'only', \"that'll\", 'below', 'into', 'over', 'up', 'nor', 'after', \"won't\", \"we'll\", 'him', 'some', \"she'd\", \"aren't\", 'between', 'or', \"wouldn't\", 'having', 'theirs', 'more', 'not', 't', 'they', \"they're\", 'wasn', 'while', \"i'm\", 'm', 'don', 'shouldn', \"you're\", 'during', 'you', 'd', \"hadn't\", 'any', 'themselves', 'such', 'why', 'those', 'i', \"weren't\", 'am', 'won', \"should've\", 'his', \"she's\", 'about', \"wasn't\", 'had', 'once', 'until', 'needn', 'be', 'ma', \"i'll\", 'at', 'her', 'how', \"mightn't\", \"you'll\", \"needn't\", \"it's\", 'which', \"they'll\", \"it'll\", 'through', 'few', 'and', 'itself', \"i'd\", 'doing', 'down', 'he', \"we've\", 'yourselves', 'against', \"he'd\", \"hasn't\", 'been', 'can', 'isn', \"you've\", 'there', 'hasn', 'do', 'o', 'to', 'most', 's', 'an', \"we're\", 'mustn', 'mightn', \"he's\", 'were', \"don't\", 'shan', 'these', 'what', 'are', 'before', 'didn', 've', 'wouldn', 'my', 'by', \"haven't\", 'hers', 'couldn', 'from', 'their', 'its', 'we', 'me', \"they'd\", \"it'd\", \"didn't\", 'was', 'y', 'the', 'them', 'where', 'will', \"isn't\", 'aren', \"mustn't\", 'for', \"you'd\", 'other', 'our', 'll', \"we'd\", 'yours', 'weren', 'own', \"doesn't\", 'very', 'same', 'your', 'under', 'in', 'if', 'just', \"i've\", 'further', \"shan't\", 'she', 'of', 'ourselves', 'here', 'with', 'a', 'should', 'no', 'each', 'as', 'but', 'myself', 'then', 'does', 'himself', 'it', 'when', 'out', 'than', 'yourself', 're', \"couldn't\", 'did', 'whom', 'being', \"they've\", 'now', 'this', 'both', 'so', 'haven', 'ain', 'have', 'off', 'has', 'because'}\n"
     ]
    }
   ],
   "source": [
    "eng_stops = set(stopwords.words('english'))\n",
    "print(eng_stops)"
   ]
  },
  {
   "cell_type": "code",
   "execution_count": 10,
   "id": "f3d47efa",
   "metadata": {},
   "outputs": [
    {
     "data": {
      "text/plain": [
       "['sorry', 'go', 'movie', 'yesterday']"
      ]
     },
     "execution_count": 10,
     "metadata": {},
     "output_type": "execute_result"
    }
   ],
   "source": [
    "text1 = \"Sorry, I couldn't go to movie yesterday.\"\n",
    "tokenizer = RegexpTokenizer(r\"[\\w']+\")\n",
    "tokens = tokenizer.tokenize(text1.lower())\n",
    "result = [word for word in tokens if word not in eng_stops]\n",
    "result"
   ]
  },
  {
   "cell_type": "code",
   "execution_count": 11,
   "id": "90806c9d",
   "metadata": {},
   "outputs": [
    {
     "name": "stdout",
     "output_type": "stream",
     "text": [
      "cook cookeri cookbook\n",
      "cook cookery cookbook\n"
     ]
    }
   ],
   "source": [
    "stemmers = [print(stemmer.stem('cooking'), stemmer.stem('cookery'), stemmer.stem('cookbooks')) for stemmer in [PorterStemmer(), LancasterStemmer()]]"
   ]
  },
  {
   "cell_type": "code",
   "execution_count": 12,
   "id": "7236b738",
   "metadata": {},
   "outputs": [
    {
     "name": "stdout",
     "output_type": "stream",
     "text": [
      "cook cookeri cookbook\n",
      "cook cookery cookbook\n"
     ]
    }
   ],
   "source": [
    "stemmer = PorterStemmer()\n",
    "print(stemmer.stem('cooking'), stemmer.stem('cookery'), stemmer.stem('cookbooks'))\n",
    "stemmer = LancasterStemmer()\n",
    "print(stemmer.stem('cooking'), stemmer.stem('cookery'), stemmer.stem('cookbooks'))"
   ]
  },
  {
   "cell_type": "code",
   "execution_count": 13,
   "id": "9a8a734d",
   "metadata": {},
   "outputs": [
    {
     "name": "stdout",
     "output_type": "stream",
     "text": [
      "Hello everyone It's good to see you Let's start our text mining class\n",
      "['Hello', 'everyone', 'It', \"'s\", 'good', 'to', 'see', 'you', 'Let', \"'s\", 'start', 'our', 'text', 'mining', 'class']\n",
      "['hello', 'everyon', 'it', \"'s\", 'good', 'to', 'see', 'you', 'let', \"'s\", 'start', 'our', 'text', 'min', 'class']\n"
     ]
    }
   ],
   "source": [
    "para = \"Hello everyone. It's good to see you. Let's start our text mining class!\"\n",
    "para = re.sub(r\"[^\\w\\s']\", \"\", para)\n",
    "print(para)\n",
    "tokens = word_tokenize(para)\n",
    "print(tokens)\n",
    "result = [stemmer.stem(token) for token in tokens]\n",
    "print(result)"
   ]
  },
  {
   "cell_type": "code",
   "execution_count": 14,
   "id": "271601dd",
   "metadata": {},
   "outputs": [
    {
     "name": "stdout",
     "output_type": "stream",
     "text": [
      "cooking cook cookery cookbook\n"
     ]
    }
   ],
   "source": [
    "lemma = WordNetLemmatizer()\n",
    "print(lemma.lemmatize('cooking'), lemma.lemmatize('cooking', pos='v'), lemma.lemmatize('cookery'), lemma.lemmatize('cookbooks'))"
   ]
  },
  {
   "cell_type": "code",
   "execution_count": 15,
   "id": "1af77168",
   "metadata": {},
   "outputs": [
    {
     "name": "stdout",
     "output_type": "stream",
     "text": [
      "believ belief believe\n"
     ]
    }
   ],
   "source": [
    "stemmer = PorterStemmer()\n",
    "word = 'believes'\n",
    "print(stemmer.stem(word), lemma.lemmatize(word), lemma.lemmatize(word, pos='v'))"
   ]
  },
  {
   "cell_type": "code",
   "execution_count": 19,
   "id": "9c29cde1",
   "metadata": {},
   "outputs": [
    {
     "name": "stdout",
     "output_type": "stream",
     "text": [
      "['Hello', 'everyone', '.', 'It', \"'s\", 'good', 'to', 'see', 'you', '.', 'Let', \"'s\", 'start', 'our', 'text', 'mining', 'class', '!']\n",
      "[('Hello', 'NNP'), ('everyone', 'NN'), ('.', '.'), ('It', 'PRP'), (\"'s\", 'VBZ'), ('good', 'JJ'), ('to', 'TO'), ('see', 'VB'), ('you', 'PRP'), ('.', '.'), ('Let', 'VB'), (\"'s\", 'POS'), ('start', 'VB'), ('our', 'PRP$'), ('text', 'NN'), ('mining', 'NN'), ('class', 'NN'), ('!', '.')]\n"
     ]
    }
   ],
   "source": [
    "text = \"Hello everyone. It's good to see you. Let's start our text mining class!\"\n",
    "tokens = word_tokenize(text)\n",
    "print(tokens)\n",
    "print(pos_tag(tokens))"
   ]
  },
  {
   "cell_type": "code",
   "execution_count": 25,
   "id": "5b090482",
   "metadata": {},
   "outputs": [
    {
     "name": "stdout",
     "output_type": "stream",
     "text": [
      "CC: conjunction, coordinating\n",
      "    & 'n and both but either et for less minus neither nor or plus so\n",
      "    therefore times v. versus vs. whether yet\n"
     ]
    }
   ],
   "source": [
    "nltk.help.upenn_tagset('CC')"
   ]
  },
  {
   "cell_type": "code",
   "execution_count": 29,
   "id": "4c17b6f7",
   "metadata": {},
   "outputs": [
    {
     "name": "stdout",
     "output_type": "stream",
     "text": [
      "[('everyone', 'NN'), ('good', 'JJ'), ('see', 'VB'), ('Let', 'VB'), ('start', 'VB'), ('text', 'NN'), ('mining', 'NN'), ('class', 'NN')]\n"
     ]
    }
   ],
   "source": [
    "my_tagset = ['NN', 'VB', 'JJ']\n",
    "my_words = [(word, tag) for word, tag in pos_tag(tokens) if tag in my_tagset]\n",
    "print(my_words)"
   ]
  },
  {
   "cell_type": "code",
   "execution_count": 30,
   "id": "265a3580",
   "metadata": {},
   "outputs": [
    {
     "name": "stdout",
     "output_type": "stream",
     "text": [
      "['Hello/NNP', 'everyone/NN', './.', 'It/PRP', \"'s/VBZ\", 'good/JJ', 'to/TO', 'see/VB', 'you/PRP', './.', 'Let/VB', \"'s/POS\", 'start/VB', 'our/PRP$', 'text/NN', 'mining/NN', 'class/NN', '!/.']\n"
     ]
    }
   ],
   "source": [
    "words_with_tag = ['/'.join(item) for item in pos_tag(tokens)]\n",
    "print(words_with_tag)"
   ]
  },
  {
   "cell_type": "code",
   "execution_count": null,
   "id": "f50f9990",
   "metadata": {},
   "outputs": [],
   "source": []
  }
 ],
 "metadata": {
  "kernelspec": {
   "display_name": ".venv (3.13.7)",
   "language": "python",
   "name": "python3"
  },
  "language_info": {
   "codemirror_mode": {
    "name": "ipython",
    "version": 3
   },
   "file_extension": ".py",
   "mimetype": "text/x-python",
   "name": "python",
   "nbconvert_exporter": "python",
   "pygments_lexer": "ipython3",
   "version": "3.13.7"
  }
 },
 "nbformat": 4,
 "nbformat_minor": 5
}
