{
 "cells": [
  {
   "cell_type": "code",
   "execution_count": 28,
   "id": "f7048ebe",
   "metadata": {},
   "outputs": [],
   "source": [
    "import nltk\n",
    "from nltk.tokenize import sent_tokenize, word_tokenize, WordPunctTokenizer, RegexpTokenizer\n",
    "from nltk.corpus import stopwords\n",
    "\n",
    "import re"
   ]
  },
  {
   "cell_type": "code",
   "execution_count": 4,
   "id": "6a28b915",
   "metadata": {},
   "outputs": [
    {
     "name": "stderr",
     "output_type": "stream",
     "text": [
      "[nltk_data] Downloading package punkt to\n",
      "[nltk_data]     c:\\Coding\\Local\\python_text_mining\\.venv\\nltk_data...\n",
      "[nltk_data]   Package punkt is already up-to-date!\n",
      "[nltk_data] Downloading package punkt_tab to\n",
      "[nltk_data]     c:\\Coding\\Local\\python_text_mining\\.venv\\nltk_data...\n",
      "[nltk_data]   Unzipping tokenizers\\punkt_tab.zip.\n",
      "[nltk_data] Downloading package webtext to\n",
      "[nltk_data]     c:\\Coding\\Local\\python_text_mining\\.venv\\nltk_data...\n",
      "[nltk_data]   Package webtext is already up-to-date!\n",
      "[nltk_data] Downloading package wordnet to\n",
      "[nltk_data]     c:\\Coding\\Local\\python_text_mining\\.venv\\nltk_data...\n",
      "[nltk_data]   Package wordnet is already up-to-date!\n",
      "[nltk_data] Downloading package stopwords to\n",
      "[nltk_data]     c:\\Coding\\Local\\python_text_mining\\.venv\\nltk_data...\n",
      "[nltk_data]   Package stopwords is already up-to-date!\n",
      "[nltk_data] Downloading package averaged_perceptron_tagger to\n",
      "[nltk_data]     c:\\Coding\\Local\\python_text_mining\\.venv\\nltk_data...\n",
      "[nltk_data]   Package averaged_perceptron_tagger is already up-to-\n",
      "[nltk_data]       date!\n"
     ]
    },
    {
     "data": {
      "text/plain": [
       "True"
      ]
     },
     "execution_count": 4,
     "metadata": {},
     "output_type": "execute_result"
    }
   ],
   "source": [
    "nltk.download('punkt')\n",
    "nltk.download('punkt_tab')\n",
    "nltk.download('webtext')\n",
    "nltk.download('wordnet')\n",
    "nltk.download('stopwords')\n",
    "nltk.download('averaged_perceptron_tagger')"
   ]
  },
  {
   "cell_type": "code",
   "execution_count": 5,
   "id": "f1ddef19",
   "metadata": {},
   "outputs": [
    {
     "name": "stdout",
     "output_type": "stream",
     "text": [
      "['Hello everyone.', \"It's good to see you.\", \"Let's start our text mining class!\"]\n"
     ]
    }
   ],
   "source": [
    "para = \"Hello everyone. It's good to see you. Let's start our text mining class!\"\n",
    "print(sent_tokenize(para))"
   ]
  },
  {
   "cell_type": "code",
   "execution_count": 6,
   "id": "96169733",
   "metadata": {},
   "outputs": [
    {
     "name": "stdout",
     "output_type": "stream",
     "text": [
      "['안녕하세요, 여러분.', '만나서 반갑습니다.', '이제 텍스트마이닝 클래스를 시작해봅시다!']\n"
     ]
    }
   ],
   "source": [
    "para_kor = \"안녕하세요, 여러분. 만나서 반갑습니다. 이제 텍스트마이닝 클래스를 시작해봅시다!\"\n",
    "print(sent_tokenize(para_kor))"
   ]
  },
  {
   "cell_type": "code",
   "execution_count": 10,
   "id": "b9fbb8e2",
   "metadata": {},
   "outputs": [
    {
     "name": "stdout",
     "output_type": "stream",
     "text": [
      "['Hello', 'everyone', '.', 'It', \"'s\", 'good', 'to', 'see', 'you', '.', 'Let', \"'s\", 'start', 'our', 'text', 'mining', 'class', '!']\n",
      "['Hello', 'everyone', '.', 'It', \"'\", 's', 'good', 'to', 'see', 'you', '.', 'Let', \"'\", 's', 'start', 'our', 'text', 'mining', 'class', '!']\n"
     ]
    },
    {
     "data": {
      "text/plain": [
       "(None, None)"
      ]
     },
     "execution_count": 10,
     "metadata": {},
     "output_type": "execute_result"
    }
   ],
   "source": [
    "print(word_tokenize(para)), print(WordPunctTokenizer().tokenize(para))"
   ]
  },
  {
   "cell_type": "code",
   "execution_count": 18,
   "id": "a8bfd344",
   "metadata": {},
   "outputs": [
    {
     "name": "stdout",
     "output_type": "stream",
     "text": [
      "['a', 'b']\n",
      "['3', 'a', '7', 'b', '_', '5', 'C', 'p', '9', 'D']\n",
      "['_', '__', '___']\n",
      "['How', 'are', 'you', 'boy']\n",
      "['oo', 'oooo', 'oooo']\n"
     ]
    }
   ],
   "source": [
    "print(re.findall(r'[abc]', 'How are you, boy?'))\n",
    "print(re.findall(r'[\\w]', '3a 7b_ \".^&5Cp9D'))\n",
    "print(re.findall(r'[_]+', 'a_b, c__d, e___f'))\n",
    "print(re.findall(r'[\\w]+', 'How are you, boy?'))\n",
    "print(re.findall(r'[o]{2,4}', 'How are you, boy? booy? booooy? boooooy?'))"
   ]
  },
  {
   "cell_type": "code",
   "execution_count": null,
   "id": "88ad7f70",
   "metadata": {},
   "outputs": [
    {
     "name": "stdout",
     "output_type": "stream",
     "text": [
      "['Sorry', 'I', \"can't\", 'go', 'there']\n"
     ]
    }
   ],
   "source": [
    "text1 = \"Sorry, I can't go there.\"\n",
    "tokenizer = RegexpTokenizer(r'''[\\w']+''')\n",
    "print(tokenizer.tokenize('''Sorry, I can't go there.'''))"
   ]
  },
  {
   "cell_type": "code",
   "execution_count": 36,
   "id": "910e8ce9",
   "metadata": {},
   "outputs": [
    {
     "name": "stdout",
     "output_type": "stream",
     "text": [
      "['sorry', \"can't\", 'there']\n"
     ]
    }
   ],
   "source": [
    "tokenizer = RegexpTokenizer(r'''[\\w']{3,}''')\n",
    "print(tokenizer.tokenize(text1.lower()))"
   ]
  },
  {
   "cell_type": "code",
   "execution_count": 34,
   "id": "69eaa55c",
   "metadata": {},
   "outputs": [
    {
     "name": "stdout",
     "output_type": "stream",
     "text": [
      "{'at', 'not', \"didn't\", 'such', 'than', \"we'd\", 'its', 'my', 'did', 'here', \"it'd\", 'very', 'himself', 'herself', 'above', 'if', 'been', 'of', \"i'll\", 't', 'against', \"hadn't\", 'hasn', 'into', \"i've\", 'which', 'had', 'any', 'up', 'yourself', \"i'd\", 'o', \"shouldn't\", 'then', 'from', 'myself', \"you'll\", \"they've\", 'have', 'own', 'she', 's', 'all', 'and', 'him', \"couldn't\", 'me', \"we're\", 'who', 'while', 'before', \"they're\", 'aren', 'during', 'yourselves', 'their', 'again', 'down', 'off', \"haven't\", 'isn', 'shan', 'shouldn', 'below', 'can', \"doesn't\", 'm', 'more', 'there', 'too', 'how', 'does', 'your', 'just', 'am', 'couldn', 'out', 'by', 'yours', \"they'll\", 'about', \"they'd\", 'having', 'in', 'our', 'these', 'this', 'those', \"we'll\", 'once', 'his', 'when', 'why', 'hadn', 'y', 'between', 'the', 'he', \"it's\", 'through', 'other', 'itself', 'where', 're', \"she'd\", \"you're\", 'nor', 'it', \"she'll\", 'but', \"you've\", 'is', \"mustn't\", \"isn't\", \"should've\", \"we've\", 'needn', 'ma', 'hers', 'no', 'because', \"won't\", 'only', \"weren't\", 'do', 'ain', 'll', 'to', 'are', \"don't\", 'mustn', 'themselves', 'under', 'few', 'were', 've', \"you'd\", 'wasn', 'over', 'on', 'theirs', 'i', 'doing', \"hasn't\", 'ours', 'as', \"shan't\", \"wasn't\", \"he's\", 'whom', 'now', 'ourselves', 'should', \"mightn't\", 'wouldn', 'until', \"she's\", 'doesn', 'so', 'same', 'don', 'mightn', \"that'll\", \"he'd\", \"it'll\", 'or', 'haven', 'we', 'they', \"aren't\", 'further', \"needn't\", \"he'll\", 'her', 'most', 'them', 'weren', 'will', 'you', 'some', 'was', 'being', 'each', 'didn', 'has', 'won', 'be', 'that', 'd', 'what', 'both', \"i'm\", 'for', 'a', 'with', 'after', \"wouldn't\", 'an'}\n"
     ]
    }
   ],
   "source": [
    "eng_stops = set(stopwords.words('english'))\n",
    "print(eng_stops)"
   ]
  },
  {
   "cell_type": "code",
   "execution_count": 38,
   "id": "f3d47efa",
   "metadata": {},
   "outputs": [
    {
     "data": {
      "text/plain": [
       "['sorry', 'go', 'movie', 'yesterday']"
      ]
     },
     "execution_count": 38,
     "metadata": {},
     "output_type": "execute_result"
    }
   ],
   "source": [
    "text1 = '''Sorry, I couldn't go to movie yesterday.'''\n",
    "tokenizer = RegexpTokenizer(r'''[\\w']+''')\n",
    "tokens = tokenizer.tokenize(text1.lower())\n",
    "result = [word for word in tokens if word not in eng_stops]\n",
    "result"
   ]
  },
  {
   "cell_type": "code",
   "execution_count": null,
   "id": "90806c9d",
   "metadata": {},
   "outputs": [],
   "source": []
  }
 ],
 "metadata": {
  "kernelspec": {
   "display_name": ".venv (3.13.7)",
   "language": "python",
   "name": "python3"
  },
  "language_info": {
   "codemirror_mode": {
    "name": "ipython",
    "version": 3
   },
   "file_extension": ".py",
   "mimetype": "text/x-python",
   "name": "python",
   "nbconvert_exporter": "python",
   "pygments_lexer": "ipython3",
   "version": "3.13.7"
  }
 },
 "nbformat": 4,
 "nbformat_minor": 5
}
