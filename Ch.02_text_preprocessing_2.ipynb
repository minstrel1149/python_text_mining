{
 "cells": [
  {
   "cell_type": "code",
   "execution_count": 2,
   "id": "f7048ebe",
   "metadata": {},
   "outputs": [],
   "source": [
    "import nltk\n",
    "from nltk.tokenize import sent_tokenize, word_tokenize, WordPunctTokenizer, RegexpTokenizer\n",
    "from nltk.corpus import stopwords\n",
    "from nltk.stem import PorterStemmer, LancasterStemmer, WordNetLemmatizer\n",
    "from nltk.tag import pos_tag\n",
    "\n",
    "from konlpy.tag import Okt\n",
    "\n",
    "import re"
   ]
  },
  {
   "cell_type": "code",
   "execution_count": 3,
   "id": "6a28b915",
   "metadata": {},
   "outputs": [],
   "source": [
    "#nltk.download('punkt')\n",
    "#nltk.download('punkt_tab')\n",
    "#nltk.download('webtext')\n",
    "#nltk.download('wordnet')\n",
    "#nltk.download('stopwords')\n",
    "#nltk.download('averaged_perceptron_tagger')\n",
    "#nltk.download('averaged_perceptron_tagger_eng')\n",
    "#nltk.download('tagsets_json')"
   ]
  },
  {
   "cell_type": "code",
   "execution_count": 4,
   "id": "f1ddef19",
   "metadata": {},
   "outputs": [
    {
     "name": "stdout",
     "output_type": "stream",
     "text": [
      "['Hello everyone.', \"It's good to see you.\", \"Let's start our text mining class!\"]\n"
     ]
    }
   ],
   "source": [
    "para = \"Hello everyone. It's good to see you. Let's start our text mining class!\"\n",
    "print(sent_tokenize(para))"
   ]
  },
  {
   "cell_type": "code",
   "execution_count": 5,
   "id": "96169733",
   "metadata": {},
   "outputs": [
    {
     "name": "stdout",
     "output_type": "stream",
     "text": [
      "['안녕하세요, 여러분.', '만나서 반갑습니다.', '이제 텍스트마이닝 클래스를 시작해봅시다!']\n"
     ]
    }
   ],
   "source": [
    "para_kor = \"안녕하세요, 여러분. 만나서 반갑습니다. 이제 텍스트마이닝 클래스를 시작해봅시다!\"\n",
    "print(sent_tokenize(para_kor))"
   ]
  },
  {
   "cell_type": "code",
   "execution_count": 6,
   "id": "b9fbb8e2",
   "metadata": {},
   "outputs": [
    {
     "name": "stdout",
     "output_type": "stream",
     "text": [
      "['Hello', 'everyone', '.', 'It', \"'s\", 'good', 'to', 'see', 'you', '.', 'Let', \"'s\", 'start', 'our', 'text', 'mining', 'class', '!']\n",
      "['Hello', 'everyone', '.', 'It', \"'\", 's', 'good', 'to', 'see', 'you', '.', 'Let', \"'\", 's', 'start', 'our', 'text', 'mining', 'class', '!']\n"
     ]
    },
    {
     "data": {
      "text/plain": [
       "(None, None)"
      ]
     },
     "execution_count": 6,
     "metadata": {},
     "output_type": "execute_result"
    }
   ],
   "source": [
    "print(word_tokenize(para)), print(WordPunctTokenizer().tokenize(para))"
   ]
  },
  {
   "cell_type": "code",
   "execution_count": 7,
   "id": "a8bfd344",
   "metadata": {},
   "outputs": [
    {
     "name": "stdout",
     "output_type": "stream",
     "text": [
      "['a', 'b']\n",
      "['3', 'a', '7', 'b', '_', '5', 'C', 'p', '9', 'D']\n",
      "['_', '__', '___']\n",
      "['How', 'are', 'you', 'boy']\n",
      "['oo', 'oooo', 'oooo']\n"
     ]
    }
   ],
   "source": [
    "print(re.findall(r'[abc]', 'How are you, boy?'))\n",
    "print(re.findall(r'[\\w]', '3a 7b_ \".^&5Cp9D'))\n",
    "print(re.findall(r'[_]+', 'a_b, c__d, e___f'))\n",
    "print(re.findall(r'[\\w]+', 'How are you, boy?'))\n",
    "print(re.findall(r'[o]{2,4}', 'How are you, boy? booy? booooy? boooooy?'))"
   ]
  },
  {
   "cell_type": "code",
   "execution_count": 8,
   "id": "88ad7f70",
   "metadata": {},
   "outputs": [
    {
     "name": "stdout",
     "output_type": "stream",
     "text": [
      "['Sorry', 'I', \"can't\", 'go', 'there']\n"
     ]
    }
   ],
   "source": [
    "text1 = \"Sorry, I can't go there.\"\n",
    "tokenizer = RegexpTokenizer(r\"[\\w']+\")\n",
    "print(tokenizer.tokenize(\"Sorry, I can't go there.\"))"
   ]
  },
  {
   "cell_type": "code",
   "execution_count": 9,
   "id": "910e8ce9",
   "metadata": {},
   "outputs": [
    {
     "name": "stdout",
     "output_type": "stream",
     "text": [
      "['sorry', \"can't\", 'there']\n"
     ]
    }
   ],
   "source": [
    "tokenizer = RegexpTokenizer(r\"[\\w']{3,}\")\n",
    "print(tokenizer.tokenize(text1.lower()))"
   ]
  },
  {
   "cell_type": "code",
   "execution_count": 10,
   "id": "69eaa55c",
   "metadata": {},
   "outputs": [
    {
     "name": "stdout",
     "output_type": "stream",
     "text": [
      "{'by', 'of', 'after', 'now', 'am', 'be', 'on', 'the', 'an', 'so', 'into', 'was', 'having', 'itself', 'while', 'but', 'her', 'where', 'yours', 'shouldn', \"i've\", \"couldn't\", 'just', 'other', \"that'll\", 'through', \"wasn't\", 'further', \"doesn't\", 'only', \"you'd\", 'or', 'more', 'shan', \"he's\", 'themselves', 'who', 'me', \"hasn't\", 'herself', 'll', 'such', 'myself', 'most', 'she', 'd', \"mustn't\", 'should', 'didn', 'own', 'needn', 'then', 'don', 'haven', 'hadn', \"i'll\", 'ma', \"aren't\", 'isn', 'at', \"shan't\", \"you've\", 'again', 'few', 'off', 'each', \"they're\", 'all', 'same', 'from', 'my', 'with', 'won', 'hasn', \"hadn't\", 'did', 'do', 'between', 'has', 'if', \"it's\", 'no', 'to', 'both', \"should've\", 'how', \"isn't\", \"they'll\", 'm', 'couldn', 'any', 'against', 'below', 'their', 'some', \"he'd\", 'in', 'why', 'is', 'being', 'yourself', 'during', 'than', \"you'll\", 're', 'its', 'o', \"they've\", 'very', 'can', \"she'd\", \"didn't\", 'his', \"needn't\", 'what', 'when', 'i', 'hers', 'doing', 'under', 'and', 'does', 'there', \"we're\", 'have', 'them', 'here', \"mightn't\", \"she's\", 'which', 'mustn', 'nor', 'you', 'before', 've', \"he'll\", 't', 'for', 'had', \"wouldn't\", 'himself', 'mightn', 'they', \"i'd\", 'out', 'were', 'not', 'are', 'down', \"they'd\", 'because', 'your', 'a', 'ain', 's', 'aren', \"she'll\", 'we', \"it'd\", 'theirs', 'too', 'y', \"weren't\", \"won't\", 'yourselves', \"shouldn't\", 'been', \"haven't\", 'once', 'about', 'our', \"don't\", \"you're\", \"we've\", 'over', 'whom', 'above', 'until', 'it', 'him', 'wouldn', 'as', 'doesn', 'ourselves', 'he', 'these', \"i'm\", 'ours', 'up', 'those', 'this', 'weren', \"we'll\", 'will', \"it'll\", 'wasn', \"we'd\", 'that'}\n"
     ]
    }
   ],
   "source": [
    "eng_stops = set(stopwords.words('english'))\n",
    "print(eng_stops)"
   ]
  },
  {
   "cell_type": "code",
   "execution_count": 11,
   "id": "f3d47efa",
   "metadata": {},
   "outputs": [
    {
     "data": {
      "text/plain": [
       "['sorry', 'go', 'movie', 'yesterday']"
      ]
     },
     "execution_count": 11,
     "metadata": {},
     "output_type": "execute_result"
    }
   ],
   "source": [
    "text1 = \"Sorry, I couldn't go to movie yesterday.\"\n",
    "tokenizer = RegexpTokenizer(r\"[\\w']+\")\n",
    "tokens = tokenizer.tokenize(text1.lower())\n",
    "result = [word for word in tokens if word not in eng_stops]\n",
    "result"
   ]
  },
  {
   "cell_type": "code",
   "execution_count": 12,
   "id": "90806c9d",
   "metadata": {},
   "outputs": [
    {
     "name": "stdout",
     "output_type": "stream",
     "text": [
      "cook cookeri cookbook\n",
      "cook cookery cookbook\n"
     ]
    }
   ],
   "source": [
    "stemmers = [print(stemmer.stem('cooking'), stemmer.stem('cookery'), stemmer.stem('cookbooks')) for stemmer in [PorterStemmer(), LancasterStemmer()]]"
   ]
  },
  {
   "cell_type": "code",
   "execution_count": 13,
   "id": "7236b738",
   "metadata": {},
   "outputs": [
    {
     "name": "stdout",
     "output_type": "stream",
     "text": [
      "cook cookeri cookbook\n",
      "cook cookery cookbook\n"
     ]
    }
   ],
   "source": [
    "stemmer = PorterStemmer()\n",
    "print(stemmer.stem('cooking'), stemmer.stem('cookery'), stemmer.stem('cookbooks'))\n",
    "stemmer = LancasterStemmer()\n",
    "print(stemmer.stem('cooking'), stemmer.stem('cookery'), stemmer.stem('cookbooks'))"
   ]
  },
  {
   "cell_type": "code",
   "execution_count": 14,
   "id": "9a8a734d",
   "metadata": {},
   "outputs": [
    {
     "name": "stdout",
     "output_type": "stream",
     "text": [
      "Hello everyone It's good to see you Let's start our text mining class\n",
      "['Hello', 'everyone', 'It', \"'s\", 'good', 'to', 'see', 'you', 'Let', \"'s\", 'start', 'our', 'text', 'mining', 'class']\n",
      "['hello', 'everyon', 'it', \"'s\", 'good', 'to', 'see', 'you', 'let', \"'s\", 'start', 'our', 'text', 'min', 'class']\n"
     ]
    }
   ],
   "source": [
    "para = \"Hello everyone. It's good to see you. Let's start our text mining class!\"\n",
    "para = re.sub(r\"[^\\w\\s']\", \"\", para)\n",
    "print(para)\n",
    "tokens = word_tokenize(para)\n",
    "print(tokens)\n",
    "result = [stemmer.stem(token) for token in tokens]\n",
    "print(result)"
   ]
  },
  {
   "cell_type": "code",
   "execution_count": 15,
   "id": "271601dd",
   "metadata": {},
   "outputs": [
    {
     "name": "stdout",
     "output_type": "stream",
     "text": [
      "cooking cook cookery cookbook\n"
     ]
    }
   ],
   "source": [
    "lemma = WordNetLemmatizer()\n",
    "print(lemma.lemmatize('cooking'), lemma.lemmatize('cooking', pos='v'), lemma.lemmatize('cookery'), lemma.lemmatize('cookbooks'))"
   ]
  },
  {
   "cell_type": "code",
   "execution_count": 16,
   "id": "1af77168",
   "metadata": {},
   "outputs": [
    {
     "name": "stdout",
     "output_type": "stream",
     "text": [
      "believ belief believe\n"
     ]
    }
   ],
   "source": [
    "stemmer = PorterStemmer()\n",
    "word = 'believes'\n",
    "print(stemmer.stem(word), lemma.lemmatize(word), lemma.lemmatize(word, pos='v'))"
   ]
  },
  {
   "cell_type": "code",
   "execution_count": 17,
   "id": "9c29cde1",
   "metadata": {},
   "outputs": [
    {
     "name": "stdout",
     "output_type": "stream",
     "text": [
      "['Hello', 'everyone', '.', 'It', \"'s\", 'good', 'to', 'see', 'you', '.', 'Let', \"'s\", 'start', 'our', 'text', 'mining', 'class', '!']\n",
      "[('Hello', 'NNP'), ('everyone', 'NN'), ('.', '.'), ('It', 'PRP'), (\"'s\", 'VBZ'), ('good', 'JJ'), ('to', 'TO'), ('see', 'VB'), ('you', 'PRP'), ('.', '.'), ('Let', 'VB'), (\"'s\", 'POS'), ('start', 'VB'), ('our', 'PRP$'), ('text', 'NN'), ('mining', 'NN'), ('class', 'NN'), ('!', '.')]\n"
     ]
    }
   ],
   "source": [
    "text = \"Hello everyone. It's good to see you. Let's start our text mining class!\"\n",
    "tokens = word_tokenize(text)\n",
    "print(tokens)\n",
    "print(pos_tag(tokens))"
   ]
  },
  {
   "cell_type": "code",
   "execution_count": 18,
   "id": "5b090482",
   "metadata": {},
   "outputs": [
    {
     "name": "stdout",
     "output_type": "stream",
     "text": [
      "CC: conjunction, coordinating\n",
      "    & 'n and both but either et for less minus neither nor or plus so\n",
      "    therefore times v. versus vs. whether yet\n"
     ]
    }
   ],
   "source": [
    "nltk.help.upenn_tagset('CC')"
   ]
  },
  {
   "cell_type": "code",
   "execution_count": 19,
   "id": "4c17b6f7",
   "metadata": {},
   "outputs": [
    {
     "name": "stdout",
     "output_type": "stream",
     "text": [
      "[('everyone', 'NN'), ('good', 'JJ'), ('see', 'VB'), ('Let', 'VB'), ('start', 'VB'), ('text', 'NN'), ('mining', 'NN'), ('class', 'NN')]\n"
     ]
    }
   ],
   "source": [
    "my_tagset = ['NN', 'VB', 'JJ']\n",
    "my_words = [(word, tag) for word, tag in pos_tag(tokens) if tag in my_tagset]\n",
    "print(my_words)"
   ]
  },
  {
   "cell_type": "code",
   "execution_count": 20,
   "id": "265a3580",
   "metadata": {},
   "outputs": [
    {
     "name": "stdout",
     "output_type": "stream",
     "text": [
      "['Hello/NNP', 'everyone/NN', './.', 'It/PRP', \"'s/VBZ\", 'good/JJ', 'to/TO', 'see/VB', 'you/PRP', './.', 'Let/VB', \"'s/POS\", 'start/VB', 'our/PRP$', 'text/NN', 'mining/NN', 'class/NN', '!/.']\n"
     ]
    }
   ],
   "source": [
    "words_with_tag = ['/'.join(item) for item in pos_tag(tokens)]\n",
    "print(words_with_tag)"
   ]
  },
  {
   "cell_type": "code",
   "execution_count": 22,
   "id": "f50f9990",
   "metadata": {},
   "outputs": [],
   "source": [
    "okt = Okt()\n",
    "sentence = '''절망의 반대가 희망은 아니다.\n",
    "어두운 밤하늘에 별이 빛나듯\n",
    "희망은 절망 속에 싹트는 거지\n",
    "만약에 우리가 희망함이 적다면\n",
    "그 누가 세상을 비출어줄까.\n",
    "정희성, 희망 공부'''"
   ]
  },
  {
   "cell_type": "code",
   "execution_count": 23,
   "id": "948c9be8",
   "metadata": {},
   "outputs": [
    {
     "name": "stdout",
     "output_type": "stream",
     "text": [
      "['절망', '의', '반대', '가', '희망', '은', '아니다', '.', '\\n', '어', '두운', '밤하늘', '에', '별', '이', '빛나듯', '\\n', '희망', '은', '절망', '속', '에', '싹트는', '거지', '\\n', '만약', '에', '우리', '가', '희망', '함', '이', '적다면', '\\n', '그', '누가', '세상', '을', '비출어줄까', '.', '\\n', '정희성', ',', '희망', '공부']\n",
      "['절망', '반대', '희망', '어', '두운', '밤하늘', '별', '희망', '절망', '속', '거지', '만약', '우리', '희망', '함', '그', '누가', '세상', '정희성', '희망', '공부']\n",
      "[('절망', 'Noun'), ('의', 'Josa'), ('반대', 'Noun'), ('가', 'Josa'), ('희망', 'Noun'), ('은', 'Josa'), ('아니다', 'Adjective'), ('.', 'Punctuation'), ('\\n', 'Foreign'), ('어', 'Noun'), ('두운', 'Noun'), ('밤하늘', 'Noun'), ('에', 'Josa'), ('별', 'Noun'), ('이', 'Josa'), ('빛나듯', 'Verb'), ('\\n', 'Foreign'), ('희망', 'Noun'), ('은', 'Josa'), ('절망', 'Noun'), ('속', 'Noun'), ('에', 'Josa'), ('싹트는', 'Verb'), ('거지', 'Noun'), ('\\n', 'Foreign'), ('만약', 'Noun'), ('에', 'Josa'), ('우리', 'Noun'), ('가', 'Josa'), ('희망', 'Noun'), ('함', 'Noun'), ('이', 'Josa'), ('적다면', 'Verb'), ('\\n', 'Foreign'), ('그', 'Noun'), ('누가', 'Noun'), ('세상', 'Noun'), ('을', 'Josa'), ('비출어줄까', 'Verb'), ('.', 'Punctuation'), ('\\n', 'Foreign'), ('정희성', 'Noun'), (',', 'Punctuation'), ('희망', 'Noun'), ('공부', 'Noun')]\n"
     ]
    }
   ],
   "source": [
    "print(okt.morphs(sentence))\n",
    "print(okt.nouns(sentence))\n",
    "print(okt.pos(sentence))"
   ]
  },
  {
   "cell_type": "code",
   "execution_count": null,
   "id": "fcc78a9b",
   "metadata": {},
   "outputs": [],
   "source": []
  }
 ],
 "metadata": {
  "kernelspec": {
   "display_name": ".venv (3.13.7)",
   "language": "python",
   "name": "python3"
  },
  "language_info": {
   "codemirror_mode": {
    "name": "ipython",
    "version": 3
   },
   "file_extension": ".py",
   "mimetype": "text/x-python",
   "name": "python",
   "nbconvert_exporter": "python",
   "pygments_lexer": "ipython3",
   "version": "3.13.7"
  }
 },
 "nbformat": 4,
 "nbformat_minor": 5
}
