{
 "cells": [
  {
   "cell_type": "code",
   "execution_count": 1,
   "id": "e114d174",
   "metadata": {},
   "outputs": [],
   "source": [
    "import os\n",
    "os.environ['KERAS_BACKEND'] = 'torch'"
   ]
  },
  {
   "cell_type": "code",
   "execution_count": 2,
   "id": "8df45523",
   "metadata": {},
   "outputs": [],
   "source": [
    "from nltk.corpus import movie_reviews\n",
    "\n",
    "from sklearn.model_selection import train_test_split\n",
    "\n",
    "import numpy as np\n",
    "\n",
    "import tensorflow as tf\n",
    "import torch\n",
    "\n",
    "import keras\n",
    "from keras.preprocessing.sequence import pad_sequences\n",
    "from keras.models import Sequential\n",
    "from keras.layers import Flatten, Dense, Embedding, TextVectorization"
   ]
  },
  {
   "cell_type": "code",
   "execution_count": 3,
   "id": "ce40049c",
   "metadata": {},
   "outputs": [],
   "source": [
    "fileids = movie_reviews.fileids()\n",
    "reviews = [movie_reviews.raw(fileid) for fileid in fileids]\n",
    "categories = [movie_reviews.categories(fileid)[0] for fileid in fileids]"
   ]
  },
  {
   "cell_type": "code",
   "execution_count": 4,
   "id": "3f4bcdb6",
   "metadata": {},
   "outputs": [
    {
     "name": "stdout",
     "output_type": "stream",
     "text": [
      "현재 Keras 백엔드: torch\n",
      "GPU 사용 가능: True\n",
      "모델 파라미터가 위치한 장치: cuda:0\n"
     ]
    },
    {
     "name": "stderr",
     "output_type": "stream",
     "text": [
      "c:\\Coding\\Local\\python_text_mining\\.venv\\Lib\\site-packages\\keras\\src\\layers\\core\\dense.py:92: UserWarning: Do not pass an `input_shape`/`input_dim` argument to a layer. When using Sequential models, prefer using an `Input(shape)` object as the first layer in the model instead.\n",
      "  super().__init__(activity_regularizer=activity_regularizer, **kwargs)\n"
     ]
    }
   ],
   "source": [
    "# 1. 백엔드 이름 확인\n",
    "print(f\"현재 Keras 백엔드: {keras.backend.backend()}\")\n",
    "\n",
    "# 2. GPU 사용 가능 여부 확인 (PyTorch 방식)\n",
    "print(f\"GPU 사용 가능: {torch.cuda.is_available()}\")\n",
    "\n",
    "# 3. 간단한 Keras 모델 생성 및 장치 확인\n",
    "model = keras.Sequential([keras.layers.Dense(10, input_shape=(5,))])\n",
    "# Keras 텐서가 어떤 장치에 있는지 확인 (PyTorch 백엔드일 경우)\n",
    "print(f\"모델 파라미터가 위치한 장치: {next(model.parameters()).device}\")"
   ]
  },
  {
   "cell_type": "code",
   "execution_count": 5,
   "id": "917ce373",
   "metadata": {},
   "outputs": [],
   "source": [
    "np.random.seed(7)\n",
    "tf.random.set_seed(7)"
   ]
  },
  {
   "cell_type": "code",
   "execution_count": 6,
   "id": "7a907b5f",
   "metadata": {},
   "outputs": [
    {
     "name": "stdout",
     "output_type": "stream",
     "text": [
      "[1000, 1000, 1000, 1000, 1000, 1000, 1000, 1000, 1000, 1000]\n"
     ]
    }
   ],
   "source": [
    "max_tokens = 10000\n",
    "# torch로 keras의 backend를 변경하면서 방식 변경\n",
    "# tokenizer뿐만 아니라 padding, truncation 까지 이 단계에서 수행\n",
    "tokenizer = TextVectorization(max_tokens=max_tokens, output_sequence_length=1000)\n",
    "tokenizer.adapt(reviews)\n",
    "X = tokenizer(reviews)\n",
    "print([len(doc) for doc in X[:10]])"
   ]
  },
  {
   "cell_type": "code",
   "execution_count": 7,
   "id": "92a94334",
   "metadata": {},
   "outputs": [
    {
     "name": "stdout",
     "output_type": "stream",
     "text": [
      "2\n",
      "457\n"
     ]
    }
   ],
   "source": [
    "vocab = tokenizer.get_vocabulary()\n",
    "word_index = {word: index for index, word in enumerate(vocab)}\n",
    "print(word_index['the'])\n",
    "print(word_index['review'])"
   ]
  },
  {
   "cell_type": "code",
   "execution_count": 8,
   "id": "3e0dd23d",
   "metadata": {},
   "outputs": [
    {
     "name": "stdout",
     "output_type": "stream",
     "text": [
      "{np.int64(0), np.int64(1)}\n"
     ]
    }
   ],
   "source": [
    "label_dict = {'pos':1, 'neg':0}\n",
    "y = np.array([label_dict[c] for c in categories])\n",
    "print(set(y))"
   ]
  },
  {
   "cell_type": "code",
   "execution_count": 9,
   "id": "0de157fe",
   "metadata": {},
   "outputs": [
    {
     "name": "stdout",
     "output_type": "stream",
     "text": [
      "torch.Size([1600, 1000]) torch.Size([400, 1000])\n"
     ]
    }
   ],
   "source": [
    "X_train, X_test, y_train, y_test = train_test_split(X, y, test_size=0.2, random_state=10)\n",
    "print(X_train.shape, X_test.shape)"
   ]
  },
  {
   "cell_type": "code",
   "execution_count": null,
   "id": "e218c007",
   "metadata": {},
   "outputs": [],
   "source": []
  }
 ],
 "metadata": {
  "kernelspec": {
   "display_name": ".venv (3.13.7)",
   "language": "python",
   "name": "python3"
  },
  "language_info": {
   "codemirror_mode": {
    "name": "ipython",
    "version": 3
   },
   "file_extension": ".py",
   "mimetype": "text/x-python",
   "name": "python",
   "nbconvert_exporter": "python",
   "pygments_lexer": "ipython3",
   "version": "3.13.7"
  }
 },
 "nbformat": 4,
 "nbformat_minor": 5
}
