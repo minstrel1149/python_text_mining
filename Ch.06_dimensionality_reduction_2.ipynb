{
 "cells": [
  {
   "cell_type": "code",
   "execution_count": 34,
   "id": "28e7f049",
   "metadata": {},
   "outputs": [],
   "source": [
    "from sklearn.datasets import fetch_20newsgroups\n",
    "from sklearn.feature_extraction.text import TfidfVectorizer, CountVectorizer\n",
    "from sklearn.linear_model import LogisticRegression\n",
    "from sklearn.naive_bayes import MultinomialNB\n",
    "from sklearn.decomposition import PCA, TruncatedSVD\n",
    "from sklearn.metrics.pairwise import cosine_similarity\n",
    "\n",
    "import nltk\n",
    "from nltk.corpus import stopwords\n",
    "from nltk.tokenize import RegexpTokenizer\n",
    "from nltk.stem import WordNetLemmatizer"
   ]
  },
  {
   "cell_type": "code",
   "execution_count": 2,
   "id": "0f1cb8ca",
   "metadata": {},
   "outputs": [],
   "source": [
    "categories = ['alt.atheism', 'talk.religion.misc', 'comp.graphics', 'sci.space']\n",
    "newsgroups_train = fetch_20newsgroups(subset='train',\n",
    "                                      remove=('headers', 'footers', 'quotes'),\n",
    "                                      categories=categories)\n",
    "newsgroups_test = fetch_20newsgroups(subset='test',\n",
    "                                      remove=('headers', 'footers', 'quotes'),\n",
    "                                      categories=categories)"
   ]
  },
  {
   "cell_type": "code",
   "execution_count": 4,
   "id": "13e4a7b6",
   "metadata": {},
   "outputs": [],
   "source": [
    "X_train, X_test, y_train, y_test = newsgroups_train.data, newsgroups_test.data, newsgroups_train.target, newsgroups_test.target"
   ]
  },
  {
   "cell_type": "code",
   "execution_count": 7,
   "id": "fa2cc2e1",
   "metadata": {},
   "outputs": [],
   "source": [
    "def tokenizer(text):\n",
    "    reg_tokens = RegexpTokenizer(r\"[\\w']{2,}\").tokenize(text.lower())\n",
    "    words = [word for word in reg_tokens if (word not in set(stopwords.words('english'))) and len(word) >= 2]\n",
    "    tokens = [WordNetLemmatizer().lemmatize(token) for token in words]\n",
    "    return tokens"
   ]
  },
  {
   "cell_type": "code",
   "execution_count": 10,
   "id": "83d36b4e",
   "metadata": {},
   "outputs": [
    {
     "name": "stderr",
     "output_type": "stream",
     "text": [
      "c:\\Coding\\Local\\python_text_mining\\.venv\\Lib\\site-packages\\sklearn\\feature_extraction\\text.py:517: UserWarning: The parameter 'token_pattern' will not be used since 'tokenizer' is not None'\n",
      "  warnings.warn(\n"
     ]
    },
    {
     "name": "stdout",
     "output_type": "stream",
     "text": [
      "(2034, 10000) (1353, 10000)\n"
     ]
    }
   ],
   "source": [
    "tfidf = TfidfVectorizer(tokenizer=tokenizer, max_features=10000, min_df=3, max_df=0.5, ngram_range=(1, 2))\n",
    "X_train_tf = tfidf.fit_transform(X_train)\n",
    "X_test_tf = tfidf.transform(X_test)\n",
    "print(X_train_tf.shape, X_test_tf.shape)"
   ]
  },
  {
   "cell_type": "code",
   "execution_count": 16,
   "id": "85f5e728",
   "metadata": {},
   "outputs": [
    {
     "name": "stdout",
     "output_type": "stream",
     "text": [
      "0.9739429695181907 0.7605321507760532\n"
     ]
    }
   ],
   "source": [
    "logreg_clf = LogisticRegression(max_iter=1000, C=3)\n",
    "logreg_clf.fit(X_train_tf, y_train)\n",
    "print(logreg_clf.score(X_train_tf, y_train), logreg_clf.score(X_test_tf, y_test))"
   ]
  },
  {
   "cell_type": "code",
   "execution_count": 21,
   "id": "392dc754",
   "metadata": {},
   "outputs": [
    {
     "name": "stdout",
     "output_type": "stream",
     "text": [
      "1.000\n",
      "(2034, 2000) (1353, 2000)\n"
     ]
    }
   ],
   "source": [
    "pca = PCA(n_components=2000, random_state=0)\n",
    "X_train_pca = pca.fit_transform(X_train_tf)\n",
    "X_test_pca = pca.transform(X_test_tf)\n",
    "print(f'{pca.explained_variance_ratio_.sum():.3f}')\n",
    "print(X_train_pca.shape, X_test_pca.shape)"
   ]
  },
  {
   "cell_type": "code",
   "execution_count": 22,
   "id": "56326c25",
   "metadata": {},
   "outputs": [
    {
     "name": "stdout",
     "output_type": "stream",
     "text": [
      "0.9739429695181907 0.7605321507760532\n"
     ]
    }
   ],
   "source": [
    "logreg_clf = LogisticRegression(max_iter=1000, C=3)\n",
    "logreg_clf.fit(X_train_pca, y_train)\n",
    "print(logreg_clf.score(X_train_pca, y_train), logreg_clf.score(X_test_pca, y_test))"
   ]
  },
  {
   "cell_type": "code",
   "execution_count": 23,
   "id": "4f173d82",
   "metadata": {},
   "outputs": [
    {
     "name": "stdout",
     "output_type": "stream",
     "text": [
      "0.577\n",
      "(2034, 500) (1353, 500)\n"
     ]
    }
   ],
   "source": [
    "pca = PCA(n_components=500, random_state=0)\n",
    "X_train_pca = pca.fit_transform(X_train_tf)\n",
    "X_test_pca = pca.transform(X_test_tf)\n",
    "print(f'{pca.explained_variance_ratio_.sum():.3f}')\n",
    "print(X_train_pca.shape, X_test_pca.shape)"
   ]
  },
  {
   "cell_type": "code",
   "execution_count": 24,
   "id": "7b368e27",
   "metadata": {},
   "outputs": [
    {
     "name": "stdout",
     "output_type": "stream",
     "text": [
      "0.9306784660766961 0.7634885439763488\n"
     ]
    }
   ],
   "source": [
    "logreg_clf = LogisticRegression(max_iter=1000, C=3)\n",
    "logreg_clf.fit(X_train_pca, y_train)\n",
    "print(logreg_clf.score(X_train_pca, y_train), logreg_clf.score(X_test_pca, y_test))"
   ]
  },
  {
   "cell_type": "code",
   "execution_count": 26,
   "id": "291e14d2",
   "metadata": {},
   "outputs": [
    {
     "name": "stdout",
     "output_type": "stream",
     "text": [
      "1.000\n",
      "(2034, 2000) (1353, 2000)\n"
     ]
    }
   ],
   "source": [
    "svd = TruncatedSVD(n_components=2000, random_state=0)\n",
    "X_train_lsa = svd.fit_transform(X_train_tf)\n",
    "X_test_lsa = svd.transform(X_test_tf)\n",
    "print(f'{svd.explained_variance_ratio_.sum():.3f}')\n",
    "print(X_train_lsa.shape, X_test_lsa.shape)"
   ]
  },
  {
   "cell_type": "code",
   "execution_count": 29,
   "id": "e98a05fd",
   "metadata": {},
   "outputs": [
    {
     "name": "stdout",
     "output_type": "stream",
     "text": [
      "0.9739429695181907 0.7605321507760532\n"
     ]
    }
   ],
   "source": [
    "logreg_clf = LogisticRegression(max_iter=1000, C=3)\n",
    "logreg_clf.fit(X_train_lsa, y_train)\n",
    "print(logreg_clf.score(X_train_lsa, y_train), logreg_clf.score(X_test_lsa, y_test))"
   ]
  },
  {
   "cell_type": "code",
   "execution_count": 30,
   "id": "c5f4d171",
   "metadata": {},
   "outputs": [
    {
     "name": "stdout",
     "output_type": "stream",
     "text": [
      "0.572\n",
      "(2034, 500) (1353, 500)\n"
     ]
    }
   ],
   "source": [
    "svd = TruncatedSVD(n_components=500, random_state=0)\n",
    "X_train_lsa = svd.fit_transform(X_train_tf)\n",
    "X_test_lsa = svd.transform(X_test_tf)\n",
    "print(f'{svd.explained_variance_ratio_.sum():.3f}')\n",
    "print(X_train_lsa.shape, X_test_lsa.shape)"
   ]
  },
  {
   "cell_type": "code",
   "execution_count": 31,
   "id": "2de3294e",
   "metadata": {},
   "outputs": [
    {
     "name": "stdout",
     "output_type": "stream",
     "text": [
      "0.928220255653884 0.7664449371766445\n"
     ]
    }
   ],
   "source": [
    "logreg_clf = LogisticRegression(max_iter=1000, C=3)\n",
    "logreg_clf.fit(X_train_lsa, y_train)\n",
    "print(logreg_clf.score(X_train_lsa, y_train), logreg_clf.score(X_test_lsa, y_test))"
   ]
  },
  {
   "cell_type": "code",
   "execution_count": 37,
   "id": "022be8a3",
   "metadata": {},
   "outputs": [
    {
     "name": "stdout",
     "output_type": "stream",
     "text": [
      "[np.float64(1.0), np.float64(0.64), np.float64(0.46), np.float64(0.41), np.float64(0.4), np.float64(0.39), np.float64(0.38), np.float64(0.37), np.float64(0.37), np.float64(0.36), np.float64(0.35), np.float64(0.34), np.float64(0.34), np.float64(0.33), np.float64(0.32), np.float64(0.32), np.float64(0.31), np.float64(0.3), np.float64(0.3), np.float64(0.3)]\n",
      "[   0 1575 1892  501 1209 1324  790 1995 1490  998  892  537 1290  783\n",
      "  874   25  867 1038 1957 1736]\n",
      "[np.int64(1), np.int64(1), np.int64(1), np.int64(1), np.int64(1), np.int64(1), np.int64(1), np.int64(1), np.int64(1), np.int64(1), np.int64(1), np.int64(1), np.int64(1), np.int64(1), np.int64(1), np.int64(1), np.int64(1), np.int64(1), np.int64(1), np.int64(1)]\n"
     ]
    }
   ],
   "source": [
    "sim_result = cosine_similarity([X_train_lsa[0]], X_train_lsa)\n",
    "print(sorted(sim_result[0].round(2), reverse=True)[:20])\n",
    "sim_index = (-sim_result[0]).argsort()\n",
    "print(sim_index[:20])\n",
    "sim_labels = [y_train[i] for i in sim_index[:20]]\n",
    "print(sim_labels)"
   ]
  },
  {
   "cell_type": "code",
   "execution_count": 43,
   "id": "3cb09213",
   "metadata": {},
   "outputs": [
    {
     "name": "stdout",
     "output_type": "stream",
     "text": [
      "0.068\n",
      "(2034, 20) (1353, 20)\n"
     ]
    }
   ],
   "source": [
    "svd = TruncatedSVD(n_components=20, random_state=0)\n",
    "X_train_lsa = svd.fit_transform(X_train_tf)\n",
    "X_test_lsa = svd.transform(X_test_tf)\n",
    "print(f'{svd.explained_variance_ratio_.sum():.3f}')\n",
    "print(X_train_lsa.shape, X_test_lsa.shape)"
   ]
  },
  {
   "cell_type": "code",
   "execution_count": 44,
   "id": "2e40b73e",
   "metadata": {},
   "outputs": [
    {
     "name": "stdout",
     "output_type": "stream",
     "text": [
      "Topic 1: ['would', 'one', 'god', 'people', 'think', 'space', 'know', 'like', 'say', 'time']\n",
      "Topic 2: ['god', 'christian', 'jesus', 'people', 'bible', 'say', 'religion', 'belief', 'believe', 'atheist']\n",
      "Topic 3: ['space', 'nasa', 'launch', 'orbit', 'satellite', 'shuttle', 'year', 'moon', 'lunar', 'mission']\n",
      "Topic 4: ['vice ico', 'ico', 'ico tek', 'tek com', 'tek', 'bobbe', 'bobbe vice', 'bronx away', 'beauchaine bobbe', 'said queen']\n",
      "Topic 5: ['god', 'space', 'jesus', 'christian', 'file', 'image', 'atheism', 'bible', 'nasa', 'belief']\n",
      "Topic 6: ['objective', 'image', 'file', 'morality', 'system', 'moral', 'value', 'format', 'objective morality', 'color']\n",
      "Topic 7: ['file', 'format', 'image', 'cview', 'people', 'tiff', 'think', 'bit', 'temp', 'mary']\n",
      "Topic 8: ['thanks', 'file', 'space', 'format', 'know', 'anyone', 'please', 'anyone know', 'objective', 'advance']\n",
      "Topic 9: ['god', 'driver', 'card', 'mode', 'color', 'window', 'would', 'vesa', 'space', 'thanks']\n",
      "Topic 10: ['nasa', 'mary', 'real world', 'shafer', 'mary shafer', 'insisting perfect', 'live real', 'world mary', 'ball live', 'safety people']\n",
      "Topic 11: ['jesus', 'kent', 'christian', 'cheer kent', 'cheer', 'thanks', 'objective', 'morality', 'know', 'nasa']\n",
      "Topic 12: ['would', 'god', 'jesus', 'system', 'christian', 'graphic', 'software', 'format', 'moon', '3d']\n",
      "Topic 13: ['graphic', 'space', 'comp', 'comp graphic', 'would', 'file', 'group', 'think', 'software', 'system']\n",
      "Topic 14: ['kent', 'cheer kent', 'cheer', 'would', 'muslim', 'islam', 'religion', 'freewill', 'islamic', 'software']\n",
      "Topic 15: ['cheer', 'kent', 'cheer kent', 'edu', 'mac', 'freewill', '336 9591', 'edu 336', 'tom mcwilliams', '517']\n",
      "Topic 16: ['image', 'would', 'color', 'please', 'christian', 'system', 'post', 'address', 'mail', 'someone']\n",
      "Topic 17: ['kent', 'cheer kent', 'cheer', 'atheist', 'atheism', 'value', 'point', 'religion', 'objective', 'exist']\n",
      "Topic 18: ['law', 'thanks', 'system', 'software', 'islam', 'must', 'muslim', 'much', 'group', 'islamic']\n",
      "Topic 19: ['would', 'point', 'law', 'cview', 'file', 'jesus', 'polygon', 'space', 'line', 'post']\n",
      "Topic 20: ['value', 'image', 'group', 'muslim', 'islam', 'objective', 'color', 'anyone', 'science', 'islamic']\n"
     ]
    }
   ],
   "source": [
    "terms = tfidf.get_feature_names_out()\n",
    "def get_topics(model, feature_names, n=10):\n",
    "    for i, topic in enumerate(model.components_):\n",
    "        print(f'Topic {i+1}: {[feature_names[i] for i in topic.argsort()[:-n-1:-1]]}')\n",
    "get_topics(svd, terms)"
   ]
  },
  {
   "cell_type": "code",
   "execution_count": null,
   "id": "cf2420f3",
   "metadata": {},
   "outputs": [],
   "source": []
  }
 ],
 "metadata": {
  "kernelspec": {
   "display_name": ".venv (3.13.7)",
   "language": "python",
   "name": "python3"
  },
  "language_info": {
   "codemirror_mode": {
    "name": "ipython",
    "version": 3
   },
   "file_extension": ".py",
   "mimetype": "text/x-python",
   "name": "python",
   "nbconvert_exporter": "python",
   "pygments_lexer": "ipython3",
   "version": "3.13.7"
  }
 },
 "nbformat": 4,
 "nbformat_minor": 5
}
