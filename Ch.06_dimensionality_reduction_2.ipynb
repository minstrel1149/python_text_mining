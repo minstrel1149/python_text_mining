{
 "cells": [
  {
   "cell_type": "code",
   "execution_count": 17,
   "id": "28e7f049",
   "metadata": {},
   "outputs": [],
   "source": [
    "from sklearn.datasets import fetch_20newsgroups\n",
    "from sklearn.feature_extraction.text import TfidfVectorizer, CountVectorizer\n",
    "from sklearn.linear_model import LogisticRegression\n",
    "from sklearn.naive_bayes import MultinomialNB\n",
    "from sklearn.decomposition import PCA\n",
    "\n",
    "import nltk\n",
    "from nltk.corpus import stopwords\n",
    "from nltk.tokenize import RegexpTokenizer\n",
    "from nltk.stem import WordNetLemmatizer"
   ]
  },
  {
   "cell_type": "code",
   "execution_count": 2,
   "id": "0f1cb8ca",
   "metadata": {},
   "outputs": [],
   "source": [
    "categories = ['alt.atheism', 'talk.religion.misc', 'comp.graphics', 'sci.space']\n",
    "newsgroups_train = fetch_20newsgroups(subset='train',\n",
    "                                      remove=('headers', 'footers', 'quotes'),\n",
    "                                      categories=categories)\n",
    "newsgroups_test = fetch_20newsgroups(subset='test',\n",
    "                                      remove=('headers', 'footers', 'quotes'),\n",
    "                                      categories=categories)"
   ]
  },
  {
   "cell_type": "code",
   "execution_count": 4,
   "id": "13e4a7b6",
   "metadata": {},
   "outputs": [],
   "source": [
    "X_train, X_test, y_train, y_test = newsgroups_train.data, newsgroups_test.data, newsgroups_train.target, newsgroups_test.target"
   ]
  },
  {
   "cell_type": "code",
   "execution_count": 7,
   "id": "fa2cc2e1",
   "metadata": {},
   "outputs": [],
   "source": [
    "def tokenizer(text):\n",
    "    reg_tokens = RegexpTokenizer(r\"[\\w']{2,}\").tokenize(text.lower())\n",
    "    words = [word for word in reg_tokens if (word not in set(stopwords.words('english'))) and len(word) >= 2]\n",
    "    tokens = [WordNetLemmatizer().lemmatize(token) for token in words]\n",
    "    return tokens"
   ]
  },
  {
   "cell_type": "code",
   "execution_count": 10,
   "id": "83d36b4e",
   "metadata": {},
   "outputs": [
    {
     "name": "stderr",
     "output_type": "stream",
     "text": [
      "c:\\Coding\\Local\\python_text_mining\\.venv\\Lib\\site-packages\\sklearn\\feature_extraction\\text.py:517: UserWarning: The parameter 'token_pattern' will not be used since 'tokenizer' is not None'\n",
      "  warnings.warn(\n"
     ]
    },
    {
     "name": "stdout",
     "output_type": "stream",
     "text": [
      "(2034, 10000) (1353, 10000)\n"
     ]
    }
   ],
   "source": [
    "tfidf = TfidfVectorizer(tokenizer=tokenizer, max_features=10000, min_df=3, max_df=0.5, ngram_range=(1, 2))\n",
    "X_train_tf = tfidf.fit_transform(X_train)\n",
    "X_test_tf = tfidf.transform(X_test)\n",
    "print(X_train_tf.shape, X_test_tf.shape)"
   ]
  },
  {
   "cell_type": "code",
   "execution_count": 16,
   "id": "85f5e728",
   "metadata": {},
   "outputs": [
    {
     "name": "stdout",
     "output_type": "stream",
     "text": [
      "0.9739429695181907 0.7605321507760532\n"
     ]
    }
   ],
   "source": [
    "logreg_clf = LogisticRegression(max_iter=1000, C=3)\n",
    "logreg_clf.fit(X_train_tf, y_train)\n",
    "print(logreg_clf.score(X_train_tf, y_train), logreg_clf.score(X_test_tf, y_test))"
   ]
  },
  {
   "cell_type": "code",
   "execution_count": 21,
   "id": "392dc754",
   "metadata": {},
   "outputs": [
    {
     "name": "stdout",
     "output_type": "stream",
     "text": [
      "1.000\n",
      "(2034, 2000) (1353, 2000)\n"
     ]
    }
   ],
   "source": [
    "pca = PCA(n_components=2000, random_state=0)\n",
    "X_train_pca = pca.fit_transform(X_train_tf)\n",
    "X_test_pca = pca.transform(X_test_tf)\n",
    "print(f'{pca.explained_variance_ratio_.sum():.3f}')\n",
    "print(X_train_pca.shape, X_test_pca.shape)"
   ]
  },
  {
   "cell_type": "code",
   "execution_count": 22,
   "id": "56326c25",
   "metadata": {},
   "outputs": [
    {
     "name": "stdout",
     "output_type": "stream",
     "text": [
      "0.9739429695181907 0.7605321507760532\n"
     ]
    }
   ],
   "source": [
    "logreg_clf = LogisticRegression(max_iter=1000, C=3)\n",
    "logreg_clf.fit(X_train_pca, y_train)\n",
    "print(logreg_clf.score(X_train_pca, y_train), logreg_clf.score(X_test_pca, y_test))"
   ]
  },
  {
   "cell_type": "code",
   "execution_count": 23,
   "id": "4f173d82",
   "metadata": {},
   "outputs": [
    {
     "name": "stdout",
     "output_type": "stream",
     "text": [
      "0.577\n",
      "(2034, 500) (1353, 500)\n"
     ]
    }
   ],
   "source": [
    "pca = PCA(n_components=500, random_state=0)\n",
    "X_train_pca = pca.fit_transform(X_train_tf)\n",
    "X_test_pca = pca.transform(X_test_tf)\n",
    "print(f'{pca.explained_variance_ratio_.sum():.3f}')\n",
    "print(X_train_pca.shape, X_test_pca.shape)"
   ]
  },
  {
   "cell_type": "code",
   "execution_count": 24,
   "id": "7b368e27",
   "metadata": {},
   "outputs": [
    {
     "name": "stdout",
     "output_type": "stream",
     "text": [
      "0.9306784660766961 0.7634885439763488\n"
     ]
    }
   ],
   "source": [
    "logreg_clf = LogisticRegression(max_iter=1000, C=3)\n",
    "logreg_clf.fit(X_train_pca, y_train)\n",
    "print(logreg_clf.score(X_train_pca, y_train), logreg_clf.score(X_test_pca, y_test))"
   ]
  },
  {
   "cell_type": "code",
   "execution_count": null,
   "id": "291e14d2",
   "metadata": {},
   "outputs": [],
   "source": []
  }
 ],
 "metadata": {
  "kernelspec": {
   "display_name": ".venv (3.13.7)",
   "language": "python",
   "name": "python3"
  },
  "language_info": {
   "codemirror_mode": {
    "name": "ipython",
    "version": 3
   },
   "file_extension": ".py",
   "mimetype": "text/x-python",
   "name": "python",
   "nbconvert_exporter": "python",
   "pygments_lexer": "ipython3",
   "version": "3.13.7"
  }
 },
 "nbformat": 4,
 "nbformat_minor": 5
}
