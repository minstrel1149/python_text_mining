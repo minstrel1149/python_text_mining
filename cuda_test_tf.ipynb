{
 "cells": [
  {
   "cell_type": "code",
   "execution_count": 1,
   "id": "04e059b5",
   "metadata": {},
   "outputs": [
    {
     "name": "stdout",
     "output_type": "stream",
     "text": [
      "TensorFlow 버전: 2.20.0\n",
      "❌ TensorFlow가 GPU를 인식하지 못했습니다.\n"
     ]
    }
   ],
   "source": [
    "import tensorflow as tf\n",
    "\n",
    "print(f\"TensorFlow 버전: {tf.__version__}\")\n",
    "\n",
    "# GPU 장치 목록 확인\n",
    "gpu_devices = tf.config.list_physical_devices('GPU')\n",
    "\n",
    "if gpu_devices:\n",
    "    print(\"✅ TensorFlow가 GPU를 성공적으로 인식했습니다.\")\n",
    "    for gpu in gpu_devices:\n",
    "        print(f\"   - GPU 장치: {gpu}\")\n",
    "else:\n",
    "    print(\"❌ TensorFlow가 GPU를 인식하지 못했습니다.\")"
   ]
  },
  {
   "cell_type": "code",
   "execution_count": null,
   "id": "428989dd",
   "metadata": {},
   "outputs": [],
   "source": []
  }
 ],
 "metadata": {
  "kernelspec": {
   "display_name": ".venv (3.13.7)",
   "language": "python",
   "name": "python3"
  },
  "language_info": {
   "codemirror_mode": {
    "name": "ipython",
    "version": 3
   },
   "file_extension": ".py",
   "mimetype": "text/x-python",
   "name": "python",
   "nbconvert_exporter": "python",
   "pygments_lexer": "ipython3",
   "version": "3.13.7"
  }
 },
 "nbformat": 4,
 "nbformat_minor": 5
}
