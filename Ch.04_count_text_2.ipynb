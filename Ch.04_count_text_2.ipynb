{
 "cells": [
  {
   "cell_type": "code",
   "execution_count": 10,
   "id": "fba13c94",
   "metadata": {},
   "outputs": [],
   "source": [
    "import nltk\n",
    "from nltk.corpus import movie_reviews, stopwords\n",
    "\n",
    "from sklearn.feature_extraction.text import CountVectorizer, TfidfVectorizer"
   ]
  },
  {
   "cell_type": "code",
   "execution_count": 2,
   "id": "77dc722c",
   "metadata": {},
   "outputs": [],
   "source": [
    "#nltk.download('movie_reviews')"
   ]
  },
  {
   "cell_type": "code",
   "execution_count": 8,
   "id": "583c67ed",
   "metadata": {},
   "outputs": [
    {
     "name": "stdout",
     "output_type": "stream",
     "text": [
      "2000\n",
      "['neg/cv000_29416.txt', 'neg/cv001_19502.txt', 'neg/cv002_17424.txt', 'neg/cv003_12683.txt', 'neg/cv004_12641.txt', 'neg/cv005_29357.txt', 'neg/cv006_17022.txt', 'neg/cv007_4992.txt', 'neg/cv008_29326.txt', 'neg/cv009_29417.txt']\n",
      "plot : two teen couples go to a church party , drink and then drive . \n",
      "they get into an accident . \n",
      "\n",
      "[['plot', ':', 'two', 'teen', 'couples', 'go', 'to', 'a', 'church', 'party', ',', 'drink', 'and', 'then', 'drive', '.'], ['they', 'get', 'into', 'an', 'accident', '.']]\n",
      "['plot', ':', 'two', 'teen', 'couples', 'go', 'to', 'a', 'church', 'party', ',', 'drink', 'and', 'then', 'drive', '.', 'they', 'get', 'into', 'an']\n"
     ]
    }
   ],
   "source": [
    "print(len(movie_reviews.fileids()))\n",
    "print(movie_reviews.fileids()[:10])\n",
    "fileid = movie_reviews.fileids()[0]\n",
    "print(movie_reviews.raw(fileid)[:100])\n",
    "print(movie_reviews.sents(fileid)[:2])\n",
    "print(movie_reviews.words(fileid)[:20])"
   ]
  },
  {
   "cell_type": "code",
   "execution_count": 13,
   "id": "d77b3735",
   "metadata": {},
   "outputs": [
    {
     "name": "stdout",
     "output_type": "stream",
     "text": [
      "plot : two teen couples go to a church party , drink and then drive . \n",
      "they get into an accident . \n",
      "\n"
     ]
    }
   ],
   "source": [
    "reviews = [movie_reviews.raw(fileid) for fileid in movie_reviews.fileids()]\n",
    "print(reviews[0][:100])"
   ]
  },
  {
   "cell_type": "code",
   "execution_count": 14,
   "id": "fc2ca0ea",
   "metadata": {},
   "outputs": [
    {
     "name": "stdout",
     "output_type": "stream",
     "text": [
      "CountVectorizer(max_features=1000)\n"
     ]
    }
   ],
   "source": [
    "cv = CountVectorizer(max_features=1000)\n",
    "print(cv)"
   ]
  },
  {
   "cell_type": "code",
   "execution_count": 17,
   "id": "915b9d63",
   "metadata": {},
   "outputs": [
    {
     "name": "stdout",
     "output_type": "stream",
     "text": [
      "['10' 'ability' 'able' 'about' 'above' 'absolutely' 'across' 'act'\n",
      " 'acting' 'action' 'actor' 'actors' 'actress' 'actual' 'actually' 'add'\n",
      " 'after' 'again' 'against' 'age']\n",
      "<class 'scipy.sparse._csr.csr_matrix'> (2000, 1000)\n"
     ]
    }
   ],
   "source": [
    "reviews_cv = cv.fit_transform(reviews)\n",
    "print(cv.get_feature_names_out()[:20])\n",
    "print(type(reviews_cv), reviews_cv.shape)"
   ]
  },
  {
   "cell_type": "code",
   "execution_count": 23,
   "id": "498060aa",
   "metadata": {},
   "outputs": [
    {
     "name": "stdout",
     "output_type": "stream",
     "text": [
      "10: 10, ability: 0, able: 0, about: 2, above: 0, absolutely: 0, across: 0, act: 0, acting: 0, action: 0, actor: 0, actors: 1, actress: 0, actual: 0, actually: 2, add: 0, after: 2, again: 2, against: 0, age: 0, "
     ]
    }
   ],
   "source": [
    "for word, count in zip(cv.get_feature_names_out()[:20], reviews_cv[0].toarray()[0, :20]):\n",
    "    print(f'{word}: {count}', end=', ')"
   ]
  },
  {
   "cell_type": "code",
   "execution_count": null,
   "id": "27b0546c",
   "metadata": {},
   "outputs": [],
   "source": []
  }
 ],
 "metadata": {
  "kernelspec": {
   "display_name": ".venv (3.13.7)",
   "language": "python",
   "name": "python3"
  },
  "language_info": {
   "codemirror_mode": {
    "name": "ipython",
    "version": 3
   },
   "file_extension": ".py",
   "mimetype": "text/x-python",
   "name": "python",
   "nbconvert_exporter": "python",
   "pygments_lexer": "ipython3",
   "version": "3.13.7"
  }
 },
 "nbformat": 4,
 "nbformat_minor": 5
}
